{
 "metadata": {
  "name": "",
  "signature": "sha256:d437cf9c532d78eaf0fcf341c716bfaa22b30b80240fa09be4327f8f75cee75d"
 },
 "nbformat": 3,
 "nbformat_minor": 0,
 "worksheets": [
  {
   "cells": [
    {
     "cell_type": "markdown",
     "metadata": {},
     "source": [
      "Setting up\n",
      "==========\n",
      "Here we're importing a few modules to use in this notebook: pandas, numpy, and json.  \n",
      "* Pandas lets you work with tabular data in some really cool and efficient ways.  \n",
      "* Numpy has a lot of numerical functions, but we're using it because there are some things that it lets you do with dataframes that you can't do otherwise.  \n",
      "* Json is a simple library that makes working with json files easier."
     ]
    },
    {
     "cell_type": "code",
     "collapsed": false,
     "input": [
      "import pandas as pd\n",
      "import numpy as np\n",
      "import json"
     ],
     "language": "python",
     "metadata": {},
     "outputs": []
    },
    {
     "cell_type": "markdown",
     "metadata": {},
     "source": [
      "`pd.Dataframe.from_csv` is a command that makes an object called a dataframe from a csv file. You can think of a dataframe as something like a spreadsheet, but one that won't choke on large datasets, and that's built for lots of bulk manipulation.  \n",
      "Why do I have to put `kCancer = `?"
     ]
    },
    {
     "cell_type": "code",
     "collapsed": false,
     "input": [
      "kCancer = pd.DataFrame.from_csv(\"kidney_cancer_clean.csv\")\n",
      "kCancer.head()"
     ],
     "language": "python",
     "metadata": {},
     "outputs": []
    },
    {
     "cell_type": "markdown",
     "metadata": {},
     "source": [
      "Here we're just loading a json file with `json.load()`. The line `with open('us_county_map.geojson','r')as fp:` is sort of like a container around the file opening. When you open a file in a `with open` method like we did here, the file will be open only as long as it needs to be, and won't be messy."
     ]
    },
    {
     "cell_type": "code",
     "collapsed": false,
     "input": [
      "with open('us_county_map.geojson','r')as fp:\n",
      "    countyMap = json.load(fp)"
     ],
     "language": "python",
     "metadata": {},
     "outputs": []
    },
    {
     "cell_type": "markdown",
     "metadata": {},
     "source": [
      "So what are we looking at in this json file here? Here's a few ways of finding out."
     ]
    },
    {
     "cell_type": "code",
     "collapsed": false,
     "input": [
      "countyMap.keys()"
     ],
     "language": "python",
     "metadata": {},
     "outputs": []
    },
    {
     "cell_type": "code",
     "collapsed": false,
     "input": [
      "type(countyMap)"
     ],
     "language": "python",
     "metadata": {},
     "outputs": []
    },
    {
     "cell_type": "code",
     "collapsed": false,
     "input": [
      "type(countyMap['features'])"
     ],
     "language": "python",
     "metadata": {},
     "outputs": []
    },
    {
     "cell_type": "code",
     "collapsed": false,
     "input": [
      "len(countyMap['features'])"
     ],
     "language": "python",
     "metadata": {},
     "outputs": []
    },
    {
     "cell_type": "code",
     "collapsed": false,
     "input": [
      "countyMap['features'][0]"
     ],
     "language": "python",
     "metadata": {},
     "outputs": []
    },
    {
     "cell_type": "code",
     "collapsed": false,
     "input": [
      "features = countyMap['features']"
     ],
     "language": "python",
     "metadata": {},
     "outputs": []
    },
    {
     "cell_type": "code",
     "collapsed": false,
     "input": [
      "top_kcancer_counties = kCancer.sort(columns='pct_mortality',ascending=False)[:323]"
     ],
     "language": "python",
     "metadata": {},
     "outputs": []
    },
    {
     "cell_type": "code",
     "collapsed": false,
     "input": [
      "top_geojson = {'features': [], 'crs': {'properties': {'name': 'urn:ogc:def:crs:OGC:1.3:CRS84'}, 'type': 'name'},'type': 'FeatureCollection'}"
     ],
     "language": "python",
     "metadata": {},
     "outputs": []
    },
    {
     "cell_type": "code",
     "collapsed": false,
     "input": [
      "def color_geojson(index,featurelist,geojson_dict,stroke=\"#EE1289\",fill=\"#EE1289\"):\n",
      "    \"\"\"\n",
      "    This function takes an index to a list of features, to be added to the named geojson and colored accoring to the stroke and fill colors.\n",
      "    \"\"\"\n",
      "    feature = features[index]\n",
      "    feature['properties']['fill'] = fill\n",
      "    feature['properties']['stroke'] = stroke\n",
      "    geojson_dict['features'].append(feature)\n",
      "    return 0"
     ],
     "language": "python",
     "metadata": {},
     "outputs": []
    },
    {
     "cell_type": "code",
     "collapsed": false,
     "input": [
      "top_kcancer_counties.geojson_lookup.apply(color_geojson,args=[features,top_geojson,\"#DE0707\",\"#DE0707\"])"
     ],
     "language": "python",
     "metadata": {},
     "outputs": []
    },
    {
     "cell_type": "code",
     "collapsed": false,
     "input": [
      "with open(\"top_kCancer.geojson\",\"w\") as fp:\n",
      "    json.dump(top_geojson,fp)"
     ],
     "language": "python",
     "metadata": {},
     "outputs": []
    },
    {
     "cell_type": "markdown",
     "metadata": {},
     "source": [
      "Time to commit our changes, and push them up to github!\n",
      "=======================================================\n",
      "  \n",
      "   \n",
      "   \n",
      "   "
     ]
    },
    {
     "cell_type": "markdown",
     "metadata": {},
     "source": [
      "Now, let's do the same thing for the lowest kidney cancer rates.\n",
      "================================================================\n",
      "These folks are probably particularly healthy!"
     ]
    },
    {
     "cell_type": "code",
     "collapsed": false,
     "input": [
      "bot_kcancer_counties = kCancer.sort(columns='pct_mortality',ascending=True)[:323]"
     ],
     "language": "python",
     "metadata": {},
     "outputs": []
    },
    {
     "cell_type": "code",
     "collapsed": false,
     "input": [
      "bot_geojson = {'features': [], 'crs': {'properties': {'name': 'urn:ogc:def:crs:OGC:1.3:CRS84'}, 'type': 'name'},'type': 'FeatureCollection'}"
     ],
     "language": "python",
     "metadata": {},
     "outputs": []
    },
    {
     "cell_type": "code",
     "collapsed": false,
     "input": [
      "bot_kcancer_counties.geojson_lookup.apply(color_geojson,args=[features,bot_geojson,\"#146DBA\",\"#146DBA\"])"
     ],
     "language": "python",
     "metadata": {},
     "outputs": []
    },
    {
     "cell_type": "code",
     "collapsed": false,
     "input": [
      "with open(\"bot_kCancer.geojson\",\"w\") as fp:\n",
      "    json.dump(bot_geojson,fp)"
     ],
     "language": "python",
     "metadata": {},
     "outputs": []
    },
    {
     "cell_type": "markdown",
     "metadata": {},
     "source": [
      "Hmmm...\n",
      "=======\n",
      "Those look awful similar. Let's say we put them together?"
     ]
    },
    {
     "cell_type": "code",
     "collapsed": false,
     "input": [
      "top_geojson['features'].extend(bot_geojson['features'])"
     ],
     "language": "python",
     "metadata": {},
     "outputs": []
    },
    {
     "cell_type": "code",
     "collapsed": false,
     "input": [
      "with open(\"combined_kCancer.geojson\",\"w\") as fp:\n",
      "    json.dump(top_geojson,fp)"
     ],
     "language": "python",
     "metadata": {},
     "outputs": []
    },
    {
     "cell_type": "markdown",
     "metadata": {},
     "source": [
      "Time to push to git again!\n",
      "=========================="
     ]
    },
    {
     "cell_type": "markdown",
     "metadata": {},
     "source": [
      "There seem to be a lot of counties in the top and bottom 10% that are right next to each other. What's up with that?"
     ]
    },
    {
     "cell_type": "code",
     "collapsed": false,
     "input": [
      "top_kcancer_counties[['dc','pop','pct_mortality']].describe()"
     ],
     "language": "python",
     "metadata": {},
     "outputs": []
    },
    {
     "cell_type": "code",
     "collapsed": false,
     "input": [
      "bot_kcancer_counties[['dc','pop','pct_mortality']].describe()"
     ],
     "language": "python",
     "metadata": {},
     "outputs": []
    },
    {
     "cell_type": "code",
     "collapsed": false,
     "input": [
      "kCancer[['dc','pop','pct_mortality']].describe()"
     ],
     "language": "python",
     "metadata": {},
     "outputs": []
    },
    {
     "cell_type": "markdown",
     "metadata": {},
     "source": [
      "Let's try aggregating by state to get a larger sample size!\n",
      "==========================================================="
     ]
    },
    {
     "cell_type": "code",
     "collapsed": false,
     "input": [
      "state_kcancer = kCancer[['dc','pop','fips']].pivot_table(index='fips',values=['dc','pop'],aggfunc=sum)"
     ],
     "language": "python",
     "metadata": {},
     "outputs": []
    },
    {
     "cell_type": "code",
     "collapsed": false,
     "input": [
      "state_kcancer['pct_mortality'] = state_kcancer.dc/state_kcancer['pop']"
     ],
     "language": "python",
     "metadata": {},
     "outputs": []
    },
    {
     "cell_type": "code",
     "collapsed": false,
     "input": [
      "state_kcancer.head()"
     ],
     "language": "python",
     "metadata": {},
     "outputs": []
    },
    {
     "cell_type": "code",
     "collapsed": false,
     "input": [
      "state_kcancer.describe()"
     ],
     "language": "python",
     "metadata": {},
     "outputs": []
    },
    {
     "cell_type": "code",
     "collapsed": false,
     "input": [
      "state_kcancer = state_kcancer.sort(columns='pct_mortality',ascending=False)\n",
      "state_kcancer.head()"
     ],
     "language": "python",
     "metadata": {},
     "outputs": []
    },
    {
     "cell_type": "code",
     "collapsed": false,
     "input": [
      "state_mortality = state_kcancer.to_dict()['pct_mortality']"
     ],
     "language": "python",
     "metadata": {},
     "outputs": []
    },
    {
     "cell_type": "code",
     "collapsed": false,
     "input": [
      "with open(\"us_state_map.geojson\",\"r\") as fp:\n",
      "    state_map = json.load(fp)"
     ],
     "language": "python",
     "metadata": {},
     "outputs": []
    },
    {
     "cell_type": "code",
     "collapsed": false,
     "input": [
      "state_kcancer_map = {'features': [], 'crs': {'properties': {'name': 'urn:ogc:def:crs:OGC:1.3:CRS84'}, 'type': 'name'},'type': 'FeatureCollection'}"
     ],
     "language": "python",
     "metadata": {},
     "outputs": []
    },
    {
     "cell_type": "code",
     "collapsed": false,
     "input": [
      "for i in state_map['features']:\n",
      "    statefips = int(i['properties']['STATEFP'])\n",
      "    if int(statefips in state_mortality.keys()):\n",
      "        if state_mortality[statefips] <= 0.000046:\n",
      "            i['properties']['stroke'] = \"#8ae62e\"\n",
      "            i['properties']['fill'] = \"#8ae62e\"\n",
      "        elif state_mortality[statefips] <= 0.000052:\n",
      "            i['properties']['stroke'] = \"#e6e62e\"\n",
      "            i['properties']['fill'] = \"#e6e62e\"\n",
      "        elif state_mortality[statefips] <= 0.000058:\n",
      "            i['properties']['stroke'] = \"#e68a2e\"\n",
      "            i['properties']['fill'] = \"#e68a2e\"\n",
      "        else:\n",
      "            i['properties']['stroke'] = \"#e62e2e\"\n",
      "            i['properties']['fill'] = \"#e62e2e\"\n",
      "        state_kcancer_map['features'].append(i)"
     ],
     "language": "python",
     "metadata": {},
     "outputs": []
    },
    {
     "cell_type": "code",
     "collapsed": false,
     "input": [
      "with open (\"state_kcancer_map.geojson\",\"w\") as fp:\n",
      "    json.dump(state_kcancer_map,fp)"
     ],
     "language": "python",
     "metadata": {},
     "outputs": []
    }
   ],
   "metadata": {}
  }
 ]
}