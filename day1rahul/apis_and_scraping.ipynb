{
 "metadata": {
  "name": "",
  "signature": "sha256:fa1cf7c06a6f69f6678f8ab619afcfb132a496ef23b59d0106078c0161d0018d"
 },
 "nbformat": 3,
 "nbformat_minor": 0,
 "worksheets": [
  {
   "cells": [
    {
     "cell_type": "code",
     "collapsed": false,
     "input": [
      "%matplotlib inline\n",
      "import numpy as np\n",
      "import matplotlib.pyplot as plt\n",
      "import pandas as pd\n",
      "import seaborn as sns\n",
      "pd.set_option('display.width', 500)\n",
      "pd.set_option('display.max_columns', 100)"
     ],
     "language": "python",
     "metadata": {},
     "outputs": [],
     "prompt_number": 26
    },
    {
     "cell_type": "markdown",
     "metadata": {},
     "source": [
      "##Using an api for which there is a module: Twitter\n",
      "http://nbviewer.ipython.org/github/furukama/Mining-the-Social-Web-2nd-Edition/blob/master/ipynb/Chapter%201%20-%20Mining%20Twitter.ipynb\n",
      "\n",
      "We'll see whats trending and search for a hashtag. But first, set up a twitter app for yourself by going here: https://apps.twitter.com/ . You will need to have your twitter account handy. Then use `pip` to install the twitter api python wrapper"
     ]
    },
    {
     "cell_type": "code",
     "collapsed": false,
     "input": [
      "import twitter"
     ],
     "language": "python",
     "metadata": {},
     "outputs": [],
     "prompt_number": 27
    },
    {
     "cell_type": "code",
     "collapsed": false,
     "input": [
      "CONSUMER_KEY = 'xaLzEB8L7nVWL1rVsbMk3yTJj'\n",
      "CONSUMER_SECRET ='Y61AaJlBXpRuRVnQiCbVQUiJz3mSy3rpZfM0SUM1LxM8yKiTCO'\n",
      "OAUTH_TOKEN = '1728857094-zy7xKJX6ybyAMCePSKuOWxy5xc22vowMkta3UWn'\n",
      "OAUTH_TOKEN_SECRET = '83LrMoE98tYAjYxgd7OK8CMY82WTf9JbYvyh9JqvWp0PD'\n",
      "\n",
      "auth = twitter.oauth.OAuth(OAUTH_TOKEN, OAUTH_TOKEN_SECRET,\n",
      "                           CONSUMER_KEY, CONSUMER_SECRET)\n",
      "\n",
      "twitter_api = twitter.Twitter(auth=auth)\n",
      "\n",
      "# Nothing to see by displaying twitter_api except that it's now a\n",
      "# defined variable\n",
      "\n",
      "print twitter_api"
     ],
     "language": "python",
     "metadata": {},
     "outputs": [
      {
       "output_type": "stream",
       "stream": "stdout",
       "text": [
        "<twitter.api.Twitter object at 0x000000000E65DE80>\n"
       ]
      }
     ],
     "prompt_number": 28
    },
    {
     "cell_type": "code",
     "collapsed": false,
     "input": [
      "WORLD_WOE_ID = 1\n",
      "US_WOE_ID = 23424977\n",
      "us_trends = twitter_api.trends.place(_id=US_WOE_ID)\n",
      "world_trends = twitter_api.trends.place(_id=WORLD_WOE_ID)\n",
      "print us_trends"
     ],
     "language": "python",
     "metadata": {},
     "outputs": [
      {
       "output_type": "stream",
       "stream": "stdout",
       "text": [
        "[{u'created_at': u'2014-11-06T20:54:42Z', u'trends': [{u'url': u'http://twitter.com/search?q=%23SomethingBigAtMidnight', u'query': u'%23SomethingBigAtMidnight', u'name': u'#SomethingBigAtMidnight', u'promoted_content': None}, {u'url': u'http://twitter.com/search?q=%23TalkGermy2Me', u'query': u'%23TalkGermy2Me', u'name': u'#TalkGermy2Me', u'promoted_content': None}, {u'url': u'http://twitter.com/search?q=%23WordsOniTunesTonight', u'query': u'%23WordsOniTunesTonight', u'name': u'#WordsOniTunesTonight', u'promoted_content': None}, {u'url': u'http://twitter.com/search?q=%23ReadyToRun', u'query': u'%23ReadyToRun', u'name': u'#ReadyToRun', u'promoted_content': None}, {u'url': u'http://twitter.com/search?q=%22The+Force+Awakens%22', u'query': u'%22The+Force+Awakens%22', u'name': u'The Force Awakens', u'promoted_content': None}, {u'url': u'http://twitter.com/search?q=%23rejectedstarwarstitles', u'query': u'%23rejectedstarwarstitles', u'name': u'#rejectedstarwarstitles', u'promoted_content': None}, {u'url': u'http://twitter.com/search?q=%22Broke+With+Expensive+Taste%22', u'query': u'%22Broke+With+Expensive+Taste%22', u'name': u'Broke With Expensive Taste', u'promoted_content': None}, {u'url': u'http://twitter.com/search?q=%22Amazon+Echo%22', u'query': u'%22Amazon+Echo%22', u'name': u'Amazon Echo', u'promoted_content': None}, {u'url': u'http://twitter.com/search?q=%22Star+Wars+VII%22', u'query': u'%22Star+Wars+VII%22', u'name': u'Star Wars VII', u'promoted_content': None}, {u'url': u'http://twitter.com/search?q=%22Bill+Simmons%22', u'query': u'%22Bill+Simmons%22', u'name': u'Bill Simmons', u'promoted_content': None}], u'as_of': u'2014-11-06T21:05:43Z', u'locations': [{u'woeid': 23424977, u'name': u'United States'}]}]\n"
       ]
      }
     ],
     "prompt_number": 29
    },
    {
     "cell_type": "code",
     "collapsed": false,
     "input": [
      "for item in us_trends[0]['trends']:\n",
      "    print item['name']"
     ],
     "language": "python",
     "metadata": {},
     "outputs": [
      {
       "output_type": "stream",
       "stream": "stdout",
       "text": [
        "#SomethingBigAtMidnight\n",
        "#TalkGermy2Me\n",
        "#WordsOniTunesTonight\n",
        "#ReadyToRun\n",
        "The Force Awakens\n",
        "#rejectedstarwarstitles\n",
        "Broke With Expensive Taste\n",
        "Amazon Echo\n",
        "Star Wars VII\n",
        "Bill Simmons\n"
       ]
      }
     ],
     "prompt_number": 30
    },
    {
     "cell_type": "code",
     "collapsed": false,
     "input": [
      "for item in world_trends[0]['trends']:\n",
      "    print item['name']"
     ],
     "language": "python",
     "metadata": {},
     "outputs": [
      {
       "output_type": "stream",
       "stream": "stdout",
       "text": [
        "#JEROMEJARREyoutube\n",
        "#SomethingBigAtMidnight\n",
        "#DirectPR\n",
        "#ReadyToRun\n",
        "#TheHeartWantsWhatItWants\n",
        "The Force Awakens\n",
        "Gururland\u0131rd\u0131n Be\u015fkita\u015f\n",
        "McGeady\n",
        "Broke With Expensive Taste\n",
        "Ossie\n"
       ]
      }
     ],
     "prompt_number": 31
    },
    {
     "cell_type": "code",
     "collapsed": false,
     "input": [
      "nonhashtrends=[]\n",
      "for trend in us_trends[0]['trends']+world_trends[0]['trends']:\n",
      "    #print trend['name']\n",
      "    if trend['name'].find('#') !=0:\n",
      "        nonhashtrends.append(trend['name'])\n",
      "print nonhashtrends"
     ],
     "language": "python",
     "metadata": {},
     "outputs": [
      {
       "output_type": "stream",
       "stream": "stdout",
       "text": [
        "[u'The Force Awakens', u'Broke With Expensive Taste', u'Amazon Echo', u'Star Wars VII', u'Bill Simmons', u'The Force Awakens', u'Gururland\\u0131rd\\u0131n Be\\u015fkita\\u015f', u'McGeady', u'Broke With Expensive Taste', u'Ossie']\n"
       ]
      }
     ],
     "prompt_number": 32
    },
    {
     "cell_type": "code",
     "collapsed": false,
     "input": [
      "#http://www.mediawiki.org/wiki/API:Main_page\n",
      "import requests\n",
      "from urllib import quote\n",
      "WIKIPEDIA='http://en.wikipedia.org/w/api.php'\n",
      "querydict={'action':'query', 'format':'json', 'prop':'revisions', 'rvprop':'content', 'titles':nonhashtrends[1]}\n",
      "querydict={k:quote(v) for k, v in querydict.items()}\n",
      "print querydict"
     ],
     "language": "python",
     "metadata": {},
     "outputs": [
      {
       "output_type": "stream",
       "stream": "stdout",
       "text": [
        "{'action': 'query', 'format': 'json', 'titles': 'Broke%20With%20Expensive%20Taste', 'rvprop': 'content', 'prop': 'revisions'}\n"
       ]
      }
     ],
     "prompt_number": 33
    },
    {
     "cell_type": "code",
     "collapsed": false,
     "input": [
      "a=2\n",
      "b=''"
     ],
     "language": "python",
     "metadata": {},
     "outputs": [],
     "prompt_number": 34
    },
    {
     "cell_type": "code",
     "collapsed": false,
     "input": [
      "if b:\n",
      "    print 'hi'"
     ],
     "language": "python",
     "metadata": {},
     "outputs": [],
     "prompt_number": 35
    },
    {
     "cell_type": "code",
     "collapsed": false,
     "input": [],
     "language": "python",
     "metadata": {},
     "outputs": [],
     "prompt_number": 35
    },
    {
     "cell_type": "code",
     "collapsed": false,
     "input": [
      "query_string = \"?\"+\"&\".join([k+\"=\"+v for k,v in querydict.items()])\n",
      "print query_string\n",
      "r = requests.get(WIKIPEDIA+query_string)"
     ],
     "language": "python",
     "metadata": {},
     "outputs": [
      {
       "output_type": "stream",
       "stream": "stdout",
       "text": [
        "?action=query&format=json&titles=Broke%20With%20Expensive%20Taste&rvprop=content&prop=revisions\n"
       ]
      }
     ],
     "prompt_number": 36
    },
    {
     "cell_type": "code",
     "collapsed": false,
     "input": [
      "r.json()"
     ],
     "language": "python",
     "metadata": {},
     "outputs": [
      {
       "metadata": {},
       "output_type": "pyout",
       "prompt_number": 37,
       "text": [
        "{u'query': {u'pages': {u'37034778': {u'ns': 0,\n",
        "    u'pageid': 37034778,\n",
        "    u'revisions': [{u'*': u'#REDIRECT [[Broke with Expensive Taste]]\\n\\n[[Category:Unprintworthy redirects]]',\n",
        "      u'contentformat': u'text/x-wiki',\n",
        "      u'contentmodel': u'wikitext'}],\n",
        "    u'title': u'Broke With Expensive Taste'}}},\n",
        " u'warnings': {u'query': {u'*': u\"Formatting of continuation data will be changing soon. To continue using the current formatting, use the 'rawcontinue' parameter. To begin using the new format, pass an empty string for 'continue' in the initial query.\"}}}"
       ]
      }
     ],
     "prompt_number": 37
    },
    {
     "cell_type": "code",
     "collapsed": false,
     "input": [
      "q = '#dst4l' \n",
      "\n",
      "count = 100\n",
      "\n",
      "# See https://dev.twitter.com/docs/api/1.1/get/search/tweets\n",
      "\n",
      "search_results = twitter_api.search.tweets(q=q, count=count)\n",
      "\n",
      "statuses = search_results['statuses']\n",
      "print \"\\n\".join([e['text'] for e in statuses])"
     ],
     "language": "python",
     "metadata": {},
     "outputs": [
      {
       "output_type": "stream",
       "stream": "stdout",
       "text": [
        "RT @graving: bad jokes in #DST4L Python workshop day two http://t.co/ry2gJkzhxE\n",
        "RT @lapalmer14: \"There is no truth.\" @rahuldave on linelengths in Mac vs. Windows. #DST4L\n",
        "bad jokes in #DST4L Python workshop day two http://t.co/ry2gJkzhxE\n",
        "\"There is no truth.\" @rahuldave on linelengths in Mac vs. Windows. #DST4L\n",
        "Having fun getting back into Python with #DST4L this week. \"Tomorrow will be simultaneously easier and harder than today.\" - @rahuldave\n",
        "Starting off with a pynb teaser file to begin our Python training in #DST4L today https://t.co/aPtG42F3J5\n",
        "Super happy to have #DST4L member as part of our beta program. See with @libcce for details to access the beta. http://t.co/QyGvx5n2U7\n",
        "Excited to help with #dst4l Python training this week. Also happy to see that I can do the exercises with no effort now. Yay, learning!\n",
        "\u4eee\u9762\u30e9\u30a4\u30c0\u30fc\u30c9\u30e9\u30a4\u30d6 DX\u30c9\u30e9\u30a4\u30d6\u30c9\u30e9\u30a4\u30d0\u30fc &amp; \u30b7\u30d5\u30c8\u30ab\u30fc\u30db\u30eb\u30c0\u30fc\u30b9\u30da\u30b7\u30e3\u30eb\u30bb\u30c3\u30c8 9,342 \u5186 \u3010\u30d0\u30f3\u30c0\u30a4(=\"url\" href=\"ht\u3011 http://t.co/eCrWhuACoS #dST4l\n",
        "Having fun w #GoogleRefine Oh boy, had I just known about this last year when I did #OABarometer thx @libcce #dst4l http://t.co/lrqQFxMjt0\n"
       ]
      }
     ],
     "prompt_number": 38
    },
    {
     "cell_type": "markdown",
     "metadata": {},
     "source": [
      "##Scraping\n",
      "\n",
      "Many a time you wont have any access to an API. And you will resort to scraping a web page. This is brittle, but very useful. We'll use pyquery, which is a jquery clone in python. \n",
      "\n",
      "Try going to https://www.goodreads.com/list/show/1.Best_Books_Ever?page=1 and see it in Chrome Developer tools."
     ]
    },
    {
     "cell_type": "code",
     "collapsed": false,
     "input": [
      "URLSTART=\"https://www.goodreads.com\"\n",
      "BESTBOOKS=\"/list/show/1.Best_Books_Ever?page=\"\n",
      "import time, requests\n",
      "for i in xrange(1,3):\n",
      "    bookurl=str(i)\n",
      "    stuff=requests.get(URLSTART+BESTBOOKS+bookurl)\n",
      "    filetowrite=\"page\"+ '%02d' % i\n",
      "    print \"FTW\", filetowrite\n",
      "    fd=open(filetowrite+\".html\",\"w\")\n",
      "    fd.write(stuff.text.encode('utf-8'))\n",
      "    fd.close()\n",
      "    time.sleep(2)"
     ],
     "language": "python",
     "metadata": {},
     "outputs": [
      {
       "output_type": "stream",
       "stream": "stdout",
       "text": [
        "FTW page01\n",
        "FTW"
       ]
      },
      {
       "output_type": "stream",
       "stream": "stdout",
       "text": [
        " page02\n"
       ]
      }
     ],
     "prompt_number": 47
    },
    {
     "cell_type": "code",
     "collapsed": false,
     "input": [
      "from pyquery import PyQuery as pq\n",
      "bookdict={}\n",
      "for i in xrange(1,3):\n",
      "    books=[]\n",
      "    stri = '%02d' % i\n",
      "    filetoread=\"page\"+ stri + '.html'\n",
      "    print \"FTW\", filetoread\n",
      "    d=pq(filename=filetoread)\n",
      "    for e in d('.bookTitle'):\n",
      "        books.append(pq(e).attr.href)\n",
      "    print books[:10]\n",
      "    bookdict[stri]=books\n",
      "    fd=open(\"list\"+stri+\".txt\",\"w\")\n",
      "    fd.write(\"\\n\".join(books))\n",
      "    fd.close()"
     ],
     "language": "python",
     "metadata": {},
     "outputs": [
      {
       "output_type": "stream",
       "stream": "stdout",
       "text": [
        "FTW page01.html\n",
        "['/book/show/2767052-the-hunger-games', '/book/show/2.Harry_Potter_and_the_Order_of_the_Phoenix', '/book/show/41865.Twilight', '/book/show/2657.To_Kill_a_Mockingbird', '/book/show/1885.Pride_and_Prejudice', '/book/show/18405.Gone_with_the_Wind', '/book/show/11127.The_Chronicles_of_Narnia', '/book/show/7613.Animal_Farm', '/book/show/370493.The_Giving_Tree', '/book/show/11.The_Hitchhiker_s_Guide_to_the_Galaxy']"
       ]
      },
      {
       "output_type": "stream",
       "stream": "stdout",
       "text": [
        "\n",
        "FTW page02.html\n",
        "['/book/show/24583.The_Adventures_of_Tom_Sawyer', '/book/show/34.The_Fellowship_of_the_Ring', '/book/show/6310.Charlie_and_the_Chocolate_Factory', '/book/show/4948.The_Very_Hungry_Caterpillar', '/book/show/9717.The_Unbearable_Lightness_of_Being', '/book/show/6900.Tuesdays_with_Morrie', '/book/show/1423.The_Compleat_Works_of_Wllm_Shkspr', '/book/show/12296.The_Scarlet_Letter', '/book/show/10365.Where_the_Red_Fern_Grows', '/book/show/256008.Lonesome_Dove']"
       ]
      },
      {
       "output_type": "stream",
       "stream": "stdout",
       "text": [
        "\n"
       ]
      }
     ],
     "prompt_number": 48
    },
    {
     "cell_type": "code",
     "collapsed": false,
     "input": [
      "xrange(1,3)"
     ],
     "language": "python",
     "metadata": {},
     "outputs": [
      {
       "metadata": {},
       "output_type": "pyout",
       "prompt_number": 49,
       "text": [
        "xrange(1, 3)"
       ]
      }
     ],
     "prompt_number": 49
    },
    {
     "cell_type": "code",
     "collapsed": false,
     "input": [
      "avar = \"hello %s\" % 'world'\n",
      "print avar"
     ],
     "language": "python",
     "metadata": {},
     "outputs": [
      {
       "output_type": "stream",
       "stream": "stdout",
       "text": [
        "hello world\n"
       ]
      }
     ],
     "prompt_number": 50
    },
    {
     "cell_type": "code",
     "collapsed": false,
     "input": [
      "avar = \"hello %s\" % 'world'[2]\n",
      "print avar"
     ],
     "language": "python",
     "metadata": {},
     "outputs": [
      {
       "output_type": "stream",
       "stream": "stdout",
       "text": [
        "hello r\n"
       ]
      }
     ],
     "prompt_number": 51
    },
    {
     "cell_type": "code",
     "collapsed": false,
     "input": [
      "tomurl=URLSTART+bookdict['02'][0]\n",
      "tomstuff=requests.get(tomurl)\n",
      "from IPython.display import HTML\n",
      "HTML('<iframe>'+tomstuff.text+'</iframe>')"
     ],
     "language": "python",
     "metadata": {},
     "outputs": [
      {
       "html": [
        "<iframe><!DOCTYPE html>\n",
        "<html class=\"desktop\">\n",
        "\n",
        "\n",
        "<head prefix=\"og: http://ogp.me/ns# fb: http://ogp.me/ns/fb# good_reads: http://ogp.me/ns/fb/good_reads#\">\n",
        "  <meta name=\"google-site-verification\" content=\"PfFjeZ9OK1RrUrKlmAPn_iZJ_vgHaZO1YQ-QlG2VsJs\" />\n",
        "\n",
        "  <title>The Adventures of Tom Sawyer by Mark Twain \u2014 Reviews, Discussion, Bookclubs, Lists</title>\n",
        "    <meta property=\"og:title\" content=\"The Adventures of Tom Sawyer\"/>\n",
        "  <meta property=\"og:type\"  content=\"good_reads:book\"/>\n",
        "  <meta property=\"og:url\" content=\"https://www.goodreads.com/work/best_book/41326609-the-adventures-of-tom-sawyer\"/>\n",
        "  <meta property=\"og:site_name\" content=\"Goodreads\"/>\n",
        "  <meta property=\"og:image\" content=\"https://p.gr-assets.com/max_square/fill/books/1404811979/24583.jpg\"/>\n",
        "  <meta property=\"fb:app_id\" content=\"2415071772\"/>\n",
        "  <meta property=\"og:description\" content=\"From the famous episodes of the whitewashed fence and the ordeal in the cave to the trial of Injun Joe, The Adventures of Tom Sawyer is r...\"/>\n",
        "  <meta property=\"good_reads:isbn\" content=\"0143039563\">\n",
        "  <meta property=\"good_reads:page_num\" content=\"231\">\n",
        "  <meta property=\"good_reads:author\" content=\"https://www.goodreads.com/author/show/1244.Mark_Twain\">\n",
        "    <meta property=\"al:ios:url\" content=\"com.goodreads.https://book/show/24583\">\n",
        "    <meta property=\"al:ios:app_store_id\" content=\"355833469\">\n",
        "    <meta property=\"al:ios:app_name\" content=\"Goodreads\">\n",
        "\n",
        "  <link rel=\"alternate\" href=\"android-app://com.goodreads/https/www.goodreads.com/book/show/24583.The_Adventures_of_Tom_Sawyer\">\n",
        "\n",
        "\n",
        "\n",
        "    <meta name=\"description\" content=\"The Adventures of Tom Sawyer has 391,333 ratings and 4,497 reviews. Nataliya said: I was five and a half years old when my mother gave me The Adventures ...\">\n",
        "\n",
        "  <meta name=\"verify-v1\" content=\"cEf8XOH0pulh1aYQeZ1gkXHsQ3dMPSyIGGYqmF53690=\">\n",
        "  <meta name=\"apple-itunes-app\" content=\"app-id=355833469\">\n",
        "\n",
        "\n",
        "\n",
        "          <script type=\"text/javascript\">\n",
        "        if (window.Mobvious === undefined) {\n",
        "          window.Mobvious = {};\n",
        "        }\n",
        "        window.Mobvious.device_type = 'desktop';\n",
        "        </script>\n",
        "\n",
        "\n",
        "  <link href=\"https://s.gr-assets.com/assets/goodreads-0bd845e0bd9391ff40fda2acd7f6df09.css\" media=\"screen\" rel=\"stylesheet\" type=\"text/css\" />\n",
        "  <script src=\"https://s.gr-assets.com/assets/application-854bf1da5dd41f7e9c94708fd331d7dd.js\" type=\"text/javascript\"></script>\n",
        "\n",
        "\n",
        "  <meta content=\"authenticity_token\" name=\"csrf-param\" />\n",
        "<meta content=\"Aal4XRr9cmT8QOJ+E/cdeYJGV+ZugAjHLbW09tDBl1vFR/bdiLf+eP8zBrQO9TubynuFUq8gvStNUAoeBB+0OQ==\" name=\"csrf-token\" />\n",
        "\n",
        "  <meta content=\"05HKH2K7Y8MCVA38SDYY\" name=\"request-id\" />\n",
        "\n",
        "      <link rel=\"canonical\" href=\"https://www.goodreads.com/book/show/24583.The_Adventures_of_Tom_Sawyer\" />\n",
        "\n",
        "  <!--[if lte IE 6]>\n",
        "    <link href=\"https://s.gr-assets.com/assets/ie6-51e0cedc1377c2b703741fbc163e87a8.css\" media=\"screen\" rel=\"stylesheet\" type=\"text/css\" />\n",
        "\n",
        "    <script type=\"text/javascript\">\n",
        "//<![CDATA[\n",
        "\n",
        "      try {\n",
        "        document.execCommand(\"BackgroundImageCache\", false, true);\n",
        "      }\n",
        "      catch(err) {}\n",
        "\n",
        "//]]>\n",
        "</script>  <![endif]-->\n",
        "\n",
        "  <!--[if lt IE 9]>\n",
        "    <link href=\"https://s.gr-assets.com/assets/ie-310775c0903bd7e45dd9d3dc7128ec88.css\" media=\"screen\" rel=\"stylesheet\" type=\"text/css\" />\n",
        "  <![endif]-->\n",
        "\n",
        "  <!--[if lt IE 8]>\n",
        "    <link href=\"https://s.gr-assets.com/assets/common_images_ie-5f3d43077e84443ac8c379a5655e4acb.css\" media=\"screen\" rel=\"stylesheet\" type=\"text/css\" />\n",
        "  <![endif]-->\n",
        "\n",
        "  <!--[if gte IE 8]><!-->\n",
        "  <link href=\"https://s.gr-assets.com/assets/common_images-491a436b3c3f857283b622d069101e5e.css\" media=\"screen\" rel=\"stylesheet\" type=\"text/css\" />\n",
        "  <!--<![endif]-->\n",
        "\n",
        "  <script>\n",
        "  //<![CDATA[\n",
        "    var googletag = googletag || {};\n",
        "    googletag.cmd = googletag.cmd || [];\n",
        "    (function() {\n",
        "      var gads = document.createElement(\"script\");\n",
        "      gads.async = true;\n",
        "      gads.type = \"text/javascript\";\n",
        "      var useSSL = \"https:\" == document.location.protocol;\n",
        "      gads.src = (useSSL ? \"https:\" : \"http:\") +\n",
        "      \"//www.googletagservices.com/tag/js/gpt.js\";\n",
        "      var node = document.getElementsByTagName(\"script\")[0];\n",
        "      node.parentNode.insertBefore(gads, node);\n",
        "    })();\n",
        "    // page settings\n",
        "    googletag.cmd.push(function() {\n",
        "      googletag.pubads().setTargeting(\"sid\", \"d4e36a6549a731be4a95e4819dd02513\");\n",
        "    googletag.pubads().setTargeting(\"shelf\", [\"classics\",\"fiction\",\"youngadult\",\"adventure\",\"literature\",\"historicalfiction\",\"childrens\",\"school\",\"american\",\"novels\"]);\n",
        "    googletag.pubads().setTargeting(\"gtargeting\", \"s4balngp\");\n",
        "    googletag.pubads().setTargeting(\"resource\", \"Work_41326609\");\n",
        "      googletag.pubads().enableSingleRequest();\n",
        "      googletag.enableServices();\n",
        "    });\n",
        "  //]]>\n",
        "</script>\n",
        "\n",
        "\n",
        "\n",
        "      <link href=\"https://s.gr-assets.com/assets/book/show-8fad81adede82449bac3ecc8646b0a6f.css\" media=\"screen\" rel=\"stylesheet\" type=\"text/css\" />\n",
        "\n",
        "    <!--[if lte IE 7]>\n",
        "    <style type=\"text/css\" media=\"screen\">\n",
        "        #imagecol { overflow: hidden; }\n",
        "    </style>\n",
        "    <![endif]-->\n",
        "\n",
        "    <script src=\"https://s.gr-assets.com/assets/book/show-f2431837a2efca84f5b2883c428e8e47.js\" type=\"text/javascript\"></script>\n",
        "  <script>\n",
        "    !function(d,s,id)\n",
        "      {var js, fjs = d.getElementsByTagName(s)[0];\n",
        "        if(!d.getElementById(id))\n",
        "          {js=d.createElement(s);\n",
        "          js.id=id;\n",
        "          js.src='https://platform.twitter.com/widgets.js';\n",
        "          fjs.parentNode.insertBefore(js,fjs);\n",
        "        }}(document,'script','twitter-wjs');\n",
        "  </script>\n",
        "<script src=\"https://s.gr-assets.com/assets/user/cta_banner_ab_testing-11b84456a7a39c7a4f8db5733db2597a.js\" type=\"text/javascript\"></script>\n",
        "<script>\n",
        "  //<![CDATA[\n",
        "    googletag.cmd.push(function() {\n",
        "      adUnit = googletag\n",
        "        .defineSlot(\n",
        "          \"/4215/goodr.book.top.out.300x250\",\n",
        "          [300,250],\n",
        "          \"div-gpt-ad-84a737f0a5\")\n",
        "        .addService(googletag.pubads())\n",
        "        .setCollapseEmptyDiv(true);\n",
        "      \n",
        "    });\n",
        "  //]]>\n",
        "</script>\n",
        "\n",
        "<script>\n",
        "  //<![CDATA[\n",
        "    googletag.cmd.push(function() {\n",
        "      adUnit = googletag\n",
        "        .defineSlot(\n",
        "          \"/4215/goodr.cb.book.300x140\",\n",
        "          [300,140],\n",
        "          \"div-gpt-ad-f27c21dbec\")\n",
        "        .addService(googletag.pubads())\n",
        "        .setCollapseEmptyDiv(true);\n",
        "      \n",
        "    });\n",
        "  //]]>\n",
        "</script>\n",
        "\n",
        "<script>\n",
        "  //<![CDATA[\n",
        "    googletag.cmd.push(function() {\n",
        "      adUnit = googletag\n",
        "        .defineSlot(\n",
        "          \"/4215/goodr.book.bottom.out.300x250\",\n",
        "          [300,250],\n",
        "          \"div-gpt-ad-9f790f8a3c\")\n",
        "        .addService(googletag.pubads())\n",
        "        .setCollapseEmptyDiv(true);\n",
        "      \n",
        "    });\n",
        "  //]]>\n",
        "</script>\n",
        "\n",
        "<script>\n",
        "  //<![CDATA[\n",
        "    googletag.cmd.push(function() {\n",
        "      adUnit = googletag\n",
        "        .defineSlot(\n",
        "          \"/4215/goodr.book.top.out.970x66\",\n",
        "          [970,66],\n",
        "          \"div-gpt-ad-213e00b08a\")\n",
        "        .addService(googletag.pubads())\n",
        "        .setCollapseEmptyDiv(true);\n",
        "      \n",
        "    });\n",
        "  //]]>\n",
        "</script>\n",
        "\n",
        "\n",
        "  \n",
        "  \n",
        "  \n",
        "  <link rel=\"search\" type=\"application/opensearchdescription+xml\" href=\"/opensearch.xml\" title=\"Goodreads\">\n",
        "\n",
        "\n",
        "  <script>\n",
        "  //<![CDATA[\n",
        "    var GoodreadsAnalytics = GoodreadsAnalytics || {};\n",
        "    var _gaq = _gaq || [];\n",
        "    var isDebug = false;\n",
        "    \n",
        "    $j(function () {\n",
        "      if (isDebug) {\n",
        "        $j(\"#google-analytics-debug\").show();\n",
        "      }\n",
        "    });\n",
        "    \n",
        "    GoodreadsAnalytics.push = function () {\n",
        "      _gaq.push.apply(_gaq, arguments);\n",
        "    \n",
        "      if (isDebug) {\n",
        "        var args = arguments[0];\n",
        "        $j(function () {\n",
        "          var li = $j(\"<li/>\").text(JSON.stringify(args));\n",
        "          $j(\"#google-analytics-debug ol\").append(li);\n",
        "        });\n",
        "      }\n",
        "    }\n",
        "    \n",
        "    GoodreadsAnalytics.push(['_setAccount', 'UA-968618-1']);\n",
        "    GoodreadsAnalytics.push(['_setCustomVar',\n",
        "      1,                        // Slot 1\n",
        "      'User Status',            // Custom variable name\n",
        "      'signed_out',  // Custom variable value: signed_out, signed_in,\n",
        "                                //   signed_in_facebook_connected, or\n",
        "                                //   goodreads_member_previously_signed_in\n",
        "      2                         // Visit-level scope, which means slot 1 will be\n",
        "                                //   free when the visit ends.\n",
        "    ]);\n",
        "    GoodreadsAnalytics.push(['_setCustomVar',\n",
        "      2,                        // Slot 2\n",
        "      'Device Type',            // Custom variable name\n",
        "      'desktop',         // Custom variable value: desktop, mobile, or\n",
        "                                //   tablet\n",
        "      2                         // Visit-level scope, which means slot 2 will be\n",
        "                                //   free when the visit ends.\n",
        "    ]);\n",
        "    GoodreadsAnalytics.push(['_setCustomVar',\n",
        "      3,                           // Slot 3\n",
        "      'Interstitial Ad Presence',  // Custom variable name\n",
        "      'false',  // Custom variable value: true or false\n",
        "      2                            // Visit-level scope, which means slot 3 will be\n",
        "                                   //   free when the visit ends.\n",
        "    ]);\n",
        "    GoodreadsAnalytics.push(['_trackPageview']);\n",
        "    \n",
        "    (function () {\n",
        "      var ga = document.createElement('script');\n",
        "      ga.type = 'text/javascript';\n",
        "      ga.async = true;\n",
        "      ga.src = ('https:' == document.location.protocol ? 'https://' : 'http://') + 'stats.g.doubleclick.net/dc.js';\n",
        "      var s = document.getElementsByTagName('script')[0];\n",
        "      s.parentNode.insertBefore(ga, s);\n",
        "    })();\n",
        "  //]]>\n",
        "</script>\n",
        "\n",
        "\n",
        "\n",
        "  <script type=\"text/javascript\">\n",
        "      var _qevents = _qevents || [];\n",
        "\n",
        "      (function() {\n",
        "          var elem = document.createElement('script');\n",
        "\n",
        "          elem.src = (document.location.protocol == \"https:\" ? \"https://secure\" : \"http://edge\") + \".quantserve.com/quant.js\";\n",
        "          elem.async = true;\n",
        "          elem.type = \"text/javascript\";\n",
        "          var scpt = document.getElementsByTagName('script')[0];\n",
        "          scpt.parentNode.insertBefore(elem, scpt);\n",
        "      })();\n",
        "  </script>\n",
        "\n",
        "</head>\n",
        "\n",
        "\n",
        "<body class=\"\">\n",
        "<div class=\"content\">\n",
        "  \n",
        "\n",
        "    <div class='uitext' id='siteheader'>\n",
        "<div class='choiceAwardsBanner'>\n",
        "<a href=\"/choiceawards/best-books-2014\" class=\"castVoteOpening\"></a>\n",
        "</div>\n",
        "<div class='mainContent'>\n",
        "<ul class='nav' id='usernav'>\n",
        "<li>\n",
        "<strong>\n",
        "<a href=\"/user/new\" class=\"navlink\" rel=\"nofollow\">register</a>\n",
        "</strong>\n",
        "</li>\n",
        "<li>\n",
        "<a href=\"/about/how_it_works\" class=\"navlink\" rel=\"nofollow\">tour</a>\n",
        "</li>\n",
        "<li>\n",
        "<a href=\"/user/sign_in?returnurl=%2Fbook%2Fshow%2F24583.The_Adventures_of_Tom_Sawyer\" class=\"navlink\" rel=\"nofollow\">sign in</a>\n",
        "</li>\n",
        "</ul>\n",
        "<div id='logo'>\n",
        "<a href='/'>\n",
        "<img alt=\"Goodreads: Book reviews, recommendations, and discussion\" border=\"0\" src=\"https://s.gr-assets.com/assets/layout/goodreads_logo_140-b533b2204258ee95a93b7c7882d24080.png\" />\n",
        "</a>\n",
        "</div>\n",
        "<div id='sitesearch'>\n",
        "<form accept-charset=\"UTF-8\" action=\"/search\" id=\"headerSearchForm\" method=\"get\"><div style=\"margin:0;padding:0;display:inline\"><input name=\"utf8\" type=\"hidden\" value=\"&#x2713;\" /></div><div class='auto_complete_field_wrapper'>\n",
        "<input id=\"sitesearch_field\" name=\"query\" placeholder=\"Title / Author / ISBN\" type=\"text\" />\n",
        "<div id='sitesearch_autocomplete'></div>\n",
        "<img alt=\"Loading-trans\" class=\"loading\" id=\"sitesearch_field_loading\" src=\"https://s.gr-assets.com/assets/loading-trans-6bb25de8f7e8463420d7fd498dcfc731.gif\" style=\"display: none\" />\n",
        "</div>\n",
        "<a class=\"submitLink\" href=\"#\" onclick=\"$j('#headerSearchForm').submit(); return false;\"><img alt=\"search\" src=\"https://s.gr-assets.com/assets/layout/magnifying_glass-213ef8614f9c5f5953c92984df6f029b.png\" title=\"Title / Author / ISBN\" width=\"16\" /></a>\n",
        "</form>\n",
        "\n",
        "</div>\n",
        "\n",
        "<ul class='nav' id='sitenav'>\n",
        "<li>\n",
        "<a href=\"/\" class=\"navlink\">Home</a>\n",
        "</li>\n",
        "<li>\n",
        "<a href=\"/review/list\" class=\"navlink\" rel=\"nofollow\">My Books</a>\n",
        "</li>\n",
        "<li>\n",
        "<a href=\"/friend\" class=\"navlink\" rel=\"nofollow\">Friends</a>\n",
        "</li>\n",
        "<li>\n",
        "<a href=\"/recommendations\" class=\"navlink\" rel=\"nofollow\">Recommendations</a>\n",
        "</li>\n",
        "<li>\n",
        "<a href=\"/book\" class=\"navlink\" rel=\"nofollow\">Explore</a>\n",
        "</li>\n",
        "<li class='notificationIcon withsubnav exploreMenu'>\n",
        "<div class='dropDownContainer'>\n",
        "<div class='dropDown'>\n",
        "<div class='caretArrow'></div>\n",
        "<div class='dropDownMenu'>\n",
        "<div class='exploreMenuContent'>\n",
        "<ul class='content'>\n",
        "<li>\n",
        "<a href=\"/genres\">Genres</a>\n",
        "</li>\n",
        "<li>\n",
        "<a href=\"/list\" title=\"Popular lists of books\">Listopia</a>\n",
        "</li>\n",
        "<li>\n",
        "<a href=\"/giveaway\" title=\"Free book giveaways\">Giveaways</a>\n",
        "</li>\n",
        "<li>\n",
        "<a href=\"/book/popular_by_date/2014/11\" title=\"Popular New Releases\">Popular</a>\n",
        "</li>\n",
        "<li>\n",
        "<a href=\"/voice\">Goodreads Voice</a>\n",
        "</li>\n",
        "<li>\n",
        "<a href=\"/ebooks\">Ebooks</a>\n",
        "</li>\n",
        "</ul>\n",
        "<ul class='content'>\n",
        "<li class='title'>\n",
        "<b>\n",
        "Fun\n",
        "</b>\n",
        "</li>\n",
        "<li>\n",
        "<a href=\"/trivia\">Trivia</a>\n",
        "</li>\n",
        "<li>\n",
        "<a href=\"/quizzes\">Quizzes</a>\n",
        "</li>\n",
        "<li>\n",
        "<a href=\"/quotes\">Quotes</a>\n",
        "</li>\n",
        "</ul>\n",
        "<ul class='content'>\n",
        "<li class='title'>\n",
        "<b>\n",
        "Community\n",
        "</b>\n",
        "</li>\n",
        "<li>\n",
        "<a href=\"/group\">Groups</a>\n",
        "</li>\n",
        "<li>\n",
        "<a href=\"/story\">Creative Writing</a>\n",
        "</li>\n",
        "<li>\n",
        "<a href=\"/user/online_now\" rel=\"nofollow\">People</a>\n",
        "</li>\n",
        "<li>\n",
        "<a href=\"/event\">Events</a>\n",
        "</li>\n",
        "</ul>\n",
        "</div>\n",
        "\n",
        "</div>\n",
        "</div>\n",
        "<a href=\"/book\" class=\"dropDownOpener subnavlink\"></a>\n",
        "</div>\n",
        "\n",
        "</li>\n",
        "</ul>\n",
        "</div>\n",
        "</div>\n",
        "\n",
        "\n",
        "  \n",
        "\n",
        "  <div class=\"mainContentContainer \">\n",
        "    \n",
        "    <div class=\"mainContent\">\n",
        "          <div id=\"premiumAdTop\">\n",
        "      <div id='div-gpt-ad-213e00b08a' style='width: 970px; height: 66px'>\n",
        "<script>\n",
        "  //<![CDATA[\n",
        "    googletag.cmd.push(function() {\n",
        "      googletag.display(\"div-gpt-ad-213e00b08a\");\n",
        "    });\n",
        "  //]]>\n",
        "</script>\n",
        "\n",
        "</div>\n",
        "\n",
        "    </div>\n",
        "\n",
        "      <div class=\"mainContentFloat\">\n",
        "        <div id=\"flashContainer\">\n",
        "\n",
        "\n",
        "</div>\n",
        "\n",
        "        \n",
        "\n",
        "\n",
        "\n",
        "\n",
        "\n",
        "\n",
        "\n",
        "  <input id=\"cta_banner_ep\" name=\"cta_banner_ep\" type=\"hidden\" value=\"50\" />\n",
        "<input id=\"cta_banner_ecd\" name=\"cta_banner_ecd\" type=\"hidden\" value=\"0.04\" />\n",
        "<div class='ctaBannerHidden js-ctaBannerExperiment' id='js-ctaBannerExperimentResource'>\n",
        "<div class='ctaHeader'>\n",
        "Goodreads helps you keep track of books you want to read.\n",
        "</div>\n",
        "<div>\n",
        "Start by marking \u201cThe Adventures of Tom Sawyer\u201d as Want to Read:\n",
        "</div>\n",
        "<div class='ctaButton'>\n",
        "<div class='wtrButtonContainer wtrSignedOut' id='1_book_24583'>\n",
        "<div class='wtrUp wtrLeft'>\n",
        "<form accept-charset=\"UTF-8\" action=\"/shelf/add_to_shelf\" method=\"post\"><div style=\"margin:0;padding:0;display:inline\"><input name=\"utf8\" type=\"hidden\" value=\"&#x2713;\" /><input name=\"authenticity_token\" type=\"hidden\" value=\"tiFVIXX6snGcpn6F2f0J6/iwbozeaC6PRSI62g9bcYVyz9uh57A+bZ/Vmk/E/y8JsI28OB/Im2Mlx4Qy24VS5w==\" /></div>\n",
        "<input id=\"book_id\" name=\"book_id\" type=\"hidden\" value=\"24583\" />\n",
        "<input id=\"name\" name=\"name\" type=\"hidden\" value=\"to-read\" />\n",
        "<input id=\"unique_id\" name=\"unique_id\" type=\"hidden\" value=\"1_book_24583\" />\n",
        "<input id=\"wtr_new\" name=\"wtr_new\" type=\"hidden\" value=\"true\" />\n",
        "<input id=\"from_choice\" name=\"from_choice\" type=\"hidden\" value=\"false\" />\n",
        "<input id=\"from_search\" name=\"from_search\" type=\"hidden\" value=\"false\" />\n",
        "<input id=\"from_home_module\" name=\"from_home_module\" type=\"hidden\" value=\"false\" />\n",
        "<input class=\"wtrLeftUpRef\" id=\"ref\" name=\"ref\" type=\"hidden\" value=\"\" />\n",
        "<input class=\"wtrExisting\" id=\"existing_review\" name=\"existing_review\" type=\"hidden\" value=\"false\" />\n",
        "<input id=\"page_url\" name=\"page_url\" type=\"hidden\" />\n",
        "<button class='wtrToRead' type='submit'>\n",
        "<span class='progressTrigger'>Want to Read</span>\n",
        "<span class='progressIndicator'>saving\u2026</span>\n",
        "</button>\n",
        "</form>\n",
        "\n",
        "</div>\n",
        "\n",
        "<div class='wtrRight wtrUp'>\n",
        "<form accept-charset=\"UTF-8\" action=\"/shelf/add_to_shelf\" class=\"hiddenShelfForm\" method=\"post\"><div style=\"margin:0;padding:0;display:inline\"><input name=\"utf8\" type=\"hidden\" value=\"&#x2713;\" /><input name=\"authenticity_token\" type=\"hidden\" value=\"b57WprMNcZWk4ANFFImih/vuQ8PQEMbqB0CGOyaGVaqrcFgmIUf9iaeT548Ji4Rls9ORdxGwcwZnpTjT8lh2yA==\" /></div>\n",
        "<input id=\"unique_id\" name=\"unique_id\" type=\"hidden\" value=\"1_book_24583\" />\n",
        "<input id=\"book_id\" name=\"book_id\" type=\"hidden\" value=\"24583\" />\n",
        "<input id=\"a\" name=\"a\" type=\"hidden\" />\n",
        "<input id=\"name\" name=\"name\" type=\"hidden\" />\n",
        "<input id=\"from_choice\" name=\"from_choice\" type=\"hidden\" value=\"false\" />\n",
        "<input id=\"from_home_module\" name=\"from_home_module\" type=\"hidden\" value=\"false\" />\n",
        "<input id=\"page_url\" name=\"page_url\" type=\"hidden\" />\n",
        "</form>\n",
        "\n",
        "<button class='wtrShelfButton'></button>\n",
        "<div class='wtrShelfMenu'>\n",
        "<ul class='wtrExclusiveShelves'>\n",
        "<li><button class='wtrExclusiveShelf' name='name' type='submit' value='to-read'>\n",
        "<span class='progressTrigger'>Want to Read</span>\n",
        "<img alt=\"saving\u2026\" class=\"progressIndicator\" src=\"https://s.gr-assets.com/assets/loading-trans-6bb25de8f7e8463420d7fd498dcfc731.gif\" />\n",
        "</button>\n",
        "</li>\n",
        "<li><button class='wtrExclusiveShelf' name='name' type='submit' value='currently-reading'>\n",
        "<span class='progressTrigger'>Currently Reading</span>\n",
        "<img alt=\"saving\u2026\" class=\"progressIndicator\" src=\"https://s.gr-assets.com/assets/loading-trans-6bb25de8f7e8463420d7fd498dcfc731.gif\" />\n",
        "</button>\n",
        "</li>\n",
        "<li><button class='wtrExclusiveShelf' name='name' type='submit' value='read'>\n",
        "<span class='progressTrigger'>Read</span>\n",
        "<img alt=\"saving\u2026\" class=\"progressIndicator\" src=\"https://s.gr-assets.com/assets/loading-trans-6bb25de8f7e8463420d7fd498dcfc731.gif\" />\n",
        "</button>\n",
        "</li>\n",
        "</ul>\n",
        "</div>\n",
        "</div>\n",
        "\n",
        "</div>\n",
        "\n",
        "</div>\n",
        "<div class='ctaBannerTriangle'></div>\n",
        "</div>\n",
        "\n",
        "<div class=\"leftContainer\" itemscope itemtype=\"http://schema.org/Book\">\n",
        "<div id=\"topcol\" class=\"last col\">\n",
        "\n",
        "\n",
        "<div id=\"imagecol\" class=\"col\">\n",
        "  <div class=\"bookCoverContainer\">\n",
        "    <div class=\"bookCoverPrimary\">\n",
        "          <a href=\"/book/photo/24583.The_Adventures_of_Tom_Sawyer\" itemprop=\"image\" rel=\"nofollow\"><img alt=\"The Adventures of Tom Sawyer\" id=\"coverImage\" src=\"https://d.gr-assets.com/books/1404811979l/24583.jpg\" /></a>\n",
        "    </div>\n",
        "    <div class=\"bookCoverActions\">\n",
        "      <div class=\"coverButtonContainer\">\n",
        "        <div class=\"coverButton\">\n",
        "          <a href=\"https://www.goodreads.com/work/editions/41326609-the-adventures-of-tom-sawyer\">Other editions</a>\n",
        "        </div>\n",
        "      </div>\n",
        "        <div class=\"coverButtonContainer\">\n",
        "          <div class=\"coverButton enlargeCover\" id=\"edition_24583_enlarge\">\n",
        "            Enlarge cover\n",
        "          </div>\n",
        "          <div class=\"editionCover\" id=\"edition_24583_enlarge_cover\" style= \"display: none;\">\n",
        "            <img alt=\"24583\" src=\"https://d.gr-assets.com/books/1404811979l/24583.jpg\" />\n",
        "          </div>\n",
        "        </div>\n",
        "    </div>\n",
        "  </div>\n",
        "\n",
        "    <div class='wtrButtonContainer wtrSignedOut' id='2_book_24583'>\n",
        "<div class='wtrUp wtrLeft'>\n",
        "<form accept-charset=\"UTF-8\" action=\"/shelf/add_to_shelf\" method=\"post\"><div style=\"margin:0;padding:0;display:inline\"><input name=\"utf8\" type=\"hidden\" value=\"&#x2713;\" /><input name=\"authenticity_token\" type=\"hidden\" value=\"w/A5EK4PppWiMoinV4smQc4d/VBUIvHdoAzhbt4YG7EHHreQPEUqiaFBbG1KiQCjhiAv5JWCRDHA6V+GCsY40w==\" /></div>\n",
        "<input id=\"book_id\" name=\"book_id\" type=\"hidden\" value=\"24583\" />\n",
        "<input id=\"name\" name=\"name\" type=\"hidden\" value=\"to-read\" />\n",
        "<input id=\"unique_id\" name=\"unique_id\" type=\"hidden\" value=\"2_book_24583\" />\n",
        "<input id=\"wtr_new\" name=\"wtr_new\" type=\"hidden\" value=\"true\" />\n",
        "<input id=\"from_choice\" name=\"from_choice\" type=\"hidden\" value=\"false\" />\n",
        "<input id=\"from_search\" name=\"from_search\" type=\"hidden\" value=\"false\" />\n",
        "<input id=\"from_home_module\" name=\"from_home_module\" type=\"hidden\" value=\"false\" />\n",
        "<input class=\"wtrLeftUpRef\" id=\"ref\" name=\"ref\" type=\"hidden\" value=\"\" />\n",
        "<input class=\"wtrExisting\" id=\"existing_review\" name=\"existing_review\" type=\"hidden\" value=\"false\" />\n",
        "<input id=\"page_referrer\" name=\"page_referrer\" type=\"hidden\" value=\"https://www.goodreads.com/shelf/show/classics\" />\n",
        "<input id=\"page_url\" name=\"page_url\" type=\"hidden\" value=\"/book/show/24583.The_Adventures_of_Tom_Sawyer\" />\n",
        "<button class='wtrToRead' type='submit'>\n",
        "<span class='progressTrigger'>Want to Read</span>\n",
        "<span class='progressIndicator'>saving\u2026</span>\n",
        "</button>\n",
        "</form>\n",
        "\n",
        "</div>\n",
        "\n",
        "<div class='wtrRight wtrUp'>\n",
        "<form accept-charset=\"UTF-8\" action=\"/shelf/add_to_shelf\" class=\"hiddenShelfForm\" method=\"post\"><div style=\"margin:0;padding:0;display:inline\"><input name=\"utf8\" type=\"hidden\" value=\"&#x2713;\" /><input name=\"authenticity_token\" type=\"hidden\" value=\"iO5UZfpd+FEb90yL0gUOmQttfgiXYsBcsNuYmqbSOKJMANrlaBd0TRiEqEHPByh7Q1CsvFbCdbDQPiZycgwbwA==\" /></div>\n",
        "<input id=\"unique_id\" name=\"unique_id\" type=\"hidden\" value=\"2_book_24583\" />\n",
        "<input id=\"book_id\" name=\"book_id\" type=\"hidden\" value=\"24583\" />\n",
        "<input id=\"a\" name=\"a\" type=\"hidden\" />\n",
        "<input id=\"name\" name=\"name\" type=\"hidden\" />\n",
        "<input id=\"from_choice\" name=\"from_choice\" type=\"hidden\" value=\"false\" />\n",
        "<input id=\"from_home_module\" name=\"from_home_module\" type=\"hidden\" value=\"false\" />\n",
        "<input id=\"page_referrer\" name=\"page_referrer\" type=\"hidden\" value=\"https://www.goodreads.com/shelf/show/classics\" />\n",
        "<input id=\"page_url\" name=\"page_url\" type=\"hidden\" value=\"/book/show/24583.The_Adventures_of_Tom_Sawyer\" />\n",
        "</form>\n",
        "\n",
        "<button class='wtrShelfButton'></button>\n",
        "</div>\n",
        "\n",
        "<div class='ratingStars wtrRating'>\n",
        "<div class='starsErrorTooltip hidden'>\n",
        "Error rating book. Refresh and try again.\n",
        "</div>\n",
        "<div class='myRating uitext greyText'>Rate this book</div>\n",
        "<div class='clearRating uitext'>Clear rating</div>\n",
        "<div class=\"stars\" data-rating=\"0\" data-resource-id=\"24583\" data-submit-url=\"/review/rate/24583?page_referrer=https%3A%2F%2Fwww.goodreads.com%2Fshelf%2Fshow%2Fclassics&page_url=%2Fbook%2Fshow%2F24583.The_Adventures_of_Tom_Sawyer&stars_click=true&wtr_button_id=2_book_24583\" data-user-id=\"0\"><a class=\"star off\" href=\"#\" ref=\"\" title=\"did not like it\">1 of 5 stars</a><a class=\"star off\" href=\"#\" ref=\"\" title=\"it was ok\">2 of 5 stars</a><a class=\"star off\" href=\"#\" ref=\"\" title=\"liked it\">3 of 5 stars</a><a class=\"star off\" href=\"#\" ref=\"\" title=\"really liked it\">4 of 5 stars</a><a class=\"star off\" href=\"#\" ref=\"\" title=\"it was amazing\">5 of 5 stars</a></div>\n",
        "</div>\n",
        "\n",
        "</div>\n",
        "\n",
        "\n",
        "\n",
        "    \n",
        "\n",
        "\n",
        "<a href=\"https://read.amazon.com/nc/?kcrFree=only&amp;tag=x_gr_w_preview_kcr-20&amp;asin=B004UJTG6Q\" class=\"button kcrPreviewButtonShown\" id=\"js-kcrPreviewButton\">\n",
        "  Open Preview\n",
        "</a><div id=\"wrongBookKindlePreviewScreen\" style=\"display: none;\">\n",
        "  <div class=\"wrongBookBody\">\n",
        "    <h2>See a Problem?</h2>\n",
        "    <div class=\"wrongBookText\">\n",
        "      <div class=\"description\">\n",
        "        We\u2019d love your help.\n",
        "        Let us know what\u2019s wrong with this preview of\n",
        "        <cite>The Adventures of Tom Sawyer</cite> by Mark Twain.\n",
        "      </div>\n",
        "      <form accept-charset=\"UTF-8\" action=\"/kindle_book_mapping_flags\" class=\"new_kindle_book_mapping_flag\" data-remote=\"true\" id=\"new_kindle_book_mapping_flag\" method=\"post\"><div style=\"margin:0;padding:0;display:inline\"><input name=\"utf8\" type=\"hidden\" value=\"&#x2713;\" /><input name=\"authenticity_token\" type=\"hidden\" value=\"KcEvjM/MPQqLB8t3wsJrLH82wWBuYJciYAFTAnslfVTtL6EMXYaxFoh0L73fwE3ONwsT1K/AIs4A5O3qr/teNg==\" /></div>\n",
        "        <div class=\"reasons\">\n",
        "          <label for=\"kindle_book_mapping_flag_reason\">Problem:</label>\n",
        "          <select id=\"kindle_book_mapping_flag_reason\" name=\"kindle_book_mapping_flag[reason]\"><option value=\"wrongBook\">It\u2019s the wrong book</option>\n",
        "<option value=\"wrongEdition\">It\u2019s the wrong edition</option>\n",
        "<option value=\"other\">Other</option></select>\n",
        "          <br/>\n",
        "        </div>\n",
        "        <div class=\"otherReason\">\n",
        "          <label for=\"kindle_book_mapping_flag_other_reason\">Details (if other):</label>\n",
        "          <input id=\"kindle_book_mapping_flag_other_reason\" name=\"kindle_book_mapping_flag[other_reason]\" size=\"30\" type=\"text\" />\n",
        "        </div>\n",
        "        <input id=\"kindle_book_mapping_flag_book_id\" name=\"kindle_book_mapping_flag[book_id]\" type=\"hidden\" value=\"24583\" />\n",
        "        <input class=\"button\" name=\"commit\" type=\"submit\" value=\"Report Problem\" />\n",
        "        &nbsp;\n",
        "        <button type=\"button\" id=\"js-wrongBookKindlePreviewScreenCancelLink\" class=\"buttonAsActionLinkSecondary\">\n",
        "        Cancel and return to book page\n",
        "        </button>\n",
        "</form>    </div>\n",
        "  </div>\n",
        "</div>\n",
        "<div id=\"js-wrongBookKindlePreviewScreenConfirmation\"\n",
        "     class=\"wrongBookKindlePreviewScreenConfirmation\"\n",
        "     style=\"display:none;\">\n",
        "  <p>Thanks for telling us about the problem.</p>\n",
        "  <button type=\"button\" class=\"button\" id=\"js-wrongBookKindlePreviewScreenConfirmationDismiss\">\n",
        "    Return to Book Page\n",
        "  </button>\n",
        "</div>\n",
        "<div id=\"kindleCloudReader\" style=\"display: none;\">\n",
        "  <div class=\"topBanner\">\n",
        "    <a href=\"#\" class=\"js-wrongBookKindlePreview\" id=\"wrongBookLink\">Not the book you\u2019re looking for?</a>\n",
        "    <h2 class=\"kindlePreviewHeader\">\n",
        "      Preview\n",
        "        \u2014 <cite>The Adventures of Tom Sawyer</cite> by Mark Twain\n",
        "    </h2>\n",
        "  </div>\n",
        "  <iframe id=\"kindleCloudReader\">\n",
        "    <iframe id=\"wrongBookKindlePreviewScreen\"></iframe>\n",
        "  </iframe>\n",
        "</div>\n",
        "\n",
        "\n",
        "\n",
        "        <a href=\"http://www.goodreads.com:80/reader/481-the-adventures-of-tom-sawyer?return_to=%2Fbook%2Fshow%2F24583.The_Adventures_of_Tom_Sawyer\" class=\"primary button smallButton\">read book*</a>\n",
        "    <span class=\"smallText greyText\">*Different edition</span>\n",
        "\n",
        "</div>\n",
        "\n",
        "<div id=\"metacol\" class=\"last col\">\n",
        "<h1 id=\"bookTitle\" class=\"bookTitle\" itemprop=\"name\">\n",
        "      The Adventures of Tom Sawyer\n",
        "      <a href=\"/series/114147-tom-sawyer-huckleberry-finn\" class=\"greyText\">\n",
        "          (Tom Sawyer &amp; Huckleberry Finn #1)\n",
        "</a></h1>\n",
        "\n",
        "<div id=\"bookAuthors\" class=\"stacked\">\n",
        "  <span class='by smallText'>by</span>\n",
        "<span itemprop='author' itemscope='' itemtype='http://schema.org/Person'>\n",
        "<a href=\"https://www.goodreads.com/author/show/1244.Mark_Twain\" class=\"authorName\" itemprop=\"url\"><span itemprop=\"name\">Mark Twain</span></a>, \n",
        "<a href=\"https://www.goodreads.com/author/show/2022.Guy_Cardwell\" class=\"authorName\" itemprop=\"url\"><span itemprop=\"name\">Guy Cardwell</span></a> <span class=\"authorName greyText smallText role\">(Annotations)</span>, <a href=\"https://www.goodreads.com/author/show/22653.John_Seelye\" class=\"authorName\" itemprop=\"url\"><span itemprop=\"name\">John Seelye</span></a> <span class=\"authorName greyText smallText role\">(Introduction)</span>\n",
        "</span>\n",
        "\n",
        "</div>\n",
        "\n",
        "<div id=\"bookMeta\" class=\"uitext stacked hreview-aggregate\" style=\"position: relative\" itemscope itemtype=\"http://schema.org/AggregateRating\">\n",
        "  <span class=\"item\" style=\"display:none\"><span class=\"fn\">The Adventures of Tom Sawyer</span></span>\n",
        "  <span class=\"stars staticStars\"><a class=\"staticStar p10\" size=\"12x12\" title=\"3.86 of 5 stars\">3.86 of 5 stars</a><a class=\"staticStar p10\" size=\"12x12\" title=\"3.86 of 5 stars\"></a><a class=\"staticStar p10\" size=\"12x12\" title=\"3.86 of 5 stars\"></a><a class=\"staticStar p6\" size=\"12x12\" title=\"3.86 of 5 stars\"></a><a class=\"staticStar p0\" size=\"12x12\" title=\"3.86 of 5 stars\"></a></span>\n",
        "  <span class=\"value rating\"><span class=\"average\" itemprop=\"ratingValue\">3.86</span></span>\n",
        "  <span class=\"greyText\">&nbsp;&middot;&nbsp;</span>\n",
        "  <a class=\"actionLinkLite\" href=\"#\" id=\"rating_details\" onclick=\"return false\" style=\"cursor: pointer; \">rating details</a><script type=\"text/javascript\">\n",
        "//<![CDATA[\n",
        "      var newTip = new Tip($('rating_details'), \"\\n      <div id=\\\"moreBookData\\\" class=\\\"bookMeta\\\" >\\n  \\n\\n  \\n\\n<table border=\\\"0\\\" id=\\\"rating_distribution\\\" width=\\\"400\\\" cellspacing=\\\"5\\\" cellpadding=\\\"0\\\">\\n  <tr>\\n    <th>rating<\\/th>\\n    <th>frequency<\\/th>\\n    <th style=\\\"text-align: right\\\">%<\\/th>\\n    <th style=\\\"text-align: right\\\">#<\\/th>\\n  <\\/tr>\\n      <tr>\\n        <th style=\\\"text-align: center\\\">5<\\/th>\\n        <td width=\\\"100%\\\">\\n          <div data-remote=\\\"true\\\" style=\\\"display: block; background-color: #215625; width: 79%;\\\" title=\\\"115782 ratings\\\">&nbsp;<\\/div>\\n        <\\/td>\\n        <td width=\\\"25\\\" align=\\\"right\\\">\\n          29%\\n        <\\/td>\\n        <td width=\\\"25\\\" align=\\\"right\\\">\\n          115782\\n        <\\/td>\\n      <\\/tr>\\n      <tr>\\n        <th style=\\\"text-align: center\\\">4<\\/th>\\n        <td width=\\\"100%\\\">\\n          <div data-remote=\\\"true\\\" style=\\\"display: block; background-color: #215625; width: 100%;\\\" title=\\\"144929 ratings\\\">&nbsp;<\\/div>\\n        <\\/td>\\n        <td width=\\\"25\\\" align=\\\"right\\\">\\n          37%\\n        <\\/td>\\n        <td width=\\\"25\\\" align=\\\"right\\\">\\n          144929\\n        <\\/td>\\n      <\\/tr>\\n      <tr>\\n        <th style=\\\"text-align: center\\\">3<\\/th>\\n        <td width=\\\"100%\\\">\\n          <div data-remote=\\\"true\\\" style=\\\"display: block; background-color: #215625; width: 68%;\\\" title=\\\"99791 ratings\\\">&nbsp;<\\/div>\\n        <\\/td>\\n        <td width=\\\"25\\\" align=\\\"right\\\">\\n          25%\\n        <\\/td>\\n        <td width=\\\"25\\\" align=\\\"right\\\">\\n          99791\\n        <\\/td>\\n      <\\/tr>\\n      <tr>\\n        <th style=\\\"text-align: center\\\">2<\\/th>\\n        <td width=\\\"100%\\\">\\n          <div data-remote=\\\"true\\\" style=\\\"display: block; background-color: #215625; width: 16%;\\\" title=\\\"23382 ratings\\\">&nbsp;<\\/div>\\n        <\\/td>\\n        <td width=\\\"25\\\" align=\\\"right\\\">\\n          5%\\n        <\\/td>\\n        <td width=\\\"25\\\" align=\\\"right\\\">\\n          23382\\n        <\\/td>\\n      <\\/tr>\\n      <tr>\\n        <th style=\\\"text-align: center\\\">1<\\/th>\\n        <td width=\\\"100%\\\">\\n          <div data-remote=\\\"true\\\" style=\\\"display: block; background-color: #215625; width: 5%;\\\" title=\\\"7449 ratings\\\">&nbsp;<\\/div>\\n        <\\/td>\\n        <td width=\\\"25\\\" align=\\\"right\\\">\\n          1%\\n        <\\/td>\\n        <td width=\\\"25\\\" align=\\\"right\\\">\\n          7449\\n        <\\/td>\\n      <\\/tr>\\n\\n<\\/table>\\n\\n\\n    <span class=\\\"value\\\">92<\\/span>% of people liked it\\n\\n  <table>\\n    <tr>\\n      <td><strong>All editions:<\\/strong><\\/td>\\n      <td>\\n        <span class=\\\"value\\\">3.86<\\/span> average rating,\\n        <span class=\\\"value\\\">391333<\\/span> ratings,\\n        <span class=\\\"value\\\">4497<\\/span> reviews,\\n        added by <span class=\\\"value\\\">509303<\\/span> people,\\n        <span class=\\\"value\\\">82399<\\/span> to-reads\\n      <\\/td>\\n    <\\/tr>\\n\\n      <tr>\\n        <td><strong>This edition:<\\/strong><\\/td>\\n        <td>\\n          <span class=\\\"value\\\">3.87<\\/span> average rating,\\n          <span class=\\\"value\\\">366473<\\/span> ratings,\\n          <span class=\\\"value\\\">3486<\\/span> reviews,\\n          added by <span class=\\\"value\\\">469279<\\/span> people\\n        <\\/td>\\n      <\\/tr>\\n  <\\/table>\\n<\\/div>\\n\", { style: 'goodreads', stem: 'topMiddle', hook: { tip: 'topMiddle', target: 'bottomMiddle' }, offset: { x: 5, y: 5 }, hideOn: 'click', showOn: 'click', closeButton: true, title: 'rating details' });\n",
        "      $('rating_details').observe('prototip:shown', function() {\n",
        "        if (this.up('#box')) {\n",
        "          $$('div.prototip')[0].setStyle({zIndex: $('box').getStyle('z-index')});\n",
        "        } else {\n",
        "          $$('div.prototip')[0].setStyle({zIndex: 6000});\n",
        "        }\n",
        "      });\n",
        "      $('rating_details').observe('prototip:hidden', function () {\n",
        "        $$('span.elementTwo').each(function (e) {\n",
        "          if (e.getStyle('display') !== 'none') {\n",
        "            var lessLink = e.next();\n",
        "            swapContent(lessLink);\n",
        "          }\n",
        "        });\n",
        "      });\n",
        "\n",
        "//]]>\n",
        "</script>  <span class=\"greyText\">&nbsp;&middot;&nbsp;</span>\n",
        "  <a href=\"#other_reviews\" class=\"actionLinkLite votes\">\n",
        "      <span class=\"value-title\" itemprop=\"ratingCount\" title=\"391333\">391,333 ratings</span>\n",
        "</a>  <span class=\"greyText\">&nbsp;&middot;&nbsp;</span>\n",
        "  <a href=\"#other_reviews\" class=\"actionLinkLite\">\n",
        "      <span class=\"count\"><span class=\"value-title\" title=\"4497\">4,497</span></span>\n",
        "      reviews\n",
        "</a></div>\n",
        "\n",
        "    <div id=\"description\" class=\"readable stacked\" style=\"right:0\">\n",
        "      \n",
        "<span id=\"freeTextContainer15096218732058079898\" class=\"elementOne\">From the famous episodes of the whitewashed fence and the ordeal in the cave to the trial of Injun Joe, <strong>The Adventures of Tom Sawyer</strong> is redolent of life in the Mississippi River towns in which Twain spent his own youth. A somber undercurrent flows through the high humor and unabashed nostalgia of the novel, however, for beneath the innocence of childhood lie the inequities</span>\n",
        "  <span id=\"freeText15096218732058079898\" class=\"elementTwo\" style=\"display:none\">From the famous episodes of the whitewashed fence and the ordeal in the cave to the trial of Injun Joe, <strong>The Adventures of Tom Sawyer</strong> is redolent of life in the Mississippi River towns in which Twain spent his own youth. A somber undercurrent flows through the high humor and unabashed nostalgia of the novel, however, for beneath the innocence of childhood lie the inequities of adult reality\u2014base emotions and superstitions, murder and revenge, starvation and slavery. In his introduction, noted Twain scholar John Seelye considers Twain\u2019s impact on American letters and discusses the balance between humorous escapades and serious concern that is found in much of Twain\u2019s writing.<br><br><br>This new edition includes a new text and, for the first time, explanatory notes</span>\n",
        "  <a data-text-id=\"15096218732058079898\" href=\"#\" onclick=\"swapContent($(this));; return false;\">...more</a>\n",
        "    </div>\n",
        "\n",
        "<div id=\"details\" class=\"uitext stacked darkGreyText\">\n",
        "      <div class=\"row\"><span itemprop=\"bookFormatType\">Paperback</span>, <span itemprop=\"numberOfPages\">231 pages</span></div>\n",
        "\n",
        "      <div class=\"row\">\n",
        "            Published\n",
        "        February 28th 2006\n",
        "         by Penguin Classics\n",
        "\n",
        "            <nobr class=\"greyText\">\n",
        "              (first published 1876)\n",
        "            </nobr>\n",
        "      </div>\n",
        "\n",
        "  <div class=\"buttons\">\n",
        "    <a class=\"left inter actionLinkLite\" href=\"#\" id=\"bookDataBoxShow\" onclick=\"$j('#bookDataBoxShow').hide(); $j('#bookDataBoxHide').show(); $j('#bookDataBox').show();\n",
        "                         ; return false;\">more details...</a>\n",
        "\n",
        "        <div id=\"bookDataBox\" class=\"uitext\" style=\"display: none; margin: 10px 0\">\n",
        "\n",
        "              <div class=\"clearFloats\">\n",
        "                <div class=\"infoBoxRowTitle\">original title</div>\n",
        "                <div class=\"infoBoxRowItem\">The Adventures of Tom Sawyer</div>\n",
        "              </div>\n",
        "              <div class=\"clearFloats\">\n",
        "                <div class=\"infoBoxRowTitle\">ISBN</div>\n",
        "                <div class=\"infoBoxRowItem\">\n",
        "                  0143039563\n",
        "                      <span class=\"greyText\">(ISBN13: <span itemprop='isbn'>9780143039563</span>)</span>\n",
        "                </div>\n",
        "              </div>\n",
        "\n",
        "              <div class=\"clearFloats\">\n",
        "                <div class=\"infoBoxRowTitle\">edition language</div>\n",
        "                <div class=\"infoBoxRowItem\" itemprop='inLanguage'>English</div>\n",
        "              </div>\n",
        "\n",
        "\n",
        "              <div class=\"clearFloats\">\n",
        "                <div class=\"infoBoxRowTitle\">series</div>\n",
        "                <div class=\"infoBoxRowItem\">\n",
        "                  <a href=\"/series/114147-tom-sawyer-huckleberry-finn\">Tom Sawyer &amp; Huckleberry Finn #1</a>                                  </div>\n",
        "              </div>\n",
        "\n",
        "              <div class=\"clearFloats\">\n",
        "                <div class=\"infoBoxRowTitle\">characters</div>\n",
        "                <div class=\"infoBoxRowItem\">\n",
        "                  <a href=\"/characters/206-huckleberry-finn\">Huckleberry Finn</a>, <a href=\"/characters/207-tom-sawyer\">Tom Sawyer</a>\n",
        "                </div>\n",
        "              </div>\n",
        "\n",
        "          <div>\n",
        "              <div class=\"infoBoxRowTitle\">setting</div>\n",
        "  <div class=\"infoBoxRowItem\">\n",
        "      <a href=\"/places/2600-st-petersburg-missouri\" class=\"\">St. Petersburg, Missouri</a>\n",
        "\n",
        "  <span class=\"darkGreyText\">(United States)</span>\n",
        "<br/>\n",
        "      <a href=\"/places/1023-missouri\" class=\"\">Missouri</a>\n",
        "\n",
        "  <span class=\"darkGreyText\">(United States)</span>\n",
        "<br/>\n",
        "  </div>\n",
        "  <br class=\"clear\"/>\n",
        "\n",
        "          </div>\n",
        "\n",
        "          <div class=\"clear\"></div>\n",
        "\n",
        "          <div class='infoBoxRowTitle otherEditions'>\n",
        "<div class='otherEditionsLink'>\n",
        "<a href=\"/work/editions/41326609-the-adventures-of-tom-sawyer\">other editions (1336)</a>\n",
        "</div>\n",
        "</div>\n",
        "<div class='infoBoxRowItem'>\n",
        "<div class='otherEditionsRow'>\n",
        "<div class='otherEditionCovers'>\n",
        "<ul>\n",
        "<li>\n",
        "<div class='otherEdition' id='edition_1183375'>\n",
        "<a href=\"https://www.goodreads.com/book/show/1183375.The_Adventures_of_Tom_Sawyer\"><img alt=\"The Adventures of Tom Sawyer\" src=\"https://p.gr-assets.com/200x200/scale/books/1320436998/1183375.jpg\" />\n",
        "</a><script type=\"text/javascript\">\n",
        "//<![CDATA[\n",
        "      var newTip = new Tip($('edition_1183375'), \"<div class=\\'editionTitle\\'>\\nThe Adventures of Tom Sawyer (Paperback) \\n<\\/div>\\n<div class=\\'editionInfo\\'>\\nisbn: 0375756817\\n<\\/div>\\n<div class=\\'editionInfo\\'>\\nisbn13: 9780375756818\\n<\\/div>\\n<div class=\\'editionInfo\\'>\\n<\\/div>\\n<div class=\\'editionInfo\\'>\\nformat: Paperback\\n<\\/div>\\n<div class=\\'editionInfo\\'>\\nPublished\\nMarch 13th 2001\\nby Modern Library\\n<\\/div>\\n<div class=\\'enlargeCover\\' id=\\'edition_1183375_enlarge\\'>\\n<a>\\nEnlarge cover\\n<\\/a>\\n<\\/div>\\n<div class=\\'editionCover\\' id=\\'edition_1183375_enlarge_cover\\' style=\\'display: none;\\'>\\n<img alt=\\\"1183375\\\" src=\\\"https://d.gr-assets.com/books/1320436998l/1183375.jpg\\\" />\\n<\\/div>\\n<div class=\\'editionAction\\'>\\n<div class=\\'wtrButtonContainer wtrSignedOut\\' id=\\'3_book_1183375\\'>\\n<div class=\\'wtrUp wtrLeft\\'>\\n<form accept-charset=\\\"UTF-8\\\" action=\\\"/shelf/add_to_shelf\\\" method=\\\"post\\\"><div style=\\\"margin:0;padding:0;display:inline\\\"><input name=\\\"utf8\\\" type=\\\"hidden\\\" value=\\\"&#x2713;\\\" /><input name=\\\"authenticity_token\\\" type=\\\"hidden\\\" value=\\\"6wikrmEcUjG6MmavCs795g/kpFpan0pRkTgWBMLhs9Yv5iou81beLblBgmUXzNsER9l27ps//73x3ajsFj+QtA==\\\" /><\\/div>\\n<input id=\\\"book_id\\\" name=\\\"book_id\\\" type=\\\"hidden\\\" value=\\\"1183375\\\" />\\n<input id=\\\"name\\\" name=\\\"name\\\" type=\\\"hidden\\\" value=\\\"to-read\\\" />\\n<input id=\\\"unique_id\\\" name=\\\"unique_id\\\" type=\\\"hidden\\\" value=\\\"3_book_1183375\\\" />\\n<input id=\\\"wtr_new\\\" name=\\\"wtr_new\\\" type=\\\"hidden\\\" value=\\\"true\\\" />\\n<input id=\\\"from_choice\\\" name=\\\"from_choice\\\" type=\\\"hidden\\\" value=\\\"false\\\" />\\n<input id=\\\"from_search\\\" name=\\\"from_search\\\" type=\\\"hidden\\\" value=\\\"false\\\" />\\n<input id=\\\"from_home_module\\\" name=\\\"from_home_module\\\" type=\\\"hidden\\\" value=\\\"false\\\" />\\n<input class=\\\"wtrLeftUpRef\\\" id=\\\"ref\\\" name=\\\"ref\\\" type=\\\"hidden\\\" value=\\\"\\\" />\\n<input class=\\\"wtrExisting\\\" id=\\\"existing_review\\\" name=\\\"existing_review\\\" type=\\\"hidden\\\" value=\\\"false\\\" />\\n<input id=\\\"page_url\\\" name=\\\"page_url\\\" type=\\\"hidden\\\" />\\n<button class=\\'wtrToRead\\' type=\\'submit\\'>\\n<span class=\\'progressTrigger\\'>Want to Read<\\/span>\\n<span class=\\'progressIndicator\\'>saving\u2026<\\/span>\\n<\\/button>\\n<\\/form>\\n\\n<\\/div>\\n\\n<div class=\\'wtrRight wtrUp\\'>\\n<form accept-charset=\\\"UTF-8\\\" action=\\\"/shelf/add_to_shelf\\\" class=\\\"hiddenShelfForm\\\" method=\\\"post\\\"><div style=\\\"margin:0;padding:0;display:inline\\\"><input name=\\\"utf8\\\" type=\\\"hidden\\\" value=\\\"&#x2713;\\\" /><input name=\\\"authenticity_token\\\" type=\\\"hidden\\\" value=\\\"NRxzhZR46qm4gdJGko90Cc3efSSHbUHurUyXwYRzXuHx8v0FBjJmtbvyNoyPjVLrheOvkEbN9ALNqSkpUK19gw==\\\" /><\\/div>\\n<input id=\\\"unique_id\\\" name=\\\"unique_id\\\" type=\\\"hidden\\\" value=\\\"3_book_1183375\\\" />\\n<input id=\\\"book_id\\\" name=\\\"book_id\\\" type=\\\"hidden\\\" value=\\\"1183375\\\" />\\n<input id=\\\"a\\\" name=\\\"a\\\" type=\\\"hidden\\\" />\\n<input id=\\\"name\\\" name=\\\"name\\\" type=\\\"hidden\\\" />\\n<input id=\\\"from_choice\\\" name=\\\"from_choice\\\" type=\\\"hidden\\\" value=\\\"false\\\" />\\n<input id=\\\"from_home_module\\\" name=\\\"from_home_module\\\" type=\\\"hidden\\\" value=\\\"false\\\" />\\n<input id=\\\"page_url\\\" name=\\\"page_url\\\" type=\\\"hidden\\\" />\\n<\\/form>\\n\\n<button class=\\'wtrShelfButton\\'><\\/button>\\n<\\/div>\\n\\n<div class=\\'ratingStars wtrRating\\'>\\n<div class=\\'starsErrorTooltip hidden\\'>\\nError rating book. Refresh and try again.\\n<\\/div>\\n<div class=\\'myRating uitext greyText\\'>Rate this book<\\/div>\\n<div class=\\'clearRating uitext\\'>Clear rating<\\/div>\\n<div class=\\\"stars\\\" data-rating=\\\"0\\\" data-resource-id=\\\"1183375\\\" data-submit-url=\\\"/review/rate/1183375?stars_click=true&wtr_button_id=3_book_1183375\\\" data-user-id=\\\"0\\\"><a class=\\\"star off\\\" href=\\\"#\\\" ref=\\\"\\\" title=\\\"did not like it\\\">1 of 5 stars<\\/a><a class=\\\"star off\\\" href=\\\"#\\\" ref=\\\"\\\" title=\\\"it was ok\\\">2 of 5 stars<\\/a><a class=\\\"star off\\\" href=\\\"#\\\" ref=\\\"\\\" title=\\\"liked it\\\">3 of 5 stars<\\/a><a class=\\\"star off\\\" href=\\\"#\\\" ref=\\\"\\\" title=\\\"really liked it\\\">4 of 5 stars<\\/a><a class=\\\"star off\\\" href=\\\"#\\\" ref=\\\"\\\" title=\\\"it was amazing\\\">5 of 5 stars<\\/a><\\/div>\\n<\\/div>\\n\\n<\\/div>\\n\\n<\\/div>\\n\\n\", { style: 'addbook', stem: 'bottomMiddle', hook: { tip: 'bottomMiddle', target: 'topMiddle' }, offset: { y: -3, x: 0 }, hideOn: false, width: 325, hideAfter: 0.05 });\n",
        "      $('edition_1183375').observe('prototip:shown', function() {\n",
        "        if (this.up('#box')) {\n",
        "          $$('div.prototip')[0].setStyle({zIndex: $('box').getStyle('z-index')});\n",
        "        } else {\n",
        "          $$('div.prototip')[0].setStyle({zIndex: 6000});\n",
        "        }\n",
        "      });\n",
        "\n",
        "      newTip['wrapper'].addClassName('prototipAllowOverflow');\n",
        "\n",
        "        $('edition_1183375').observe('prototip:shown', function () {\n",
        "          $$('div.prototip').each(function (e) {\n",
        "            if ($('edition_1183375').hasClassName('ignored')) {\n",
        "              e.setStyle({'display': 'none'});\n",
        "              return;\n",
        "            }\n",
        "            e.setStyle({'overflow': 'visible'});\n",
        "          });\n",
        "        });\n",
        "      $('edition_1183375').observe('prototip:hidden', function () {\n",
        "        $$('span.elementTwo').each(function (e) {\n",
        "          if (e.getStyle('display') !== 'none') {\n",
        "            var lessLink = e.next();\n",
        "            swapContent(lessLink);\n",
        "          }\n",
        "        });\n",
        "      });\n",
        "\n",
        "//]]>\n",
        "</script></div>\n",
        "</li>\n",
        "<li>\n",
        "<div class='otherEdition' id='edition_24579'>\n",
        "<a href=\"https://www.goodreads.com/book/show/24579.The_Adventures_of_Tom_Sawyer\"><img alt=\"The Adventures of Tom Sawyer\" src=\"https://p.gr-assets.com/200x200/scale/books/1389847460/24579.jpg\" />\n",
        "</a><script type=\"text/javascript\">\n",
        "//<![CDATA[\n",
        "      var newTip = new Tip($('edition_24579'), \"<div class=\\'editionTitle\\'>\\nThe Adventures of Tom Sawyer (Paperback) \\n<\\/div>\\n<div class=\\'editionInfo\\'>\\nisbn: 0520235754\\n<\\/div>\\n<div class=\\'editionInfo\\'>\\nisbn13: 9780520235755\\n<\\/div>\\n<div class=\\'editionInfo\\'>\\n<\\/div>\\n<div class=\\'editionInfo\\'>\\nformat: Paperback\\n<\\/div>\\n<div class=\\'editionInfo\\'>\\nPublished\\nApril 30th 2002\\nby University of California Press\\n<\\/div>\\n<div class=\\'enlargeCover\\' id=\\'edition_24579_enlarge\\'>\\n<a>\\nEnlarge cover\\n<\\/a>\\n<\\/div>\\n<div class=\\'editionCover\\' id=\\'edition_24579_enlarge_cover\\' style=\\'display: none;\\'>\\n<img alt=\\\"24579\\\" src=\\\"https://d.gr-assets.com/books/1389847460l/24579.jpg\\\" />\\n<\\/div>\\n<div class=\\'editionAction\\'>\\n<div class=\\'wtrButtonContainer wtrSignedOut\\' id=\\'4_book_24579\\'>\\n<div class=\\'wtrUp wtrLeft\\'>\\n<form accept-charset=\\\"UTF-8\\\" action=\\\"/shelf/add_to_shelf\\\" method=\\\"post\\\"><div style=\\\"margin:0;padding:0;display:inline\\\"><input name=\\\"utf8\\\" type=\\\"hidden\\\" value=\\\"&#x2713;\\\" /><input name=\\\"authenticity_token\\\" type=\\\"hidden\\\" value=\\\"DqXZl+W8gBIo+65gBfQIoLFvvGfpI/37hkZ4aCqe/zLKS1cXd/YMDiuISqoY9i5C+VJu0yiDSBfmo8aA/kDcUA==\\\" /><\\/div>\\n<input id=\\\"book_id\\\" name=\\\"book_id\\\" type=\\\"hidden\\\" value=\\\"24579\\\" />\\n<input id=\\\"name\\\" name=\\\"name\\\" type=\\\"hidden\\\" value=\\\"to-read\\\" />\\n<input id=\\\"unique_id\\\" name=\\\"unique_id\\\" type=\\\"hidden\\\" value=\\\"4_book_24579\\\" />\\n<input id=\\\"wtr_new\\\" name=\\\"wtr_new\\\" type=\\\"hidden\\\" value=\\\"true\\\" />\\n<input id=\\\"from_choice\\\" name=\\\"from_choice\\\" type=\\\"hidden\\\" value=\\\"false\\\" />\\n<input id=\\\"from_search\\\" name=\\\"from_search\\\" type=\\\"hidden\\\" value=\\\"false\\\" />\\n<input id=\\\"from_home_module\\\" name=\\\"from_home_module\\\" type=\\\"hidden\\\" value=\\\"false\\\" />\\n<input class=\\\"wtrLeftUpRef\\\" id=\\\"ref\\\" name=\\\"ref\\\" type=\\\"hidden\\\" value=\\\"\\\" />\\n<input class=\\\"wtrExisting\\\" id=\\\"existing_review\\\" name=\\\"existing_review\\\" type=\\\"hidden\\\" value=\\\"false\\\" />\\n<input id=\\\"page_url\\\" name=\\\"page_url\\\" type=\\\"hidden\\\" />\\n<button class=\\'wtrToRead\\' type=\\'submit\\'>\\n<span class=\\'progressTrigger\\'>Want to Read<\\/span>\\n<span class=\\'progressIndicator\\'>saving\u2026<\\/span>\\n<\\/button>\\n<\\/form>\\n\\n<\\/div>\\n\\n<div class=\\'wtrRight wtrUp\\'>\\n<form accept-charset=\\\"UTF-8\\\" action=\\\"/shelf/add_to_shelf\\\" class=\\\"hiddenShelfForm\\\" method=\\\"post\\\"><div style=\\\"margin:0;padding:0;display:inline\\\"><input name=\\\"utf8\\\" type=\\\"hidden\\\" value=\\\"&#x2713;\\\" /><input name=\\\"authenticity_token\\\" type=\\\"hidden\\\" value=\\\"q2thShUmiHrwP3mABzGdRMhUS7e66Xo39nEinQXv8gRvhe/Kh2wEZvNMnUoaM7umgGmZA3tJz9uWlJx10THRZg==\\\" /><\\/div>\\n<input id=\\\"unique_id\\\" name=\\\"unique_id\\\" type=\\\"hidden\\\" value=\\\"4_book_24579\\\" />\\n<input id=\\\"book_id\\\" name=\\\"book_id\\\" type=\\\"hidden\\\" value=\\\"24579\\\" />\\n<input id=\\\"a\\\" name=\\\"a\\\" type=\\\"hidden\\\" />\\n<input id=\\\"name\\\" name=\\\"name\\\" type=\\\"hidden\\\" />\\n<input id=\\\"from_choice\\\" name=\\\"from_choice\\\" type=\\\"hidden\\\" value=\\\"false\\\" />\\n<input id=\\\"from_home_module\\\" name=\\\"from_home_module\\\" type=\\\"hidden\\\" value=\\\"false\\\" />\\n<input id=\\\"page_url\\\" name=\\\"page_url\\\" type=\\\"hidden\\\" />\\n<\\/form>\\n\\n<button class=\\'wtrShelfButton\\'><\\/button>\\n<\\/div>\\n\\n<div class=\\'ratingStars wtrRating\\'>\\n<div class=\\'starsErrorTooltip hidden\\'>\\nError rating book. Refresh and try again.\\n<\\/div>\\n<div class=\\'myRating uitext greyText\\'>Rate this book<\\/div>\\n<div class=\\'clearRating uitext\\'>Clear rating<\\/div>\\n<div class=\\\"stars\\\" data-rating=\\\"0\\\" data-resource-id=\\\"24579\\\" data-submit-url=\\\"/review/rate/24579?stars_click=true&wtr_button_id=4_book_24579\\\" data-user-id=\\\"0\\\"><a class=\\\"star off\\\" href=\\\"#\\\" ref=\\\"\\\" title=\\\"did not like it\\\">1 of 5 stars<\\/a><a class=\\\"star off\\\" href=\\\"#\\\" ref=\\\"\\\" title=\\\"it was ok\\\">2 of 5 stars<\\/a><a class=\\\"star off\\\" href=\\\"#\\\" ref=\\\"\\\" title=\\\"liked it\\\">3 of 5 stars<\\/a><a class=\\\"star off\\\" href=\\\"#\\\" ref=\\\"\\\" title=\\\"really liked it\\\">4 of 5 stars<\\/a><a class=\\\"star off\\\" href=\\\"#\\\" ref=\\\"\\\" title=\\\"it was amazing\\\">5 of 5 stars<\\/a><\\/div>\\n<\\/div>\\n\\n<\\/div>\\n\\n<\\/div>\\n\\n\", { style: 'addbook', stem: 'bottomMiddle', hook: { tip: 'bottomMiddle', target: 'topMiddle' }, offset: { y: -3, x: 0 }, hideOn: false, width: 325, hideAfter: 0.05 });\n",
        "      $('edition_24579').observe('prototip:shown', function() {\n",
        "        if (this.up('#box')) {\n",
        "          $$('div.prototip')[0].setStyle({zIndex: $('box').getStyle('z-index')});\n",
        "        } else {\n",
        "          $$('div.prototip')[0].setStyle({zIndex: 6000});\n",
        "        }\n",
        "      });\n",
        "\n",
        "      newTip['wrapper'].addClassName('prototipAllowOverflow');\n",
        "\n",
        "        $('edition_24579').observe('prototip:shown', function () {\n",
        "          $$('div.prototip').each(function (e) {\n",
        "            if ($('edition_24579').hasClassName('ignored')) {\n",
        "              e.setStyle({'display': 'none'});\n",
        "              return;\n",
        "            }\n",
        "            e.setStyle({'overflow': 'visible'});\n",
        "          });\n",
        "        });\n",
        "      $('edition_24579').observe('prototip:hidden', function () {\n",
        "        $$('span.elementTwo').each(function (e) {\n",
        "          if (e.getStyle('display') !== 'none') {\n",
        "            var lessLink = e.next();\n",
        "            swapContent(lessLink);\n",
        "          }\n",
        "        });\n",
        "      });\n",
        "\n",
        "//]]>\n",
        "</script></div>\n",
        "</li>\n",
        "<li>\n",
        "<div class='otherEdition' id='edition_11323701'>\n",
        "<a href=\"https://www.goodreads.com/book/show/11323701-the-adventures-of-tom-sawyer\"><img alt=\"The Adventures of Tom Sawyer\" src=\"https://p.gr-assets.com/200x200/scale/books/1328363909/11323701.jpg\" />\n",
        "</a><script type=\"text/javascript\">\n",
        "//<![CDATA[\n",
        "      var newTip = new Tip($('edition_11323701'), \"<div class=\\'editionTitle\\'>\\nThe Adventures of Tom Sawyer (Kindle Edition) \\n<\\/div>\\n<div class=\\'editionInfo\\'>\\n<\\/div>\\n<div class=\\'editionInfo\\'>\\n<\\/div>\\n<div class=\\'editionInfo\\'>\\nasin: B004UJTG6Q\\n<\\/div>\\n<div class=\\'editionInfo\\'>\\nformat: Kindle Edition\\n<\\/div>\\n<div class=\\'editionInfo\\'>\\n<\\/div>\\n<div class=\\'enlargeCover\\' id=\\'edition_11323701_enlarge\\'>\\n<a>\\nEnlarge cover\\n<\\/a>\\n<\\/div>\\n<div class=\\'editionCover\\' id=\\'edition_11323701_enlarge_cover\\' style=\\'display: none;\\'>\\n<img alt=\\\"11323701\\\" src=\\\"https://d.gr-assets.com/books/1328363909l/11323701.jpg\\\" />\\n<\\/div>\\n<div class=\\'editionAction\\'>\\n<div class=\\'wtrButtonContainer wtrSignedOut\\' id=\\'5_book_11323701\\'>\\n<div class=\\'wtrUp wtrLeft\\'>\\n<form accept-charset=\\\"UTF-8\\\" action=\\\"/shelf/add_to_shelf\\\" method=\\\"post\\\"><div style=\\\"margin:0;padding:0;display:inline\\\"><input name=\\\"utf8\\\" type=\\\"hidden\\\" value=\\\"&#x2713;\\\" /><input name=\\\"authenticity_token\\\" type=\\\"hidden\\\" value=\\\"kOP639wNvkB1Er0UfDVY/YzltMgdeuFmoi/CF3u9XXZUDXRfTkcyXHZhWd5hN34fxNhmfNzaVIrCynz/r2N+FA==\\\" /><\\/div>\\n<input id=\\\"book_id\\\" name=\\\"book_id\\\" type=\\\"hidden\\\" value=\\\"11323701\\\" />\\n<input id=\\\"name\\\" name=\\\"name\\\" type=\\\"hidden\\\" value=\\\"to-read\\\" />\\n<input id=\\\"unique_id\\\" name=\\\"unique_id\\\" type=\\\"hidden\\\" value=\\\"5_book_11323701\\\" />\\n<input id=\\\"wtr_new\\\" name=\\\"wtr_new\\\" type=\\\"hidden\\\" value=\\\"true\\\" />\\n<input id=\\\"from_choice\\\" name=\\\"from_choice\\\" type=\\\"hidden\\\" value=\\\"false\\\" />\\n<input id=\\\"from_search\\\" name=\\\"from_search\\\" type=\\\"hidden\\\" value=\\\"false\\\" />\\n<input id=\\\"from_home_module\\\" name=\\\"from_home_module\\\" type=\\\"hidden\\\" value=\\\"false\\\" />\\n<input class=\\\"wtrLeftUpRef\\\" id=\\\"ref\\\" name=\\\"ref\\\" type=\\\"hidden\\\" value=\\\"\\\" />\\n<input class=\\\"wtrExisting\\\" id=\\\"existing_review\\\" name=\\\"existing_review\\\" type=\\\"hidden\\\" value=\\\"false\\\" />\\n<input id=\\\"page_url\\\" name=\\\"page_url\\\" type=\\\"hidden\\\" />\\n<button class=\\'wtrToRead\\' type=\\'submit\\'>\\n<span class=\\'progressTrigger\\'>Want to Read<\\/span>\\n<span class=\\'progressIndicator\\'>saving\u2026<\\/span>\\n<\\/button>\\n<\\/form>\\n\\n<\\/div>\\n\\n<div class=\\'wtrRight wtrUp\\'>\\n<form accept-charset=\\\"UTF-8\\\" action=\\\"/shelf/add_to_shelf\\\" class=\\\"hiddenShelfForm\\\" method=\\\"post\\\"><div style=\\\"margin:0;padding:0;display:inline\\\"><input name=\\\"utf8\\\" type=\\\"hidden\\\" value=\\\"&#x2713;\\\" /><input name=\\\"authenticity_token\\\" type=\\\"hidden\\\" value=\\\"z0c9cFKKaQH44pHEfJ7PrdLW42p3dPy1uD0LC0pSEqoLqbPwwMDlHfuRdQ5hnOlPmusx3rbUSVnY2LXjnowxyA==\\\" /><\\/div>\\n<input id=\\\"unique_id\\\" name=\\\"unique_id\\\" type=\\\"hidden\\\" value=\\\"5_book_11323701\\\" />\\n<input id=\\\"book_id\\\" name=\\\"book_id\\\" type=\\\"hidden\\\" value=\\\"11323701\\\" />\\n<input id=\\\"a\\\" name=\\\"a\\\" type=\\\"hidden\\\" />\\n<input id=\\\"name\\\" name=\\\"name\\\" type=\\\"hidden\\\" />\\n<input id=\\\"from_choice\\\" name=\\\"from_choice\\\" type=\\\"hidden\\\" value=\\\"false\\\" />\\n<input id=\\\"from_home_module\\\" name=\\\"from_home_module\\\" type=\\\"hidden\\\" value=\\\"false\\\" />\\n<input id=\\\"page_url\\\" name=\\\"page_url\\\" type=\\\"hidden\\\" />\\n<\\/form>\\n\\n<button class=\\'wtrShelfButton\\'><\\/button>\\n<\\/div>\\n\\n<div class=\\'ratingStars wtrRating\\'>\\n<div class=\\'starsErrorTooltip hidden\\'>\\nError rating book. Refresh and try again.\\n<\\/div>\\n<div class=\\'myRating uitext greyText\\'>Rate this book<\\/div>\\n<div class=\\'clearRating uitext\\'>Clear rating<\\/div>\\n<div class=\\\"stars\\\" data-rating=\\\"0\\\" data-resource-id=\\\"11323701\\\" data-submit-url=\\\"/review/rate/11323701?stars_click=true&wtr_button_id=5_book_11323701\\\" data-user-id=\\\"0\\\"><a class=\\\"star off\\\" href=\\\"#\\\" ref=\\\"\\\" title=\\\"did not like it\\\">1 of 5 stars<\\/a><a class=\\\"star off\\\" href=\\\"#\\\" ref=\\\"\\\" title=\\\"it was ok\\\">2 of 5 stars<\\/a><a class=\\\"star off\\\" href=\\\"#\\\" ref=\\\"\\\" title=\\\"liked it\\\">3 of 5 stars<\\/a><a class=\\\"star off\\\" href=\\\"#\\\" ref=\\\"\\\" title=\\\"really liked it\\\">4 of 5 stars<\\/a><a class=\\\"star off\\\" href=\\\"#\\\" ref=\\\"\\\" title=\\\"it was amazing\\\">5 of 5 stars<\\/a><\\/div>\\n<\\/div>\\n\\n<\\/div>\\n\\n<\\/div>\\n\\n\", { style: 'addbook', stem: 'bottomMiddle', hook: { tip: 'bottomMiddle', target: 'topMiddle' }, offset: { y: -3, x: 0 }, hideOn: false, width: 325, hideAfter: 0.05 });\n",
        "      $('edition_11323701').observe('prototip:shown', function() {\n",
        "        if (this.up('#box')) {\n",
        "          $$('div.prototip')[0].setStyle({zIndex: $('box').getStyle('z-index')});\n",
        "        } else {\n",
        "          $$('div.prototip')[0].setStyle({zIndex: 6000});\n",
        "        }\n",
        "      });\n",
        "\n",
        "      newTip['wrapper'].addClassName('prototipAllowOverflow');\n",
        "\n",
        "        $('edition_11323701').observe('prototip:shown', function () {\n",
        "          $$('div.prototip').each(function (e) {\n",
        "            if ($('edition_11323701').hasClassName('ignored')) {\n",
        "              e.setStyle({'display': 'none'});\n",
        "              return;\n",
        "            }\n",
        "            e.setStyle({'overflow': 'visible'});\n",
        "          });\n",
        "        });\n",
        "      $('edition_11323701').observe('prototip:hidden', function () {\n",
        "        $$('span.elementTwo').each(function (e) {\n",
        "          if (e.getStyle('display') !== 'none') {\n",
        "            var lessLink = e.next();\n",
        "            swapContent(lessLink);\n",
        "          }\n",
        "        });\n",
        "      });\n",
        "\n",
        "//]]>\n",
        "</script></div>\n",
        "</li>\n",
        "<li>\n",
        "<div class='otherEdition' id='edition_24581'>\n",
        "<a href=\"https://www.goodreads.com/book/show/24581.The_Adventures_of_Tom_Sawyer\"><img alt=\"The Adventures of Tom Sawyer\" src=\"https://p.gr-assets.com/200x200/scale/books/1397019702/24581.jpg\" />\n",
        "</a><script type=\"text/javascript\">\n",
        "//<![CDATA[\n",
        "      var newTip = new Tip($('edition_24581'), \"<div class=\\'editionTitle\\'>\\nThe Adventures of Tom Sawyer (Hardcover) \\n<\\/div>\\n<div class=\\'editionInfo\\'>\\nisbn: 1402714602\\n<\\/div>\\n<div class=\\'editionInfo\\'>\\nisbn13: 9781402714603\\n<\\/div>\\n<div class=\\'editionInfo\\'>\\n<\\/div>\\n<div class=\\'editionInfo\\'>\\nformat: Hardcover\\n<\\/div>\\n<div class=\\'editionInfo\\'>\\nPublished\\nOctober 1st 2004\\nby Sterling\\n<\\/div>\\n<div class=\\'enlargeCover\\' id=\\'edition_24581_enlarge\\'>\\n<a>\\nEnlarge cover\\n<\\/a>\\n<\\/div>\\n<div class=\\'editionCover\\' id=\\'edition_24581_enlarge_cover\\' style=\\'display: none;\\'>\\n<img alt=\\\"24581\\\" src=\\\"https://d.gr-assets.com/books/1397019702l/24581.jpg\\\" />\\n<\\/div>\\n<div class=\\'editionAction\\'>\\n<div class=\\'wtrButtonContainer wtrSignedOut\\' id=\\'6_book_24581\\'>\\n<div class=\\'wtrUp wtrLeft\\'>\\n<form accept-charset=\\\"UTF-8\\\" action=\\\"/shelf/add_to_shelf\\\" method=\\\"post\\\"><div style=\\\"margin:0;padding:0;display:inline\\\"><input name=\\\"utf8\\\" type=\\\"hidden\\\" value=\\\"&#x2713;\\\" /><input name=\\\"authenticity_token\\\" type=\\\"hidden\\\" value=\\\"QB6pdDZ0aXz5Sb709HFwzbXxsBjoiU5omLmkhkzcKxaE8Cf0pD7lYPo6Wj7pc1Yv/cxirCkp+4T4XBpumAIIdA==\\\" /><\\/div>\\n<input id=\\\"book_id\\\" name=\\\"book_id\\\" type=\\\"hidden\\\" value=\\\"24581\\\" />\\n<input id=\\\"name\\\" name=\\\"name\\\" type=\\\"hidden\\\" value=\\\"to-read\\\" />\\n<input id=\\\"unique_id\\\" name=\\\"unique_id\\\" type=\\\"hidden\\\" value=\\\"6_book_24581\\\" />\\n<input id=\\\"wtr_new\\\" name=\\\"wtr_new\\\" type=\\\"hidden\\\" value=\\\"true\\\" />\\n<input id=\\\"from_choice\\\" name=\\\"from_choice\\\" type=\\\"hidden\\\" value=\\\"false\\\" />\\n<input id=\\\"from_search\\\" name=\\\"from_search\\\" type=\\\"hidden\\\" value=\\\"false\\\" />\\n<input id=\\\"from_home_module\\\" name=\\\"from_home_module\\\" type=\\\"hidden\\\" value=\\\"false\\\" />\\n<input class=\\\"wtrLeftUpRef\\\" id=\\\"ref\\\" name=\\\"ref\\\" type=\\\"hidden\\\" value=\\\"\\\" />\\n<input class=\\\"wtrExisting\\\" id=\\\"existing_review\\\" name=\\\"existing_review\\\" type=\\\"hidden\\\" value=\\\"false\\\" />\\n<input id=\\\"page_url\\\" name=\\\"page_url\\\" type=\\\"hidden\\\" />\\n<button class=\\'wtrToRead\\' type=\\'submit\\'>\\n<span class=\\'progressTrigger\\'>Want to Read<\\/span>\\n<span class=\\'progressIndicator\\'>saving\u2026<\\/span>\\n<\\/button>\\n<\\/form>\\n\\n<\\/div>\\n\\n<div class=\\'wtrRight wtrUp\\'>\\n<form accept-charset=\\\"UTF-8\\\" action=\\\"/shelf/add_to_shelf\\\" class=\\\"hiddenShelfForm\\\" method=\\\"post\\\"><div style=\\\"margin:0;padding:0;display:inline\\\"><input name=\\\"utf8\\\" type=\\\"hidden\\\" value=\\\"&#x2713;\\\" /><input name=\\\"authenticity_token\\\" type=\\\"hidden\\\" value=\\\"W9BydDpOIlR1rKjGMIWDpKMCbXI3bNZ1u3unjZtlgYifPvz0qASuSHbfTAwth6VG6z+/xvbMY5nbnhllT7ui6g==\\\" /><\\/div>\\n<input id=\\\"unique_id\\\" name=\\\"unique_id\\\" type=\\\"hidden\\\" value=\\\"6_book_24581\\\" />\\n<input id=\\\"book_id\\\" name=\\\"book_id\\\" type=\\\"hidden\\\" value=\\\"24581\\\" />\\n<input id=\\\"a\\\" name=\\\"a\\\" type=\\\"hidden\\\" />\\n<input id=\\\"name\\\" name=\\\"name\\\" type=\\\"hidden\\\" />\\n<input id=\\\"from_choice\\\" name=\\\"from_choice\\\" type=\\\"hidden\\\" value=\\\"false\\\" />\\n<input id=\\\"from_home_module\\\" name=\\\"from_home_module\\\" type=\\\"hidden\\\" value=\\\"false\\\" />\\n<input id=\\\"page_url\\\" name=\\\"page_url\\\" type=\\\"hidden\\\" />\\n<\\/form>\\n\\n<button class=\\'wtrShelfButton\\'><\\/button>\\n<\\/div>\\n\\n<div class=\\'ratingStars wtrRating\\'>\\n<div class=\\'starsErrorTooltip hidden\\'>\\nError rating book. Refresh and try again.\\n<\\/div>\\n<div class=\\'myRating uitext greyText\\'>Rate this book<\\/div>\\n<div class=\\'clearRating uitext\\'>Clear rating<\\/div>\\n<div class=\\\"stars\\\" data-rating=\\\"0\\\" data-resource-id=\\\"24581\\\" data-submit-url=\\\"/review/rate/24581?stars_click=true&wtr_button_id=6_book_24581\\\" data-user-id=\\\"0\\\"><a class=\\\"star off\\\" href=\\\"#\\\" ref=\\\"\\\" title=\\\"did not like it\\\">1 of 5 stars<\\/a><a class=\\\"star off\\\" href=\\\"#\\\" ref=\\\"\\\" title=\\\"it was ok\\\">2 of 5 stars<\\/a><a class=\\\"star off\\\" href=\\\"#\\\" ref=\\\"\\\" title=\\\"liked it\\\">3 of 5 stars<\\/a><a class=\\\"star off\\\" href=\\\"#\\\" ref=\\\"\\\" title=\\\"really liked it\\\">4 of 5 stars<\\/a><a class=\\\"star off\\\" href=\\\"#\\\" ref=\\\"\\\" title=\\\"it was amazing\\\">5 of 5 stars<\\/a><\\/div>\\n<\\/div>\\n\\n<\\/div>\\n\\n<\\/div>\\n\\n\", { style: 'addbook', stem: 'bottomMiddle', hook: { tip: 'bottomMiddle', target: 'topMiddle' }, offset: { y: -3, x: 0 }, hideOn: false, width: 325, hideAfter: 0.05 });\n",
        "      $('edition_24581').observe('prototip:shown', function() {\n",
        "        if (this.up('#box')) {\n",
        "          $$('div.prototip')[0].setStyle({zIndex: $('box').getStyle('z-index')});\n",
        "        } else {\n",
        "          $$('div.prototip')[0].setStyle({zIndex: 6000});\n",
        "        }\n",
        "      });\n",
        "\n",
        "      newTip['wrapper'].addClassName('prototipAllowOverflow');\n",
        "\n",
        "        $('edition_24581').observe('prototip:shown', function () {\n",
        "          $$('div.prototip').each(function (e) {\n",
        "            if ($('edition_24581').hasClassName('ignored')) {\n",
        "              e.setStyle({'display': 'none'});\n",
        "              return;\n",
        "            }\n",
        "            e.setStyle({'overflow': 'visible'});\n",
        "          });\n",
        "        });\n",
        "      $('edition_24581').observe('prototip:hidden', function () {\n",
        "        $$('span.elementTwo').each(function (e) {\n",
        "          if (e.getStyle('display') !== 'none') {\n",
        "            var lessLink = e.next();\n",
        "            swapContent(lessLink);\n",
        "          }\n",
        "        });\n",
        "      });\n",
        "\n",
        "//]]>\n",
        "</script></div>\n",
        "</li>\n",
        "<li>\n",
        "<div class='otherEdition' id='edition_445405'>\n",
        "<a href=\"https://www.goodreads.com/book/show/445405.The_Adventures_of_Tom_Sawyer\"><img alt=\"The Adventures of Tom Sawyer (World's Classics)\" src=\"https://p.gr-assets.com/200x200/scale/books/1174845742/445405.jpg\" />\n",
        "</a><script type=\"text/javascript\">\n",
        "//<![CDATA[\n",
        "      var newTip = new Tip($('edition_445405'), \"<div class=\\'editionTitle\\'>\\nThe Adventures of Tom Sawyer (World\\'s Classics) \\n<\\/div>\\n<div class=\\'editionInfo\\'>\\nisbn: 0192806823\\n<\\/div>\\n<div class=\\'editionInfo\\'>\\nisbn13: 9780192806826\\n<\\/div>\\n<div class=\\'editionInfo\\'>\\n<\\/div>\\n<div class=\\'editionInfo\\'>\\nformat: Paperback\\n<\\/div>\\n<div class=\\'editionInfo\\'>\\nPublished\\nApril 1st 2007\\nby Oxford University Press, USA\\n<\\/div>\\n<div class=\\'enlargeCover\\' id=\\'edition_445405_enlarge\\'>\\n<a>\\nEnlarge cover\\n<\\/a>\\n<\\/div>\\n<div class=\\'editionCover\\' id=\\'edition_445405_enlarge_cover\\' style=\\'display: none;\\'>\\n<img alt=\\\"445405\\\" src=\\\"https://d.gr-assets.com/books/1174845742l/445405.jpg\\\" />\\n<\\/div>\\n<div class=\\'editionAction\\'>\\n<div class=\\'wtrButtonContainer wtrSignedOut\\' id=\\'7_book_445405\\'>\\n<div class=\\'wtrUp wtrLeft\\'>\\n<form accept-charset=\\\"UTF-8\\\" action=\\\"/shelf/add_to_shelf\\\" method=\\\"post\\\"><div style=\\\"margin:0;padding:0;display:inline\\\"><input name=\\\"utf8\\\" type=\\\"hidden\\\" value=\\\"&#x2713;\\\" /><input name=\\\"authenticity_token\\\" type=\\\"hidden\\\" value=\\\"WvitPhldkorQXtAjjdDuXYmVjBNMcg9a2UcVKblbRu2eFiO+ixceltMtNOmQ0si/wahep43Sura5oqvBbYVljw==\\\" /><\\/div>\\n<input id=\\\"book_id\\\" name=\\\"book_id\\\" type=\\\"hidden\\\" value=\\\"445405\\\" />\\n<input id=\\\"name\\\" name=\\\"name\\\" type=\\\"hidden\\\" value=\\\"to-read\\\" />\\n<input id=\\\"unique_id\\\" name=\\\"unique_id\\\" type=\\\"hidden\\\" value=\\\"7_book_445405\\\" />\\n<input id=\\\"wtr_new\\\" name=\\\"wtr_new\\\" type=\\\"hidden\\\" value=\\\"true\\\" />\\n<input id=\\\"from_choice\\\" name=\\\"from_choice\\\" type=\\\"hidden\\\" value=\\\"false\\\" />\\n<input id=\\\"from_search\\\" name=\\\"from_search\\\" type=\\\"hidden\\\" value=\\\"false\\\" />\\n<input id=\\\"from_home_module\\\" name=\\\"from_home_module\\\" type=\\\"hidden\\\" value=\\\"false\\\" />\\n<input class=\\\"wtrLeftUpRef\\\" id=\\\"ref\\\" name=\\\"ref\\\" type=\\\"hidden\\\" value=\\\"\\\" />\\n<input class=\\\"wtrExisting\\\" id=\\\"existing_review\\\" name=\\\"existing_review\\\" type=\\\"hidden\\\" value=\\\"false\\\" />\\n<input id=\\\"page_url\\\" name=\\\"page_url\\\" type=\\\"hidden\\\" />\\n<button class=\\'wtrToRead\\' type=\\'submit\\'>\\n<span class=\\'progressTrigger\\'>Want to Read<\\/span>\\n<span class=\\'progressIndicator\\'>saving\u2026<\\/span>\\n<\\/button>\\n<\\/form>\\n\\n<\\/div>\\n\\n<div class=\\'wtrRight wtrUp\\'>\\n<form accept-charset=\\\"UTF-8\\\" action=\\\"/shelf/add_to_shelf\\\" class=\\\"hiddenShelfForm\\\" method=\\\"post\\\"><div style=\\\"margin:0;padding:0;display:inline\\\"><input name=\\\"utf8\\\" type=\\\"hidden\\\" value=\\\"&#x2713;\\\" /><input name=\\\"authenticity_token\\\" type=\\\"hidden\\\" value=\\\"D0OI3ng51jQNi2XYnZ42lA+6t5SPLDaSORoj6+h38wjLrQZe6nNaKA74gRKAnBB2R4dlIE6Mg35Z/50DPKnQag==\\\" /><\\/div>\\n<input id=\\\"unique_id\\\" name=\\\"unique_id\\\" type=\\\"hidden\\\" value=\\\"7_book_445405\\\" />\\n<input id=\\\"book_id\\\" name=\\\"book_id\\\" type=\\\"hidden\\\" value=\\\"445405\\\" />\\n<input id=\\\"a\\\" name=\\\"a\\\" type=\\\"hidden\\\" />\\n<input id=\\\"name\\\" name=\\\"name\\\" type=\\\"hidden\\\" />\\n<input id=\\\"from_choice\\\" name=\\\"from_choice\\\" type=\\\"hidden\\\" value=\\\"false\\\" />\\n<input id=\\\"from_home_module\\\" name=\\\"from_home_module\\\" type=\\\"hidden\\\" value=\\\"false\\\" />\\n<input id=\\\"page_url\\\" name=\\\"page_url\\\" type=\\\"hidden\\\" />\\n<\\/form>\\n\\n<button class=\\'wtrShelfButton\\'><\\/button>\\n<\\/div>\\n\\n<div class=\\'ratingStars wtrRating\\'>\\n<div class=\\'starsErrorTooltip hidden\\'>\\nError rating book. Refresh and try again.\\n<\\/div>\\n<div class=\\'myRating uitext greyText\\'>Rate this book<\\/div>\\n<div class=\\'clearRating uitext\\'>Clear rating<\\/div>\\n<div class=\\\"stars\\\" data-rating=\\\"0\\\" data-resource-id=\\\"445405\\\" data-submit-url=\\\"/review/rate/445405?stars_click=true&wtr_button_id=7_book_445405\\\" data-user-id=\\\"0\\\"><a class=\\\"star off\\\" href=\\\"#\\\" ref=\\\"\\\" title=\\\"did not like it\\\">1 of 5 stars<\\/a><a class=\\\"star off\\\" href=\\\"#\\\" ref=\\\"\\\" title=\\\"it was ok\\\">2 of 5 stars<\\/a><a class=\\\"star off\\\" href=\\\"#\\\" ref=\\\"\\\" title=\\\"liked it\\\">3 of 5 stars<\\/a><a class=\\\"star off\\\" href=\\\"#\\\" ref=\\\"\\\" title=\\\"really liked it\\\">4 of 5 stars<\\/a><a class=\\\"star off\\\" href=\\\"#\\\" ref=\\\"\\\" title=\\\"it was amazing\\\">5 of 5 stars<\\/a><\\/div>\\n<\\/div>\\n\\n<\\/div>\\n\\n<\\/div>\\n\\n\", { style: 'addbook', stem: 'bottomMiddle', hook: { tip: 'bottomMiddle', target: 'topMiddle' }, offset: { y: -3, x: 0 }, hideOn: false, width: 325, hideAfter: 0.05 });\n",
        "      $('edition_445405').observe('prototip:shown', function() {\n",
        "        if (this.up('#box')) {\n",
        "          $$('div.prototip')[0].setStyle({zIndex: $('box').getStyle('z-index')});\n",
        "        } else {\n",
        "          $$('div.prototip')[0].setStyle({zIndex: 6000});\n",
        "        }\n",
        "      });\n",
        "\n",
        "      newTip['wrapper'].addClassName('prototipAllowOverflow');\n",
        "\n",
        "        $('edition_445405').observe('prototip:shown', function () {\n",
        "          $$('div.prototip').each(function (e) {\n",
        "            if ($('edition_445405').hasClassName('ignored')) {\n",
        "              e.setStyle({'display': 'none'});\n",
        "              return;\n",
        "            }\n",
        "            e.setStyle({'overflow': 'visible'});\n",
        "          });\n",
        "        });\n",
        "      $('edition_445405').observe('prototip:hidden', function () {\n",
        "        $$('span.elementTwo').each(function (e) {\n",
        "          if (e.getStyle('display') !== 'none') {\n",
        "            var lessLink = e.next();\n",
        "            swapContent(lessLink);\n",
        "          }\n",
        "        });\n",
        "      });\n",
        "\n",
        "//]]>\n",
        "</script></div>\n",
        "</li>\n",
        "</ul>\n",
        "</div>\n",
        "</div>\n",
        "<div class='otherEditionsActions'>\n",
        "<a href=\"/work/editions/41326609-the-adventures-of-tom-sawyer\" class=\"actionLinkLite\">all editions</a>\n",
        "<span class='greyText'>\n",
        " | \n",
        "</span>\n",
        "<a href=\"/book/new?author%5Bname%5D=Mark+Twain&amp;book%5Btitle%5D=The+Adventures+of+Tom+Sawyer&amp;work%5Bid%5D=41326609\" class=\"actionLinkLite\" rel=\"nofollow\">add a new edition</a>\n",
        "<span class='secondaryCopy'>\n",
        " | \n",
        "</span>\n",
        "<a href=\"/book/combine/1244\" class=\"actionLinkLite\" rel=\"nofollow\">combine</a>\n",
        "</div>\n",
        "</div>\n",
        "\n",
        "\n",
        "        </div>\n",
        "\n",
        "        <a class=\"left inter actionLinkLite\" href=\"#\" id=\"bookDataBoxHide\" onclick=\"$j('#bookDataBoxShow').show(); $j('#bookDataBoxHide').hide(); $j('#bookDataBox').hide();\n",
        "                              ; return false;\" style=\"display:none\">...less detail</a>\n",
        "\n",
        "    <a href=\"/book/edit/24583.The_Adventures_of_Tom_Sawyer\" class=\"inter uitext greyText right\" rel=\"nofollow\">edit details</a>\n",
        "\n",
        "    <div class=\"clear\"></div>\n",
        "  </div>\n",
        "</div>\n",
        "<div id=\"findit\" class=\"uitext buttons\">\n",
        "  <span class=\"buttonBarText\"><b>Get a copy:</b></span><ul class=\"buyButtonBar left\"><li class=\"firstBuyButton\"><a href=\"/buy_buttons/12/follow?book_id=24583\" class=\"buttonBar\" rel=\"no_follow\" target=\"_blank\">Amazon</a></li><li><div class=\" dropButton\" id=\"buyDropButtonStores\" onmouseout=\"$(this).down('.floatingBox').hide()\" onmouseover=\"$(this).down('.floatingBox').show()\"><a href=\"/book/24583/compare_prices\" class=\"buttonBar\" url=\"/book/24583/compare_prices\">online stores&nbsp;&#9660;</a><div class=\"floatingBox buyBox\" style=\"display:none\"><a href=\"https://www.goodreads.com/book_link/follow/3?book_id=24583&amp;source=dropdown\" class=\"actionLinkLite\" rel=\"nofollow\" target=\"_blank\">Barnes &amp; Noble</a><br/><a href=\"https://www.goodreads.com/book_link/follow/10?book_id=24583&amp;source=dropdown\" class=\"actionLinkLite\" rel=\"nofollow\" target=\"_blank\">Audible</a><br/><a href=\"https://www.goodreads.com/book_link/follow/4?book_id=24583&amp;source=dropdown\" class=\"actionLinkLite\" rel=\"nofollow\" target=\"_blank\">Abebooks</a><br/><a href=\"https://www.goodreads.com/book_link/follow/882?book_id=24583&amp;source=dropdown\" class=\"actionLinkLite\" rel=\"nofollow\" target=\"_blank\">Book Depository</a><br/><a href=\"https://www.goodreads.com/book_link/follow/1027?book_id=24583&amp;source=dropdown\" class=\"actionLinkLite\" rel=\"nofollow\" target=\"_blank\">Kobo</a><br/><a href=\"https://www.goodreads.com/book_link/follow/9?book_id=24583&amp;source=dropdown\" class=\"actionLinkLite\" rel=\"nofollow\" target=\"_blank\">Indigo</a><br/><a href=\"https://www.goodreads.com/book_link/follow/2?book_id=24583&amp;source=dropdown\" class=\"actionLinkLite\" rel=\"nofollow\" target=\"_blank\">Half.com</a><br/><a href=\"https://www.goodreads.com/book_link/follow/5?book_id=24583&amp;source=dropdown\" class=\"actionLinkLite\" rel=\"nofollow\" target=\"_blank\">Alibris</a><br/><a href=\"https://www.goodreads.com/book_link/follow/2102?book_id=24583&amp;source=dropdown\" class=\"actionLinkLite\" rel=\"nofollow\" target=\"_blank\">iBooks</a><br/><a href=\"https://www.goodreads.com/book_link/follow/107?book_id=24583&amp;source=dropdown\" class=\"actionLinkLite\" rel=\"nofollow\" target=\"_blank\">Better World Books</a><br/><a href=\"https://www.goodreads.com/book_link/follow/3928?book_id=24583&amp;source=dropdown\" class=\"actionLinkLite\" rel=\"nofollow\" target=\"_blank\">Target.com</a><br/><a href=\"https://www.goodreads.com/book_link/follow/1602?book_id=24583&amp;source=dropdown\" class=\"actionLinkLite\" rel=\"nofollow\" target=\"_blank\">Google Play</a><br/><a href=\"https://www.goodreads.com/book_link/follow/7?book_id=24583&amp;source=dropdown\" class=\"actionLinkLite\" rel=\"nofollow\" target=\"_blank\">IndieBound</a><br/><a href=\"https://www.goodreads.com/book/24583.The_Adventures_of_Tom_Sawyer/compare_prices\" class=\"actionLink\">More&hellip;</a></div></div></li><li><a href=\"https://www.goodreads.com/book_link/follow/8?book_id=24583\" class=\"buttonBar\" rel=\"nofollow\" target=\"_blank\">Libraries</a></li><li class=\"lastBuyButton\">  <a href=\"/ebooks/download/24583.The_Adventures_of_Tom_Sawyer\" class=\"buttonBar\">download ebook</a>\n",
        "</li></ul>\n",
        "</div>\n",
        "</div>\n",
        "\n",
        "<div class=\"clear\"></div>\n",
        "</div>\n",
        "<div class=\"clear\"></div>\n",
        "\n",
        "    <div id=\"self_serve_ads\"></div>\n",
        "\n",
        "<div id='lazy_loadable_view'>\n",
        "      \n",
        "<a name='friends_reviews'></a>\n",
        "<div class=\" clearFloats bigBox\" id=\"friendReviews\"><div class=\"h2Container gradientHeaderContainer\"><h2 class=\"brownBackground\">Friend Reviews</h2></div><div class=\"bigBoxBody\"><div class=\"bigBoxContent containerWithHeaderContent\"><span class='mediumText'>\n",
        "To see what your friends thought of this book,\n",
        "<a href=\"/user/new\" class=\"actionLink\" rel=\"nofollow\">please sign up.</a>\n",
        "</span>\n",
        "<div class=\"clear\"></div></div></div><div class=\"bigBoxBottom\"></div></div><div class=\" clearFloats bigBox\"><div class=\"h2Container gradientHeaderContainer\"><h2 class=\"brownBackground\">Reader Q&A</h2></div><div class=\"bigBoxBody\"><div class=\"bigBoxContent containerWithHeaderContent\"><div class='communityQASignedOutMessage mediumText'>\n",
        "To ask other readers questions about\n",
        "<a href=\"/book/show/24583.The_Adventures_of_Tom_Sawyer\" class=\"bookLink\">The Adventures of Tom Sawyer</a>,\n",
        "<a href=\"/user/new\" class=\"actionLink\" rel=\"nofollow\">please sign up</a>.\n",
        "</div>\n",
        "\n",
        "<div class='noQuestionsMessage'>\n",
        "<p>\n",
        "Be the first to ask a question about The Adventures of Tom Sawyer\n",
        "</p>\n",
        "</div>\n",
        "<div class=\"clear\"></div></div></div><div class=\"bigBoxBottom\"></div></div><div class=\" clearFloats bigBox\"><div class=\"h2Container gradientHeaderContainer\"><h2 class=\"brownBackground\"><a href=\"/list/book/24583\">Lists with This Book</a></h2></div><div class=\"bigBoxBody\"><div class=\"bigBoxContent containerWithHeaderContent\">  <div class=\"listRowsFull\">\n",
        "    <div class=\"row\" id=\"topRow\">\n",
        "        <div class=\"cell\">\n",
        "          \n",
        "<div class=\"listImgs\">\n",
        "  <a href=\"/list/show/264.Books_That_Everyone_Should_Read_At_Least_Once#24583\"><img alt=\"To Kill a Mockingbird by Harper Lee\" src=\"https://d.gr-assets.com/books/1361975680m/2657.jpg\" title=\"To Kill a Mockingbird by Harper Lee\" /></a><a href=\"/list/show/264.Books_That_Everyone_Should_Read_At_Least_Once#24583\"><img alt=\"1984 by George Orwell\" src=\"https://d.gr-assets.com/books/1348990566m/5470.jpg\" title=\"1984 by George Orwell\" /></a><a href=\"/list/show/264.Books_That_Everyone_Should_Read_At_Least_Once#24583\"><img alt=\"Harry Potter and the Sorcerer's Stone by J.K. Rowling\" src=\"https://d.gr-assets.com/books/1361572757m/3.jpg\" title=\"Harry Potter and the Sorcerer's Stone by J.K. Rowling\" /></a><a href=\"/list/show/264.Books_That_Everyone_Should_Read_At_Least_Once#24583\"><img alt=\"Pride and Prejudice by Jane Austen\" src=\"https://d.gr-assets.com/books/1320399351m/1885.jpg\" title=\"Pride and Prejudice by Jane Austen\" /></a><a href=\"/list/show/264.Books_That_Everyone_Should_Read_At_Least_Once#24583\"><img alt=\"The Diary of a Young Girl by Anne Frank\" src=\"https://d.gr-assets.com/books/1358276407m/48855.jpg\" title=\"The Diary of a Young Girl by Anne Frank\" /></a>\n",
        "</div>\n",
        "<a href=\"/list/show/264.Books_That_Everyone_Should_Read_At_Least_Once#24583\" class=\"listTitle\">Books That Everyone Should Read At Least Once</a><br />\n",
        "<div class=\"listFullDetails\">\n",
        "    52nd out of 12,265 books\n",
        "    &mdash;\n",
        "    60,367 voters\n",
        " \n",
        "    \n",
        "  \n",
        "</div>\n",
        "\n",
        "        </div>\n",
        "        <div class=\"cell\">\n",
        "          \n",
        "<div class=\"listImgs\">\n",
        "  <a href=\"/list/show/1.Best_Books_Ever?page=2#24583\"><img alt=\"The Hunger Games by Suzanne Collins\" src=\"https://d.gr-assets.com/books/1358275334m/2767052.jpg\" title=\"The Hunger Games by Suzanne Collins\" /></a><a href=\"/list/show/1.Best_Books_Ever?page=2#24583\"><img alt=\"Harry Potter and the Order of the Phoenix by J.K. Rowling\" src=\"https://d.gr-assets.com/books/1387141547m/2.jpg\" title=\"Harry Potter and the Order of the Phoenix by J.K. Rowling\" /></a><a href=\"/list/show/1.Best_Books_Ever?page=2#24583\"><img alt=\"Twilight by Stephenie Meyer\" src=\"https://d.gr-assets.com/books/1361039443m/41865.jpg\" title=\"Twilight by Stephenie Meyer\" /></a><a href=\"/list/show/1.Best_Books_Ever?page=2#24583\"><img alt=\"To Kill a Mockingbird by Harper Lee\" src=\"https://d.gr-assets.com/books/1361975680m/2657.jpg\" title=\"To Kill a Mockingbird by Harper Lee\" /></a><a href=\"/list/show/1.Best_Books_Ever?page=2#24583\"><img alt=\"Pride and Prejudice by Jane Austen\" src=\"https://d.gr-assets.com/books/1320399351m/1885.jpg\" title=\"Pride and Prejudice by Jane Austen\" /></a>\n",
        "</div>\n",
        "<a href=\"/list/show/1.Best_Books_Ever?page=2#24583\" class=\"listTitle\">Best Books Ever</a><br />\n",
        "<div class=\"listFullDetails\">\n",
        "    101st out of 33,234 books\n",
        "    &mdash;\n",
        "    129,593 voters\n",
        " \n",
        "    \n",
        "  \n",
        "</div>\n",
        "\n",
        "        </div>\n",
        "    </div>\n",
        "  </div>\n",
        "<br class=\"clear\" />\n",
        "<br class='clear'>\n",
        "<a href=\"/list/book/24583\" class=\"actionLink\" style=\"float:right\">More lists with this book...</a>\n",
        "<div class=\"clear\"></div></div></div><div class=\"bigBoxBottom\"></div></div><div class=\" clearFloats bigBox\" id=\"other_reviews\"><div class=\"h2Container gradientHeaderContainer\"><h2 class=\"brownBackground\">Community Reviews</h2></div><div class=\"bigBoxBody\"><div class=\"bigBoxContent containerWithHeaderContent\"><div id='reviews'>\n",
        "<div class=\"right bookMeta darkGreyText\">\n",
        "    <span class=\"smallText\">\n",
        "(showing\n",
        "1-30\n",
        "of\n",
        "3,000)\n",
        "</span>\n",
        "\n",
        "</div>\n",
        "\n",
        "<div id=\"bookReviewControls\" data-book-reviews-page=\"1\">\n",
        "  <a class=\"uitext\" href=\"#\" id=\"span_class_actionlink_filter_span_tip_996\" onclick=\"return false\" style=\"cursor: pointer; \"><span class=\"actionLink\">filter</span></a><script type=\"text/javascript\">\n",
        "//<![CDATA[\n",
        "      var newTip = new Tip($('span_class_actionlink_filter_span_tip_996'), \"\\n      <div class=\\\"greyText smallText\\\" style=\\\"white-space:nowrap\\\">\\n\\n        <span class=\\\"loadingLinkSpan\\\"><a href=\\\"/book/reviews/24583.The_Adventures_of_Tom_Sawyer?rating=\\\" class=\\\"actionLinkLite greyText loadingLink\\\" data-keep-on-success=\\\"true\\\" data-remote=\\\"true\\\" rel=\\\"nofollow\\\">all <span class=\\\"greyText\\\">(509303)<\\/span><\\/a><span class=\\\"loadingAnimation\\\"><\\/span><span class=\\\"loadingError\\\"><\\/span><\\/span>\\n\\n            <span class=\\\"greyText\\\">&nbsp;|&nbsp;<\\/span>\\n            <span class=\\\"loadingLinkSpan\\\"><a  class=\\\"actionLinkLite loadingLink\\\" data-keep-on-success=\\\"true\\\" data-remote=\\\"true\\\" href=\\\"/book/reviews/24583.The_Adventures_of_Tom_Sawyer?rating=5\\\" rel=\\\"nofollow\\\">5 stars <span class=\\\"greyText\\\">(115782)<\\/span><\\/a><span class=\\\"loadingAnimation\\\"><\\/span><span class=\\\"loadingError\\\"><\\/span><\\/span>\\n            <span class=\\\"greyText\\\">&nbsp;|&nbsp;<\\/span>\\n            <span class=\\\"loadingLinkSpan\\\"><a  class=\\\"actionLinkLite loadingLink\\\" data-keep-on-success=\\\"true\\\" data-remote=\\\"true\\\" href=\\\"/book/reviews/24583.The_Adventures_of_Tom_Sawyer?rating=4\\\" rel=\\\"nofollow\\\">4 stars <span class=\\\"greyText\\\">(144929)<\\/span><\\/a><span class=\\\"loadingAnimation\\\"><\\/span><span class=\\\"loadingError\\\"><\\/span><\\/span>\\n            <span class=\\\"greyText\\\">&nbsp;|&nbsp;<\\/span>\\n            <span class=\\\"loadingLinkSpan\\\"><a  class=\\\"actionLinkLite loadingLink\\\" data-keep-on-success=\\\"true\\\" data-remote=\\\"true\\\" href=\\\"/book/reviews/24583.The_Adventures_of_Tom_Sawyer?rating=3\\\" rel=\\\"nofollow\\\">3 stars <span class=\\\"greyText\\\">(99791)<\\/span><\\/a><span class=\\\"loadingAnimation\\\"><\\/span><span class=\\\"loadingError\\\"><\\/span><\\/span>\\n            <span class=\\\"greyText\\\">&nbsp;|&nbsp;<\\/span>\\n            <span class=\\\"loadingLinkSpan\\\"><a  class=\\\"actionLinkLite loadingLink\\\" data-keep-on-success=\\\"true\\\" data-remote=\\\"true\\\" href=\\\"/book/reviews/24583.The_Adventures_of_Tom_Sawyer?rating=2\\\" rel=\\\"nofollow\\\">2 stars <span class=\\\"greyText\\\">(23382)<\\/span><\\/a><span class=\\\"loadingAnimation\\\"><\\/span><span class=\\\"loadingError\\\"><\\/span><\\/span>\\n            <span class=\\\"greyText\\\">&nbsp;|&nbsp;<\\/span>\\n            <span class=\\\"loadingLinkSpan\\\"><a  class=\\\"actionLinkLite loadingLink\\\" data-keep-on-success=\\\"true\\\" data-remote=\\\"true\\\" href=\\\"/book/reviews/24583.The_Adventures_of_Tom_Sawyer?rating=1\\\" rel=\\\"nofollow\\\">1 star <span class=\\\"greyText\\\">(7449)<\\/span><\\/a><span class=\\\"loadingAnimation\\\"><\\/span><span class=\\\"loadingError\\\"><\\/span><\\/span>\\n      <\\/div>\\n\\n      <div class=\\\"bookMeta\\\">\\n        editions:\\n        <span class=\\\"loadingLinkSpan\\\"><a href=\\\"/book/reviews/24583.The_Adventures_of_Tom_Sawyer?edition_reviews=false\\\" class=\\\"value loadingLink\\\" data-keep-on-success=\\\"true\\\" data-remote=\\\"true\\\" rel=\\\"nofollow\\\">all<\\/a><span class=\\\"loadingAnimation\\\"><\\/span><span class=\\\"loadingError\\\"><\\/span><\\/span>\\n\\n        <span class=\\\"greyText\\\">&nbsp;|&nbsp;<\\/span>\\n        <span class=\\\"loadingLinkSpan\\\"><a href=\\\"/book/reviews/24583.The_Adventures_of_Tom_Sawyer?edition_reviews=true\\\" class=\\\" loadingLink\\\" data-keep-on-success=\\\"true\\\" data-remote=\\\"true\\\" rel=\\\"nofollow\\\">this edition<\\/a><span class=\\\"loadingAnimation\\\"><\\/span><span class=\\\"loadingError\\\"><\\/span><\\/span>\\n\\n        &nbsp;\\n        content:\\n        <span class=\\\"loadingLinkSpan\\\"><a href=\\\"/book/reviews/24583.The_Adventures_of_Tom_Sawyer?text_only=false\\\" class=\\\"value loadingLink\\\" data-keep-on-success=\\\"true\\\" data-remote=\\\"true\\\" rel=\\\"nofollow\\\">any<\\/a><span class=\\\"loadingAnimation\\\"><\\/span><span class=\\\"loadingError\\\"><\\/span><\\/span>\\n\\n        <span class=\\\"greyText\\\">&nbsp;|&nbsp;<\\/span>\\n        <span class=\\\"loadingLinkSpan\\\"><a href=\\\"/book/reviews/24583.The_Adventures_of_Tom_Sawyer?text_only=true\\\" class=\\\" loadingLink\\\" data-keep-on-success=\\\"true\\\" data-remote=\\\"true\\\" rel=\\\"nofollow\\\">text-only<\\/a><span class=\\\"loadingAnimation\\\"><\\/span><span class=\\\"loadingError\\\"><\\/span><\\/span>\\n      <\\/div>\\n\", { style: 'goodreads', stem: 'topLeft', hook: { tip: 'topLeft', target: 'bottomMiddle' }, offset: { x: 5, y: 5 }, hideOn: false, showOn: 'mouseover', closeButton: false, hideAfter: 1, hideOthers: true });\n",
        "      $('span_class_actionlink_filter_span_tip_996').observe('prototip:shown', function() {\n",
        "        if (this.up('#box')) {\n",
        "          $$('div.prototip')[0].setStyle({zIndex: $('box').getStyle('z-index')});\n",
        "        } else {\n",
        "          $$('div.prototip')[0].setStyle({zIndex: 6000});\n",
        "        }\n",
        "      });\n",
        "      $('span_class_actionlink_filter_span_tip_996').observe('prototip:hidden', function () {\n",
        "        $$('span.elementTwo').each(function (e) {\n",
        "          if (e.getStyle('display') !== 'none') {\n",
        "            var lessLink = e.next();\n",
        "            swapContent(lessLink);\n",
        "          }\n",
        "        });\n",
        "      });\n",
        "\n",
        "//]]>\n",
        "</script>\n",
        "  <span class=\"greyText\">&nbsp;|&nbsp;</span>\n",
        "\n",
        "  <a class=\"uitext\" href=\"#\" id=\"span_class_actionlink_sort_span_default_tip_268\" onclick=\"return false\" style=\"cursor: pointer; \"><span class=\"actionLink\">sort</span>: default</a><script type=\"text/javascript\">\n",
        "//<![CDATA[\n",
        "      var newTip = new Tip($('span_class_actionlink_sort_span_default_tip_268'), \"\\n      <nobr>\\n        <span class=\\\"loadingLinkSpan\\\"><a href=\\\"/book/reviews/24583.The_Adventures_of_Tom_Sawyer?sort=default\\\" class=\\\"actionLinkLite greyText loadingLink\\\" data-keep-on-success=\\\"true\\\" data-remote=\\\"true\\\" rel=\\\"nofollow\\\">default<\\/a><span class=\\\"loadingAnimation\\\"><\\/span><span class=\\\"loadingError\\\"><\\/span><\\/span>\\n\\n        <span class=\\\"greyText\\\">&nbsp;|&nbsp;<\\/span>\\n        <span class=\\\"loadingLinkSpan\\\"><a href=\\\"/book/reviews/24583.The_Adventures_of_Tom_Sawyer?sort=newest\\\" class=\\\"actionLinkLite  loadingLink\\\" data-keep-on-success=\\\"true\\\" data-remote=\\\"true\\\" rel=\\\"nofollow\\\">newest<\\/a><span class=\\\"loadingAnimation\\\"><\\/span><span class=\\\"loadingError\\\"><\\/span><\\/span>\\n        <span class=\\\"greyText\\\">&nbsp;|&nbsp;<\\/span>\\n        <span class=\\\"loadingLinkSpan\\\"><a href=\\\"/book/reviews/24583.The_Adventures_of_Tom_Sawyer?sort=oldest\\\" class=\\\"actionLinkLite  loadingLink\\\" data-keep-on-success=\\\"true\\\" data-remote=\\\"true\\\" rel=\\\"nofollow\\\">oldest<\\/a><span class=\\\"loadingAnimation\\\"><\\/span><span class=\\\"loadingError\\\"><\\/span><\\/span>\\n      <\\/nobr>\\n\", { style: 'goodreads', stem: 'topLeft', hook: { tip: 'topLeft', target: 'bottomMiddle' }, offset: { x: 5, y: 5 }, hideOn: false, showOn: 'mouseover', closeButton: false, hideAfter: 1, hideOthers: true });\n",
        "      $('span_class_actionlink_sort_span_default_tip_268').observe('prototip:shown', function() {\n",
        "        if (this.up('#box')) {\n",
        "          $$('div.prototip')[0].setStyle({zIndex: $('box').getStyle('z-index')});\n",
        "        } else {\n",
        "          $$('div.prototip')[0].setStyle({zIndex: 6000});\n",
        "        }\n",
        "      });\n",
        "      $('span_class_actionlink_sort_span_default_tip_268').observe('prototip:hidden', function () {\n",
        "        $$('span.elementTwo').each(function (e) {\n",
        "          if (e.getStyle('display') !== 'none') {\n",
        "            var lessLink = e.next();\n",
        "            swapContent(lessLink);\n",
        "          }\n",
        "        });\n",
        "      });\n",
        "\n",
        "//]]>\n",
        "</script>\n",
        "  <a class=\"bookMeta\" href=\"#\" id=\"_tip_684\" onclick=\"return false\" style=\"cursor: pointer; \">(?)</a><script type=\"text/javascript\">\n",
        "//<![CDATA[\n",
        "      var newTip = new Tip($('_tip_684'), \"\\n      <div style=\\\"width: 500px\\\">\\n        The default sorting algorithm on Goodreads uses a variety of factors to\\n        determine the most interesting reviews. The recipe for our special sauce\\n        is a closely guarded trade secret, but the ingredients are: length of\\n        the review, number of people who liked it, recency of the review,\\n        popularity of the reviewer (i.e., number of people who have liked reviews\\n        by that person across all books).\\n      <\\/div>\\n\", { style: 'goodreads', stem: 'topLeft', hook: { tip: 'topLeft', target: 'bottomMiddle' }, offset: { x: 5, y: 5 }, hideOn: 'click', showOn: 'click', closeButton: true, hideOthers: true, title: 'about sorting' });\n",
        "      $('_tip_684').observe('prototip:shown', function() {\n",
        "        if (this.up('#box')) {\n",
        "          $$('div.prototip')[0].setStyle({zIndex: $('box').getStyle('z-index')});\n",
        "        } else {\n",
        "          $$('div.prototip')[0].setStyle({zIndex: 6000});\n",
        "        }\n",
        "      });\n",
        "      $('_tip_684').observe('prototip:hidden', function () {\n",
        "        $$('span.elementTwo').each(function (e) {\n",
        "          if (e.getStyle('display') !== 'none') {\n",
        "            var lessLink = e.next();\n",
        "            swapContent(lessLink);\n",
        "          }\n",
        "        });\n",
        "      });\n",
        "\n",
        "//]]>\n",
        "</script>\n",
        "  <span class=\"greyText\">&nbsp;|&nbsp;</span>\n",
        "  <a class=\"actionLink\" href=\"#\" id=\"rating_details_tip\" onclick=\"return false\" style=\"cursor: pointer; \">rating details</a><script type=\"text/javascript\">\n",
        "//<![CDATA[\n",
        "      var newTip = new Tip($('rating_details_tip'), \"\\n      <div id=\\\"moreBookData\\\" class=\\\"bookMeta\\\" >\\n  \\n\\n  \\n\\n<table border=\\\"0\\\" id=\\\"rating_distribution\\\" width=\\\"400\\\" cellspacing=\\\"5\\\" cellpadding=\\\"0\\\">\\n  <tr>\\n    <th>rating<\\/th>\\n    <th>frequency<\\/th>\\n    <th style=\\\"text-align: right\\\">%<\\/th>\\n    <th style=\\\"text-align: right\\\">#<\\/th>\\n  <\\/tr>\\n      <tr>\\n        <th style=\\\"text-align: center\\\">5<\\/th>\\n        <td width=\\\"100%\\\">\\n          <a data-remote=\\\"true\\\" href=\\\"/book/show/24583.The_Adventures_of_Tom_Sawyer?rating=5\\\" style=\\\"display: block; background-color: #215625; width: 79%;\\\" title=\\\"115782 ratings\\\">&nbsp;<\\/a>\\n        <\\/td>\\n        <td width=\\\"25\\\" align=\\\"right\\\">\\n          29%\\n        <\\/td>\\n        <td width=\\\"25\\\" align=\\\"right\\\">\\n          115782\\n        <\\/td>\\n      <\\/tr>\\n      <tr>\\n        <th style=\\\"text-align: center\\\">4<\\/th>\\n        <td width=\\\"100%\\\">\\n          <a data-remote=\\\"true\\\" href=\\\"/book/show/24583.The_Adventures_of_Tom_Sawyer?rating=4\\\" style=\\\"display: block; background-color: #215625; width: 100%;\\\" title=\\\"144929 ratings\\\">&nbsp;<\\/a>\\n        <\\/td>\\n        <td width=\\\"25\\\" align=\\\"right\\\">\\n          37%\\n        <\\/td>\\n        <td width=\\\"25\\\" align=\\\"right\\\">\\n          144929\\n        <\\/td>\\n      <\\/tr>\\n      <tr>\\n        <th style=\\\"text-align: center\\\">3<\\/th>\\n        <td width=\\\"100%\\\">\\n          <a data-remote=\\\"true\\\" href=\\\"/book/show/24583.The_Adventures_of_Tom_Sawyer?rating=3\\\" style=\\\"display: block; background-color: #215625; width: 68%;\\\" title=\\\"99791 ratings\\\">&nbsp;<\\/a>\\n        <\\/td>\\n        <td width=\\\"25\\\" align=\\\"right\\\">\\n          25%\\n        <\\/td>\\n        <td width=\\\"25\\\" align=\\\"right\\\">\\n          99791\\n        <\\/td>\\n      <\\/tr>\\n      <tr>\\n        <th style=\\\"text-align: center\\\">2<\\/th>\\n        <td width=\\\"100%\\\">\\n          <a data-remote=\\\"true\\\" href=\\\"/book/show/24583.The_Adventures_of_Tom_Sawyer?rating=2\\\" style=\\\"display: block; background-color: #215625; width: 16%;\\\" title=\\\"23382 ratings\\\">&nbsp;<\\/a>\\n        <\\/td>\\n        <td width=\\\"25\\\" align=\\\"right\\\">\\n          5%\\n        <\\/td>\\n        <td width=\\\"25\\\" align=\\\"right\\\">\\n          23382\\n        <\\/td>\\n      <\\/tr>\\n      <tr>\\n        <th style=\\\"text-align: center\\\">1<\\/th>\\n        <td width=\\\"100%\\\">\\n          <a data-remote=\\\"true\\\" href=\\\"/book/show/24583.The_Adventures_of_Tom_Sawyer?rating=1\\\" style=\\\"display: block; background-color: #215625; width: 5%;\\\" title=\\\"7449 ratings\\\">&nbsp;<\\/a>\\n        <\\/td>\\n        <td width=\\\"25\\\" align=\\\"right\\\">\\n          1%\\n        <\\/td>\\n        <td width=\\\"25\\\" align=\\\"right\\\">\\n          7449\\n        <\\/td>\\n      <\\/tr>\\n\\n<\\/table>\\n\\n\\n    <span class=\\\"value\\\">92<\\/span>% of people liked it\\n\\n  <table>\\n    <tr>\\n      <td><strong>All editions:<\\/strong><\\/td>\\n      <td>\\n        <span class=\\\"value\\\">3.86<\\/span> average rating,\\n        <span class=\\\"value\\\">391333<\\/span> ratings,\\n        <span class=\\\"value\\\">4497<\\/span> reviews,\\n        added by <span class=\\\"value\\\">509303<\\/span> people,\\n        <span class=\\\"value\\\">82399<\\/span> to-reads\\n      <\\/td>\\n    <\\/tr>\\n\\n      <tr>\\n        <td><strong>This edition:<\\/strong><\\/td>\\n        <td>\\n          <span class=\\\"value\\\">3.87<\\/span> average rating,\\n          <span class=\\\"value\\\">366473<\\/span> ratings,\\n          <span class=\\\"value\\\">3486<\\/span> reviews,\\n          added by <span class=\\\"value\\\">469279<\\/span> people\\n        <\\/td>\\n      <\\/tr>\\n  <\\/table>\\n<\\/div>\\n\", { style: 'goodreads', stem: 'topLeft', hook: { tip: 'topLeft', target: 'bottomMiddle' }, offset: { x: 5, y: 5 }, hideOn: false, showOn: 'mouseover', closeButton: false, hideAfter: 1, hideOthers: true, title: 'book data' });\n",
        "      $('rating_details_tip').observe('prototip:shown', function() {\n",
        "        if (this.up('#box')) {\n",
        "          $$('div.prototip')[0].setStyle({zIndex: $('box').getStyle('z-index')});\n",
        "        } else {\n",
        "          $$('div.prototip')[0].setStyle({zIndex: 6000});\n",
        "        }\n",
        "      });\n",
        "      $('rating_details_tip').observe('prototip:hidden', function () {\n",
        "        $$('span.elementTwo').each(function (e) {\n",
        "          if (e.getStyle('display') !== 'none') {\n",
        "            var lessLink = e.next();\n",
        "            swapContent(lessLink);\n",
        "          }\n",
        "        });\n",
        "      });\n",
        "\n",
        "//]]>\n",
        "</script>  <script type=\"text/javascript\">\n",
        "      var $ratingGraph = $j('#rating_graph');\n",
        "      var $copy;\n",
        "      if ($ratingGraph.length > 0) {\n",
        "          $copy = $ratingGraph.clone();\n",
        "          $j('#rating_details_tip_graph').remove();\n",
        "          $copy.attr('id', 'rating_details_tip_graph');\n",
        "          $copy.find('script').remove();\n",
        "          $j('#rating_details_tip').prepend($copy);\n",
        "      }\n",
        "  </script>\n",
        "</div>\n",
        "\n",
        "\n",
        "<div id=\"bookReviews\">\n",
        "  \n",
        "\n",
        "\n",
        "\n",
        "\n",
        "  <div class=\"friendReviews elementListBrown\">\n",
        "    <div class=\"section firstReview\">\n",
        "      \n",
        "\n",
        "<div id=\"review_101071212\" class=\"review nosyndicate\" itemprop=\"reviews\" itemscope itemtype=\"http://schema.org/Review\">\n",
        "  <link itemprop=\"url\" href=\"https://www.goodreads.com/review/show/101071212\" />\n",
        "  <a href=\"/user/show/3672777-nataliya\" class=\"left imgcol\" title=\"Nataliya\"><img alt=\"Nataliya\" src=\"https://d.gr-assets.com/users/1395089173p2/3672777.jpg\" /></a>\n",
        "\n",
        "  <div class=\"left bodycol\">\n",
        "    <div class=\"reviewHeader uitext stacked\">\n",
        "        <a href=\"/review/show/101071212?book_show_action=true\" class=\"reviewDate createdAt right\" itemprop=\"publishDate\">May 13, 2014</a>\n",
        "\n",
        "      <a href=\"/user/show/3672777-nataliya\" class=\"user\" title=\"Nataliya\">Nataliya</a>\n",
        "\n",
        "        rated it\n",
        "        <a class=\" staticStars stars_3\" title=\"liked it\">3 of 5 stars</a>\n",
        "\n",
        "\n",
        "\n",
        "        \n",
        "\n",
        "          <div class=\"uitext greyText bookshelves\">\n",
        "            Shelves:\n",
        "                <a href=\"/review/list/3672777-nataliya?shelf=my-childhood-bookshelves\" class=\"actionLinkLite\">my-childhood-bookshelves</a>\n",
        "          </div>\n",
        "    </div>\n",
        "\n",
        "        <div class=\"reviewText stacked\">\n",
        "              <span id=\"reviewTextContainer101071212\" class=\"readable\" style=\"\">\n",
        "            \n",
        "<span id=\"freeTextContainer2440098132866070951\" class=\"elementOne\">I was five and a half years old when my mother gave me <em>The Adventures of Tom Sawyer</em> as a New Year's gift <em>(she is a literature teacher, and I have been reading novels since the tender age of four or so, and so it seemed appropriate).</em><br><br>Being a diligent and serious\u00b9 child (neither of those qualities have stuck with me, unfortunately), I opened it to page 1 and started reading. I even took it with me to kindergarten, where other kids were learning letters and I was mercifully allowed to read hefty tom</span>\n",
        "  <span id=\"freeText2440098132866070951\" class=\"elementTwo\" style=\"display:none\">I was five and a half years old when my mother gave me <em>The Adventures of Tom Sawyer</em> as a New Year's gift <em>(she is a literature teacher, and I have been reading novels since the tender age of four or so, and so it seemed appropriate).</em><br><br>Being a diligent and serious\u00b9 child (neither of those qualities have stuck with me, unfortunately), I opened it to page 1 and started reading. I even took it with me to kindergarten, where other kids were learning letters and I was mercifully allowed to read hefty tomes, having obviously achieved full literacy by that point.<br><blockquote>\u00b9 <br><img src=\"https://p.gr-assets.com/540x540/fit/hostedimages/1399864983/9604167.jpg\" width=\"300\" class=\"escapedImg\">\n",
        "</blockquote><em>Me (age 5) and Mom. The diligent seriousness is *all over* this picture.</em> <br><br>This book initially left me quite confused, but I was undeterred - after all, the world was a confusing place, full of adults and rules and great books - even those without pictures. <em>(And I was very proud to own books without pictures, after all).</em> But his one was just too strange - its beginning did not quite fit with the rest of the quite fun story - it was odd and dry and incomprehensible for the first 40 pages or so, and it even was about some other guy <em>(Samuel Clemens?)</em> who was not Tom Sawyer.<br><br>A few years later I reread my early childhood favorite <em>(I probably reached a ripe old age of eight or so, still diligent but a bit less serious already).</em> It was then that I figured out what seemed strange about the beginning of this book when I was five.<br><br>You see, I diligently slogged my way through the most boring academic foreword, assuming that was the first chapter. What amazes me that I managed to stay awake through it. Good job, five-year-old me! Excellent preparation for that painfully boring biochemistry course a couple of decades later!<blockquote>After that foreword, slogging through any classic was a comparative breeze. Yes, I'm looking at you, <em>War and Peace</em>! You know what you did, you endless tome.</blockquote>Also, as it turns out, when you include two characters named Joe in one book (Injun Joe and Tom's classmate Joe Harper) that can cause a certain amount of confusion to a five-year-old who assumes they have to be the same person and struggles really hard to reconcile their seemingly conflicting characters. And, as a side note, I have always been disappointed at Tom Sawyer tricking his friends to do the infamous fence whitewashing. A *real* kid knows after all that painting stuff is fun. Five-year-old me was a bit disapproving of the silliness. <br><br>I have told bits and pieces of this book to my friends on the playground, while dangling from the monkey bars or building sandcastles <em>(in a sandbox, that in retrospect I suspect was used by the neighborhood stray cats as a litterbox - but I guess you have to develop immunity to germs somehow)</em>. We may have planned an escape to an island in a true Tom Sawyer fashion, but the idea fizzled. After all, we did not have an island nearby, which was a problem. Also, we may have got distracted by the afternoon cartoons.<br><br>Someday, I just may have to leave this book within a reach of my future hypothetical daughter - as long as I make sure it does not come with a long-winded boring introduction.</span>\n",
        "  <a data-text-id=\"2440098132866070951\" href=\"#\" onclick=\"swapContent($(this));; return false;\">...more</a>\n",
        "          </span>\n",
        "        </div>\n",
        "\n",
        "\n",
        "      <div class=\"reviewFooter uitext buttons\">\n",
        "        \n",
        "<tr class=\"no_border\" id=\"update_comment_stuff_Review101071212\">\n",
        "  <td colspan=\"2\">\n",
        "    <div class=\"updateActionLinks\">\n",
        "        <a href=\"/flagged/new?resource_id=101071212&amp;resource_type=Review&amp;return_url=%2Fbook%2Fshow%2F24583.The_Adventures_of_Tom_Sawyer\" class=\"right flag\" id=\"flag_link101071212\" rel=\"nofollow\" title=\"Flag this review as inappropriate.\">flag</a>\n",
        "      <span class='likeItContainer' id='like_container_review_101071212'><a href=\"/rating/voters/101071212?resource_type=Review\" id=\"like_count_review_101071212\" rel=\"nofollow\"><span class=\"likesCount\">62 likes</span></a>&nbsp;&middot;&nbsp;<a href=\"https://www.goodreads.com/user/new?remember=true&amp;return_url=%2Fbook%2Fshow%2F24583.The_Adventures_of_Tom_Sawyer\" rel=\"nofollow\">like</a></span>&nbsp;&middot;&nbsp;<a href=\"/review/show/101071212?book_show_action=true&amp;page=1\">see review</a>\n",
        "    </div>\n",
        "    <div id='comments_for_review_101071212' style='display: none;'>\n",
        "<div class='brown_comment'>\n",
        "<img alt=\"Chat_bubbles\" src=\"https://s.gr-assets.com/assets/chat_bubbles-ea628733152ae8319e85921ab3057b48.png\" />\n",
        "<span class=\"loadingLinkSpan\"><a href=\"/review/101071212/comments?reverse=true\" class=\"loadingLink\" data-remote=\"true\">view all 19 comments</a><span class=\"loadingAnimation\"></span><span class=\"loadingError\"></span></span>\n",
        "</div>\n",
        "\n",
        "<div id=\"comment_105164615\" class=\"brown_comment\">\n",
        "  <div class=\"xhr_comment_photo\">\n",
        "    \t<a href=\"/user/show/2101212-marianne-jay\" alt=\"Marianne Jay\"><img alt=\"2101212\" src=\"https://d.gr-assets.com/users/1373087378p1/2101212.jpg\" /></a>\n",
        "  </div>\n",
        "  <div class=\"xhr_comment_body\">\n",
        "    <a href=\"/user/show/2101212-marianne-jay\" style=\"font-weight:bold\">Marianne Jay</a>\n",
        "\n",
        "      \n",
        "<span id=\"freeTextContainer3538462283390152612\" class=\"elementOne\">I was 6 years old when my aunt bought me my first book, The Wizard of Oz.  I was reading at a 3rd grade level in 1st grade.  Back in the 60's that was u</span>\n",
        "  <span id=\"freeText3538462283390152612\" class=\"elementTwo\" style=\"display:none\">I was 6 years old when my aunt bought me my first book, The Wizard of Oz.  I was reading at a 3rd grade level in 1st grade.  Back in the 60's that was unheard of.  Thus began my love affair with books.</span>\n",
        "  <a data-text-id=\"3538462283390152612\" href=\"#\" onclick=\"swapContent($(this));; return false;\">...more</a>\n",
        "    <br/>\n",
        "\n",
        "    <span class=\"greyText\">\n",
        "      Aug 28, 2014 08:00PM\n",
        "    </span>\n",
        "\n",
        "  </div>\n",
        "  <div class=\"clear\"></div>\n",
        "</div>\n",
        "\n",
        "\n",
        "\n",
        "\n",
        "\n",
        "<div id=\"comment_106203096\" class=\"brown_comment\">\n",
        "  <div class=\"xhr_comment_photo\">\n",
        "    \t<a href=\"/user/show/13329504-shazly-nassar\" alt=\"Shazly nassar\"><img alt=\"13329504\" src=\"https://d.gr-assets.com/users/1393748970p1/13329504.jpg\" /></a>\n",
        "  </div>\n",
        "  <div class=\"xhr_comment_body\">\n",
        "    <a href=\"/user/show/13329504-shazly-nassar\" style=\"font-weight:bold\">Shazly nassar</a>\n",
        "\n",
        "      \n",
        "<span id=\"freeTextContainer2508327362960775792\" class=\"elementOne\">but i will read it when iam in 33ys</span>\n",
        "\n",
        "    <br/>\n",
        "\n",
        "    <span class=\"greyText\">\n",
        "      Sep 16, 2014 06:07AM\n",
        "    </span>\n",
        "\n",
        "  </div>\n",
        "  <div class=\"clear\"></div>\n",
        "</div>\n",
        "\n",
        "\n",
        "\n",
        "\n",
        "\n",
        "</div>\n",
        "\n",
        "  </td>\n",
        "</tr>\n",
        "\n",
        "      </div>\n",
        "\n",
        "  </div>\n",
        "\n",
        "  <div class=\"clear\"></div>\n",
        "</div>\n",
        "\n",
        "    </div>\n",
        "  </div>\n",
        "    <div class=\"elementListBrownSeparator\"></div>\n",
        "\n",
        "\n",
        "\n",
        "  <div class=\"friendReviews elementListBrown\">\n",
        "    <div class=\"section\">\n",
        "      \n",
        "\n",
        "<div id=\"review_12474521\" class=\"review\" itemprop=\"reviews\" itemscope itemtype=\"http://schema.org/Review\">\n",
        "  <link itemprop=\"url\" href=\"https://www.goodreads.com/review/show/12474521\" />\n",
        "  <a href=\"/user/show/124861-doug\" class=\"left imgcol\" title=\"Doug\"><img alt=\"Doug\" src=\"https://s.gr-assets.com/assets/nophoto/user/m_50x66-3fbaf32fc1fc48e6ffaf3f63a026f0ff.png\" /></a>\n",
        "\n",
        "  <div class=\"left bodycol\">\n",
        "    <div class=\"reviewHeader uitext stacked\">\n",
        "        <a href=\"/review/show/12474521?book_show_action=true\" class=\"reviewDate createdAt right\" itemprop=\"publishDate\">Mar 28, 2010</a>\n",
        "\n",
        "      <a href=\"/user/show/124861-doug\" class=\"user\" title=\"Doug\">Doug</a>\n",
        "\n",
        "        rated it\n",
        "        <a class=\" staticStars stars_5\" title=\"it was amazing\">5 of 5 stars</a>\n",
        "\n",
        "\n",
        "\n",
        "        \n",
        "\n",
        "    </div>\n",
        "\n",
        "        <div class=\"reviewText stacked\">\n",
        "              <span id=\"reviewTextContainer12474521\" class=\"readable\" style=\"\">\n",
        "            \n",
        "<span id=\"freeTextContainer62512779605597176\" class=\"elementOne\">My all-time favorite work of fiction.  I usually read this every summer.<br><br>As a fourth grader I read this book and took it very seriously.  It was my dream to build a raft and go adventuring.  Actually I did build the raft, but there was not enough water in the creek.<br><br>My other great ambition was to come marching into my own funeral.  I still think that would be fun.  <br><br>When I read about Tom taking a licking for Becky Thatcher in school and sharing his cake with her in the cave, I thought that was incredibl</span>\n",
        "  <span id=\"freeText62512779605597176\" class=\"elementTwo\" style=\"display:none\">My all-time favorite work of fiction.  I usually read this every summer.<br><br>As a fourth grader I read this book and took it very seriously.  It was my dream to build a raft and go adventuring.  Actually I did build the raft, but there was not enough water in the creek.<br><br>My other great ambition was to come marching into my own funeral.  I still think that would be fun.  <br><br>When I read about Tom taking a licking for Becky Thatcher in school and sharing his cake with her in the cave, I thought that was incredibly chivalrous and how things ought to be.  Because I read this book when I was young &amp; before I understood much of the humor, I think it shaped the way I think in many ways.<br><br>As an adult, I have re-read this book several times and love its timeless humor.  The descriptions of a little kid at church are totally relevant today.  I have learned that this book is primarily a light-hearted book written about children, but for adults.<br></span>\n",
        "  <a data-text-id=\"62512779605597176\" href=\"#\" onclick=\"swapContent($(this));; return false;\">...more</a>\n",
        "          </span>\n",
        "        </div>\n",
        "\n",
        "\n",
        "      <div class=\"reviewFooter uitext buttons\">\n",
        "        \n",
        "<tr class=\"no_border\" id=\"update_comment_stuff_Review12474521\">\n",
        "  <td colspan=\"2\">\n",
        "    <div class=\"updateActionLinks\">\n",
        "        <a href=\"/flagged/new?resource_id=12474521&amp;resource_type=Review&amp;return_url=%2Fbook%2Fshow%2F24583.The_Adventures_of_Tom_Sawyer\" class=\"right flag\" id=\"flag_link12474521\" rel=\"nofollow\" title=\"Flag this review as inappropriate.\">flag</a>\n",
        "      <span class='likeItContainer' id='like_container_review_12474521'><a href=\"/rating/voters/12474521?resource_type=Review\" id=\"like_count_review_12474521\" rel=\"nofollow\"><span class=\"likesCount\">57 likes</span></a>&nbsp;&middot;&nbsp;<a href=\"https://www.goodreads.com/user/new?remember=true&amp;return_url=%2Fbook%2Fshow%2F24583.The_Adventures_of_Tom_Sawyer\" rel=\"nofollow\">like</a></span>&nbsp;&middot;&nbsp;<a href=\"/review/show/12474521?book_show_action=true&amp;page=1\">see review</a>\n",
        "    </div>\n",
        "    <div id='comments_for_review_12474521' style='display: none;'>\n",
        "<div class='brown_comment'>\n",
        "<img alt=\"Chat_bubbles\" src=\"https://s.gr-assets.com/assets/chat_bubbles-ea628733152ae8319e85921ab3057b48.png\" />\n",
        "<span class=\"loadingLinkSpan\"><a href=\"/review/12474521/comments?reverse=true\" class=\"loadingLink\" data-remote=\"true\">view all 6 comments</a><span class=\"loadingAnimation\"></span><span class=\"loadingError\"></span></span>\n",
        "</div>\n",
        "\n",
        "<div id=\"comment_80779701\" class=\"brown_comment\">\n",
        "  <div class=\"xhr_comment_photo\">\n",
        "    \t<a href=\"/user/show/12432922-paula-maguire\" alt=\"Paula Maguire\"><img alt=\"F_25x33\" src=\"https://s.gr-assets.com/assets/nophoto/user/f_25x33-a11aa9d9c367909509bd5592099ffe53.png\" /></a>\n",
        "  </div>\n",
        "  <div class=\"xhr_comment_body\">\n",
        "    <a href=\"/user/show/12432922-paula-maguire\" style=\"font-weight:bold\">Paula Maguire</a>\n",
        "\n",
        "      \n",
        "<span id=\"freeTextContainer15817968854757690426\" class=\"elementOne\">Yes, I agree it's for adults.  I read it with my 10 year old boy and was afraid he might get ideas!</span>\n",
        "\n",
        "    <br/>\n",
        "\n",
        "    <span class=\"greyText\">\n",
        "      Aug 15, 2013 05:04AM\n",
        "    </span>\n",
        "\n",
        "  </div>\n",
        "  <div class=\"clear\"></div>\n",
        "</div>\n",
        "\n",
        "\n",
        "\n",
        "\n",
        "\n",
        "<div id=\"comment_97194705\" class=\"brown_comment\">\n",
        "  <div class=\"xhr_comment_photo\">\n",
        "    \t<a href=\"/user/show/16641444-blake-schreckhise\" alt=\"Blake Schreckhise\"><img alt=\"16641444\" src=\"https://d.gr-assets.com/users/1358734589p1/16641444.jpg\" /></a>\n",
        "  </div>\n",
        "  <div class=\"xhr_comment_body\">\n",
        "    <a href=\"/user/show/16641444-blake-schreckhise\" style=\"font-weight:bold\">Blake Schreckhise</a>\n",
        "\n",
        "      \n",
        "<span id=\"freeTextContainer4638674040549499028\" class=\"elementOne\">It's awesome to see how this book affected you differently at different times of your life!</span>\n",
        "\n",
        "    <br/>\n",
        "\n",
        "    <span class=\"greyText\">\n",
        "      Apr 22, 2014 11:37PM\n",
        "    </span>\n",
        "\n",
        "  </div>\n",
        "  <div class=\"clear\"></div>\n",
        "</div>\n",
        "\n",
        "\n",
        "\n",
        "\n",
        "\n",
        "</div>\n",
        "\n",
        "  </td>\n",
        "</tr>\n",
        "\n",
        "      </div>\n",
        "\n",
        "  </div>\n",
        "\n",
        "  <div class=\"clear\"></div>\n",
        "</div>\n",
        "\n",
        "    </div>\n",
        "  </div>\n",
        "    <div class=\"elementListBrownSeparator\"></div>\n",
        "\n",
        "\n",
        "\n",
        "  <div class=\"friendReviews elementListBrown\">\n",
        "    <div class=\"section\">\n",
        "      \n",
        "\n",
        "<div id=\"review_68942437\" class=\"review nosyndicate\" itemprop=\"reviews\" itemscope itemtype=\"http://schema.org/Review\">\n",
        "  <link itemprop=\"url\" href=\"https://www.goodreads.com/review/show/68942437\" />\n",
        "  <a href=\"/user/show/2156200-k-d-absolutely\" class=\"left imgcol\" title=\"K.D. Absolutely\"><img alt=\"K.D. Absolutely\" src=\"https://d.gr-assets.com/users/1367928843p2/2156200.jpg\" /></a>\n",
        "\n",
        "  <div class=\"left bodycol\">\n",
        "    <div class=\"reviewHeader uitext stacked\">\n",
        "        <a href=\"/review/show/68942437?book_show_action=true\" class=\"reviewDate createdAt right\" itemprop=\"publishDate\">Dec 28, 2012</a>\n",
        "\n",
        "      <a href=\"/user/show/2156200-k-d-absolutely\" class=\"user\" title=\"K.D. Absolutely\">K.D. Absolutely</a>\n",
        "\n",
        "        rated it\n",
        "        <a class=\" staticStars stars_3\" title=\"liked it\">3 of 5 stars</a>\n",
        "\n",
        "          <span class=\"greyText\">&nbsp;&middot;&nbsp;</span>\n",
        "          <a href=\"/book/show/445402.The_Adventures_of_Tom_Sawyer\" class=\"lightGreyText\" title=\"Paperback 9781416500223\">review of another edition</a>\n",
        "\n",
        "\n",
        "        \n",
        "\n",
        "          <div class=\"uitext greyText bookshelves\">\n",
        "            Shelves:\n",
        "                <a href=\"/review/list/2156200-k-d-absolutely?shelf=classics\" class=\"actionLinkLite\">classics</a>, \n",
        "                <a href=\"/review/list/2156200-k-d-absolutely?shelf=childrens\" class=\"actionLinkLite\">childrens</a>, \n",
        "                <a href=\"/review/list/2156200-k-d-absolutely?shelf=race\" class=\"actionLinkLite\">race</a>, \n",
        "                <a href=\"/review/list/2156200-k-d-absolutely?shelf=coming-of-age\" class=\"actionLinkLite\">coming-of-age</a>\n",
        "          </div>\n",
        "    </div>\n",
        "\n",
        "        <div class=\"reviewText stacked\">\n",
        "              <span id=\"reviewTextContainer68942437\" class=\"readable\" style=\"\">\n",
        "            \n",
        "<span id=\"freeTextContainer14893320836024627994\" class=\"elementOne\">This coming of age novel is an important American classic because:<blockquote>1) It is the precursor for the bigger and more important Mark Twain novel, <a href=\"http://www.goodreads.com/book/show/2956.The_Adventures_of_Huckleberry_Finn\" title=\"The Adventures of Huckleberry Finn by Mark Twain\">The Adventures of Huckleberry Finn</a>.<br><br>2) It is a historical fiction giving readers a glimpse of the laid back town's life in the mid to late 19th century. The town is called St. Petersburg that is based on Hannibal, Missouri, the hometown of Mark Twain. This book is basically a satire of the customs and superstitions that Americans practiced and believed durin</blockquote></span>\n",
        "  <span id=\"freeText14893320836024627994\" class=\"elementTwo\" style=\"display:none\">This coming of age novel is an important American classic because:<blockquote>1) It is the precursor for the bigger and more important Mark Twain novel, <a href=\"http://www.goodreads.com/book/show/2956.The_Adventures_of_Huckleberry_Finn\" title=\"The Adventures of Huckleberry Finn by Mark Twain\">The Adventures of Huckleberry Finn</a>.<br><br>2) It is a historical fiction giving readers a glimpse of the laid back town's life in the mid to late 19th century. The town is called St. Petersburg that is based on Hannibal, Missouri, the hometown of Mark Twain. This book is basically a satire of the customs and superstitions that Americans practiced and believed during that time. Reading this is like watching an old black and white movie and appreciating how lives were lived in that part of the world during the time when Filipinos over here in my country were being maltreated by our Spanish colonizers. <br><br>3) During that time, slave owning was legal in that part of Mississippi river and although this novel, unlike \"Huckleberry Finn,\" does not tackle black slavery head on but only as a backdrop, if you analyze the character of <strong>Injun Joe,</strong> he being a half-Indian, half-White, seems to foreshadow the racial issue depicted in \"Huckleberry Finn.\"<br><br>4) Mark Twain (Samuel Langhorn Clemens 1835-1910) made a breakthrough in the American literary scene with this book. There would not have been two \"Tom Sawyer\" sequels and \"Huckleberry Finn\" that is considered as <em>The Great American Novel</em> if this book was not written first.</blockquote>However, given the 4 reasons above, the book is first and foremost about a teenage boy <strong>Tom Sawyer</strong> particularly his gradual albeit erratic transformation from an immature mischievous boy to that of an conscientious adult. It is also about telling the truth even if it can cause your life. It is also about teenage love and what teenagers have to go through to discover the joys and pains of first love. Notice that these are <u>universal truths.</u> What you see happening in this book, published in 1876, is still what we are still seeing around us now. That makes this book still relevance to everyone.<br><br>I love this book and can't wait to continue reading its sequel and said to be the more important one, <em>The Adventures of Huckleberry Finn.</em> Huck is in this book but his character is of course not the main course. He is an orphan and the son of the town's drunkard. Tom Sawyer envies him because he is cool and he can do anything he wants without punishment. He appears mysterious and I think he will be stripped of this mysteriousness in the next book.<br><br>In terms of reading, the book is not really an easy read because of the many colloquial terms that Mark Twain used. I found myself shuffling between the text and the appendix to find out words and phrases being used in that part of American during the 19th century. It slowed down my reading but at the end, it was all worth it.<br><br>I am happy to finally have read a Mark Twain book. I say: more, more, more.</span>\n",
        "  <a data-text-id=\"14893320836024627994\" href=\"#\" onclick=\"swapContent($(this));; return false;\">...more</a>\n",
        "          </span>\n",
        "        </div>\n",
        "\n",
        "\n",
        "      <div class=\"reviewFooter uitext buttons\">\n",
        "        \n",
        "<tr class=\"no_border\" id=\"update_comment_stuff_Review68942437\">\n",
        "  <td colspan=\"2\">\n",
        "    <div class=\"updateActionLinks\">\n",
        "        <a href=\"/flagged/new?resource_id=68942437&amp;resource_type=Review&amp;return_url=%2Fbook%2Fshow%2F24583.The_Adventures_of_Tom_Sawyer\" class=\"right flag\" id=\"flag_link68942437\" rel=\"nofollow\" title=\"Flag this review as inappropriate.\">flag</a>\n",
        "      <span class='likeItContainer' id='like_container_review_68942437'><a href=\"/rating/voters/68942437?resource_type=Review\" id=\"like_count_review_68942437\" rel=\"nofollow\"><span class=\"likesCount\">26 likes</span></a>&nbsp;&middot;&nbsp;<a href=\"https://www.goodreads.com/user/new?remember=true&amp;return_url=%2Fbook%2Fshow%2F24583.The_Adventures_of_Tom_Sawyer\" rel=\"nofollow\">like</a></span>&nbsp;&middot;&nbsp;<a href=\"/review/show/68942437?book_show_action=true&amp;page=1\">see review</a>\n",
        "    </div>\n",
        "    <div id='comments_for_review_68942437' style='display: none;'>\n",
        "<div class='brown_comment'>\n",
        "<img alt=\"Chat_bubbles\" src=\"https://s.gr-assets.com/assets/chat_bubbles-ea628733152ae8319e85921ab3057b48.png\" />\n",
        "<span class=\"loadingLinkSpan\"><a href=\"/review/68942437/comments?reverse=true\" class=\"loadingLink\" data-remote=\"true\">view all 7 comments</a><span class=\"loadingAnimation\"></span><span class=\"loadingError\"></span></span>\n",
        "</div>\n",
        "\n",
        "<div id=\"comment_97194747\" class=\"brown_comment\">\n",
        "  <div class=\"xhr_comment_photo\">\n",
        "    \t<a href=\"/user/show/16641444-blake-schreckhise\" alt=\"Blake Schreckhise\"><img alt=\"16641444\" src=\"https://d.gr-assets.com/users/1358734589p1/16641444.jpg\" /></a>\n",
        "  </div>\n",
        "  <div class=\"xhr_comment_body\">\n",
        "    <a href=\"/user/show/16641444-blake-schreckhise\" style=\"font-weight:bold\">Blake Schreckhise</a>\n",
        "\n",
        "      \n",
        "<span id=\"freeTextContainer7259826541675109797\" class=\"elementOne\">I have yet to read the adventures of huckleberry Finn. Is it better than this one?</span>\n",
        "\n",
        "    <br/>\n",
        "\n",
        "    <span class=\"greyText\">\n",
        "      Apr 22, 2014 11:39PM\n",
        "    </span>\n",
        "\n",
        "  </div>\n",
        "  <div class=\"clear\"></div>\n",
        "</div>\n",
        "\n",
        "\n",
        "\n",
        "\n",
        "\n",
        "<div id=\"comment_97368187\" class=\"brown_comment\">\n",
        "  <div class=\"xhr_comment_photo\">\n",
        "    \t<a href=\"/user/show/2156200-k-d-absolutely\" alt=\"K.D. Absolutely\"><img alt=\"2156200\" src=\"https://d.gr-assets.com/users/1367928843p1/2156200.jpg\" /></a>\n",
        "  </div>\n",
        "  <div class=\"xhr_comment_body\">\n",
        "    <a href=\"/user/show/2156200-k-d-absolutely\" style=\"font-weight:bold\">K.D. Absolutely</a>\n",
        "\n",
        "      \n",
        "<span id=\"freeTextContainer6028338611363828727\" class=\"elementOne\"><em>Blake wrote: \"I have yet to read the adventures of huckleberry Finn. Is it better than this one?\"</em><br><br>Definitely, Blake.</span>\n",
        "\n",
        "    <br/>\n",
        "\n",
        "    <span class=\"greyText\">\n",
        "      Apr 25, 2014 03:39PM\n",
        "    </span>\n",
        "\n",
        "  </div>\n",
        "  <div class=\"clear\"></div>\n",
        "</div>\n",
        "\n",
        "\n",
        "\n",
        "\n",
        "\n",
        "</div>\n",
        "\n",
        "  </td>\n",
        "</tr>\n",
        "\n",
        "      </div>\n",
        "\n",
        "  </div>\n",
        "\n",
        "  <div class=\"clear\"></div>\n",
        "</div>\n",
        "\n",
        "    </div>\n",
        "  </div>\n",
        "    <div class=\"elementListBrownSeparator\"></div>\n",
        "\n",
        "\n",
        "\n",
        "  <div class=\"friendReviews elementListBrown\">\n",
        "    <div class=\"section\">\n",
        "      \n",
        "\n",
        "<div id=\"review_6118280\" class=\"review\" itemprop=\"reviews\" itemscope itemtype=\"http://schema.org/Review\">\n",
        "  <link itemprop=\"url\" href=\"https://www.goodreads.com/review/show/6118280\" />\n",
        "  <a href=\"/user/show/368200-nathan\" class=\"left imgcol\" title=\"Nathan\"><img alt=\"Nathan\" src=\"https://d.gr-assets.com/users/1202672364p2/368200.jpg\" /></a>\n",
        "\n",
        "  <div class=\"left bodycol\">\n",
        "    <div class=\"reviewHeader uitext stacked\">\n",
        "        <a href=\"/review/show/6118280?book_show_action=true\" class=\"reviewDate createdAt right\" itemprop=\"publishDate\">Sep 17, 2007</a>\n",
        "\n",
        "      <a href=\"/user/show/368200-nathan\" class=\"user\" title=\"Nathan\">Nathan</a>\n",
        "\n",
        "        rated it\n",
        "        <a class=\" staticStars stars_5\" title=\"it was amazing\">5 of 5 stars</a>\n",
        "\n",
        "\n",
        "          <div><span class=\"uitext greyText\">Recommends it for: </span>\n",
        "           <span class=\"uitext reviewText\">Fans of the Great American Con.</span></div>\n",
        "\n",
        "        \n",
        "\n",
        "          <div class=\"uitext greyText bookshelves\">\n",
        "            Shelves:\n",
        "                <a href=\"/review/list/368200-nathan?shelf=fiction\" class=\"actionLinkLite\">fiction</a>\n",
        "          </div>\n",
        "    </div>\n",
        "\n",
        "        <div class=\"reviewText stacked\">\n",
        "              <span id=\"reviewTextContainer6118280\" class=\"readable\" style=\"\">\n",
        "            \n",
        "<span id=\"freeTextContainer4788718803876500929\" class=\"elementOne\">There's not much that can be said about this book by a hack like me that would do it justice. Mark Twain was the first American writer to figure out how to turn the American vernacular into art, and he was the first historian to document how we talked. He also was a visionary who saw the problems of race and the problem racism would be in the future, and he tried to warn the future the only way he knew how: by writing about it then. He was gutsy and he was talented and he was hilarious, and this</span>\n",
        "  <span id=\"freeText4788718803876500929\" class=\"elementTwo\" style=\"display:none\">There's not much that can be said about this book by a hack like me that would do it justice. Mark Twain was the first American writer to figure out how to turn the American vernacular into art, and he was the first historian to document how we talked. He also was a visionary who saw the problems of race and the problem racism would be in the future, and he tried to warn the future the only way he knew how: by writing about it then. He was gutsy and he was talented and he was hilarious, and this book captures it all. Tom Sawyer is the first truly American literary character, for better, worse, and all the in-between.<br><br>NC</span>\n",
        "  <a data-text-id=\"4788718803876500929\" href=\"#\" onclick=\"swapContent($(this));; return false;\">...more</a>\n",
        "          </span>\n",
        "        </div>\n",
        "\n",
        "\n",
        "      <div class=\"reviewFooter uitext buttons\">\n",
        "        \n",
        "<tr class=\"no_border\" id=\"update_comment_stuff_Review6118280\">\n",
        "  <td colspan=\"2\">\n",
        "    <div class=\"updateActionLinks\">\n",
        "        <a href=\"/flagged/new?resource_id=6118280&amp;resource_type=Review&amp;return_url=%2Fbook%2Fshow%2F24583.The_Adventures_of_Tom_Sawyer\" class=\"right flag\" id=\"flag_link6118280\" rel=\"nofollow\" title=\"Flag this review as inappropriate.\">flag</a>\n",
        "      <span class='likeItContainer' id='like_container_review_6118280'><a href=\"/rating/voters/6118280?resource_type=Review\" id=\"like_count_review_6118280\" rel=\"nofollow\"><span class=\"likesCount\">25 likes</span></a>&nbsp;&middot;&nbsp;<a href=\"https://www.goodreads.com/user/new?remember=true&amp;return_url=%2Fbook%2Fshow%2F24583.The_Adventures_of_Tom_Sawyer\" rel=\"nofollow\">like</a></span>&nbsp;&middot;&nbsp;<a href=\"/review/show/6118280?book_show_action=true&amp;page=1\">see review</a>\n",
        "    </div>\n",
        "    <div id='comments_for_review_6118280' style='display: none;'>\n",
        "<div class='brown_comment'>\n",
        "<img alt=\"Chat_bubbles\" src=\"https://s.gr-assets.com/assets/chat_bubbles-ea628733152ae8319e85921ab3057b48.png\" />\n",
        "<span class=\"loadingLinkSpan\"><a href=\"/review/6118280/comments?reverse=true\" class=\"loadingLink\" data-remote=\"true\">view all 3 comments</a><span class=\"loadingAnimation\"></span><span class=\"loadingError\"></span></span>\n",
        "</div>\n",
        "\n",
        "</div>\n",
        "\n",
        "  </td>\n",
        "</tr>\n",
        "\n",
        "      </div>\n",
        "\n",
        "  </div>\n",
        "\n",
        "  <div class=\"clear\"></div>\n",
        "</div>\n",
        "\n",
        "    </div>\n",
        "  </div>\n",
        "    <div class=\"elementListBrownSeparator\"></div>\n",
        "\n",
        "\n",
        "\n",
        "  <div class=\"friendReviews elementListBrown\">\n",
        "    <div class=\"section\">\n",
        "      \n",
        "\n",
        "<div id=\"review_129245582\" class=\"review nosyndicate\" itemprop=\"reviews\" itemscope itemtype=\"http://schema.org/Review\">\n",
        "  <link itemprop=\"url\" href=\"https://www.goodreads.com/review/show/129245582\" />\n",
        "  <a href=\"/user/show/2863914-joel\" class=\"left imgcol\" title=\"Joel\"><img alt=\"Joel\" src=\"https://d.gr-assets.com/users/1407175214p2/2863914.jpg\" /></a>\n",
        "\n",
        "  <div class=\"left bodycol\">\n",
        "    <div class=\"reviewHeader uitext stacked\">\n",
        "        <a href=\"/review/show/129245582?book_show_action=true\" class=\"reviewDate createdAt right\" itemprop=\"publishDate\">Nov 24, 2010</a>\n",
        "\n",
        "      <a href=\"/user/show/2863914-joel\" class=\"user\" title=\"Joel\">Joel</a>\n",
        "\n",
        "        rated it\n",
        "        <a class=\" staticStars stars_4\" title=\"really liked it\">4 of 5 stars</a>\n",
        "\n",
        "\n",
        "\n",
        "          <div>\n",
        "    <span class=\"greyText\">Recommended to Joel by: </span>\n",
        "      Fisher Price\n",
        "  </div>\n",
        "\n",
        "\n",
        "          <div class=\"uitext greyText bookshelves\">\n",
        "            Shelves:\n",
        "                <a href=\"/review/list/2863914-joel?shelf=2010\" class=\"actionLinkLite\">2010</a>, \n",
        "                <a href=\"/review/list/2863914-joel?shelf=52-in-2010\" class=\"actionLinkLite\">52-in-2010</a>, \n",
        "                <a href=\"/review/list/2863914-joel?shelf=classics\" class=\"actionLinkLite\">classics</a>, \n",
        "                <a href=\"/review/list/2863914-joel?shelf=dailylit\" class=\"actionLinkLite\">dailylit</a>\n",
        "          </div>\n",
        "    </div>\n",
        "\n",
        "        <div class=\"reviewText stacked\">\n",
        "              <span id=\"reviewTextContainer129245582\" class=\"readable\" style=\"\">\n",
        "            \n",
        "<span id=\"freeTextContainer5650681290531498516\" class=\"elementOne\">As a child, nothing terrified me more than being lost. My parents found this hilarious. Every time we went on a road trip, my dad would wait a few hours and then start moaning that we had somehow gotten lost. \"We're looost! We're looost!\" he would wail, and in the backseat I would immediately start bawling. My vivid memories of this suggest that the fear grabbed me long after I should have been old enough to realize that a little kid can't really be lost while with his parents, let alone that yo</span>\n",
        "  <span id=\"freeText5650681290531498516\" class=\"elementTwo\" style=\"display:none\">As a child, nothing terrified me more than being lost. My parents found this hilarious. Every time we went on a road trip, my dad would wait a few hours and then start moaning that we had somehow gotten lost. \"We're looost! We're looost!\" he would wail, and in the backseat I would immediately start bawling. My vivid memories of this suggest that the fear grabbed me long after I should have been old enough to realize that a little kid can't really be lost while with his parents, let alone that you can't really get lost in any meaningful way in a car in the U.S. (well, maybe spiritually).<br><br>I don't know if this is a universal kid fear, but I think with me, it stemmed from this book. More specifically, from the Fisher Price audio production, which I listened to so many times I had large swaths of it memorized (\"Tom Sawyer is a tale of imagination and wonder, told especially for you... from Fisher Price!\"). And this thing was 90 minutes. The part where Becky and Tom get lost in McDougal's Cave was <em>the</em> most harrowing thing I could imagine, even though in retrospect it was probably really ridiculous, what with all the boys clearly voiced by adult women and the oddly didactic dialogue (\"Oh Tom, the candle's almost out. Oh Tom, it's going out. Tom, it's out! what will we do, Tom?\"). And like being lost in the dark wasn't enough, \"Engine\" Joe was in there too! (I don't know if it's because I never saw the word in print but it wasn't until I was in my teens that I finally realized what his name was, and what it meant). <br><br>When my family went to Disney World when I was about five, we visited the Tom Sawyer's Cave attraction. My dad, ever the gentle and loving parental figure, decided to taunt me first by moaning that we were lost, and then by saying that Injun Joe was going to get me. This incident I don't remember, but my mom assures me there was a <em>lot</em> of loud screaming. Everyone, including the people in line behind us, thought it was very, very funny that I was scarred for life. I suppose the idea of being terrified while at a sanitized place like Disney World seems a <em>little</em> amusing. Except in the Hall of Presidents, which is certifiably creepy. <br><br>I'd actually never read this before, and it's just delightful. So much of it has become iconic, but it's still quite an endearing portrait of the idealized boyhood, the way the mundanities of life seem to stretch out into elaborate adventures and when sitting next to the girl you like is an experience all its own. I read Huck Finn in high school like everyone else, and though it's a great book, this one is just more fun to read. It is very episodic, more a series of adventures than a cohesive narrative (and Tom certainly has a busy summer... mine rarely involved witnessing murders or being threatened by murderers), which is probably why it is such an enduring and popular read for children.<br><br>It's pretty amazing how much of the book Fisher Price was able to fit into that tape. I think only a few sections weren't represented, and all the big ones (the cave, the treasure hunt, the funeral scene, the pirate adventures) were vividly familiar when I finally read them. Of course, I'm sure it's missing a lot of Twain's color and subtle, underplayed humor, and I'm also sure it would sound a lot less impressive if I listened to it again. Which fortunately I can probably never do because even though I still have the tape, I haven't owned anything that will play it in about five years.</span>\n",
        "  <a data-text-id=\"5650681290531498516\" href=\"#\" onclick=\"swapContent($(this));; return false;\">...more</a>\n",
        "          </span>\n",
        "        </div>\n",
        "\n",
        "\n",
        "      <div class=\"reviewFooter uitext buttons\">\n",
        "        \n",
        "<tr class=\"no_border\" id=\"update_comment_stuff_Review129245582\">\n",
        "  <td colspan=\"2\">\n",
        "    <div class=\"updateActionLinks\">\n",
        "        <a href=\"/flagged/new?resource_id=129245582&amp;resource_type=Review&amp;return_url=%2Fbook%2Fshow%2F24583.The_Adventures_of_Tom_Sawyer\" class=\"right flag\" id=\"flag_link129245582\" rel=\"nofollow\" title=\"Flag this review as inappropriate.\">flag</a>\n",
        "      <span class='likeItContainer' id='like_container_review_129245582'><a href=\"/rating/voters/129245582?resource_type=Review\" id=\"like_count_review_129245582\" rel=\"nofollow\"><span class=\"likesCount\">17 likes</span></a>&nbsp;&middot;&nbsp;<a href=\"https://www.goodreads.com/user/new?remember=true&amp;return_url=%2Fbook%2Fshow%2F24583.The_Adventures_of_Tom_Sawyer\" rel=\"nofollow\">like</a></span>&nbsp;&middot;&nbsp;<a href=\"/review/show/129245582?book_show_action=true&amp;page=1\">see review</a>\n",
        "    </div>\n",
        "    <div id='comments_for_review_129245582' style='display: none;'>\n",
        "<div class='brown_comment'>\n",
        "<img alt=\"Chat_bubbles\" src=\"https://s.gr-assets.com/assets/chat_bubbles-ea628733152ae8319e85921ab3057b48.png\" />\n",
        "<span class=\"loadingLinkSpan\"><a href=\"/review/129245582/comments?reverse=true\" class=\"loadingLink\" data-remote=\"true\">view all 10 comments</a><span class=\"loadingAnimation\"></span><span class=\"loadingError\"></span></span>\n",
        "</div>\n",
        "\n",
        "<div id=\"comment_101592223\" class=\"brown_comment\">\n",
        "  <div class=\"xhr_comment_photo\">\n",
        "    \t<a href=\"/user/show/5856247-david-sarkies\" alt=\"David Sarkies\"><img alt=\"5856247\" src=\"https://d.gr-assets.com/users/1364954265p1/5856247.jpg\" /></a>\n",
        "  </div>\n",
        "  <div class=\"xhr_comment_body\">\n",
        "    <a href=\"/user/show/5856247-david-sarkies\" style=\"font-weight:bold\">David Sarkies</a>\n",
        "\n",
        "      \n",
        "<span id=\"freeTextContainer4765255466642634888\" class=\"elementOne\">My father could never pull that one on me because as long as I knew where my parents were I was never lost (even if they were). I think my parents sti</span>\n",
        "  <span id=\"freeText4765255466642634888\" class=\"elementTwo\" style=\"display:none\">My father could never pull that one on me because as long as I knew where my parents were I was never lost (even if they were). I think my parents still have a tape player, not that I have used it in a very long time.</span>\n",
        "  <a data-text-id=\"4765255466642634888\" href=\"#\" onclick=\"swapContent($(this));; return false;\">...more</a>\n",
        "    <br/>\n",
        "\n",
        "    <span class=\"greyText\">\n",
        "      Jul 04, 2014 08:20PM\n",
        "    </span>\n",
        "\n",
        "  </div>\n",
        "  <div class=\"clear\"></div>\n",
        "</div>\n",
        "\n",
        "\n",
        "\n",
        "\n",
        "\n",
        "<div id=\"comment_108156968\" class=\"brown_comment\">\n",
        "  <div class=\"xhr_comment_photo\">\n",
        "    \t<a href=\"/user/show/5188564-janell-bishop\" alt=\"Janell Bishop\"><img alt=\"5188564\" src=\"https://d.gr-assets.com/users/1322325721p1/5188564.jpg\" /></a>\n",
        "  </div>\n",
        "  <div class=\"xhr_comment_body\">\n",
        "    <a href=\"/user/show/5188564-janell-bishop\" style=\"font-weight:bold\">Janell Bishop</a>\n",
        "\n",
        "      \n",
        "<span id=\"freeTextContainer5670509553800909304\" class=\"elementOne\">Oh, that is funny! I'm reading this to my kids right now. Wonder if they'll develop a fear of getting lost too! :)</span>\n",
        "\n",
        "    <br/>\n",
        "\n",
        "    <span class=\"greyText\">\n",
        "      Oct 21, 2014 09:51PM\n",
        "    </span>\n",
        "\n",
        "  </div>\n",
        "  <div class=\"clear\"></div>\n",
        "</div>\n",
        "\n",
        "\n",
        "\n",
        "\n",
        "\n",
        "</div>\n",
        "\n",
        "  </td>\n",
        "</tr>\n",
        "\n",
        "      </div>\n",
        "\n",
        "  </div>\n",
        "\n",
        "  <div class=\"clear\"></div>\n",
        "</div>\n",
        "\n",
        "    </div>\n",
        "  </div>\n",
        "    <div class=\"elementListBrownSeparator\"></div>\n",
        "\n",
        "\n",
        "\n",
        "  <div class=\"friendReviews elementListBrown\">\n",
        "    <div class=\"section\">\n",
        "      \n",
        "\n",
        "<div id=\"review_52578608\" class=\"review\" itemprop=\"reviews\" itemscope itemtype=\"http://schema.org/Review\">\n",
        "  <link itemprop=\"url\" href=\"https://www.goodreads.com/review/show/52578608\" />\n",
        "  <a href=\"/user/show/2218121-teri\" class=\"left imgcol\" title=\"Teri\"><img alt=\"Teri\" src=\"https://d.gr-assets.com/users/1329503192p2/2218121.jpg\" /></a>\n",
        "\n",
        "  <div class=\"left bodycol\">\n",
        "    <div class=\"reviewHeader uitext stacked\">\n",
        "        <a href=\"/review/show/52578608?book_show_action=true\" class=\"reviewDate createdAt right\" itemprop=\"publishDate\">Aug 12, 2012</a>\n",
        "\n",
        "      <a href=\"/user/show/2218121-teri\" class=\"user\" title=\"Teri\">Teri</a>\n",
        "\n",
        "        rated it\n",
        "        <a class=\" staticStars stars_2\" title=\"it was ok\">2 of 5 stars</a>\n",
        "\n",
        "\n",
        "\n",
        "        \n",
        "\n",
        "    </div>\n",
        "\n",
        "        <div class=\"reviewText stacked\">\n",
        "              <span id=\"reviewTextContainer52578608\" class=\"readable\" style=\"\">\n",
        "            \n",
        "<span id=\"freeTextContainer4122582789180236266\" class=\"elementOne\">I truly feel that if Tom Sawyer were ever a real person, there is not one single method of torture that he could endure that would satisfy how much I want to see this person suffer. All I know is that death would be too kind. Tom Sawyer is a bully. He is insufferably mischievous for no good reason, and the only act(s) of heroism he manages to pull off are to fulfill his own selfish motivations. He has absolutely no value to humankind. He is a conviction character with no arc and no personal grow</span>\n",
        "  <span id=\"freeText4122582789180236266\" class=\"elementTwo\" style=\"display:none\">I truly feel that if Tom Sawyer were ever a real person, there is not one single method of torture that he could endure that would satisfy how much I want to see this person suffer. All I know is that death would be too kind. Tom Sawyer is a bully. He is insufferably mischievous for no good reason, and the only act(s) of heroism he manages to pull off are to fulfill his own selfish motivations. He has absolutely no value to humankind. He is a conviction character with no arc and no personal growth in the most irritating ways. If I met him in real life, I would not hesitate to break his kneecaps with a crowbar.<br><br>Have I made it clear how much I hate Tom Sawyer?<br><br>Now that doesn't mean you shouldn't read the book. The book itself is written well, and it's a significant window to our own past or some such shit, and Mark Twain is an American treasure, blah-dee-dee-blah-blah. <br><br>Or you can just go read Twain's follow-up, <em>The Adventures of Huckleberry Finn</em> instead, because it's all that without having to put up with the unbearable bullshit of Tom Sawyer.<br><br>Just skip the last few chapters of <em>The Adventures of Huckleberry Finn</em> when Tom Sawyer shows up again and cocks up everything for his own personal, evil amusement. And no I'm not hiding this for spoilers, because trust me, I just did you a huge favor.</span>\n",
        "  <a data-text-id=\"4122582789180236266\" href=\"#\" onclick=\"swapContent($(this));; return false;\">...more</a>\n",
        "          </span>\n",
        "        </div>\n",
        "\n",
        "\n",
        "      <div class=\"reviewFooter uitext buttons\">\n",
        "        \n",
        "<tr class=\"no_border\" id=\"update_comment_stuff_Review52578608\">\n",
        "  <td colspan=\"2\">\n",
        "    <div class=\"updateActionLinks\">\n",
        "        <a href=\"/flagged/new?resource_id=52578608&amp;resource_type=Review&amp;return_url=%2Fbook%2Fshow%2F24583.The_Adventures_of_Tom_Sawyer\" class=\"right flag\" id=\"flag_link52578608\" rel=\"nofollow\" title=\"Flag this review as inappropriate.\">flag</a>\n",
        "      <span class='likeItContainer' id='like_container_review_52578608'><a href=\"/rating/voters/52578608?resource_type=Review\" id=\"like_count_review_52578608\" rel=\"nofollow\"><span class=\"likesCount\">16 likes</span></a>&nbsp;&middot;&nbsp;<a href=\"https://www.goodreads.com/user/new?remember=true&amp;return_url=%2Fbook%2Fshow%2F24583.The_Adventures_of_Tom_Sawyer\" rel=\"nofollow\">like</a></span>&nbsp;&middot;&nbsp;<a href=\"/review/show/52578608?book_show_action=true&amp;page=1\">see review</a>\n",
        "    </div>\n",
        "    <div id='comments_for_review_52578608' style='display: none;'>\n",
        "<div class='brown_comment'>\n",
        "<img alt=\"Chat_bubbles\" src=\"https://s.gr-assets.com/assets/chat_bubbles-ea628733152ae8319e85921ab3057b48.png\" />\n",
        "<span class=\"loadingLinkSpan\"><a href=\"/review/52578608/comments?reverse=true\" class=\"loadingLink\" data-remote=\"true\">view all 10 comments</a><span class=\"loadingAnimation\"></span><span class=\"loadingError\"></span></span>\n",
        "</div>\n",
        "\n",
        "<div id=\"comment_101607044\" class=\"brown_comment\">\n",
        "  <div class=\"xhr_comment_photo\">\n",
        "    \t<a href=\"/user/show/23137515-crystal-fall\" alt=\"Crystal Fall\"><img alt=\"23137515\" src=\"https://d.gr-assets.com/users/1380665244p1/23137515.jpg\" /></a>\n",
        "  </div>\n",
        "  <div class=\"xhr_comment_body\">\n",
        "    <a href=\"/user/show/23137515-crystal-fall\" style=\"font-weight:bold\">Crystal Fall</a>\n",
        "\n",
        "      \n",
        "<span id=\"freeTextContainer1130802121533809367\" class=\"elementOne\">Ya he was mischievous, but had good qualities too. He was a kid in a different era where the restrictions and expectations were different, a streetwis</span>\n",
        "  <span id=\"freeText1130802121533809367\" class=\"elementTwo\" style=\"display:none\">Ya he was mischievous, but had good qualities too. He was a kid in a different era where the restrictions and expectations were different, a streetwise type of kid, without the bubble wrap... just a tree switch.</span>\n",
        "  <a data-text-id=\"1130802121533809367\" href=\"#\" onclick=\"swapContent($(this));; return false;\">...more</a>\n",
        "    <br/>\n",
        "\n",
        "    <span class=\"greyText\">\n",
        "      Jul 05, 2014 05:29AM\n",
        "    </span>\n",
        "\n",
        "  </div>\n",
        "  <div class=\"clear\"></div>\n",
        "</div>\n",
        "\n",
        "\n",
        "\n",
        "\n",
        "\n",
        "<div id=\"comment_102904162\" class=\"brown_comment\">\n",
        "  <div class=\"xhr_comment_photo\">\n",
        "    \t<a href=\"/user/show/31703527-dan-q\" alt=\"Dan Q\"><img alt=\"31703527\" src=\"https://d.gr-assets.com/users/1401046230p1/31703527.jpg\" /></a>\n",
        "  </div>\n",
        "  <div class=\"xhr_comment_body\">\n",
        "    <a href=\"/user/show/31703527-dan-q\" style=\"font-weight:bold\">Dan Q</a>\n",
        "\n",
        "      \n",
        "<span id=\"freeTextContainer12462499469847153355\" class=\"elementOne\">The reason he is mischievous is because in those days, kids could go alone to the woods. What is wrong with you??!!</span>\n",
        "\n",
        "    <br/>\n",
        "\n",
        "    <span class=\"greyText\">\n",
        "      Jul 24, 2014 01:23PM\n",
        "    </span>\n",
        "\n",
        "  </div>\n",
        "  <div class=\"clear\"></div>\n",
        "</div>\n",
        "\n",
        "\n",
        "\n",
        "\n",
        "\n",
        "</div>\n",
        "\n",
        "  </td>\n",
        "</tr>\n",
        "\n",
        "      </div>\n",
        "\n",
        "  </div>\n",
        "\n",
        "  <div class=\"clear\"></div>\n",
        "</div>\n",
        "\n",
        "    </div>\n",
        "  </div>\n",
        "    <div class=\"elementListBrownSeparator\"></div>\n",
        "\n",
        "\n",
        "\n",
        "  <div class=\"friendReviews elementListBrown\">\n",
        "    <div class=\"section\">\n",
        "      \n",
        "\n",
        "<div id=\"review_375689821\" class=\"review nosyndicate\" itemprop=\"reviews\" itemscope itemtype=\"http://schema.org/Review\">\n",
        "  <link itemprop=\"url\" href=\"https://www.goodreads.com/review/show/375689821\" />\n",
        "  <a href=\"/user/show/5105002-peter\" class=\"left imgcol\" title=\"Peter\"><img alt=\"Peter\" src=\"https://d.gr-assets.com/users/1338124063p2/5105002.jpg\" /></a>\n",
        "\n",
        "  <div class=\"left bodycol\">\n",
        "    <div class=\"reviewHeader uitext stacked\">\n",
        "        <a href=\"/review/show/375689821?book_show_action=true\" class=\"reviewDate createdAt right\" itemprop=\"publishDate\">May 19, 2014</a>\n",
        "\n",
        "      <a href=\"/user/show/5105002-peter\" class=\"user\" title=\"Peter\">Peter</a>\n",
        "\n",
        "        rated it\n",
        "        <a class=\" staticStars stars_2\" title=\"it was ok\">2 of 5 stars</a>\n",
        "\n",
        "\n",
        "\n",
        "        \n",
        "\n",
        "    </div>\n",
        "\n",
        "        <div class=\"reviewText stacked\">\n",
        "              <span id=\"reviewTextContainer375689821\" class=\"readable\" style=\"\">\n",
        "            \n",
        "<span id=\"freeTextContainer2049142957343629738\" class=\"elementOne\">I read Huckleberry Finn first and found that a superior book. I think what makes that book better is the great overarching story and the strong narrator Huck, whose childlike 'simple' view Twain uses to question the status quo of the world around him. The only part of Huckleberry Finn that I disliked was Tom Sawyer's appearance at the end. That didn't bode well for this book, but I thought I would give it a go anyway.<br><br>#SPOILERS#<br><br>In this book Huck is not as fully formed as he appears in his own sto</span>\n",
        "  <span id=\"freeText2049142957343629738\" class=\"elementTwo\" style=\"display:none\">I read Huckleberry Finn first and found that a superior book. I think what makes that book better is the great overarching story and the strong narrator Huck, whose childlike 'simple' view Twain uses to question the status quo of the world around him. The only part of Huckleberry Finn that I disliked was Tom Sawyer's appearance at the end. That didn't bode well for this book, but I thought I would give it a go anyway.<br><br>#SPOILERS#<br><br>In this book Huck is not as fully formed as he appears in his own story but you can already see he's got a lot more character potential than Tom. Tom is a naughty boy, getting into various episode of comic mischief, some of the episodes - like the famous fence painting - I found fun, others - like the attempts to impress and woo Becky at school \u2013 I found boring and cloying and they made me want to skip chunks of the book. It is interesting that Twain's reuses similar stories from this novel in Huck Finn - the running away to the island and the townsfolk thinking Tom/Huck are dead, plus the conversation about pirates and robbers. Not only that, but the whole - everyone in town thinks Tom is dead and then he shows up alive schtick, is repeated twice in this book. You'd think the second time, when he's lost in the cave they'd all say, 'well, he's having us on again.'<br><br>Tom Sawyer to me came across as more of a simplistic book than Huck Finn. It would be fun to read as a kid, but reading it as an adult and knowing episodes of the story so well already, I have to admit that I didn't find it that interesting. </span>\n",
        "  <a data-text-id=\"2049142957343629738\" href=\"#\" onclick=\"swapContent($(this));; return false;\">...more</a>\n",
        "          </span>\n",
        "        </div>\n",
        "\n",
        "\n",
        "      <div class=\"reviewFooter uitext buttons\">\n",
        "        \n",
        "<tr class=\"no_border\" id=\"update_comment_stuff_Review375689821\">\n",
        "  <td colspan=\"2\">\n",
        "    <div class=\"updateActionLinks\">\n",
        "        <a href=\"/flagged/new?resource_id=375689821&amp;resource_type=Review&amp;return_url=%2Fbook%2Fshow%2F24583.The_Adventures_of_Tom_Sawyer\" class=\"right flag\" id=\"flag_link375689821\" rel=\"nofollow\" title=\"Flag this review as inappropriate.\">flag</a>\n",
        "      <span class='likeItContainer' id='like_container_review_375689821'><a href=\"/rating/voters/375689821?resource_type=Review\" id=\"like_count_review_375689821\" rel=\"nofollow\"><span class=\"likesCount\">13 likes</span></a>&nbsp;&middot;&nbsp;<a href=\"https://www.goodreads.com/user/new?remember=true&amp;return_url=%2Fbook%2Fshow%2F24583.The_Adventures_of_Tom_Sawyer\" rel=\"nofollow\">like</a></span>&nbsp;&middot;&nbsp;<a href=\"/review/show/375689821?book_show_action=true&amp;page=1\">see review</a>\n",
        "    </div>\n",
        "    <div id='comments_for_review_375689821' style='display: none;'>\n",
        "<div class='brown_comment'>\n",
        "<img alt=\"Chat_bubbles\" src=\"https://s.gr-assets.com/assets/chat_bubbles-ea628733152ae8319e85921ab3057b48.png\" />\n",
        "<span class=\"loadingLinkSpan\"><a href=\"/review/375689821/comments?reverse=true\" class=\"loadingLink\" data-remote=\"true\">view all 5 comments</a><span class=\"loadingAnimation\"></span><span class=\"loadingError\"></span></span>\n",
        "</div>\n",
        "\n",
        "<div id=\"comment_77482298\" class=\"brown_comment\">\n",
        "  <div class=\"xhr_comment_photo\">\n",
        "    \t<a href=\"/user/show/10604969-fawaz-h\" alt=\"Fawaz H\"><img alt=\"10604969\" src=\"https://d.gr-assets.com/users/1407401984p1/10604969.jpg\" /></a>\n",
        "  </div>\n",
        "  <div class=\"xhr_comment_body\">\n",
        "    <a href=\"/user/show/10604969-fawaz-h\" style=\"font-weight:bold\">Fawaz H</a>\n",
        "\n",
        "      \n",
        "<span id=\"freeTextContainer11344559410497685327\" class=\"elementOne\">I couldn't agree more with  ^^ Fantastic review</span>\n",
        "\n",
        "    <br/>\n",
        "\n",
        "    <span class=\"greyText\">\n",
        "      Jul 01, 2013 06:58PM\n",
        "    </span>\n",
        "\n",
        "  </div>\n",
        "  <div class=\"clear\"></div>\n",
        "</div>\n",
        "\n",
        "\n",
        "\n",
        "\n",
        "\n",
        "<div id=\"comment_90913649\" class=\"brown_comment\">\n",
        "  <div class=\"xhr_comment_photo\">\n",
        "    \t<a href=\"/user/show/27797743-wan-ling\" alt=\"Wan Ling\"><img alt=\"27797743\" src=\"https://d.gr-assets.com/users/1390029264p1/27797743.jpg\" /></a>\n",
        "  </div>\n",
        "  <div class=\"xhr_comment_body\">\n",
        "    <a href=\"/user/show/27797743-wan-ling\" style=\"font-weight:bold\">Wan Ling</a>\n",
        "\n",
        "      \n",
        "<span id=\"freeTextContainer11722736729280914684\" class=\"elementOne\">I haven't read this book yet but I also read Huck Finn first as I will read Tom Sawyer soon. I see what you mean Huck is just such a sweet and witty k</span>\n",
        "  <span id=\"freeText11722736729280914684\" class=\"elementTwo\" style=\"display:none\">I haven't read this book yet but I also read Huck Finn first as I will read Tom Sawyer soon. I see what you mean Huck is just such a sweet and witty kid I love him! And I can see Tom as the naughty boy. Good boys are more popular than bad boys haha.</span>\n",
        "  <a data-text-id=\"11722736729280914684\" href=\"#\" onclick=\"swapContent($(this));; return false;\">...more</a>\n",
        "    <br/>\n",
        "\n",
        "    <span class=\"greyText\">\n",
        "      Jan 18, 2014 12:38AM\n",
        "    </span>\n",
        "\n",
        "  </div>\n",
        "  <div class=\"clear\"></div>\n",
        "</div>\n",
        "\n",
        "\n",
        "\n",
        "\n",
        "\n",
        "</div>\n",
        "\n",
        "  </td>\n",
        "</tr>\n",
        "\n",
        "      </div>\n",
        "\n",
        "  </div>\n",
        "\n",
        "  <div class=\"clear\"></div>\n",
        "</div>\n",
        "\n",
        "    </div>\n",
        "  </div>\n",
        "    <div class=\"elementListBrownSeparator\"></div>\n",
        "\n",
        "\n",
        "\n",
        "  <div class=\"friendReviews elementListBrown\">\n",
        "    <div class=\"section\">\n",
        "      \n",
        "\n",
        "<div id=\"review_1003077376\" class=\"review nosyndicate\" itemprop=\"reviews\" itemscope itemtype=\"http://schema.org/Review\">\n",
        "  <link itemprop=\"url\" href=\"https://www.goodreads.com/review/show/1003077376\" />\n",
        "  <a href=\"/user/show/11147316-amir-lewiz\" class=\"left imgcol\" title=\"Amir Lewiz\"><img alt=\"Amir Lewiz\" src=\"https://d.gr-assets.com/users/1378675810p2/11147316.jpg\" /></a>\n",
        "\n",
        "  <div class=\"left bodycol\">\n",
        "    <div class=\"reviewHeader uitext stacked\">\n",
        "        <a href=\"/review/show/1003077376?book_show_action=true\" class=\"reviewDate createdAt right\" itemprop=\"publishDate\">Jul 29, 2014</a>\n",
        "\n",
        "      <a href=\"/user/show/11147316-amir-lewiz\" class=\"user\" title=\"Amir Lewiz\">Amir Lewiz</a>\n",
        "\n",
        "        rated it\n",
        "        <a class=\" staticStars stars_4\" title=\"really liked it\">4 of 5 stars</a>\n",
        "\n",
        "          <span class=\"greyText\">&nbsp;&middot;&nbsp;</span>\n",
        "          <a href=\"/book/show/22755192-the-adventures-of-tom-sawyer\" class=\"lightGreyText\" title=\"Paperback 995334342\">review of another edition</a>\n",
        "\n",
        "\n",
        "        \n",
        "\n",
        "    </div>\n",
        "\n",
        "        <div class=\"reviewText stacked\">\n",
        "              <span id=\"reviewTextContainer1003077376\" class=\"readable\" style=\"\">\n",
        "            \n",
        "<span id=\"freeTextContainer11651777528770949848\" class=\"elementOne\"><br>\u060c\u0639\u0646\u062f\u0645\u0627 \u0623\u0646\u0647\u064a \u0643\u062a\u0627\u0628\u062a\u0647\u0627 \u0645\u0627\u0631\u0643 \u062a\u0648\u064a\u0646 \u0642\u0631\u0631 \u0623\u0646\u0647\u0627   \u0644\u0644\u0646\u0627\u0634\u0626\u064a\u0646<br> .\u0644\u0643\u0646 \u0642\u0631\u0623\u0647\u0627 \u0623\u064a\u0636\u0627 \u0648 \u0627\u0633\u062a\u0645\u062a\u0639 \u0628\u0647\u0627  \u0639\u062f\u062f \u0644\u0627 \u064a\u062d\u0635\u064a \u0645\u0646 \u0627\u0644\u0643\u0628\u0627\u0631 \u0639\u0644\u064a \u0645\u0631 \u0627\u0644\u0633\u0646\u064a\u0646<br><br> \u0648 \u062a\u062d\u062a\u0648\u064a \u0639\u0644\u064a \u0630\u0643\u0631\u064a\u0627\u062a \u0637\u0641\u0648\u0644\u0629 \u0645\u0627\u0631\u0643 \u062a\u0648\u064a\u0646 \u0639\u0644\u064a \u0646\u0647\u0631 \u0627\u0644\u0645\u0633\u064a\u0633\u064a\u0628\u064a \u060c<br>\u0648\u0627\u0644\u0643\u062b\u064a\u0631 \u0645\u0646 \u0627\u0644\u0623\u062d\u062f\u0627\u062b \u0648\u0627\u0644\u0634\u062e\u0635\u064a\u0627\u062a \u0623\u062e\u0630\u062a \u0645\u0628\u0627\u0634\u0631\u0629 \u0645\u0646 \u0627\u0644\u062d\u064a\u0627\u0629<br>__________________________<br><br><br>\u062a\u0648\u0645 \u0627\u0644\u0648\u0644\u062f \u0627\u0644\u0630\u0643\u064a \u0627\u0644\u0634\u0642\u064a \u0627\u0644\u0630\u064a \u0644\u0627 \u064a\u0637\u064a\u0639 \u0623\u0648\u0627\u0645\u0631 \u0648 \u0646\u0635\u0627\u0626\u062d \u0627\u0644\u062e\u0627\u0644\u0629 \u0628\u0648\u0644\u064a \u0648\u0644\u0627 \u0623\u0633\u062a\u0627\u0630\u0647   <br>\u0648\u0637\u0627\u0644\u0645\u0627 \u062a\u0633\u0628\u0628 \u0630\u0644\u0643 \u0641\u064a \u0645\u062a\u0627\u0639\u0628 \u0639\u062f\u064a\u062f\u0629 \u0644\u0647\u0645 \u061b<br> \u0645\u0645\u0627 \u0643\u0627\u0646 \u064a\u0636\u0637\u0631 \u062e\u0627\u0644\u062a\u0647 \u0637\u064a\u0628\u0629 \u0627\u0644\u0642\u0644\u0628 \u0644\u0645\u0639\u0627\u0642\u0628\u062a\u0647\u060c<br><br>\u0623\u0645\u0627 \u0627\u0633\u062a\u0627\u0630\u0647 \u0641\u0644\u0627 \u064a\u0641\u0643\u0631 \u0645\u0631\u062a\u064a\u0646 \u0642\u0628\u0644 \u0623\u0646 \u064a\u0639\u0627\u0642\u0628\u0647 \u0628\u0642\u0633\u0648\u0629.<br><br><br>\u0644\u0643\u0646 \u0647\u0630\u0627 \u0627\u0644\u0630\u0643\u064a \u0627\u0644\u0641\u0646\u0627\u0646 \u0639\u0631\u0641 \u0641\u064a \u0627\u062d\u062f\u064a \u0627\u0644\u0645\u0631\u0627\u062a \u0643\u064a\u0641 \u064a\u0646\u062c\u0648 \u0645\u0646 \u0639\u0642\u0627\u0628 \u062e\u0627\u0644\u062a\u0647</span>\n",
        "  <span id=\"freeText11651777528770949848\" class=\"elementTwo\" style=\"display:none\"><br>\u060c\u0639\u0646\u062f\u0645\u0627 \u0623\u0646\u0647\u064a \u0643\u062a\u0627\u0628\u062a\u0647\u0627 \u0645\u0627\u0631\u0643 \u062a\u0648\u064a\u0646 \u0642\u0631\u0631 \u0623\u0646\u0647\u0627   \u0644\u0644\u0646\u0627\u0634\u0626\u064a\u0646<br> .\u0644\u0643\u0646 \u0642\u0631\u0623\u0647\u0627 \u0623\u064a\u0636\u0627 \u0648 \u0627\u0633\u062a\u0645\u062a\u0639 \u0628\u0647\u0627  \u0639\u062f\u062f \u0644\u0627 \u064a\u062d\u0635\u064a \u0645\u0646 \u0627\u0644\u0643\u0628\u0627\u0631 \u0639\u0644\u064a \u0645\u0631 \u0627\u0644\u0633\u0646\u064a\u0646<br><br> \u0648 \u062a\u062d\u062a\u0648\u064a \u0639\u0644\u064a \u0630\u0643\u0631\u064a\u0627\u062a \u0637\u0641\u0648\u0644\u0629 \u0645\u0627\u0631\u0643 \u062a\u0648\u064a\u0646 \u0639\u0644\u064a \u0646\u0647\u0631 \u0627\u0644\u0645\u0633\u064a\u0633\u064a\u0628\u064a \u060c<br>\u0648\u0627\u0644\u0643\u062b\u064a\u0631 \u0645\u0646 \u0627\u0644\u0623\u062d\u062f\u0627\u062b \u0648\u0627\u0644\u0634\u062e\u0635\u064a\u0627\u062a \u0623\u062e\u0630\u062a \u0645\u0628\u0627\u0634\u0631\u0629 \u0645\u0646 \u0627\u0644\u062d\u064a\u0627\u0629<br>__________________________<br><br><br>\u062a\u0648\u0645 \u0627\u0644\u0648\u0644\u062f \u0627\u0644\u0630\u0643\u064a \u0627\u0644\u0634\u0642\u064a \u0627\u0644\u0630\u064a \u0644\u0627 \u064a\u0637\u064a\u0639 \u0623\u0648\u0627\u0645\u0631 \u0648 \u0646\u0635\u0627\u0626\u062d \u0627\u0644\u062e\u0627\u0644\u0629 \u0628\u0648\u0644\u064a \u0648\u0644\u0627 \u0623\u0633\u062a\u0627\u0630\u0647   <br>\u0648\u0637\u0627\u0644\u0645\u0627 \u062a\u0633\u0628\u0628 \u0630\u0644\u0643 \u0641\u064a \u0645\u062a\u0627\u0639\u0628 \u0639\u062f\u064a\u062f\u0629 \u0644\u0647\u0645 \u061b<br> \u0645\u0645\u0627 \u0643\u0627\u0646 \u064a\u0636\u0637\u0631 \u062e\u0627\u0644\u062a\u0647 \u0637\u064a\u0628\u0629 \u0627\u0644\u0642\u0644\u0628 \u0644\u0645\u0639\u0627\u0642\u0628\u062a\u0647\u060c<br><br>\u0623\u0645\u0627 \u0627\u0633\u062a\u0627\u0630\u0647 \u0641\u0644\u0627 \u064a\u0641\u0643\u0631 \u0645\u0631\u062a\u064a\u0646 \u0642\u0628\u0644 \u0623\u0646 \u064a\u0639\u0627\u0642\u0628\u0647 \u0628\u0642\u0633\u0648\u0629.<br><br><br>\u0644\u0643\u0646 \u0647\u0630\u0627 \u0627\u0644\u0630\u0643\u064a \u0627\u0644\u0641\u0646\u0627\u0646 \u0639\u0631\u0641 \u0641\u064a \u0627\u062d\u062f\u064a \u0627\u0644\u0645\u0631\u0627\u062a \u0643\u064a\u0641 \u064a\u0646\u062c\u0648 \u0645\u0646 \u0639\u0642\u0627\u0628 \u062e\u0627\u0644\u062a\u0647 \u0648 \u064a\u062d\u0648\u0644\u0647 \u0644\u0635\u0627\u0644\u062d\u0647<br>(:<br><a href=\"http://imgur.com/KSPk261\" rel=\"nofollow\">\n",
        "  <img src=\"https://p.gr-assets.com/540x540/fit/hostedimages/1406589271/10570024.jpg\" class=\"escapedImg\"></a><br><br>\u0648\u0639\u0631\u0641 \u0647\u0648 \u0648\u0632\u0645\u0644\u0627\u0626\u0647 \u0643\u064a\u0641 \u064a\u0646\u062a\u0635\u0631\u0648\u0646 \u0639\u0644\u064a \u0647\u0630\u0627 \u0627\u0644\u0623\u0633\u062a\u0627\u0630 \u0627\u0644\u0642\u0627\u0633\u064a \u0639\u0644\u0646\u0627\u064b <br><br>\u0628\u0644  \u062c\u0639\u0644 \u0643\u0644 \u0623\u0647\u0644 \u0627\u0644\u0642\u0631\u064a\u0629 \u064a\u0646\u0638\u0631\u0648\u0646 \u0625\u0644\u064a\u0647 \u0628\u062a\u0642\u062f\u064a\u0631 \u0648 \u0627\u062d\u062a\u0631\u0627\u0645 \u0647\u0648 \u0635\u062f\u064a\u0642\u0647 \u0627\u0644\u0645\u062a\u0634\u0631\u062f <a href=\"https://www.goodreads.com/book/show/13291381\">\u0647\u0643\u0644\u0628\u0631\u064a \u0641\u0646<br></a><br><br>\u062d\u062a\u064a \u062c\u0648\u062c\u0644 <br>:)<br><br><a href=\"http://imgur.com/7Cl0Q7b\" rel=\"nofollow\">\n",
        "  <img src=\"https://p.gr-assets.com/540x540/fit/hostedimages/1406589271/10570022.jpg\" class=\"escapedImg\"></a><br><br>____________________________<br><br><strong><br>\u0641\u064a  \u0645\u063a\u0627\u0645\u0631\u0627\u062a \u062a\u0648\u0645 \u0627\u0644\u0639\u062f\u064a\u062f\u0629 \u064a\u0631\u064a \u0627\u0644\u0642\u0627\u0631\u0626 \u0627\u0644\u0623\u062d\u062f\u0627\u062b \u0645\u0646 \u0648\u062c\u0647\u0629 \u0646\u0638\u0631<br><a href=\"http://www.goodreads.com/book/show/6017015.___________\" title=\"\u062a\u0648\u0645 \u0648\u0645\u0646 \u0645\u0639\u0647 by \u0623\u062d\u0645\u062f \u062e\u0627\u0644\u062f \u062a\u0648\u0641\u064a\u0642\">\u062a\u0648\u0645 \u0648\u0645\u0646 \u0645\u0639\u0647</a><br>\u0648\u0627\u0644\u0646\u062a\u0627\u0626\u062c \u0627\u0644\u0645\u062a\u0631\u062a\u0628\u0629 \u0639\u0644\u064a\u0647\u0627 <br><br> \u0648\u064a\u0631\u064a \u062a\u0623\u062b\u064a\u0631\u0647\u0627 \u0639\u0644\u064a  \u0627\u0644\u062e\u0627\u0644\u0629 \u0628\u0648\u0644\u064a \u0648 \u0645\u0634\u0627\u0639\u0631\u0647\u0627 \u062a\u062c\u0627\u0647 \u062a\u0648\u0645 <br><br><br>\u0648 \u0641\u064a \u0647\u0630\u0627 \u062f\u0631\u0648\u0633  \u0644\u0644\u0646\u0627\u0634\u0626\u064a\u0646 .. \u0648 \u0627\u0644\u0623\u0645\u0647\u0627\u062a \u0623\u0648 \u0627\u0644\u0645\u064f\u0631\u0628\u0651\u0650\u064a\u0646  \u060c<br><br>\u063a\u064a\u0631  \u0645\u0646\u0627\u0642\u0634\u0629  \u0645\u0634\u0643\u0644\u0629  \u0627\u0644\u0623\u0637\u0641\u0627\u0644 \u0627\u0644\u0645\u062a\u0634\u0631\u062f\u064a\u0646 <br><br> \u0648\u0647\u0630\u0627 \u0645\u0627  \u064a\u0632\u064a\u062f \u0642\u064a\u0645\u0629 \u0627\u0644\u0631\u0648\u0627\u064a\u0629 \u0639\u0646\u062f\u064a <br></strong> <br>__________________________<br><br>\u0642\u0631\u0631\u062a \u0642\u0631\u0627\u0621\u062a\u0647\u0627 \u0628\u0639\u062f\u0645\u0627 \u0642\u0631\u0623\u062a \u0642\u0635\u062a\u064a\u0646 \u0644\u0645\u0627\u0631\u0643 \u062a\u0648\u064a\u0646 : <br>\u0627\u0644\u0631\u062c\u0644 \u0627\u0644\u0630\u064a \u0623\u0641\u0633\u062f \u0647\u0627\u062f\u0644\u0628\u064a\u0631\u062c \u060c<br> \u0627\u0644\u0645\u062e\u0628\u0631 \u0627\u0644\u0639\u0638\u064a\u0645 \u060c<br> \u0641\u064a \u0643\u062a\u064a\u0628 <a href=\"https://www.goodreads.com/review/show/968890291?book_show_action=false\"><br> \"\u062d\u0643\u0627\u064a\u0627\u062a \u0645\u0627\u0631\u0643 \u062a\u0648\u064a\u0646\" </a><br>  \u0641\u064a \u0633\u0644\u0633\u0644\u0629 \u0631\u0648\u0627\u064a\u0627\u062a \u0639\u0627\u0644\u0645\u064a\u0629 \u0644\u0644\u062c\u064a\u0628<br><br>\u0648\u0627\u0644\u0623\u0647\u0645 \u0623\u0646\u0646\u064a  \u0623\u0631\u064a\u062f \u0623\u0646 \u0623\u0642\u0631\u0623 \u0644\u0640 \u0645\u0627\u0631\u0643 \u062a\u0648\u064a\u0646 \u0623\u0639\u0638\u0645 \u0643\u0627\u062a\u0628 \u0623\u0645\u0631\u064a\u0643\u064a  \u0633\u0627\u062e\u0631<br></span>\n",
        "  <a data-text-id=\"11651777528770949848\" href=\"#\" onclick=\"swapContent($(this));; return false;\">...more</a>\n",
        "          </span>\n",
        "        </div>\n",
        "\n",
        "\n",
        "      <div class=\"reviewFooter uitext buttons\">\n",
        "        \n",
        "<tr class=\"no_border\" id=\"update_comment_stuff_Review1003077376\">\n",
        "  <td colspan=\"2\">\n",
        "    <div class=\"updateActionLinks\">\n",
        "        <a href=\"/flagged/new?resource_id=1003077376&amp;resource_type=Review&amp;return_url=%2Fbook%2Fshow%2F24583.The_Adventures_of_Tom_Sawyer\" class=\"right flag\" id=\"flag_link1003077376\" rel=\"nofollow\" title=\"Flag this review as inappropriate.\">flag</a>\n",
        "      <span class='likeItContainer' id='like_container_review_1003077376'><a href=\"/rating/voters/1003077376?resource_type=Review\" id=\"like_count_review_1003077376\" rel=\"nofollow\"><span class=\"likesCount\">11 likes</span></a>&nbsp;&middot;&nbsp;<a href=\"https://www.goodreads.com/user/new?remember=true&amp;return_url=%2Fbook%2Fshow%2F24583.The_Adventures_of_Tom_Sawyer\" rel=\"nofollow\">like</a></span>&nbsp;&middot;&nbsp;<a href=\"/review/show/1003077376?book_show_action=true&amp;page=1\">see review</a>\n",
        "    </div>\n",
        "    <div id='comments_for_review_1003077376' style='display: none;'>\n",
        "\n",
        "<div id=\"comment_103243113\" class=\"brown_comment\">\n",
        "  <div class=\"xhr_comment_photo\">\n",
        "    \t<a href=\"/user/show/19006568-haneen-najeh\" alt=\"Haneen Najeh\"><img alt=\"19006568\" src=\"https://d.gr-assets.com/users/1414186359p1/19006568.jpg\" /></a>\n",
        "  </div>\n",
        "  <div class=\"xhr_comment_body\">\n",
        "    <a href=\"/user/show/19006568-haneen-najeh\" style=\"font-weight:bold\">Haneen Najeh</a>\n",
        "\n",
        "      \n",
        "<span id=\"freeTextContainer12774905454110333349\" class=\"elementOne\">\u0647\u0627\u064a \u0627\u0644\u0642\u0635\u0629 \u0645\u0646 \u0630\u0643\u0631\u064a\u0627\u062a \u0627\u0644\u0637\u0641\u0648\u0644\u0629 :)</span>\n",
        "\n",
        "    <br/>\n",
        "\n",
        "    <span class=\"greyText\">\n",
        "      Jul 29, 2014 02:39PM\n",
        "    </span>\n",
        "\n",
        "  </div>\n",
        "  <div class=\"clear\"></div>\n",
        "</div>\n",
        "\n",
        "\n",
        "\n",
        "\n",
        "\n",
        "<div id=\"comment_103243659\" class=\"brown_comment\">\n",
        "  <div class=\"xhr_comment_photo\">\n",
        "    \t<a href=\"/user/show/11147316-amir-lewiz\" alt=\"Amir Lewiz\"><img alt=\"11147316\" src=\"https://d.gr-assets.com/users/1378675810p1/11147316.jpg\" /></a>\n",
        "  </div>\n",
        "  <div class=\"xhr_comment_body\">\n",
        "    <a href=\"/user/show/11147316-amir-lewiz\" style=\"font-weight:bold\">Amir Lewiz</a>\n",
        "\n",
        "      \n",
        "<span id=\"freeTextContainer17771938189669938021\" class=\"elementOne\"><em>Haneen wrote: \"\u0647\u0627\u064a \u0627\u0644\u0642\u0635\u0629 \u0645\u0646 \u0630\u0643\u0631\u064a\u0627\u062a \u0627\u0644\u0637\u0641\u0648\u0644\u0629 :)\"</em><br><br>:)))</span>\n",
        "\n",
        "    <br/>\n",
        "\n",
        "    <span class=\"greyText\">\n",
        "      Jul 29, 2014 02:47PM\n",
        "    </span>\n",
        "\n",
        "  </div>\n",
        "  <div class=\"clear\"></div>\n",
        "</div>\n",
        "\n",
        "\n",
        "\n",
        "\n",
        "\n",
        "</div>\n",
        "\n",
        "  </td>\n",
        "</tr>\n",
        "\n",
        "      </div>\n",
        "\n",
        "  </div>\n",
        "\n",
        "  <div class=\"clear\"></div>\n",
        "</div>\n",
        "\n",
        "    </div>\n",
        "  </div>\n",
        "    <div class=\"elementListBrownSeparator\"></div>\n",
        "\n",
        "\n",
        "\n",
        "  <div class=\"friendReviews elementListBrown\">\n",
        "    <div class=\"section\">\n",
        "      \n",
        "\n",
        "<div id=\"review_18848540\" class=\"review\" itemprop=\"reviews\" itemscope itemtype=\"http://schema.org/Review\">\n",
        "  <link itemprop=\"url\" href=\"https://www.goodreads.com/review/show/18848540\" />\n",
        "  <a href=\"/user/show/1027175-eliza\" class=\"left imgcol\" title=\"eliza\"><img alt=\"eliza\" src=\"https://d.gr-assets.com/users/1206725185p2/1027175.jpg\" /></a>\n",
        "\n",
        "  <div class=\"left bodycol\">\n",
        "    <div class=\"reviewHeader uitext stacked\">\n",
        "        <a href=\"/review/show/18848540?book_show_action=true\" class=\"reviewDate createdAt right\" itemprop=\"publishDate\">Mar 28, 2008</a>\n",
        "\n",
        "      <a href=\"/user/show/1027175-eliza\" class=\"user\" title=\"eliza\">eliza</a>\n",
        "\n",
        "        rated it\n",
        "        <a class=\" staticStars stars_3\" title=\"liked it\">3 of 5 stars</a>\n",
        "\n",
        "\n",
        "\n",
        "        \n",
        "\n",
        "    </div>\n",
        "\n",
        "        <div class=\"reviewText stacked\">\n",
        "              <span id=\"reviewTextContainer18848540\" class=\"readable\" style=\"\">\n",
        "            \n",
        "<span id=\"freeTextContainer14530620805695800827\" class=\"elementOne\">Little-known fact: I played an extra in the musical and got to choose my own name.  I picked \"Tony\" but was told I had to change it because \"the Italians hadn't arrived yet.\"  So I changed it to \"Anthony\" and they accepted that.  I guess what they meant is that the Italians hadn't started using nick-names yet.</span>\n",
        "\n",
        "          </span>\n",
        "        </div>\n",
        "\n",
        "\n",
        "      <div class=\"reviewFooter uitext buttons\">\n",
        "        \n",
        "<tr class=\"no_border\" id=\"update_comment_stuff_Review18848540\">\n",
        "  <td colspan=\"2\">\n",
        "    <div class=\"updateActionLinks\">\n",
        "        <a href=\"/flagged/new?resource_id=18848540&amp;resource_type=Review&amp;return_url=%2Fbook%2Fshow%2F24583.The_Adventures_of_Tom_Sawyer\" class=\"right flag\" id=\"flag_link18848540\" rel=\"nofollow\" title=\"Flag this review as inappropriate.\">flag</a>\n",
        "      <span class='likeItContainer' id='like_container_review_18848540'><a href=\"/rating/voters/18848540?resource_type=Review\" id=\"like_count_review_18848540\" rel=\"nofollow\"><span class=\"likesCount\">11 likes</span></a>&nbsp;&middot;&nbsp;<a href=\"https://www.goodreads.com/user/new?remember=true&amp;return_url=%2Fbook%2Fshow%2F24583.The_Adventures_of_Tom_Sawyer\" rel=\"nofollow\">like</a></span>&nbsp;&middot;&nbsp;<a href=\"/review/show/18848540?book_show_action=true&amp;page=1\">see review</a>\n",
        "    </div>\n",
        "    <div id='comments_for_review_18848540' style='display: none;'>\n",
        "<div class='brown_comment'>\n",
        "<img alt=\"Chat_bubbles\" src=\"https://s.gr-assets.com/assets/chat_bubbles-ea628733152ae8319e85921ab3057b48.png\" />\n",
        "<span class=\"loadingLinkSpan\"><a href=\"/review/18848540/comments?reverse=true\" class=\"loadingLink\" data-remote=\"true\">view all 8 comments</a><span class=\"loadingAnimation\"></span><span class=\"loadingError\"></span></span>\n",
        "</div>\n",
        "\n",
        "<div id=\"comment_99780185\" class=\"brown_comment\">\n",
        "  <div class=\"xhr_comment_photo\">\n",
        "    \t<a href=\"/user/show/11441929-la-rachelle\" alt=\"La Rachelle\"><img alt=\"F_25x33\" src=\"https://s.gr-assets.com/assets/nophoto/user/f_25x33-a11aa9d9c367909509bd5592099ffe53.png\" /></a>\n",
        "  </div>\n",
        "  <div class=\"xhr_comment_body\">\n",
        "    <a href=\"/user/show/11441929-la-rachelle\" style=\"font-weight:bold\">La Rachelle</a>\n",
        "\n",
        "      \n",
        "<span id=\"freeTextContainer5478209063635957036\" class=\"elementOne\">What dies that have to do with this book?</span>\n",
        "\n",
        "    <br/>\n",
        "\n",
        "    <span class=\"greyText\">\n",
        "      Jun 05, 2014 07:45AM\n",
        "    </span>\n",
        "\n",
        "  </div>\n",
        "  <div class=\"clear\"></div>\n",
        "</div>\n",
        "\n",
        "\n",
        "\n",
        "\n",
        "\n",
        "<div id=\"comment_101592406\" class=\"brown_comment\">\n",
        "  <div class=\"xhr_comment_photo\">\n",
        "    \t<a href=\"/user/show/5856247-david-sarkies\" alt=\"David Sarkies\"><img alt=\"5856247\" src=\"https://d.gr-assets.com/users/1364954265p1/5856247.jpg\" /></a>\n",
        "  </div>\n",
        "  <div class=\"xhr_comment_body\">\n",
        "    <a href=\"/user/show/5856247-david-sarkies\" style=\"font-weight:bold\">David Sarkies</a>\n",
        "\n",
        "      \n",
        "<span id=\"freeTextContainer13393309340685456335\" class=\"elementOne\">I'm sure there is a way to make that apply to Tom Sawyer. I guess you have to sit down and contemplate on the meaning of this enlightened little known</span>\n",
        "  <span id=\"freeText13393309340685456335\" class=\"elementTwo\" style=\"display:none\">I'm sure there is a way to make that apply to Tom Sawyer. I guess you have to sit down and contemplate on the meaning of this enlightened little known fact.</span>\n",
        "  <a data-text-id=\"13393309340685456335\" href=\"#\" onclick=\"swapContent($(this));; return false;\">...more</a>\n",
        "    <br/>\n",
        "\n",
        "    <span class=\"greyText\">\n",
        "      Jul 04, 2014 08:25PM\n",
        "    </span>\n",
        "\n",
        "  </div>\n",
        "  <div class=\"clear\"></div>\n",
        "</div>\n",
        "\n",
        "\n",
        "\n",
        "\n",
        "\n",
        "</div>\n",
        "\n",
        "  </td>\n",
        "</tr>\n",
        "\n",
        "      </div>\n",
        "\n",
        "  </div>\n",
        "\n",
        "  <div class=\"clear\"></div>\n",
        "</div>\n",
        "\n",
        "    </div>\n",
        "  </div>\n",
        "    <div class=\"elementListBrownSeparator\"></div>\n",
        "\n",
        "\n",
        "\n",
        "  <div class=\"friendReviews elementListBrown\">\n",
        "    <div class=\"section\">\n",
        "      \n",
        "\n",
        "<div id=\"review_331509400\" class=\"review nosyndicate\" itemprop=\"reviews\" itemscope itemtype=\"http://schema.org/Review\">\n",
        "  <link itemprop=\"url\" href=\"https://www.goodreads.com/review/show/331509400\" />\n",
        "  <a href=\"/user/show/5040946-anastasia\" class=\"left imgcol\" title=\"Anastasia\"><img alt=\"Anastasia\" src=\"https://d.gr-assets.com/users/1394277756p2/5040946.jpg\" /></a>\n",
        "\n",
        "  <div class=\"left bodycol\">\n",
        "    <div class=\"reviewHeader uitext stacked\">\n",
        "        <a href=\"/review/show/331509400?book_show_action=true\" class=\"reviewDate createdAt right\" itemprop=\"publishDate\">Sep 14, 2014</a>\n",
        "\n",
        "      <a href=\"/user/show/5040946-anastasia\" class=\"user\" title=\"Anastasia\">Anastasia</a>\n",
        "\n",
        "        rated it\n",
        "        <a class=\" staticStars stars_4\" title=\"really liked it\">4 of 5 stars</a>\n",
        "\n",
        "          <span class=\"greyText\">&nbsp;&middot;&nbsp;</span>\n",
        "          <a href=\"/book/show/12382923-le-avventure-di-tom-sawyer\" class=\"lightGreyText\" title=\"Paperback 9788804498117\">review of another edition</a>\n",
        "\n",
        "\n",
        "        \n",
        "\n",
        "          <div class=\"uitext greyText bookshelves\">\n",
        "            Shelves:\n",
        "                <a href=\"/review/list/5040946-anastasia?shelf=hall-of-fame\" class=\"actionLinkLite\">hall-of-fame</a>, \n",
        "                <a href=\"/review/list/5040946-anastasia?shelf=19th-century\" class=\"actionLinkLite\">19th-century</a>, \n",
        "                <a href=\"/review/list/5040946-anastasia?shelf=adventure\" class=\"actionLinkLite\">adventure</a>, \n",
        "                <a href=\"/review/list/5040946-anastasia?shelf=3-usa-literature\" class=\"actionLinkLite\">3-usa-literature</a>, \n",
        "                <a href=\"/review/list/5040946-anastasia?shelf=0-2012\" class=\"actionLinkLite\">0-2012</a>\n",
        "          </div>\n",
        "    </div>\n",
        "\n",
        "        <div class=\"reviewText stacked\">\n",
        "              <span id=\"reviewTextContainer331509400\" class=\"readable\" style=\"\">\n",
        "            \n",
        "<span id=\"freeTextContainer7647087865609764649\" class=\"elementOne\"><strong><em>Le avventure di Tom Sawyer</em> \u00e8 un  libro incredibile per i piccoli lettori e un inno all'infanzia perduta per quelli un po' pi\u00f9 grandi.</strong> <br><br>E possiamo far valere questo opening pure come ending e far capire che si potrebbe riassumere tutto qui, a livello di significato, contenuto e impressioni da parte del lettore.<br>Per\u00f2 io non sono capace di stare zitta, quindi allungo la questione.<br>Non tanto, lo prometto.<br><br>Tom Sawyer \u00e8 uno di quei bambini che io  non avrei sopportato da piccola. Sempre pieno di energie, il</span>\n",
        "  <span id=\"freeText7647087865609764649\" class=\"elementTwo\" style=\"display:none\"><strong><em>Le avventure di Tom Sawyer</em> \u00e8 un  libro incredibile per i piccoli lettori e un inno all'infanzia perduta per quelli un po' pi\u00f9 grandi.</strong> <br><br>E possiamo far valere questo opening pure come ending e far capire che si potrebbe riassumere tutto qui, a livello di significato, contenuto e impressioni da parte del lettore.<br>Per\u00f2 io non sono capace di stare zitta, quindi allungo la questione.<br>Non tanto, lo prometto.<br><br>Tom Sawyer \u00e8 uno di quei bambini che io  non avrei sopportato da piccola. Sempre pieno di energie, il classico compagno che ti trascina qua e l\u00e0, e soprattutto, ti caccia inevitabilmente nei guai. E giochiamo a questo e quello, e infiliamoci di l\u00e0 e di qua, e facciamo questa cosa perch\u00e9 ce l'ha proibito la mamma e quindi dev'essere assolutamente divertente.<br>Io ero la classica bambina tutta rannicchiata in un angolino, che preferisce di gran lunga un cartone della Disney o un libro della Battello a Vapore piuttosto che uscire e correre e far casino alla maniera bambinesca. Io non ho mai sopportato le cose troppo movimentate, figuriamoci che avevo pure scaga di giocare a rubabandiera, o a ce l'hai, perch\u00e9 avevo sempre paura di mostrare le mie scarsi doti di atleta, e in generale perch\u00e9 non mi piaceva tutta l'agitazione che si crea in giochi del genere, ne fuggivo come se fosse la peste. <br><br>E meno male che l'Anastasia bambina non ha dovuto prendere parte alle avventure di Tom Sawyer, povera lei, si sarebbe letteralmente pisciata addosso dalla paura: troppo brivido per il suo cuoricino. <br>Per\u00f2 non \u00e8 male stare comoda a guardare, cos\u00ec s\u00ec che va bene. E stare a guardare questo bambino che ne passa di cotte e di crude fa scattere inevitabilmente il sorrisetto nostalgico da lettrice che la spensieratezza non sa pi\u00f9 nemmeno cos'\u00e8. <br><strong>Vitale</strong>, \u00e8 vitale questo romanzo, vivace, movimentato, non si sta un attimo fermi, si segue il suo vispo protagonista nelle tante vicende che gli capitano, una dopo l'altra. L'idea di una pausa non esiste, non \u00e8 concepita nel suo animo cos\u00ec pulsante, nella sua voglia di uscire e far in modo che accada qualcosa di stupendo alla sua giornata. Dormire? Ma chi ha voglia! Riposarsi un secondo? Ma chi ha detto che lui \u00e8 stanco?! <br><br><em>\"Anche se il mio libro \u00e8 stato scritto soprattutto per divertire ragazzini e ragazzine, spero che gli adulti non lo butteranno via per questo; tra i miei intenti nello scriverlo, infatti, c'era anche quello di far tornare in mente ai grandi, con piacere, ci\u00f2 che loro stessi sono stati: che cosa provavano, come ragionavano e come parlavano quando erano ragazzi e in che razza di strane imprese si andavano a ficcare certe volte.\"</em><br><br>Se lo volete sapere, Twain ci \u00e8 riuscito alla grande. Twain non \u00e8 stato solo capace di scrivere un validissimo romanzo per ragazzi,  da bravo psicologo \u00e8 stato capace di riportare perfettamente il modo di ragionare e sentire di un bambino: tutti i drammoni fatti un po' per capriccio, il modo di parlare cos\u00ec ingenuo e spensierato che diventa persino comico, lo strazio degli obblighi e il paradiso del gioco ininterrotto, in pratica tutti i pilastri dell'infanzia che fu.  <br>Fu, infatti.<br>Una delle cose che rimpiango di pi\u00f9. </span>\n",
        "  <a data-text-id=\"7647087865609764649\" href=\"#\" onclick=\"swapContent($(this));; return false;\">...more</a>\n",
        "          </span>\n",
        "        </div>\n",
        "\n",
        "\n",
        "      <div class=\"reviewFooter uitext buttons\">\n",
        "        \n",
        "<tr class=\"no_border\" id=\"update_comment_stuff_Review331509400\">\n",
        "  <td colspan=\"2\">\n",
        "    <div class=\"updateActionLinks\">\n",
        "        <a href=\"/flagged/new?resource_id=331509400&amp;resource_type=Review&amp;return_url=%2Fbook%2Fshow%2F24583.The_Adventures_of_Tom_Sawyer\" class=\"right flag\" id=\"flag_link331509400\" rel=\"nofollow\" title=\"Flag this review as inappropriate.\">flag</a>\n",
        "      <span class='likeItContainer' id='like_container_review_331509400'><a href=\"/rating/voters/331509400?resource_type=Review\" id=\"like_count_review_331509400\" rel=\"nofollow\"><span class=\"likesCount\">10 likes</span></a>&nbsp;&middot;&nbsp;<a href=\"https://www.goodreads.com/user/new?remember=true&amp;return_url=%2Fbook%2Fshow%2F24583.The_Adventures_of_Tom_Sawyer\" rel=\"nofollow\">like</a></span>&nbsp;&middot;&nbsp;<a href=\"/review/show/331509400?book_show_action=true&amp;page=1\">see review</a>\n",
        "    </div>\n",
        "    <div id='comments_for_review_331509400' style='display: none;'>\n",
        "<div class='brown_comment'>\n",
        "<img alt=\"Chat_bubbles\" src=\"https://s.gr-assets.com/assets/chat_bubbles-ea628733152ae8319e85921ab3057b48.png\" />\n",
        "<span class=\"loadingLinkSpan\"><a href=\"/review/331509400/comments?reverse=true\" class=\"loadingLink\" data-remote=\"true\">view 1 comment</a><span class=\"loadingAnimation\"></span><span class=\"loadingError\"></span></span>\n",
        "</div>\n",
        "\n",
        "</div>\n",
        "\n",
        "  </td>\n",
        "</tr>\n",
        "\n",
        "      </div>\n",
        "\n",
        "  </div>\n",
        "\n",
        "  <div class=\"clear\"></div>\n",
        "</div>\n",
        "\n",
        "    </div>\n",
        "  </div>\n",
        "    <div class=\"elementListBrownSeparator\"></div>\n",
        "\n",
        "\n",
        "\n",
        "  <div class=\"friendReviews elementListBrown\">\n",
        "    <div class=\"section\">\n",
        "      \n",
        "\n",
        "<div id=\"review_74209058\" class=\"review\" itemprop=\"reviews\" itemscope itemtype=\"http://schema.org/Review\">\n",
        "  <link itemprop=\"url\" href=\"https://www.goodreads.com/review/show/74209058\" />\n",
        "  <a href=\"/user/show/2187043-mike-the-paladin\" class=\"left imgcol\" title=\"Mike (the Paladin)\"><img alt=\"Mike (the Paladin)\" src=\"https://d.gr-assets.com/users/1398875184p2/2187043.jpg\" /></a>\n",
        "\n",
        "  <div class=\"left bodycol\">\n",
        "    <div class=\"reviewHeader uitext stacked\">\n",
        "        <a href=\"/review/show/74209058?book_show_action=true\" class=\"reviewDate createdAt right\" itemprop=\"publishDate\">Jul 04, 2014</a>\n",
        "\n",
        "      <a href=\"/user/show/2187043-mike-the-paladin\" class=\"user\" title=\"Mike (the Paladin)\">Mike (the Paladin)</a>\n",
        "\n",
        "        rated it\n",
        "        <a class=\" staticStars stars_5\" title=\"it was amazing\">5 of 5 stars</a>\n",
        "\n",
        "          <span class=\"greyText\">&nbsp;&middot;&nbsp;</span>\n",
        "          <a href=\"/book/show/24581.The_Adventures_of_Tom_Sawyer\" class=\"lightGreyText\" title=\"Hardcover 9781402714603\">review of another edition</a>\n",
        "\n",
        "\n",
        "        \n",
        "\n",
        "    </div>\n",
        "\n",
        "        <div class=\"reviewText stacked\">\n",
        "              <span id=\"reviewTextContainer74209058\" class=\"readable\" style=\"\">\n",
        "            \n",
        "<span id=\"freeTextContainer6603834440671058309\" class=\"elementOne\">Just had to \"pick\" an edition...couldn't find either the one I read back in the 60s or the one on my shelves now.<br><br>This is a wonderful book, for young or old, read it over and over a\"true\" American classic. Great, great, great.<br><br>Tom white washing the fence is so well know...and most have at least heard of Becky, but if you haven't gone to the grave yard with Tom (and Huck) and taken the blood oath: \"swears they will keep mum about This and They wish They may Drop down dead in Their Tracks if They ev</span>\n",
        "  <span id=\"freeText6603834440671058309\" class=\"elementTwo\" style=\"display:none\">Just had to \"pick\" an edition...couldn't find either the one I read back in the 60s or the one on my shelves now.<br><br>This is a wonderful book, for young or old, read it over and over a\"true\" American classic. Great, great, great.<br><br>Tom white washing the fence is so well know...and most have at least heard of Becky, but if you haven't gone to the grave yard with Tom (and Huck) and taken the blood oath: \"swears they will keep mum about This and They wish They may Drop down dead in Their Tracks if They ever Tell and Rot.\" (quote from Tom Sawyer by Mark Twain) Or be tracked through a cave by a murderer...or even fed a cat \"painkiller\", well you don't know what you've missed..<br><br>Don't miss this if you haven't taken the time to read it, do...quick.</span>\n",
        "  <a data-text-id=\"6603834440671058309\" href=\"#\" onclick=\"swapContent($(this));; return false;\">...more</a>\n",
        "          </span>\n",
        "        </div>\n",
        "\n",
        "\n",
        "      <div class=\"reviewFooter uitext buttons\">\n",
        "        \n",
        "<tr class=\"no_border\" id=\"update_comment_stuff_Review74209058\">\n",
        "  <td colspan=\"2\">\n",
        "    <div class=\"updateActionLinks\">\n",
        "        <a href=\"/flagged/new?resource_id=74209058&amp;resource_type=Review&amp;return_url=%2Fbook%2Fshow%2F24583.The_Adventures_of_Tom_Sawyer\" class=\"right flag\" id=\"flag_link74209058\" rel=\"nofollow\" title=\"Flag this review as inappropriate.\">flag</a>\n",
        "      <span class='likeItContainer' id='like_container_review_74209058'><a href=\"/rating/voters/74209058?resource_type=Review\" id=\"like_count_review_74209058\" rel=\"nofollow\"><span class=\"likesCount\">10 likes</span></a>&nbsp;&middot;&nbsp;<a href=\"https://www.goodreads.com/user/new?remember=true&amp;return_url=%2Fbook%2Fshow%2F24583.The_Adventures_of_Tom_Sawyer\" rel=\"nofollow\">like</a></span>&nbsp;&middot;&nbsp;<a href=\"/review/show/74209058?book_show_action=true&amp;page=1\">see review</a>\n",
        "    </div>\n",
        "    <div id='comments_for_review_74209058' style='display: none;'>\n",
        "\n",
        "<div id=\"comment_101591691\" class=\"brown_comment\">\n",
        "  <div class=\"xhr_comment_photo\">\n",
        "    \t<a href=\"/user/show/5856247-david-sarkies\" alt=\"David Sarkies\"><img alt=\"5856247\" src=\"https://d.gr-assets.com/users/1364954265p1/5856247.jpg\" /></a>\n",
        "  </div>\n",
        "  <div class=\"xhr_comment_body\">\n",
        "    <a href=\"/user/show/5856247-david-sarkies\" style=\"font-weight:bold\">David Sarkies</a>\n",
        "\n",
        "      \n",
        "<span id=\"freeTextContainer3862504433690013904\" class=\"elementOne\">I'm glad I decided to read this book recently, having never read it as a kid. You hear so much about these stories (such as the fence) but it is much</span>\n",
        "  <span id=\"freeText3862504433690013904\" class=\"elementTwo\" style=\"display:none\">I'm glad I decided to read this book recently, having never read it as a kid. You hear so much about these stories (such as the fence) but it is much better for them to be in context.</span>\n",
        "  <a data-text-id=\"3862504433690013904\" href=\"#\" onclick=\"swapContent($(this));; return false;\">...more</a>\n",
        "    <br/>\n",
        "\n",
        "    <span class=\"greyText\">\n",
        "      Jul 04, 2014 08:06PM\n",
        "    </span>\n",
        "\n",
        "  </div>\n",
        "  <div class=\"clear\"></div>\n",
        "</div>\n",
        "\n",
        "\n",
        "\n",
        "\n",
        "\n",
        "<div id=\"comment_101593209\" class=\"brown_comment\">\n",
        "  <div class=\"xhr_comment_photo\">\n",
        "    \t<a href=\"/user/show/2187043-mike-the-paladin\" alt=\"Mike (the Paladin)\"><img alt=\"2187043\" src=\"https://d.gr-assets.com/users/1398875184p1/2187043.jpg\" /></a>\n",
        "  </div>\n",
        "  <div class=\"xhr_comment_body\">\n",
        "    <a href=\"/user/show/2187043-mike-the-paladin\" style=\"font-weight:bold\">Mike (the Paladin)</a>\n",
        "\n",
        "      \n",
        "<span id=\"freeTextContainer7908425354879611901\" class=\"elementOne\">Oh yeah. Anything by Twain is usually good.</span>\n",
        "\n",
        "    <br/>\n",
        "\n",
        "    <span class=\"greyText\">\n",
        "      Jul 04, 2014 08:47PM\n",
        "    </span>\n",
        "\n",
        "  </div>\n",
        "  <div class=\"clear\"></div>\n",
        "</div>\n",
        "\n",
        "\n",
        "\n",
        "\n",
        "\n",
        "</div>\n",
        "\n",
        "  </td>\n",
        "</tr>\n",
        "\n",
        "      </div>\n",
        "\n",
        "  </div>\n",
        "\n",
        "  <div class=\"clear\"></div>\n",
        "</div>\n",
        "\n",
        "    </div>\n",
        "  </div>\n",
        "    <div class=\"elementListBrownSeparator\"></div>\n",
        "\n",
        "\n",
        "\n",
        "  <div class=\"friendReviews elementListBrown\">\n",
        "    <div class=\"section\">\n",
        "      \n",
        "\n",
        "<div id=\"review_1052930809\" class=\"review\" itemprop=\"reviews\" itemscope itemtype=\"http://schema.org/Review\">\n",
        "  <link itemprop=\"url\" href=\"https://www.goodreads.com/review/show/1052930809\" />\n",
        "  <a href=\"/user/show/6688207-natalie-monroe\" class=\"left imgcol\" title=\"Natalie Monroe\"><img alt=\"Natalie Monroe\" src=\"https://d.gr-assets.com/users/1339730817p2/6688207.jpg\" /></a>\n",
        "\n",
        "  <div class=\"left bodycol\">\n",
        "    <div class=\"reviewHeader uitext stacked\">\n",
        "        <a href=\"/review/show/1052930809?book_show_action=true\" class=\"reviewDate createdAt right\" itemprop=\"publishDate\">Sep 16, 2014</a>\n",
        "\n",
        "      <a href=\"/user/show/6688207-natalie-monroe\" class=\"user\" title=\"Natalie Monroe\">Natalie Monroe</a>\n",
        "\n",
        "        rated it\n",
        "        <a class=\" staticStars stars_4\" title=\"really liked it\">4 of 5 stars</a>\n",
        "\n",
        "\n",
        "\n",
        "        \n",
        "\n",
        "          <div class=\"uitext greyText bookshelves\">\n",
        "            Shelves:\n",
        "                <a href=\"/review/list/6688207-natalie-monroe?shelf=classics\" class=\"actionLinkLite\">classics</a>\n",
        "          </div>\n",
        "    </div>\n",
        "\n",
        "        <div class=\"reviewText stacked\">\n",
        "              <span id=\"reviewTextContainer1052930809\" class=\"readable\" style=\"\">\n",
        "            \n",
        "<span id=\"freeTextContainer5321383474870913210\" class=\"elementOne\"><strong>Three things I've learned from reading Tom Sawyer:</strong><br><br>1. Marbles are an acceptable form of currency. So provided I didn't throw out my set when I moved, I'm rich and can whitewash as many fences as I want.<br><br>2. Boys are dicks to the girls they like.<br><br><img src=\"https://p.gr-assets.com/540x540/fit/hostedimages/1410858215/11161261.gif\" class=\"escapedImg\"><br>This is a lie.<br><br><img src=\"https://p.gr-assets.com/540x540/fit/hostedimages/1410858215/11161262.gif\" class=\"escapedImg\"><br>This is the more likely scenario.<br><br>3. Books read better when you're not being forced to read them.<br><br><img src=\"https://p.gr-assets.com/540x540/fit/hostedimages/1409049835/10926474.gif\" class=\"escapedImg\"><br><br>Next on my required reading list is <a href=\"http://www.goodreads.com/book/show/4671.The_Great_Gatsby\" title=\"The Great Gatsby by F. Scott Fitzgerald\">The Great Gatsby</a>. Mother have mercy...</span>\n",
        "\n",
        "          </span>\n",
        "        </div>\n",
        "\n",
        "\n",
        "      <div class=\"reviewFooter uitext buttons\">\n",
        "        \n",
        "<tr class=\"no_border\" id=\"update_comment_stuff_Review1052930809\">\n",
        "  <td colspan=\"2\">\n",
        "    <div class=\"updateActionLinks\">\n",
        "        <a href=\"/flagged/new?resource_id=1052930809&amp;resource_type=Review&amp;return_url=%2Fbook%2Fshow%2F24583.The_Adventures_of_Tom_Sawyer\" class=\"right flag\" id=\"flag_link1052930809\" rel=\"nofollow\" title=\"Flag this review as inappropriate.\">flag</a>\n",
        "      <span class='likeItContainer' id='like_container_review_1052930809'><a href=\"/rating/voters/1052930809?resource_type=Review\" id=\"like_count_review_1052930809\" rel=\"nofollow\"><span class=\"likesCount\">9 likes</span></a>&nbsp;&middot;&nbsp;<a href=\"https://www.goodreads.com/user/new?remember=true&amp;return_url=%2Fbook%2Fshow%2F24583.The_Adventures_of_Tom_Sawyer\" rel=\"nofollow\">like</a></span>&nbsp;&middot;&nbsp;<a href=\"/review/show/1052930809?book_show_action=true&amp;page=1\">see review</a>\n",
        "    </div>\n",
        "    <div id='comments_for_review_1052930809' style='display: none;'>\n",
        "\n",
        "<div id=\"comment_106199945\" class=\"brown_comment\">\n",
        "  <div class=\"xhr_comment_photo\">\n",
        "    \t<a href=\"/user/show/22178203-aly\" alt=\"Aly\u221e \"><img alt=\"22178203\" src=\"https://d.gr-assets.com/users/1407965443p1/22178203.jpg\" /></a>\n",
        "  </div>\n",
        "  <div class=\"xhr_comment_body\">\n",
        "    <a href=\"/user/show/22178203-aly\" style=\"font-weight:bold\">Aly\u221e </a>\n",
        "\n",
        "      \n",
        "<span id=\"freeTextContainer3231778779624022723\" class=\"elementOne\">Ooh, I <em>loooved</em> The Great Gatsby. I hope it works out for you!</span>\n",
        "\n",
        "    <br/>\n",
        "\n",
        "    <span class=\"greyText\">\n",
        "      Sep 16, 2014 04:24AM\n",
        "    </span>\n",
        "\n",
        "  </div>\n",
        "  <div class=\"clear\"></div>\n",
        "</div>\n",
        "\n",
        "\n",
        "\n",
        "\n",
        "\n",
        "<div id=\"comment_106200186\" class=\"brown_comment\">\n",
        "  <div class=\"xhr_comment_photo\">\n",
        "    \t<a href=\"/user/show/6688207-natalie-monroe\" alt=\"Natalie Monroe\"><img alt=\"6688207\" src=\"https://d.gr-assets.com/users/1339730817p1/6688207.jpg\" /></a>\n",
        "  </div>\n",
        "  <div class=\"xhr_comment_body\">\n",
        "    <a href=\"/user/show/6688207-natalie-monroe\" style=\"font-weight:bold\">Natalie Monroe</a>\n",
        "\n",
        "      \n",
        "<span id=\"freeTextContainer12383647588659648854\" class=\"elementOne\">It has your seal of approval. I will go in with high hopes. :D</span>\n",
        "\n",
        "    <br/>\n",
        "\n",
        "    <span class=\"greyText\">\n",
        "      Sep 16, 2014 04:35AM\n",
        "    </span>\n",
        "\n",
        "  </div>\n",
        "  <div class=\"clear\"></div>\n",
        "</div>\n",
        "\n",
        "\n",
        "\n",
        "\n",
        "\n",
        "<div id=\"comment_106200520\" class=\"brown_comment\">\n",
        "  <div class=\"xhr_comment_photo\">\n",
        "    \t<a href=\"/user/show/6917862-booknut\" alt=\"Booknut\"><img alt=\"6917862\" src=\"https://d.gr-assets.com/users/1411194489p1/6917862.jpg\" /></a>\n",
        "  </div>\n",
        "  <div class=\"xhr_comment_body\">\n",
        "    <a href=\"/user/show/6917862-booknut\" style=\"font-weight:bold\">Booknut</a>\n",
        "\n",
        "      \n",
        "<span id=\"freeTextContainer10405244810995031897\" class=\"elementOne\">I agree whole-heartedly with point #3!</span>\n",
        "\n",
        "    <br/>\n",
        "\n",
        "    <span class=\"greyText\">\n",
        "      Sep 16, 2014 04:46AM\n",
        "    </span>\n",
        "\n",
        "  </div>\n",
        "  <div class=\"clear\"></div>\n",
        "</div>\n",
        "\n",
        "\n",
        "\n",
        "\n",
        "\n",
        "</div>\n",
        "\n",
        "  </td>\n",
        "</tr>\n",
        "\n",
        "      </div>\n",
        "\n",
        "  </div>\n",
        "\n",
        "  <div class=\"clear\"></div>\n",
        "</div>\n",
        "\n",
        "    </div>\n",
        "  </div>\n",
        "    <div class=\"elementListBrownSeparator\"></div>\n",
        "\n",
        "\n",
        "\n",
        "  <div class=\"friendReviews elementListBrown\">\n",
        "    <div class=\"section\">\n",
        "      \n",
        "\n",
        "<div id=\"review_2874243\" class=\"review\" itemprop=\"reviews\" itemscope itemtype=\"http://schema.org/Review\">\n",
        "  <link itemprop=\"url\" href=\"https://www.goodreads.com/review/show/2874243\" />\n",
        "  <a href=\"/user/show/147289-jason-pettus\" class=\"left imgcol\" title=\"Jason Pettus\"><img alt=\"Jason Pettus\" src=\"https://d.gr-assets.com/users/1363051285p2/147289.jpg\" /></a>\n",
        "\n",
        "  <div class=\"left bodycol\">\n",
        "    <div class=\"reviewHeader uitext stacked\">\n",
        "        <a href=\"/review/show/2874243?book_show_action=true\" class=\"reviewDate createdAt right\" itemprop=\"publishDate\">Jul 09, 2007</a>\n",
        "\n",
        "      <a href=\"/user/show/147289-jason-pettus\" class=\"user\" title=\"Jason Pettus\">Jason Pettus</a>\n",
        "\n",
        "        rated it\n",
        "        <a class=\" staticStars stars_5\" title=\"it was amazing\">5 of 5 stars</a>\n",
        "\n",
        "\n",
        "\n",
        "        \n",
        "\n",
        "          <div class=\"uitext greyText bookshelves\">\n",
        "            Shelves:\n",
        "                <a href=\"/review/list/147289-jason-pettus?shelf=classic\" class=\"actionLinkLite\">classic</a>, \n",
        "                <a href=\"/review/list/147289-jason-pettus?shelf=funny\" class=\"actionLinkLite\">funny</a>, \n",
        "                <a href=\"/review/list/147289-jason-pettus?shelf=victorian\" class=\"actionLinkLite\">victorian</a>\n",
        "          </div>\n",
        "    </div>\n",
        "\n",
        "        <div class=\"reviewText stacked\">\n",
        "              <span id=\"reviewTextContainer2874243\" class=\"readable\" style=\"\">\n",
        "            \n",
        "<span id=\"freeTextContainer1769121053613242947\" class=\"elementOne\">I'm admittedly a fan of many of Mark Twain's works; so which to write up here at my social network? So I picked this one, because of me growing up three hours' south of Hannibal, Missouri, Twain's actual childhood hometown, which he paints a vivd picture of in this particular book, and which I visited numerous times as a child. And wow, where do you even begin with how great a writer Mark Twain was? Dark yet mainstream, bitter yet sunny, with a prose style that unbelievably still holds up well 1</span>\n",
        "  <span id=\"freeText1769121053613242947\" class=\"elementTwo\" style=\"display:none\">I'm admittedly a fan of many of Mark Twain's works; so which to write up here at my social network? So I picked this one, because of me growing up three hours' south of Hannibal, Missouri, Twain's actual childhood hometown, which he paints a vivd picture of in this particular book, and which I visited numerous times as a child. And wow, where do you even begin with how great a writer Mark Twain was? Dark yet mainstream, bitter yet sunny, with a prose style that unbelievably still holds up well 100, 150 years later, this unashamedly pastoral novel was Twain's attempt to capture a bucolic lifestyle that even at the time was rapidly disappearing, and might as well be Middle Earth anymore for all us cellphone-sporting modern freaks. Not to mention, the erotically charged scenes with Tom and Becky lost in the caves, their last candle dwindling down to nothing, exist as some of the first writing ever to get my breathing going a little faster, if you know what I'm saying, and how can I not forever after love the novel for that?</span>\n",
        "  <a data-text-id=\"1769121053613242947\" href=\"#\" onclick=\"swapContent($(this));; return false;\">...more</a>\n",
        "          </span>\n",
        "        </div>\n",
        "\n",
        "\n",
        "      <div class=\"reviewFooter uitext buttons\">\n",
        "        \n",
        "<tr class=\"no_border\" id=\"update_comment_stuff_Review2874243\">\n",
        "  <td colspan=\"2\">\n",
        "    <div class=\"updateActionLinks\">\n",
        "        <a href=\"/flagged/new?resource_id=2874243&amp;resource_type=Review&amp;return_url=%2Fbook%2Fshow%2F24583.The_Adventures_of_Tom_Sawyer\" class=\"right flag\" id=\"flag_link2874243\" rel=\"nofollow\" title=\"Flag this review as inappropriate.\">flag</a>\n",
        "      <span class='likeItContainer' id='like_container_review_2874243'><a href=\"/rating/voters/2874243?resource_type=Review\" id=\"like_count_review_2874243\" rel=\"nofollow\"><span class=\"likesCount\">8 likes</span></a>&nbsp;&middot;&nbsp;<a href=\"https://www.goodreads.com/user/new?remember=true&amp;return_url=%2Fbook%2Fshow%2F24583.The_Adventures_of_Tom_Sawyer\" rel=\"nofollow\">like</a></span>&nbsp;&middot;&nbsp;<a href=\"/review/show/2874243?book_show_action=true&amp;page=1\">see review</a>\n",
        "    </div>\n",
        "    <div id='comments_for_review_2874243' style='display: none;'>\n",
        "<div class='brown_comment'>\n",
        "<img alt=\"Chat_bubbles\" src=\"https://s.gr-assets.com/assets/chat_bubbles-ea628733152ae8319e85921ab3057b48.png\" />\n",
        "<span class=\"loadingLinkSpan\"><a href=\"/review/2874243/comments?reverse=true\" class=\"loadingLink\" data-remote=\"true\">view 1 comment</a><span class=\"loadingAnimation\"></span><span class=\"loadingError\"></span></span>\n",
        "</div>\n",
        "\n",
        "</div>\n",
        "\n",
        "  </td>\n",
        "</tr>\n",
        "\n",
        "      </div>\n",
        "\n",
        "  </div>\n",
        "\n",
        "  <div class=\"clear\"></div>\n",
        "</div>\n",
        "\n",
        "    </div>\n",
        "  </div>\n",
        "    <div class=\"elementListBrownSeparator\"></div>\n",
        "\n",
        "\n",
        "\n",
        "  <div class=\"friendReviews elementListBrown\">\n",
        "    <div class=\"section\">\n",
        "      \n",
        "\n",
        "<div id=\"review_1052033543\" class=\"review\" itemprop=\"reviews\" itemscope itemtype=\"http://schema.org/Review\">\n",
        "  <link itemprop=\"url\" href=\"https://www.goodreads.com/review/show/1052033543\" />\n",
        "  <a href=\"/user/show/2018505-thomas\" class=\"left imgcol\" title=\"Thomas\"><img alt=\"Thomas\" src=\"https://d.gr-assets.com/users/1407762883p2/2018505.jpg\" /></a>\n",
        "\n",
        "  <div class=\"left bodycol\">\n",
        "    <div class=\"reviewHeader uitext stacked\">\n",
        "        <a href=\"/review/show/1052033543?book_show_action=true\" class=\"reviewDate createdAt right\" itemprop=\"publishDate\">Sep 21, 2014</a>\n",
        "\n",
        "      <a href=\"/user/show/2018505-thomas\" class=\"user\" title=\"Thomas\">Thomas</a>\n",
        "\n",
        "        rated it\n",
        "        <a class=\" staticStars stars_3\" title=\"liked it\">3 of 5 stars</a>\n",
        "\n",
        "\n",
        "\n",
        "        \n",
        "\n",
        "          <div class=\"uitext greyText bookshelves\">\n",
        "            Shelves:\n",
        "                <a href=\"/review/list/2018505-thomas?shelf=read-for-college\" class=\"actionLinkLite\">read-for-college</a>, \n",
        "                <a href=\"/review/list/2018505-thomas?shelf=historical-fiction\" class=\"actionLinkLite\">historical-fiction</a>, \n",
        "                <a href=\"/review/list/2018505-thomas?shelf=realistic-fiction\" class=\"actionLinkLite\">realistic-fiction</a>, \n",
        "                <a href=\"/review/list/2018505-thomas?shelf=young-adult\" class=\"actionLinkLite\">young-adult</a>\n",
        "          </div>\n",
        "    </div>\n",
        "\n",
        "        <div class=\"reviewText stacked\">\n",
        "              <span id=\"reviewTextContainer1052033543\" class=\"readable\" style=\"\">\n",
        "            \n",
        "<span id=\"freeTextContainer7840857638866551982\" class=\"elementOne\">A cute coming-of-age story centered on Tom Sawyer's wild and mischievous antics. Mark Twain shows some of his wit and tone in <em>The Adventures of Tom Sawyer</em>. Tom, while not exactly likeable, has a consistent voice throughout the book; Twain also characterizes the town he grows up in. <br><br>This book came halfway for me in terms of both fun and depth. It didn't make me laugh or love Tom, but the pages flew by in just a few days. I detect certain themes throughout the novel: childhood as a sanctuary, the</span>\n",
        "  <span id=\"freeText7840857638866551982\" class=\"elementTwo\" style=\"display:none\">A cute coming-of-age story centered on Tom Sawyer's wild and mischievous antics. Mark Twain shows some of his wit and tone in <em>The Adventures of Tom Sawyer</em>. Tom, while not exactly likeable, has a consistent voice throughout the book; Twain also characterizes the town he grows up in. <br><br>This book came halfway for me in terms of both fun and depth. It didn't make me laugh or love Tom, but the pages flew by in just a few days. I detect certain themes throughout the novel: childhood as a sanctuary, the hypocrisy of adults and the church, what it means to be a man, etc. However, Twain didn't blow me away with his plot or characters, so perhaps I'll try <em>The Adventures of Huckleberry Finn</em> and see if that suits me more.<br><br>Recommended for those who want an easy-to-read \"classic.\" Even if you don't end up a fan, you will not lose too much time to it.</span>\n",
        "  <a data-text-id=\"7840857638866551982\" href=\"#\" onclick=\"swapContent($(this));; return false;\">...more</a>\n",
        "          </span>\n",
        "        </div>\n",
        "\n",
        "\n",
        "      <div class=\"reviewFooter uitext buttons\">\n",
        "        \n",
        "<tr class=\"no_border\" id=\"update_comment_stuff_Review1052033543\">\n",
        "  <td colspan=\"2\">\n",
        "    <div class=\"updateActionLinks\">\n",
        "        <a href=\"/flagged/new?resource_id=1052033543&amp;resource_type=Review&amp;return_url=%2Fbook%2Fshow%2F24583.The_Adventures_of_Tom_Sawyer\" class=\"right flag\" id=\"flag_link1052033543\" rel=\"nofollow\" title=\"Flag this review as inappropriate.\">flag</a>\n",
        "      <span class='likeItContainer' id='like_container_review_1052033543'><a href=\"/rating/voters/1052033543?resource_type=Review\" id=\"like_count_review_1052033543\" rel=\"nofollow\"><span class=\"likesCount\">8 likes</span></a>&nbsp;&middot;&nbsp;<a href=\"https://www.goodreads.com/user/new?remember=true&amp;return_url=%2Fbook%2Fshow%2F24583.The_Adventures_of_Tom_Sawyer\" rel=\"nofollow\">like</a></span>&nbsp;&middot;&nbsp;<a href=\"/review/show/1052033543?book_show_action=true&amp;page=1\">see review</a>\n",
        "    </div>\n",
        "    <div id='comments_for_review_1052033543' style='display: none;'>\n",
        "\n",
        "<div id=\"comment_106502155\" class=\"brown_comment\">\n",
        "  <div class=\"xhr_comment_photo\">\n",
        "    \t<a href=\"/user/show/2864718-roof-beam-reader\" alt=\"Roof Beam Reader\"><img alt=\"2864718\" src=\"https://d.gr-assets.com/users/1343499868p1/2864718.jpg\" /></a>\n",
        "  </div>\n",
        "  <div class=\"xhr_comment_body\">\n",
        "    <a href=\"/user/show/2864718-roof-beam-reader\" style=\"font-weight:bold\">Roof Beam Reader</a>\n",
        "\n",
        "      \n",
        "<span id=\"freeTextContainer6506497919089149505\" class=\"elementOne\">Huckleberry Finn is much more sophisticated and complex.</span>\n",
        "\n",
        "    <br/>\n",
        "\n",
        "    <span class=\"greyText\">\n",
        "      Sep 21, 2014 05:36PM\n",
        "    </span>\n",
        "\n",
        "  </div>\n",
        "  <div class=\"clear\"></div>\n",
        "</div>\n",
        "\n",
        "\n",
        "\n",
        "\n",
        "\n",
        "<div id=\"comment_106512982\" class=\"brown_comment\">\n",
        "  <div class=\"xhr_comment_photo\">\n",
        "    \t<a href=\"/user/show/2018505-thomas\" alt=\"Thomas\"><img alt=\"2018505\" src=\"https://d.gr-assets.com/users/1407762883p1/2018505.jpg\" /></a>\n",
        "  </div>\n",
        "  <div class=\"xhr_comment_body\">\n",
        "    <a href=\"/user/show/2018505-thomas\" style=\"font-weight:bold\">Thomas</a>\n",
        "\n",
        "      \n",
        "<span id=\"freeTextContainer2902546946400790482\" class=\"elementOne\">I'll make sure to read it as soon as possible!</span>\n",
        "\n",
        "    <br/>\n",
        "\n",
        "    <span class=\"greyText\">\n",
        "      Sep 21, 2014 08:54PM\n",
        "    </span>\n",
        "\n",
        "  </div>\n",
        "  <div class=\"clear\"></div>\n",
        "</div>\n",
        "\n",
        "\n",
        "\n",
        "\n",
        "\n",
        "<div id=\"comment_106514688\" class=\"brown_comment\">\n",
        "  <div class=\"xhr_comment_photo\">\n",
        "    \t<a href=\"/user/show/7481492-margitte\" alt=\"Margitte\"><img alt=\"7481492\" src=\"https://d.gr-assets.com/users/1361772481p1/7481492.jpg\" /></a>\n",
        "  </div>\n",
        "  <div class=\"xhr_comment_body\">\n",
        "    <a href=\"/user/show/7481492-margitte\" style=\"font-weight:bold\">Margitte</a>\n",
        "\n",
        "      \n",
        "<span id=\"freeTextContainer5706631241841033029\" class=\"elementOne\">I cannot remember if I have read this. Will have to find the book and try again.</span>\n",
        "\n",
        "    <br/>\n",
        "\n",
        "    <span class=\"greyText\">\n",
        "      Sep 21, 2014 09:47PM\n",
        "    </span>\n",
        "\n",
        "  </div>\n",
        "  <div class=\"clear\"></div>\n",
        "</div>\n",
        "\n",
        "\n",
        "\n",
        "\n",
        "\n",
        "</div>\n",
        "\n",
        "  </td>\n",
        "</tr>\n",
        "\n",
        "      </div>\n",
        "\n",
        "  </div>\n",
        "\n",
        "  <div class=\"clear\"></div>\n",
        "</div>\n",
        "\n",
        "    </div>\n",
        "  </div>\n",
        "    <div class=\"elementListBrownSeparator\"></div>\n",
        "\n",
        "\n",
        "\n",
        "  <div class=\"friendReviews elementListBrown\">\n",
        "    <div class=\"section\">\n",
        "      \n",
        "\n",
        "<div id=\"review_639155110\" class=\"review nosyndicate\" itemprop=\"reviews\" itemscope itemtype=\"http://schema.org/Review\">\n",
        "  <link itemprop=\"url\" href=\"https://www.goodreads.com/review/show/639155110\" />\n",
        "  <a href=\"/user/show/7668522-carol\" class=\"left imgcol\" title=\"Carol\"><img alt=\"Carol\" src=\"https://d.gr-assets.com/users/1414948648p2/7668522.jpg\" /></a>\n",
        "\n",
        "  <div class=\"left bodycol\">\n",
        "    <div class=\"reviewHeader uitext stacked\">\n",
        "        <a href=\"/review/show/639155110?book_show_action=true\" class=\"reviewDate createdAt right\" itemprop=\"publishDate\">May 08, 2014</a>\n",
        "\n",
        "      <a href=\"/user/show/7668522-carol\" class=\"user\" title=\"Carol\">Carol</a>\n",
        "\n",
        "        rated it\n",
        "        <a class=\" staticStars stars_4\" title=\"really liked it\">4 of 5 stars</a>\n",
        "\n",
        "          <span class=\"greyText\">&nbsp;&middot;&nbsp;</span>\n",
        "          <a href=\"/book/show/13583129-the-adventures-of-tom-sawyer\" class=\"lightGreyText\" title=\"Hardcover 9781435136151\">review of another edition</a>\n",
        "\n",
        "\n",
        "        \n",
        "\n",
        "          <div class=\"uitext greyText bookshelves\">\n",
        "            Shelves:\n",
        "                <a href=\"/review/list/7668522-carol?shelf=classics\" class=\"actionLinkLite\">classics</a>, \n",
        "                <a href=\"/review/list/7668522-carol?shelf=adventure\" class=\"actionLinkLite\">adventure</a>, \n",
        "                <a href=\"/review/list/7668522-carol?shelf=read-2014\" class=\"actionLinkLite\">read-2014</a>\n",
        "          </div>\n",
        "    </div>\n",
        "\n",
        "        <div class=\"reviewText stacked\">\n",
        "              <span id=\"reviewTextContainer639155110\" class=\"readable\" style=\"\">\n",
        "            \n",
        "<span id=\"freeTextContainer16306480715533717481\" class=\"elementOne\">The settling for this classic written over 100 years ago is just a hop, skip and a jump away from me in Hannibal, Missouri.<p>This fun read is full of nonsense and mayhem provided by the cast of Tom, his pal Huck Finn, his girlfriend Becky Thatcher, Aunt Polly, and the mysterious Injun Joe.  What a treat it was to find out that most of these crazy adventures actually occurred in real life to Mark Twain himself or his schoolmates.</p><p>It really was hard to get through this tale without laughing at Tom's <em>m</em></p></span>\n",
        "  <span id=\"freeText16306480715533717481\" class=\"elementTwo\" style=\"display:none\">The settling for this classic written over 100 years ago is just a hop, skip and a jump away from me in Hannibal, Missouri.<p>This fun read is full of nonsense and mayhem provided by the cast of Tom, his pal Huck Finn, his girlfriend Becky Thatcher, Aunt Polly, and the mysterious Injun Joe.  What a treat it was to find out that most of these crazy adventures actually occurred in real life to Mark Twain himself or his schoolmates.</p><p>It really was hard to get through this tale without laughing at Tom's <em>many</em> odd superstitions and crazy antics while trying to impress Becky; <em>and</em>, what a little mischievous entrepreneur our Tom was procuring the whitewashing of his fence and receiving payment (of a sorts) in return to boot, instead of the punishment Aunt Polly intended.  (oh, and beware, there <em>is</em> a murderer about)</p><p>Plenty of enjoyment here for young and old alike.</p></span>\n",
        "  <a data-text-id=\"16306480715533717481\" href=\"#\" onclick=\"swapContent($(this));; return false;\">...more</a>\n",
        "          </span>\n",
        "        </div>\n",
        "\n",
        "\n",
        "      <div class=\"reviewFooter uitext buttons\">\n",
        "        \n",
        "<tr class=\"no_border\" id=\"update_comment_stuff_Review639155110\">\n",
        "  <td colspan=\"2\">\n",
        "    <div class=\"updateActionLinks\">\n",
        "        <a href=\"/flagged/new?resource_id=639155110&amp;resource_type=Review&amp;return_url=%2Fbook%2Fshow%2F24583.The_Adventures_of_Tom_Sawyer\" class=\"right flag\" id=\"flag_link639155110\" rel=\"nofollow\" title=\"Flag this review as inappropriate.\">flag</a>\n",
        "      <span class='likeItContainer' id='like_container_review_639155110'><a href=\"/rating/voters/639155110?resource_type=Review\" id=\"like_count_review_639155110\" rel=\"nofollow\"><span class=\"likesCount\">8 likes</span></a>&nbsp;&middot;&nbsp;<a href=\"https://www.goodreads.com/user/new?remember=true&amp;return_url=%2Fbook%2Fshow%2F24583.The_Adventures_of_Tom_Sawyer\" rel=\"nofollow\">like</a></span>&nbsp;&middot;&nbsp;<a href=\"/review/show/639155110?book_show_action=true&amp;page=1\">see review</a>\n",
        "    </div>\n",
        "    <div id='comments_for_review_639155110' style='display: none;'>\n",
        "<div class='brown_comment'>\n",
        "<img alt=\"Chat_bubbles\" src=\"https://s.gr-assets.com/assets/chat_bubbles-ea628733152ae8319e85921ab3057b48.png\" />\n",
        "<span class=\"loadingLinkSpan\"><a href=\"/review/639155110/comments?reverse=true\" class=\"loadingLink\" data-remote=\"true\">view all 6 comments</a><span class=\"loadingAnimation\"></span><span class=\"loadingError\"></span></span>\n",
        "</div>\n",
        "\n",
        "</div>\n",
        "\n",
        "  </td>\n",
        "</tr>\n",
        "\n",
        "      </div>\n",
        "\n",
        "  </div>\n",
        "\n",
        "  <div class=\"clear\"></div>\n",
        "</div>\n",
        "\n",
        "    </div>\n",
        "  </div>\n",
        "    <div class=\"elementListBrownSeparator\"></div>\n",
        "\n",
        "\n",
        "\n",
        "  <div class=\"friendReviews elementListBrown\">\n",
        "    <div class=\"section\">\n",
        "      \n",
        "\n",
        "<div id=\"review_248959121\" class=\"review nosyndicate\" itemprop=\"reviews\" itemscope itemtype=\"http://schema.org/Review\">\n",
        "  <link itemprop=\"url\" href=\"https://www.goodreads.com/review/show/248959121\" />\n",
        "  <a href=\"/user/show/5312173-simona-bartolotta\" class=\"left imgcol\" title=\"Simona Bartolotta\"><img alt=\"Simona Bartolotta\" src=\"https://d.gr-assets.com/users/1408893128p2/5312173.jpg\" /></a>\n",
        "\n",
        "  <div class=\"left bodycol\">\n",
        "    <div class=\"reviewHeader uitext stacked\">\n",
        "        <a href=\"/review/show/248959121?book_show_action=true\" class=\"reviewDate createdAt right\" itemprop=\"publishDate\">Feb 22, 2012</a>\n",
        "\n",
        "      <a href=\"/user/show/5312173-simona-bartolotta\" class=\"user\" title=\"Simona Bartolotta\">Simona Bartolotta</a>\n",
        "\n",
        "        rated it\n",
        "        <a class=\" staticStars stars_5\" title=\"it was amazing\">5 of 5 stars</a>\n",
        "\n",
        "          <span class=\"greyText\">&nbsp;&middot;&nbsp;</span>\n",
        "          <a href=\"/book/show/12404825-le-avventure-di-tom-sawyer\" class=\"lightGreyText\" title=\"Paperback \">review of another edition</a>\n",
        "\n",
        "\n",
        "        \n",
        "\n",
        "          <div class=\"uitext greyText bookshelves\">\n",
        "            Shelves:\n",
        "                <a href=\"/review/list/5312173-simona-bartolotta?shelf=adventure\" class=\"actionLinkLite\">adventure</a>, \n",
        "                <a href=\"/review/list/5312173-simona-bartolotta?shelf=ottocento\" class=\"actionLinkLite\">ottocento</a>\n",
        "          </div>\n",
        "    </div>\n",
        "\n",
        "        <div class=\"reviewText stacked\">\n",
        "              <span id=\"reviewTextContainer248959121\" class=\"readable\" style=\"\">\n",
        "            \n",
        "<span id=\"freeTextContainer11024842526702128687\" class=\"elementOne\"><blockquote>\"I due ragazzi si rivestirono, nascosero gli armamenti e presero la via del ritorno rimpiangendo che non esistessero pi\u00f9 banditi e chiedendosi con che cosa di altrettanto valido e affascinante li avesse sostituiti la civilt\u00e0 moderna. E aggiunsero che avrebbero preferito decisamente essere banditi per un anno nella foresta di Sherwood piuttosto che Presidenti degli Stati Uniti per sempre.\"</blockquote><br>Quanta la dolcezza di queste parole? Infinita. E quanta la nostalgia che ci sommerge quando leggiamo questo b</span>\n",
        "  <span id=\"freeText11024842526702128687\" class=\"elementTwo\" style=\"display:none\"><blockquote>\"I due ragazzi si rivestirono, nascosero gli armamenti e presero la via del ritorno rimpiangendo che non esistessero pi\u00f9 banditi e chiedendosi con che cosa di altrettanto valido e affascinante li avesse sostituiti la civilt\u00e0 moderna. E aggiunsero che avrebbero preferito decisamente essere banditi per un anno nella foresta di Sherwood piuttosto che Presidenti degli Stati Uniti per sempre.\"</blockquote><br>Quanta la dolcezza di queste parole? Infinita. E quanta la nostalgia che ci sommerge quando leggiamo questo brano? Altrettanto infinita. <br>Ed \u00e8 questa l'essenza de <em>Le avventure di Tom Sawyer</em>, l'inno pi\u00f9 bello, divertente, spensierato e diretto all'innocenza infantile e alla gioia di essere bambini. <br>Ci si alza la mattina con Tom, con lui si marina la scuola, con lui ci si finge pirati in compagnia di Joe e Huck e con lui ci si smarrisce nella grotta con Beckie; il bambino dentro di noi \u00e8 il Tom che disobbedisce sempre, il Tom irrequieto, vivace, ma dal cuore buono; siamo il Tom coraggioso che si innamora nella nuova bimba giunta al paese e siamo quello coraggioso che testimonia al processo pur essendo terrorizzato da Joe l'indiano.<br>Mentre compiamo tutte queste azioni e proviamo questi sentimenti, \u00e8 come se Twain ci sussurrasse implacabile in un orecchio \"Guarda quel bambino: se fossi stato giusto un po' pi\u00f9 intrepido anche tu, avresti potuto vivere le sue stesse avventure. Non ti senti uno schifo al solo pensiero?\". <br>S\u00ec, ora mi sento uno schifo perch\u00e9 rivoglio la spensieratezza dell'infanzia. Ma allo stesso tempo sono felice, perch\u00e9 questo libro, per un po', mi ha fatto tornare bimba, tante sono la veridicit\u00e0 e la semplicit\u00e0 con cui vengono descritti i pensieri di Tom.<br>Allora io vi consiglio di leggerlo semplicemente per questo: per provare a ricordare.</span>\n",
        "  <a data-text-id=\"11024842526702128687\" href=\"#\" onclick=\"swapContent($(this));; return false;\">...more</a>\n",
        "          </span>\n",
        "        </div>\n",
        "\n",
        "\n",
        "      <div class=\"reviewFooter uitext buttons\">\n",
        "        \n",
        "<tr class=\"no_border\" id=\"update_comment_stuff_Review248959121\">\n",
        "  <td colspan=\"2\">\n",
        "    <div class=\"updateActionLinks\">\n",
        "        <a href=\"/flagged/new?resource_id=248959121&amp;resource_type=Review&amp;return_url=%2Fbook%2Fshow%2F24583.The_Adventures_of_Tom_Sawyer\" class=\"right flag\" id=\"flag_link248959121\" rel=\"nofollow\" title=\"Flag this review as inappropriate.\">flag</a>\n",
        "      <span class='likeItContainer' id='like_container_review_248959121'><a href=\"/rating/voters/248959121?resource_type=Review\" id=\"like_count_review_248959121\" rel=\"nofollow\"><span class=\"likesCount\">7 likes</span></a>&nbsp;&middot;&nbsp;<a href=\"https://www.goodreads.com/user/new?remember=true&amp;return_url=%2Fbook%2Fshow%2F24583.The_Adventures_of_Tom_Sawyer\" rel=\"nofollow\">like</a></span>&nbsp;&middot;&nbsp;<a href=\"/review/show/248959121?book_show_action=true&amp;page=1\">see review</a>\n",
        "    </div>\n",
        "    <div id='comments_for_review_248959121' style='display: none;'>\n",
        "\n",
        "<div id=\"comment_50627123\" class=\"brown_comment\">\n",
        "  <div class=\"xhr_comment_photo\">\n",
        "    \t<a href=\"/user/show/5650849-alan\" alt=\"Alan\"><img alt=\"5650849\" src=\"https://d.gr-assets.com/users/1310234599p1/5650849.jpg\" /></a>\n",
        "  </div>\n",
        "  <div class=\"xhr_comment_body\">\n",
        "    <a href=\"/user/show/5650849-alan\" style=\"font-weight:bold\">Alan</a>\n",
        "\n",
        "      \n",
        "<span id=\"freeTextContainer674072605217719406\" class=\"elementOne\">Semplice, forse, ma spesso appare cos\u00ec. Ad es, Zia Polly, ipochondriaca, o ossesiva medicale (frenologia, farina d'avena,ecc) un tipo molto moderno. L</span>\n",
        "  <span id=\"freeText674072605217719406\" class=\"elementTwo\" style=\"display:none\">Semplice, forse, ma spesso appare cos\u00ec. Ad es, Zia Polly, ipochondriaca, o ossesiva medicale (frenologia, farina d'avena,ecc) un tipo molto moderno. La educazione del ottocento, anche alla chiesa, molto divertente ma magari in Italia meno (troppo la memorizatione, troppo da autorit\u00e1 alta).<br>     Nella accademia statiunitense, questo libro \u00e9 meno stimato che Huckleberry Finn, ma questo dice pi\u00fa della educazione, medicina, anche della personalit\u00e1 oltra le due centrale.</span>\n",
        "  <a data-text-id=\"674072605217719406\" href=\"#\" onclick=\"swapContent($(this));; return false;\">...more</a>\n",
        "    <br/>\n",
        "\n",
        "    <span class=\"greyText\">\n",
        "      May 17, 2012 08:10AM\n",
        "    </span>\n",
        "\n",
        "  </div>\n",
        "  <div class=\"clear\"></div>\n",
        "</div>\n",
        "\n",
        "\n",
        "\n",
        "\n",
        "\n",
        "</div>\n",
        "\n",
        "  </td>\n",
        "</tr>\n",
        "\n",
        "      </div>\n",
        "\n",
        "  </div>\n",
        "\n",
        "  <div class=\"clear\"></div>\n",
        "</div>\n",
        "\n",
        "    </div>\n",
        "  </div>\n",
        "    <div class=\"elementListBrownSeparator\"></div>\n",
        "\n",
        "\n",
        "\n",
        "  <div class=\"friendReviews elementListBrown\">\n",
        "    <div class=\"section\">\n",
        "      \n",
        "\n",
        "<div id=\"review_790288245\" class=\"review\" itemprop=\"reviews\" itemscope itemtype=\"http://schema.org/Review\">\n",
        "  <link itemprop=\"url\" href=\"https://www.goodreads.com/review/show/790288245\" />\n",
        "  <a href=\"/user/show/24771980-harrison-witcher\" class=\"left imgcol\" title=\"Harrison Witcher\"><img alt=\"Harrison Witcher\" src=\"https://s.gr-assets.com/assets/nophoto/user/u_50x66-ccc56e79bcc2db9e6cdcd450a4940d46.png\" /></a>\n",
        "\n",
        "  <div class=\"left bodycol\">\n",
        "    <div class=\"reviewHeader uitext stacked\">\n",
        "        <a href=\"/review/show/790288245?book_show_action=true\" class=\"reviewDate createdAt right\" itemprop=\"publishDate\">Dec 14, 2013</a>\n",
        "\n",
        "      <a href=\"/user/show/24771980-harrison-witcher\" class=\"user\" title=\"Harrison Witcher\">Harrison Witcher</a>\n",
        "\n",
        "        rated it\n",
        "        <a class=\" staticStars stars_5\" title=\"it was amazing\">5 of 5 stars</a>\n",
        "\n",
        "\n",
        "\n",
        "        \n",
        "\n",
        "    </div>\n",
        "\n",
        "        <div class=\"reviewText stacked\">\n",
        "              <span id=\"reviewTextContainer790288245\" class=\"readable\" style=\"\">\n",
        "            \n",
        "<span id=\"freeTextContainer6934595046716453711\" class=\"elementOne\"><em>The Adventures of Tom Sawyer</em> is probably the most well-known book in American literature. Written in 1876, Mark Twain crafts this master piece from some of his own experiences. The book takes place in the mid to late 1800\u2019s and is written about a twelve year old boy named Tom Sawyer who grows up living by the Mississippi river.<br><br>Tom Sawyer is a twelve year old mischievous child who every child in town wants to be. When Tom and his best friend Huckleberry Finn are together they are unstoppable with</span>\n",
        "  <span id=\"freeText6934595046716453711\" class=\"elementTwo\" style=\"display:none\"><em>The Adventures of Tom Sawyer</em> is probably the most well-known book in American literature. Written in 1876, Mark Twain crafts this master piece from some of his own experiences. The book takes place in the mid to late 1800\u2019s and is written about a twelve year old boy named Tom Sawyer who grows up living by the Mississippi river.<br><br>Tom Sawyer is a twelve year old mischievous child who every child in town wants to be. When Tom and his best friend Huckleberry Finn are together they are unstoppable with imagination, curiosity, and wit on their side. However, these things soon get the both of them in deep trouble. When questioning a superstition one night takes them to the town graveyard, they witness the murder of Doc Robinson. They are then given a burden they must carry throughout the novel, as being the only ones with knowledge of the killer. Huck and Tom somewhat forget about it until they hear about a superstition that all haunted houses have treasure buried in them. When digging in the oldest house in town they find treasure, but they weren't the only ones digging. They don\u2019t find just the treasure but the killer\u2019s stash of money, too. Now they must evade him at all costs. However, when going on a picnic with a classmate to a cave, Tom gets lost in the cave for a couple of days. Nearing starvation they stumble upon the killer\u2019s body that had been in the same cave for two weeks. Tom is eventually rescued, but Tom and Huck go back to claim the stash that was buried. In the end, Huck ends up with the cash and their mischievous lives return.<br><br>Reading this book reminded me that you are never too old to be a child, something I think that we neglect. If we don\u2019t have an imagination or if we don\u2019t have fun where would be the color in life? The message this book gave me was that there\u2019s a child within everyone and no person is too old to express it, and if life gets tough, there will always be a way out. Whether it involves a job or a cave, don\u2019t give up.<br><br>I found that this book, regarding it being written in 1876, still strikes a powerful message I believe everyone should hear. It has driven me not to be serious all the time and has driven me to make time to enjoy something I love to do and not to be overrun by the pressure of life. This book is appropriate for all ages. Whether it is a bed time story, curriculum material, or pleasure reading,<em>The Adventures of Tom Sawyer</em> will be a book that will speak to all audiences.<br></span>\n",
        "  <a data-text-id=\"6934595046716453711\" href=\"#\" onclick=\"swapContent($(this));; return false;\">...more</a>\n",
        "          </span>\n",
        "        </div>\n",
        "\n",
        "\n",
        "      <div class=\"reviewFooter uitext buttons\">\n",
        "        \n",
        "<tr class=\"no_border\" id=\"update_comment_stuff_Review790288245\">\n",
        "  <td colspan=\"2\">\n",
        "    <div class=\"updateActionLinks\">\n",
        "        <a href=\"/flagged/new?resource_id=790288245&amp;resource_type=Review&amp;return_url=%2Fbook%2Fshow%2F24583.The_Adventures_of_Tom_Sawyer\" class=\"right flag\" id=\"flag_link790288245\" rel=\"nofollow\" title=\"Flag this review as inappropriate.\">flag</a>\n",
        "      <span class='likeItContainer' id='like_container_review_790288245'><a href=\"/rating/voters/790288245?resource_type=Review\" id=\"like_count_review_790288245\" rel=\"nofollow\"><span class=\"likesCount\">6 likes</span></a>&nbsp;&middot;&nbsp;<a href=\"https://www.goodreads.com/user/new?remember=true&amp;return_url=%2Fbook%2Fshow%2F24583.The_Adventures_of_Tom_Sawyer\" rel=\"nofollow\">like</a></span>&nbsp;&middot;&nbsp;<a href=\"/review/show/790288245?book_show_action=true&amp;page=1\">see review</a>\n",
        "    </div>\n",
        "    <div id='comments_for_review_790288245' style='display: none;'>\n",
        "</div>\n",
        "\n",
        "  </td>\n",
        "</tr>\n",
        "\n",
        "      </div>\n",
        "\n",
        "  </div>\n",
        "\n",
        "  <div class=\"clear\"></div>\n",
        "</div>\n",
        "\n",
        "    </div>\n",
        "  </div>\n",
        "    <div class=\"elementListBrownSeparator\"></div>\n",
        "\n",
        "\n",
        "\n",
        "  <div class=\"friendReviews elementListBrown\">\n",
        "    <div class=\"section\">\n",
        "      \n",
        "\n",
        "<div id=\"review_92826509\" class=\"review nosyndicate\" itemprop=\"reviews\" itemscope itemtype=\"http://schema.org/Review\">\n",
        "  <link itemprop=\"url\" href=\"https://www.goodreads.com/review/show/92826509\" />\n",
        "  <a href=\"/user/show/1413439-stephen\" class=\"left imgcol\" title=\"Stephen\"><img alt=\"Stephen\" src=\"https://d.gr-assets.com/users/1311616811p2/1413439.jpg\" /></a>\n",
        "\n",
        "  <div class=\"left bodycol\">\n",
        "    <div class=\"reviewHeader uitext stacked\">\n",
        "        <a href=\"/review/show/92826509?book_show_action=true\" class=\"reviewDate createdAt right\" itemprop=\"publishDate\">Aug 22, 2010</a>\n",
        "\n",
        "      <a href=\"/user/show/1413439-stephen\" class=\"user\" title=\"Stephen\">Stephen</a>\n",
        "\n",
        "        rated it\n",
        "        <a class=\" staticStars stars_4\" title=\"really liked it\">4 of 5 stars</a>\n",
        "\n",
        "\n",
        "\n",
        "        \n",
        "\n",
        "          <div class=\"uitext greyText bookshelves\">\n",
        "            Shelves:\n",
        "                <a href=\"/review/list/1413439-stephen?shelf=easton-press\" class=\"actionLinkLite\">easton-press</a>, \n",
        "                <a href=\"/review/list/1413439-stephen?shelf=audiobook\" class=\"actionLinkLite\">audiobook</a>, \n",
        "                <a href=\"/review/list/1413439-stephen?shelf=ya\" class=\"actionLinkLite\">ya</a>, \n",
        "                <a href=\"/review/list/1413439-stephen?shelf=classics-americas\" class=\"actionLinkLite\">classics-americas</a>\n",
        "          </div>\n",
        "    </div>\n",
        "\n",
        "        <div class=\"reviewText stacked\">\n",
        "              <span id=\"reviewTextContainer92826509\" class=\"readable\" style=\"\">\n",
        "            \n",
        "<span id=\"freeTextContainer13770767133916169875\" class=\"elementOne\">4.0 stars. This is a 3 star story that is raised to 4 stars on the strength of Mark Twain's unique voice and engaging wit. Twain captures perfectly the tone and spirit of what it is to be a boy and crafts a timeless YA novel that can be enjoyed by both children and parents alike. Looking forward to reading some of Twain's adult work. Highly Recommended!!!!</span>\n",
        "\n",
        "          </span>\n",
        "        </div>\n",
        "\n",
        "\n",
        "      <div class=\"reviewFooter uitext buttons\">\n",
        "        \n",
        "<tr class=\"no_border\" id=\"update_comment_stuff_Review92826509\">\n",
        "  <td colspan=\"2\">\n",
        "    <div class=\"updateActionLinks\">\n",
        "        <a href=\"/flagged/new?resource_id=92826509&amp;resource_type=Review&amp;return_url=%2Fbook%2Fshow%2F24583.The_Adventures_of_Tom_Sawyer\" class=\"right flag\" id=\"flag_link92826509\" rel=\"nofollow\" title=\"Flag this review as inappropriate.\">flag</a>\n",
        "      <span class='likeItContainer' id='like_container_review_92826509'><a href=\"/rating/voters/92826509?resource_type=Review\" id=\"like_count_review_92826509\" rel=\"nofollow\"><span class=\"likesCount\">6 likes</span></a>&nbsp;&middot;&nbsp;<a href=\"https://www.goodreads.com/user/new?remember=true&amp;return_url=%2Fbook%2Fshow%2F24583.The_Adventures_of_Tom_Sawyer\" rel=\"nofollow\">like</a></span>&nbsp;&middot;&nbsp;<a href=\"/review/show/92826509?book_show_action=true&amp;page=1\">see review</a>\n",
        "    </div>\n",
        "    <div id='comments_for_review_92826509' style='display: none;'>\n",
        "</div>\n",
        "\n",
        "  </td>\n",
        "</tr>\n",
        "\n",
        "      </div>\n",
        "\n",
        "  </div>\n",
        "\n",
        "  <div class=\"clear\"></div>\n",
        "</div>\n",
        "\n",
        "    </div>\n",
        "  </div>\n",
        "    <div class=\"elementListBrownSeparator\"></div>\n",
        "\n",
        "\n",
        "\n",
        "  <div class=\"friendReviews elementListBrown\">\n",
        "    <div class=\"section\">\n",
        "      \n",
        "\n",
        "<div id=\"review_50744827\" class=\"review\" itemprop=\"reviews\" itemscope itemtype=\"http://schema.org/Review\">\n",
        "  <link itemprop=\"url\" href=\"https://www.goodreads.com/review/show/50744827\" />\n",
        "  <a href=\"/user/show/1532467-winnie\" class=\"left imgcol\" title=\"Winnie\"><img alt=\"Winnie\" src=\"https://d.gr-assets.com/users/1221866132p2/1532467.jpg\" /></a>\n",
        "\n",
        "  <div class=\"left bodycol\">\n",
        "    <div class=\"reviewHeader uitext stacked\">\n",
        "        <a href=\"/review/show/50744827?book_show_action=true\" class=\"reviewDate createdAt right\" itemprop=\"publishDate\">Mar 28, 2009</a>\n",
        "\n",
        "      <a href=\"/user/show/1532467-winnie\" class=\"user\" title=\"Winnie\">Winnie</a>\n",
        "\n",
        "          is currently reading it\n",
        "\n",
        "\n",
        "\n",
        "\n",
        "        \n",
        "\n",
        "    </div>\n",
        "\n",
        "        <div class=\"reviewText stacked\">\n",
        "              <span id=\"reviewTextContainer50744827\" class=\"readable\" style=\"\">\n",
        "            \n",
        "<span id=\"freeTextContainer12023469079146919883\" class=\"elementOne\">funny,but boring too.</span>\n",
        "\n",
        "          </span>\n",
        "        </div>\n",
        "\n",
        "\n",
        "      <div class=\"reviewFooter uitext buttons\">\n",
        "        \n",
        "<tr class=\"no_border\" id=\"update_comment_stuff_Review50744827\">\n",
        "  <td colspan=\"2\">\n",
        "    <div class=\"updateActionLinks\">\n",
        "        <a href=\"/flagged/new?resource_id=50744827&amp;resource_type=Review&amp;return_url=%2Fbook%2Fshow%2F24583.The_Adventures_of_Tom_Sawyer\" class=\"right flag\" id=\"flag_link50744827\" rel=\"nofollow\" title=\"Flag this review as inappropriate.\">flag</a>\n",
        "      <span class='likeItContainer' id='like_container_review_50744827'><a href=\"/rating/voters/50744827?resource_type=Review\" id=\"like_count_review_50744827\" rel=\"nofollow\"><span class=\"likesCount\">6 likes</span></a>&nbsp;&middot;&nbsp;<a href=\"https://www.goodreads.com/user/new?remember=true&amp;return_url=%2Fbook%2Fshow%2F24583.The_Adventures_of_Tom_Sawyer\" rel=\"nofollow\">like</a></span>&nbsp;&middot;&nbsp;<a href=\"/review/show/50744827?book_show_action=true&amp;page=1\">see review</a>\n",
        "    </div>\n",
        "    <div id='comments_for_review_50744827' style='display: none;'>\n",
        "<div class='brown_comment'>\n",
        "<img alt=\"Chat_bubbles\" src=\"https://s.gr-assets.com/assets/chat_bubbles-ea628733152ae8319e85921ab3057b48.png\" />\n",
        "<span class=\"loadingLinkSpan\"><a href=\"/review/50744827/comments?reverse=true\" class=\"loadingLink\" data-remote=\"true\">view 1 comment</a><span class=\"loadingAnimation\"></span><span class=\"loadingError\"></span></span>\n",
        "</div>\n",
        "\n",
        "</div>\n",
        "\n",
        "  </td>\n",
        "</tr>\n",
        "\n",
        "      </div>\n",
        "\n",
        "  </div>\n",
        "\n",
        "  <div class=\"clear\"></div>\n",
        "</div>\n",
        "\n",
        "    </div>\n",
        "  </div>\n",
        "    <div class=\"elementListBrownSeparator\"></div>\n",
        "\n",
        "\n",
        "\n",
        "  <div class=\"friendReviews elementListBrown\">\n",
        "    <div class=\"section\">\n",
        "      \n",
        "\n",
        "<div id=\"review_329278072\" class=\"review nosyndicate\" itemprop=\"reviews\" itemscope itemtype=\"http://schema.org/Review\">\n",
        "  <link itemprop=\"url\" href=\"https://www.goodreads.com/review/show/329278072\" />\n",
        "  <a href=\"/user/show/4631723-maria\" class=\"left imgcol\" title=\"Maria\"><img alt=\"Maria\" src=\"https://d.gr-assets.com/users/1396210942p2/4631723.jpg\" /></a>\n",
        "\n",
        "  <div class=\"left bodycol\">\n",
        "    <div class=\"reviewHeader uitext stacked\">\n",
        "        <a href=\"/review/show/329278072?book_show_action=true\" class=\"reviewDate createdAt right\" itemprop=\"publishDate\">Jun 22, 2012</a>\n",
        "\n",
        "      <a href=\"/user/show/4631723-maria\" class=\"user\" title=\"Maria\">Maria</a>\n",
        "\n",
        "        rated it\n",
        "        <a class=\" staticStars stars_4\" title=\"really liked it\">4 of 5 stars</a>\n",
        "\n",
        "          <span class=\"greyText\">&nbsp;&middot;&nbsp;</span>\n",
        "          <a href=\"/book/show/11888452-as-aventuras-de-tom-sawyer\" class=\"lightGreyText\" title=\" \">review of another edition</a>\n",
        "\n",
        "\n",
        "        \n",
        "\n",
        "          <div class=\"uitext greyText bookshelves\">\n",
        "            Shelves:\n",
        "                <a href=\"/review/list/4631723-maria?shelf=favorites\" class=\"actionLinkLite\">favorites</a>, \n",
        "                <a href=\"/review/list/4631723-maria?shelf=4-stars\" class=\"actionLinkLite\">4-stars</a>\n",
        "          </div>\n",
        "    </div>\n",
        "\n",
        "        <div class=\"reviewText stacked\">\n",
        "              <span id=\"reviewTextContainer329278072\" class=\"readable\" style=\"\">\n",
        "            \n",
        "<span id=\"freeTextContainer17984498204823141364\" class=\"elementOne\">Tom Sawyer!<br>Oh, como eu gostava de ver os desenhos animados do Tom Sawyer. Aventuras, maluqueiras! <br><br>Quando os via nem tinha no\u00e7\u00e3o da exist\u00eancia do livro e de que os desenhos eram uma adapta\u00e7\u00e3o. <br>\u00c9 o segundo livro que leio por causa de desenhos animados. O primeiro foi A Ilha do Tesouro, que \u00e9 um dos meus livros favoritos. <br><br>\"As Aventuras de Tom Sawyer\" \u00e9, como diz o t\u00edtulo, um livro que fala das aventuras deste rapaz. <br>Tom anda sempre metido em sarilhos e traquinices. Tem v\u00e1rios amigos, mas Huckleberr</span>\n",
        "  <span id=\"freeText17984498204823141364\" class=\"elementTwo\" style=\"display:none\">Tom Sawyer!<br>Oh, como eu gostava de ver os desenhos animados do Tom Sawyer. Aventuras, maluqueiras! <br><br>Quando os via nem tinha no\u00e7\u00e3o da exist\u00eancia do livro e de que os desenhos eram uma adapta\u00e7\u00e3o. <br>\u00c9 o segundo livro que leio por causa de desenhos animados. O primeiro foi A Ilha do Tesouro, que \u00e9 um dos meus livros favoritos. <br><br>\"As Aventuras de Tom Sawyer\" \u00e9, como diz o t\u00edtulo, um livro que fala das aventuras deste rapaz. <br>Tom anda sempre metido em sarilhos e traquinices. Tem v\u00e1rios amigos, mas Huckleberry Finn e Joe Harper s\u00e3o os seus grandes amigos. Tamb\u00e9m tem uma \"amiga\" de nome Becky Thatcher, por quem Tom se apaixona \u00e0 primeira vista.<br>Tom, apesar de pregar grandes sustos \u00e0 Tia Polly e a v\u00e1rias outras pessoas, de se meter em alhadas, de mentir e de fazer v\u00e1rias traquinices, tem um cora\u00e7\u00e3o muito grande e ajuda sempre os seus amigos. <br><br>Gosto de livros de aventuras. Este \u00e9 um livro onde esse \u00e9 o ingrediente principal. <br>Quando acabei, desejei que tivesse mais p\u00e1ginas. Queria que continuasse! \u00c9 que tem uma hist\u00f3ria t\u00e3o bonita...! <br><br>\u00c9 um dos livros que vai ficar no meu cora\u00e7\u00e3o. Suponho que a maior parte das pessoas que leu o livro ficou com Tom no seu cora\u00e7\u00e3o. <br><br>Este \u00e9 um livro que todos deviam ler, pois \u00e9 uma hist\u00f3ria aparentemente simples, mas que mostra o melhor de todos n\u00f3s. Mesmo que por vezes o caminho que se percorre tenha alguns percal\u00e7os, \u00e9 poss\u00edvel ser-se bom, amigo e leal. <br>E tem aventuras e perigos e momentos c\u00f3micos! Ri-me bastantes vezes ao longo da leitura! <br><br>Um bom livro! Personagens eternas e aventuras intemporais! <br><br>Um dos meus livros favoritos! :)<br><br>No Blogue:<br><br><a href=\"http://boasleiturasemportugues.blogspot.pt/2012/06/as-aventuras-de-tom-sawyer-de-mark.html\" target=\"_blank\" rel=\"nofollow\">http://boasleiturasemportugues.blogsp...</a></span>\n",
        "  <a data-text-id=\"17984498204823141364\" href=\"#\" onclick=\"swapContent($(this));; return false;\">...more</a>\n",
        "          </span>\n",
        "        </div>\n",
        "\n",
        "\n",
        "      <div class=\"reviewFooter uitext buttons\">\n",
        "        \n",
        "<tr class=\"no_border\" id=\"update_comment_stuff_Review329278072\">\n",
        "  <td colspan=\"2\">\n",
        "    <div class=\"updateActionLinks\">\n",
        "        <a href=\"/flagged/new?resource_id=329278072&amp;resource_type=Review&amp;return_url=%2Fbook%2Fshow%2F24583.The_Adventures_of_Tom_Sawyer\" class=\"right flag\" id=\"flag_link329278072\" rel=\"nofollow\" title=\"Flag this review as inappropriate.\">flag</a>\n",
        "      <span class='likeItContainer' id='like_container_review_329278072'><a href=\"/rating/voters/329278072?resource_type=Review\" id=\"like_count_review_329278072\" rel=\"nofollow\"><span class=\"likesCount\">5 likes</span></a>&nbsp;&middot;&nbsp;<a href=\"https://www.goodreads.com/user/new?remember=true&amp;return_url=%2Fbook%2Fshow%2F24583.The_Adventures_of_Tom_Sawyer\" rel=\"nofollow\">like</a></span>&nbsp;&middot;&nbsp;<a href=\"/review/show/329278072?book_show_action=true&amp;page=1\">see review</a>\n",
        "    </div>\n",
        "    <div id='comments_for_review_329278072' style='display: none;'>\n",
        "\n",
        "<div id=\"comment_52726585\" class=\"brown_comment\">\n",
        "  <div class=\"xhr_comment_photo\">\n",
        "    \t<a href=\"/user/show/6137432-frozenwaffle\" alt=\"Frozenwaffle\"><img alt=\"6137432\" src=\"https://d.gr-assets.com/users/1370264135p1/6137432.jpg\" /></a>\n",
        "  </div>\n",
        "  <div class=\"xhr_comment_body\">\n",
        "    <a href=\"/user/show/6137432-frozenwaffle\" style=\"font-weight:bold\">Frozenwaffle</a>\n",
        "\n",
        "      \n",
        "<span id=\"freeTextContainer9519792663773537670\" class=\"elementOne\">Bela review! Obrigada por me relembrares deste livro maravilhoso. O artista reformado! :D Quando era pequena eu e a minha irm\u00e3 liamos capitulos do Tom</span>\n",
        "  <span id=\"freeText9519792663773537670\" class=\"elementTwo\" style=\"display:none\">Bela review! Obrigada por me relembrares deste livro maravilhoso. O artista reformado! :D Quando era pequena eu e a minha irm\u00e3 liamos capitulos do Tom Sawyer uma \u00e0 outra \u00e1 luz da vela, para a minha m\u00e3e n\u00e3o ver luz no quarto e vir mandar-nos dormir :) Acabamos com isso no dia em que a minha cadela se queimou na vela, a trapalhona =/ Nunca cheguei a acabar o livro, mas tenho toda a inten\u00e7\u00e3o disso. Lembro de o achar brilhante! ^^ <br><br>As aventuras do Huckleberry Finn n\u00e3o s\u00e3o uma esp\u00e9cie de continua\u00e7\u00e3o?</span>\n",
        "  <a data-text-id=\"9519792663773537670\" href=\"#\" onclick=\"swapContent($(this));; return false;\">...more</a>\n",
        "    <br/>\n",
        "\n",
        "    <span class=\"greyText\">\n",
        "      Jun 22, 2012 07:34AM\n",
        "    </span>\n",
        "\n",
        "  </div>\n",
        "  <div class=\"clear\"></div>\n",
        "</div>\n",
        "\n",
        "\n",
        "\n",
        "\n",
        "\n",
        "<div id=\"comment_52747188\" class=\"brown_comment\">\n",
        "  <div class=\"xhr_comment_photo\">\n",
        "    \t<a href=\"/user/show/4631723-maria\" alt=\"Maria\"><img alt=\"4631723\" src=\"https://d.gr-assets.com/users/1396210942p1/4631723.jpg\" /></a>\n",
        "  </div>\n",
        "  <div class=\"xhr_comment_body\">\n",
        "    <a href=\"/user/show/4631723-maria\" style=\"font-weight:bold\">Maria</a>\n",
        "\n",
        "      \n",
        "<span id=\"freeTextContainer11366508238173245078\" class=\"elementOne\">Obrigada! :D<br>Eu tamb\u00e9m fiquei muito contente por ter voltado a redescobrir esta hist\u00f3ria. <br>T\u00e3o giro! Tamb\u00e9m tinham aventuras, muito bom :)<br>Oh, coitadinha</span>\n",
        "  <span id=\"freeText11366508238173245078\" class=\"elementTwo\" style=\"display:none\">Obrigada! :D<br>Eu tamb\u00e9m fiquei muito contente por ter voltado a redescobrir esta hist\u00f3ria. <br>T\u00e3o giro! Tamb\u00e9m tinham aventuras, muito bom :)<br>Oh, coitadinha, assim \u00e9 que foi pior :\\<br>Acho que deves voltar a ler e terminar, desta vez :)<br>Eu gostei muito, nunca tinha lido antes. Mas gosta muito dos desenhos animados :)<br><br>Ah! Tens raz\u00e3o, deve complementar o do Tom. Tenho de o ler :D</span>\n",
        "  <a data-text-id=\"11366508238173245078\" href=\"#\" onclick=\"swapContent($(this));; return false;\">...more</a>\n",
        "    <br/>\n",
        "\n",
        "    <span class=\"greyText\">\n",
        "      Jun 22, 2012 01:30PM\n",
        "    </span>\n",
        "\n",
        "  </div>\n",
        "  <div class=\"clear\"></div>\n",
        "</div>\n",
        "\n",
        "\n",
        "\n",
        "\n",
        "\n",
        "</div>\n",
        "\n",
        "  </td>\n",
        "</tr>\n",
        "\n",
        "      </div>\n",
        "\n",
        "  </div>\n",
        "\n",
        "  <div class=\"clear\"></div>\n",
        "</div>\n",
        "\n",
        "    </div>\n",
        "  </div>\n",
        "    <div class=\"elementListBrownSeparator\"></div>\n",
        "\n",
        "\n",
        "\n",
        "  <div class=\"friendReviews elementListBrown\">\n",
        "    <div class=\"section\">\n",
        "      \n",
        "\n",
        "<div id=\"review_202953736\" class=\"review\" itemprop=\"reviews\" itemscope itemtype=\"http://schema.org/Review\">\n",
        "  <link itemprop=\"url\" href=\"https://www.goodreads.com/review/show/202953736\" />\n",
        "  <a href=\"/user/show/5752119-susmitchell\" class=\"left imgcol\" title=\"Susmitchell\"><img alt=\"Susmitchell\" src=\"https://d.gr-assets.com/users/1314391491p2/5752119.jpg\" /></a>\n",
        "\n",
        "  <div class=\"left bodycol\">\n",
        "    <div class=\"reviewHeader uitext stacked\">\n",
        "        <a href=\"/review/show/202953736?book_show_action=true\" class=\"reviewDate createdAt right\" itemprop=\"publishDate\">Nov 01, 2011</a>\n",
        "\n",
        "      <a href=\"/user/show/5752119-susmitchell\" class=\"user\" title=\"Susmitchell\">Susmitchell</a>\n",
        "\n",
        "        rated it\n",
        "        <a class=\" staticStars stars_1\" title=\"did not like it\">1 of 5 stars</a>\n",
        "\n",
        "          <span class=\"greyText\">&nbsp;&middot;&nbsp;</span>\n",
        "          <a href=\"/book/show/62388.The_Adventures_of_Tom_Sawyer\" class=\"lightGreyText\" title=\"Paperback 9780393926033\">review of another edition</a>\n",
        "\n",
        "\n",
        "        \n",
        "\n",
        "    </div>\n",
        "\n",
        "        <div class=\"reviewText stacked\">\n",
        "              <span id=\"reviewTextContainer202953736\" class=\"readable\" style=\"\">\n",
        "            \n",
        "<span id=\"freeTextContainer3319372804683284084\" class=\"elementOne\">This book killed my summer. Let me elaborate: The summer after sixth grade I was young and fresh, and looking forward to middle school. And then I read THIS. My feelings when I laid eyes on this book for my summer reading assignment are akin to those of Old Yeller when that little kid shoots him: Betrayal, Anger, and a bit of Confusion. This book ruined the best 1/4 of the year for me, and I will NEVER forgive it. To demonstrate the depth of my hatred for Tom Sawyer, I cut out the pages with a r</span>\n",
        "  <span id=\"freeText3319372804683284084\" class=\"elementTwo\" style=\"display:none\">This book killed my summer. Let me elaborate: The summer after sixth grade I was young and fresh, and looking forward to middle school. And then I read THIS. My feelings when I laid eyes on this book for my summer reading assignment are akin to those of Old Yeller when that little kid shoots him: Betrayal, Anger, and a bit of Confusion. This book ruined the best 1/4 of the year for me, and I will NEVER forgive it. To demonstrate the depth of my hatred for Tom Sawyer, I cut out the pages with a razor blade and used them as kindling for when I roasted marshmallows. Those marshmallows were the worst marshmallows I've ever had, all because they were roasted in the flames of hate.<br><br>Oh yeah. WHY I hate it? It's boring. And by boring, I mean Mark Twain must have sat around for hours each day being nagged by his publisher to write a book, no matter how bad the quality. And the quality is bad. This book is so boring that Marky Mark spends a whole chapter describing how Tom got the other kids to paint a fence for him. That is how dull this book is. THEY PAINT FENCES. If Tom was looking for excitement, why didn't he just play with Pokemon cards or read a good book? Except he couldn't read a good book, because the only books they had back then WERE LIKE TOM SAWYER. Instead of doing anything constructive, he goes to play in a cave where he loses his girlfriend. Really? REALLY? Tom, have you ever heard of common sense? USE IT. I hate Tom Sawyer. Both the character and the book. Okay, I think I'm done.</span>\n",
        "  <a data-text-id=\"3319372804683284084\" href=\"#\" onclick=\"swapContent($(this));; return false;\">...more</a>\n",
        "          </span>\n",
        "        </div>\n",
        "\n",
        "\n",
        "      <div class=\"reviewFooter uitext buttons\">\n",
        "        \n",
        "<tr class=\"no_border\" id=\"update_comment_stuff_Review202953736\">\n",
        "  <td colspan=\"2\">\n",
        "    <div class=\"updateActionLinks\">\n",
        "        <a href=\"/flagged/new?resource_id=202953736&amp;resource_type=Review&amp;return_url=%2Fbook%2Fshow%2F24583.The_Adventures_of_Tom_Sawyer\" class=\"right flag\" id=\"flag_link202953736\" rel=\"nofollow\" title=\"Flag this review as inappropriate.\">flag</a>\n",
        "      <span class='likeItContainer' id='like_container_review_202953736'><a href=\"/rating/voters/202953736?resource_type=Review\" id=\"like_count_review_202953736\" rel=\"nofollow\"><span class=\"likesCount\">5 likes</span></a>&nbsp;&middot;&nbsp;<a href=\"https://www.goodreads.com/user/new?remember=true&amp;return_url=%2Fbook%2Fshow%2F24583.The_Adventures_of_Tom_Sawyer\" rel=\"nofollow\">like</a></span>&nbsp;&middot;&nbsp;<a href=\"/review/show/202953736?book_show_action=true&amp;page=1\">see review</a>\n",
        "    </div>\n",
        "    <div id='comments_for_review_202953736' style='display: none;'>\n",
        "<div class='brown_comment'>\n",
        "<img alt=\"Chat_bubbles\" src=\"https://s.gr-assets.com/assets/chat_bubbles-ea628733152ae8319e85921ab3057b48.png\" />\n",
        "<span class=\"loadingLinkSpan\"><a href=\"/review/202953736/comments?reverse=true\" class=\"loadingLink\" data-remote=\"true\">view all 7 comments</a><span class=\"loadingAnimation\"></span><span class=\"loadingError\"></span></span>\n",
        "</div>\n",
        "\n",
        "<div id=\"comment_39984681\" class=\"brown_comment\">\n",
        "  <div class=\"xhr_comment_photo\">\n",
        "    \t<a href=\"/user/show/3948385-bethany\" alt=\"Bethany \"><img alt=\"3948385\" src=\"https://d.gr-assets.com/users/1278191338p1/3948385.jpg\" /></a>\n",
        "  </div>\n",
        "  <div class=\"xhr_comment_body\">\n",
        "    <a href=\"/user/show/3948385-bethany\" style=\"font-weight:bold\">Bethany </a>\n",
        "\n",
        "      \n",
        "<span id=\"freeTextContainer10560245851172804816\" class=\"elementOne\">Sword was better than monte cristo</span>\n",
        "\n",
        "    <br/>\n",
        "\n",
        "    <span class=\"greyText\">\n",
        "      Nov 14, 2011 02:39PM\n",
        "    </span>\n",
        "\n",
        "  </div>\n",
        "  <div class=\"clear\"></div>\n",
        "</div>\n",
        "\n",
        "\n",
        "\n",
        "\n",
        "\n",
        "<div id=\"comment_40091977\" class=\"brown_comment\">\n",
        "  <div class=\"xhr_comment_photo\">\n",
        "    \t<a href=\"/user/show/3950038-rachel\" alt=\"Rachel\"><img alt=\"3950038\" src=\"https://d.gr-assets.com/users/1314672000p1/3950038.jpg\" /></a>\n",
        "  </div>\n",
        "  <div class=\"xhr_comment_body\">\n",
        "    <a href=\"/user/show/3950038-rachel\" style=\"font-weight:bold\">Rachel</a>\n",
        "\n",
        "      \n",
        "<span id=\"freeTextContainer1070717896506939588\" class=\"elementOne\">Sword was really... Strange. Maybe it's just because other than Harry Potter I don't really like reading books about magic and wizardry and stuff. I l</span>\n",
        "  <span id=\"freeText1070717896506939588\" class=\"elementTwo\" style=\"display:none\">Sword was really... Strange. Maybe it's just because other than Harry Potter I don't really like reading books about magic and wizardry and stuff. I loved Monte Cristo especially the complex plot. But we all have our opinions.</span>\n",
        "  <a data-text-id=\"1070717896506939588\" href=\"#\" onclick=\"swapContent($(this));; return false;\">...more</a>\n",
        "    <br/>\n",
        "\n",
        "    <span class=\"greyText\">\n",
        "      Nov 16, 2011 04:19PM\n",
        "    </span>\n",
        "\n",
        "  </div>\n",
        "  <div class=\"clear\"></div>\n",
        "</div>\n",
        "\n",
        "\n",
        "\n",
        "\n",
        "\n",
        "</div>\n",
        "\n",
        "  </td>\n",
        "</tr>\n",
        "\n",
        "      </div>\n",
        "\n",
        "  </div>\n",
        "\n",
        "  <div class=\"clear\"></div>\n",
        "</div>\n",
        "\n",
        "    </div>\n",
        "  </div>\n",
        "    <div class=\"elementListBrownSeparator\"></div>\n",
        "\n",
        "\n",
        "\n",
        "  <div class=\"friendReviews elementListBrown\">\n",
        "    <div class=\"section\">\n",
        "      \n",
        "\n",
        "<div id=\"review_134117187\" class=\"review nosyndicate\" itemprop=\"reviews\" itemscope itemtype=\"http://schema.org/Review\">\n",
        "  <link itemprop=\"url\" href=\"https://www.goodreads.com/review/show/134117187\" />\n",
        "  <a href=\"/user/show/1161178-jimmy\" class=\"left imgcol\" title=\"Jimmy\"><img alt=\"Jimmy\" src=\"https://d.gr-assets.com/users/1357670016p2/1161178.jpg\" /></a>\n",
        "\n",
        "  <div class=\"left bodycol\">\n",
        "    <div class=\"reviewHeader uitext stacked\">\n",
        "        <a href=\"/review/show/134117187?book_show_action=true\" class=\"reviewDate createdAt right\" itemprop=\"publishDate\">Feb 01, 2011</a>\n",
        "\n",
        "      <a href=\"/user/show/1161178-jimmy\" class=\"user\" title=\"Jimmy\">Jimmy</a>\n",
        "\n",
        "        rated it\n",
        "        <a class=\" staticStars stars_3\" title=\"liked it\">3 of 5 stars</a>\n",
        "\n",
        "          <span class=\"greyText\">&nbsp;&middot;&nbsp;</span>\n",
        "          <a href=\"/book/show/9298961-the-adventures-of-tom-sawyer\" class=\"lightGreyText\" title=\"Paperback 9789790244504\">review of another edition</a>\n",
        "\n",
        "\n",
        "        \n",
        "\n",
        "    </div>\n",
        "\n",
        "        <div class=\"reviewText stacked\">\n",
        "              <span id=\"reviewTextContainer134117187\" class=\"readable\" style=\"\">\n",
        "            \n",
        "<span id=\"freeTextContainer6786644422298257421\" class=\"elementOne\"><em>Sahabat sejatiku, hilangkah dari ingatanmu<br>Di hari kita saling berbagi<br>Dengan kotak sejuta mimpi, aku datang menghampirimu<br>Kuperlihat semua hartaku<br>Kita s\u2019lalu berpendapat, kita ini yang terhebat<br>Kesombongan di masa muda yang indah<br>Aku raja kaupun raja<br>Aku hitam kaupun hitam<br>Arti teman lebih dari sekedar materi</em><br><br>\u2026mengutip lirik dari lagu \u201cSahabat Sejati\u201d \u2013 Sheila on 7<br><br>Saya pikir cuplikan lirik lagu di atas cukup mewakili seperti apa masa kanak-kanak kita.  Ingin selalu menjadi yang paling hebat  di antara te</span>\n",
        "  <span id=\"freeText6786644422298257421\" class=\"elementTwo\" style=\"display:none\"><em>Sahabat sejatiku, hilangkah dari ingatanmu<br>Di hari kita saling berbagi<br>Dengan kotak sejuta mimpi, aku datang menghampirimu<br>Kuperlihat semua hartaku<br>Kita s\u2019lalu berpendapat, kita ini yang terhebat<br>Kesombongan di masa muda yang indah<br>Aku raja kaupun raja<br>Aku hitam kaupun hitam<br>Arti teman lebih dari sekedar materi</em><br><br>\u2026mengutip lirik dari lagu \u201cSahabat Sejati\u201d \u2013 Sheila on 7<br><br>Saya pikir cuplikan lirik lagu di atas cukup mewakili seperti apa masa kanak-kanak kita.  Ingin selalu menjadi yang paling hebat  di antara teman-teman. Ingin menjadi raja atau pahlawan. Bertualang agar memiliki cerita yang membuat iri teman-teman. Tentunya, tidak semua orang menjalani masa kanak-kanak yang sama. Ada juga anak-anak kalem seperti Sid. Penurut dan seolah memiliki tugas khusus menjadi mata-mata \u2013 musuh besar bagi anak-anak seperti Tom.<br><br>Tom digambarkan sebagai anak yang memiliki daya imajinasi yang tinggi (atau mungkin hiperaktif?), cerdas  dan banyak akal (atau mungkin licik?). Dia sangat suka memperdaya teman-temannya demi keuntungannya. Bibi Polly juga sering menjadi korban keisengannya.  Tapi jangan langsung menghakimi Tom sebagai anak yang nakal dan bermasalah sebelum membaca keseluruhan ceritanya. Kabur dari rumah, menjadi saksi pembunuhan, mencari harta karun, dan tersesat di goa adalah sebagian dari sejumlah petualangan yang dialaminya.<br><br><em>The Adventures of Tom Sawyer </em>merupakan kisah klasik karya Mark Twain yang diterbitkan pertama kali pada tahun 1876. Seperti yang yang tercetak di bagian kata pengantar, kebanyakan dari petualangan Tom yang dikisahkan di buku ini diangkat dari kisah nyata. Beberapa di antaranya malah merupakan pengalaman Mark Twain sendiri. Sementara kisah lainnya dia adaptasi dari kisah teman-teman sekolahnya. Tokoh utamanya, Tom Sawyer, sendiri benar-benar ada tapi karakternya merupakan penggabungan tiga sifat anak laki-laki yang dikenal oleh Mark. <br><br>Beberapa catatan yang membuat saya merasa terganggu saat membaca buku ini (siapa tahu bisa jadi bahan masukan untuk cetakan berikutnya):<br><br>1. Masih mengutip dari kata pengantar, buku ini sebenarnya lebih banyak ditujukan untuk menghibur anak-anak lelaki dan perempuan. Tapi, saya menemukan banyak kalimat-kalimat panjang yang seharusnya bisa di potong-potong menjadi kalimat-kalimat yang lebih pendek. Saat membaca, saya sempat membayangkan bagaimana kening anak-anak akan berkerut seperti kening saya saat membaca narasi-narasi panjang dalam buku ini.<br><br>2. Di halaman pertama buku ini saja, saya sudah menemukan kesalahan ketik. Tepatnya dibaris paling bawah <em>\u201cDia bahkan <strong>masih masih</strong> bisa melihat \u2026\u201d</em><br><br>3. Di halaman enam ada kalimat \u201cLebih baik kau lebih waspada lain kali.\u201d Memang tidak ada yang salah, tapi saya merasa agak aneh saja saat membaca kalimat itu.<br><br>4.Di beberapa halaman ada penggunaan kata \u201cnegro\u201d. Setahu saya, kata negro sudah sangat jarang dipakai, kecuali untuk menghina. Memang, pada saat pertama kali buku ini diterbitkan, itu tidak menjadi masalah. Tapi edisi terjemahan ini diterbitkan tahun 2010 dimana kata negro sudah lebih sering digantikan dengan Afro-Amerika atau Kulit Hitam. Menurut saya, sah-sah saja menggunakan kata \u2018negro\u2019 jika konteks ceritanya memang dimaksudkan untuk menghina. Tapi di buku ini konteksnya untuk menggambarkan seseorang yang berkulit hitam (Afro-Amerika).<br><br>5.Penggunaan istilah \u201cKhotbah di Gunung\u201d di halaman 39. Saya pikir lebih tepatnya \u201cKhotbah di Bukit\u201d.<br><br>6.Kalau dilihat di Alkitab, salah satu ayat dari Khotbah di Bukit berbunyi: <strong>\u201cBerbahagialah orang yang miskin di hadapan Allah, karena merekalah yang empunya Kerajaan Sorga\u201d</strong>. Tapi di buku ini tercetak <strong>\u201cDiberkahi orang-orang miskin dalam jiwanya, untuk mereka kerajaan surga.\u201d</strong><br><br>7.Masih merujuk pada Alkitab, saya tidak (setidaknya belum) pernah menemukan nama David dan Goliath. Yang ada adalah Daud dan Goliat. Penggunaan David dan Goliath hanya saya temukan di Bible, bukan di Alkitab.<br><br>8.Satu kalimat aneh lagi di halaman 78 \u201cBukankah dia dikuburkan hari Sabtu. Apakah mereka <strong>tidak sudah </strong>mengambilnya hari Sabtu malam?\u201d.<br><br>9.Di salah satu bagian, nama Huck tiba-tiba berubah menjadi Hugh.<br><br>Sebenarnya masih ada beberapa catatan yang ingin saya sampaikan, seperti kesalahan ketik di beberapa halaman, dan juga penggunaan istilah yang menurut saya kurang tepat. Misalnya, penggunaan kata \u201cpelayanan\u201d, bukannya \u201ckebaktian\u201d. Padahal, adegannya berlangsung di gereja. <br><br>Tapi berhubung saya suka angka sembilan, maka biarlah catatannya saya akhiri di angka itu.<br><br>Sebagai cerita petualangan anak kecil, saya rasa buku ini cukup menghibur. Saya katakan cukup menghibur karena saya juga punya cerita masa kanak-kanak yang tidak kalah seru dari Tom. Tapi buat (kebanyakan) anak-anak yang lahir dan besar di perkotaan, kisah petualangan Tom (mungkin) bisa membuat mereka iri.<br><br>Selamat membaca!<br></span>\n",
        "  <a data-text-id=\"6786644422298257421\" href=\"#\" onclick=\"swapContent($(this));; return false;\">...more</a>\n",
        "          </span>\n",
        "        </div>\n",
        "\n",
        "\n",
        "      <div class=\"reviewFooter uitext buttons\">\n",
        "        \n",
        "<tr class=\"no_border\" id=\"update_comment_stuff_Review134117187\">\n",
        "  <td colspan=\"2\">\n",
        "    <div class=\"updateActionLinks\">\n",
        "        <a href=\"/flagged/new?resource_id=134117187&amp;resource_type=Review&amp;return_url=%2Fbook%2Fshow%2F24583.The_Adventures_of_Tom_Sawyer\" class=\"right flag\" id=\"flag_link134117187\" rel=\"nofollow\" title=\"Flag this review as inappropriate.\">flag</a>\n",
        "      <span class='likeItContainer' id='like_container_review_134117187'><a href=\"/rating/voters/134117187?resource_type=Review\" id=\"like_count_review_134117187\" rel=\"nofollow\"><span class=\"likesCount\">5 likes</span></a>&nbsp;&middot;&nbsp;<a href=\"https://www.goodreads.com/user/new?remember=true&amp;return_url=%2Fbook%2Fshow%2F24583.The_Adventures_of_Tom_Sawyer\" rel=\"nofollow\">like</a></span>&nbsp;&middot;&nbsp;<a href=\"/review/show/134117187?book_show_action=true&amp;page=1\">see review</a>\n",
        "    </div>\n",
        "    <div id='comments_for_review_134117187' style='display: none;'>\n",
        "<div class='brown_comment'>\n",
        "<img alt=\"Chat_bubbles\" src=\"https://s.gr-assets.com/assets/chat_bubbles-ea628733152ae8319e85921ab3057b48.png\" />\n",
        "<span class=\"loadingLinkSpan\"><a href=\"/review/134117187/comments?reverse=true\" class=\"loadingLink\" data-remote=\"true\">view all 10 comments</a><span class=\"loadingAnimation\"></span><span class=\"loadingError\"></span></span>\n",
        "</div>\n",
        "\n",
        "<div id=\"comment_26096940\" class=\"brown_comment\">\n",
        "  <div class=\"xhr_comment_photo\">\n",
        "    \t<a href=\"/user/show/1161178-jimmy\" alt=\"Jimmy\"><img alt=\"1161178\" src=\"https://d.gr-assets.com/users/1357670016p1/1161178.jpg\" /></a>\n",
        "  </div>\n",
        "  <div class=\"xhr_comment_body\">\n",
        "    <a href=\"/user/show/1161178-jimmy\" style=\"font-weight:bold\">Jimmy</a>\n",
        "\n",
        "      \n",
        "<span id=\"freeTextContainer12514490422793619986\" class=\"elementOne\">Hahaha...iya, ceritanya berkolaborasi :p</span>\n",
        "\n",
        "    <br/>\n",
        "\n",
        "    <span class=\"greyText\">\n",
        "      Feb 04, 2011 08:19AM\n",
        "    </span>\n",
        "\n",
        "  </div>\n",
        "  <div class=\"clear\"></div>\n",
        "</div>\n",
        "\n",
        "\n",
        "\n",
        "\n",
        "\n",
        "<div id=\"comment_26225538\" class=\"brown_comment\">\n",
        "  <div class=\"xhr_comment_photo\">\n",
        "    \t<a href=\"/user/show/1960904-e-c-h-a\" alt=\"e.c.h.a\"><img alt=\"1960904\" src=\"https://d.gr-assets.com/users/1303392703p1/1960904.jpg\" /></a>\n",
        "  </div>\n",
        "  <div class=\"xhr_comment_body\">\n",
        "    <a href=\"/user/show/1960904-e-c-h-a\" style=\"font-weight:bold\">e.c.h.a</a>\n",
        "\n",
        "      \n",
        "<span id=\"freeTextContainer1414424857751216699\" class=\"elementOne\">Saya mau minta gratisan buku ini aja ah ke Oom Jim hehehe</span>\n",
        "\n",
        "    <br/>\n",
        "\n",
        "    <span class=\"greyText\">\n",
        "      Feb 07, 2011 09:00AM\n",
        "    </span>\n",
        "\n",
        "  </div>\n",
        "  <div class=\"clear\"></div>\n",
        "</div>\n",
        "\n",
        "\n",
        "\n",
        "\n",
        "\n",
        "</div>\n",
        "\n",
        "  </td>\n",
        "</tr>\n",
        "\n",
        "      </div>\n",
        "\n",
        "  </div>\n",
        "\n",
        "  <div class=\"clear\"></div>\n",
        "</div>\n",
        "\n",
        "    </div>\n",
        "  </div>\n",
        "    <div class=\"elementListBrownSeparator\"></div>\n",
        "\n",
        "\n",
        "\n",
        "  <div class=\"friendReviews elementListBrown\">\n",
        "    <div class=\"section\">\n",
        "      \n",
        "\n",
        "<div id=\"review_466389919\" class=\"review\" itemprop=\"reviews\" itemscope itemtype=\"http://schema.org/Review\">\n",
        "  <link itemprop=\"url\" href=\"https://www.goodreads.com/review/show/466389919\" />\n",
        "  <a href=\"/user/show/9777942-joseph\" class=\"left imgcol\" title=\"Joseph\"><img alt=\"Joseph\" src=\"https://d.gr-assets.com/users/1337976088p2/9777942.jpg\" /></a>\n",
        "\n",
        "  <div class=\"left bodycol\">\n",
        "    <div class=\"reviewHeader uitext stacked\">\n",
        "        <a href=\"/review/show/466389919?book_show_action=true\" class=\"reviewDate createdAt right\" itemprop=\"publishDate\">Nov 29, 2012</a>\n",
        "\n",
        "      <a href=\"/user/show/9777942-joseph\" class=\"user\" title=\"Joseph\">Joseph</a>\n",
        "\n",
        "        rated it\n",
        "        <a class=\" staticStars stars_3\" title=\"liked it\">3 of 5 stars</a>\n",
        "\n",
        "\n",
        "\n",
        "        \n",
        "\n",
        "    </div>\n",
        "\n",
        "        <div class=\"reviewText stacked\">\n",
        "              <span id=\"reviewTextContainer466389919\" class=\"readable\" style=\"\">\n",
        "            \n",
        "<span id=\"freeTextContainer988456685838329867\" class=\"elementOne\">Tom Sawyer is two stories in one.  More well known is the tale of boyhood adventures, imaginative games and cruelty to animals; a meandering, pleasant story drawn from events in Mark Twain's life.  These comical chapters drift logically into each other and give a rich impression of a distant time and place.<br><br>The other story interlaced is less well known for a reason, its a dark tale of murder and robbery with racist elements (the villain is a cliched heartless stoic 'half-breed.')  Worse, this tale i</span>\n",
        "  <span id=\"freeText988456685838329867\" class=\"elementTwo\" style=\"display:none\">Tom Sawyer is two stories in one.  More well known is the tale of boyhood adventures, imaginative games and cruelty to animals; a meandering, pleasant story drawn from events in Mark Twain's life.  These comical chapters drift logically into each other and give a rich impression of a distant time and place.<br><br>The other story interlaced is less well known for a reason, its a dark tale of murder and robbery with racist elements (the villain is a cliched heartless stoic 'half-breed.')  Worse, this tale is terribly unlikely (Tom only knows of the villain's crimes because he is continuously in the right place at the right time) and feels shoe-horned in to raise the stakes and lend the book more weight.<br><br>Compared with Huckleberry Finn, The Adventures of Tom Sawyer features far more author commentary and you get more of Twain's trademark wit as he  opines on Midwest values, superstitions, religious customs and adventure novels.  Mostly, Twain is charitable with his subjects, but he does find time for one or two denouncements, which is fitting in a book of whimsy with some darkness tacked-on.</span>\n",
        "  <a data-text-id=\"988456685838329867\" href=\"#\" onclick=\"swapContent($(this));; return false;\">...more</a>\n",
        "          </span>\n",
        "        </div>\n",
        "\n",
        "\n",
        "      <div class=\"reviewFooter uitext buttons\">\n",
        "        \n",
        "<tr class=\"no_border\" id=\"update_comment_stuff_Review466389919\">\n",
        "  <td colspan=\"2\">\n",
        "    <div class=\"updateActionLinks\">\n",
        "        <a href=\"/flagged/new?resource_id=466389919&amp;resource_type=Review&amp;return_url=%2Fbook%2Fshow%2F24583.The_Adventures_of_Tom_Sawyer\" class=\"right flag\" id=\"flag_link466389919\" rel=\"nofollow\" title=\"Flag this review as inappropriate.\">flag</a>\n",
        "      <span class='likeItContainer' id='like_container_review_466389919'><a href=\"/rating/voters/466389919?resource_type=Review\" id=\"like_count_review_466389919\" rel=\"nofollow\"><span class=\"likesCount\">5 likes</span></a>&nbsp;&middot;&nbsp;<a href=\"https://www.goodreads.com/user/new?remember=true&amp;return_url=%2Fbook%2Fshow%2F24583.The_Adventures_of_Tom_Sawyer\" rel=\"nofollow\">like</a></span>&nbsp;&middot;&nbsp;<a href=\"/review/show/466389919?book_show_action=true&amp;page=1\">see review</a>\n",
        "    </div>\n",
        "    <div id='comments_for_review_466389919' style='display: none;'>\n",
        "\n",
        "<div id=\"comment_101592533\" class=\"brown_comment\">\n",
        "  <div class=\"xhr_comment_photo\">\n",
        "    \t<a href=\"/user/show/5856247-david-sarkies\" alt=\"David Sarkies\"><img alt=\"5856247\" src=\"https://d.gr-assets.com/users/1364954265p1/5856247.jpg\" /></a>\n",
        "  </div>\n",
        "  <div class=\"xhr_comment_body\">\n",
        "    <a href=\"/user/show/5856247-david-sarkies\" style=\"font-weight:bold\">David Sarkies</a>\n",
        "\n",
        "      \n",
        "<span id=\"freeTextContainer2249615056210688043\" class=\"elementOne\">It sounds like a Famous Five book, where you have the tale of a group of children having fun on their holidays intermeshed with them solving a crime.</span>\n",
        "\n",
        "    <br/>\n",
        "\n",
        "    <span class=\"greyText\">\n",
        "      Jul 04, 2014 08:28PM\n",
        "    </span>\n",
        "\n",
        "  </div>\n",
        "  <div class=\"clear\"></div>\n",
        "</div>\n",
        "\n",
        "\n",
        "\n",
        "\n",
        "\n",
        "</div>\n",
        "\n",
        "  </td>\n",
        "</tr>\n",
        "\n",
        "      </div>\n",
        "\n",
        "  </div>\n",
        "\n",
        "  <div class=\"clear\"></div>\n",
        "</div>\n",
        "\n",
        "    </div>\n",
        "  </div>\n",
        "    <div class=\"elementListBrownSeparator\"></div>\n",
        "\n",
        "\n",
        "\n",
        "  <div class=\"friendReviews elementListBrown\">\n",
        "    <div class=\"section\">\n",
        "      \n",
        "\n",
        "<div id=\"review_469678037\" class=\"review\" itemprop=\"reviews\" itemscope itemtype=\"http://schema.org/Review\">\n",
        "  <link itemprop=\"url\" href=\"https://www.goodreads.com/review/show/469678037\" />\n",
        "  <a href=\"/user/show/12709071-brandt\" class=\"left imgcol\" title=\"Brandt\"><img alt=\"Brandt\" src=\"https://d.gr-assets.com/users/1370998813p2/12709071.jpg\" /></a>\n",
        "\n",
        "  <div class=\"left bodycol\">\n",
        "    <div class=\"reviewHeader uitext stacked\">\n",
        "        <a href=\"/review/show/469678037?book_show_action=true\" class=\"reviewDate createdAt right\" itemprop=\"publishDate\">Apr 21, 2014</a>\n",
        "\n",
        "      <a href=\"/user/show/12709071-brandt\" class=\"user\" title=\"Brandt\">Brandt</a>\n",
        "\n",
        "        rated it\n",
        "        <a class=\" staticStars stars_5\" title=\"it was amazing\">5 of 5 stars</a>\n",
        "\n",
        "\n",
        "\n",
        "        \n",
        "\n",
        "    </div>\n",
        "\n",
        "        <div class=\"reviewText stacked\">\n",
        "              <span id=\"reviewTextContainer469678037\" class=\"readable\" style=\"\">\n",
        "            \n",
        "<span id=\"freeTextContainer4014782902331341824\" class=\"elementOne\">\tI have just finished reading The Adventures of Tom Sawyer by: Mark Twain. Mark Twain\u2019s life is almost as exciting as Tom Sawyer\u2019s. Mark Twain is actually just a pen name his real name is Samuel Clemens. Clemens made the fake name because he did not want to be yelled at because of what he wrote about in his books. The Adventures of Tom Sawyer is a historical fiction about a kid named Tom Sawyer experiencing his every day life while also experiencing a bit of a mystery around town involving a tre</span>\n",
        "  <span id=\"freeText4014782902331341824\" class=\"elementTwo\" style=\"display:none\">\tI have just finished reading The Adventures of Tom Sawyer by: Mark Twain. Mark Twain\u2019s life is almost as exciting as Tom Sawyer\u2019s. Mark Twain is actually just a pen name his real name is Samuel Clemens. Clemens made the fake name because he did not want to be yelled at because of what he wrote about in his books. The Adventures of Tom Sawyer is a historical fiction about a kid named Tom Sawyer experiencing his every day life while also experiencing a bit of a mystery around town involving a treasure and perhaps even a murder\u2026 Tom is a mischievous trickster who Mark Twain says Tom is in his lower level of school.<br>\tThe Adventures of Tom Sawyer is a worldly renowned book and rightly deserves so. Twain is a master craftsman with his literature he shows the reader instead of just telling them what happens and he also puts a lot more in his sentences than you could just read, for example, \u201cWhen she cautiously faced around again, a peach lay before her\u201d (Pg. 55) When I first read that it did not seem special but if you read it and the book multiple times you find subtle things for the adults.  Twain not only shows what he is trying to tell us but he also gives us a chance to imagine what would have happened, take this quote for example, \u201cLet us draw the curtain of charity over the rest of the scene.\u201d (Pg. 40) <br>This is one of my favorite books ever and it will probably stay that way. Twain is amazing with his work and if you have not read this book yet you are definitely missing out. <br></span>\n",
        "  <a data-text-id=\"4014782902331341824\" href=\"#\" onclick=\"swapContent($(this));; return false;\">...more</a>\n",
        "          </span>\n",
        "        </div>\n",
        "\n",
        "\n",
        "      <div class=\"reviewFooter uitext buttons\">\n",
        "        \n",
        "<tr class=\"no_border\" id=\"update_comment_stuff_Review469678037\">\n",
        "  <td colspan=\"2\">\n",
        "    <div class=\"updateActionLinks\">\n",
        "        <a href=\"/flagged/new?resource_id=469678037&amp;resource_type=Review&amp;return_url=%2Fbook%2Fshow%2F24583.The_Adventures_of_Tom_Sawyer\" class=\"right flag\" id=\"flag_link469678037\" rel=\"nofollow\" title=\"Flag this review as inappropriate.\">flag</a>\n",
        "      <span class='likeItContainer' id='like_container_review_469678037'><a href=\"/rating/voters/469678037?resource_type=Review\" id=\"like_count_review_469678037\" rel=\"nofollow\"><span class=\"likesCount\">4 likes</span></a>&nbsp;&middot;&nbsp;<a href=\"https://www.goodreads.com/user/new?remember=true&amp;return_url=%2Fbook%2Fshow%2F24583.The_Adventures_of_Tom_Sawyer\" rel=\"nofollow\">like</a></span>&nbsp;&middot;&nbsp;<a href=\"/review/show/469678037?book_show_action=true&amp;page=1\">see review</a>\n",
        "    </div>\n",
        "    <div id='comments_for_review_469678037' style='display: none;'>\n",
        "\n",
        "<div id=\"comment_101592600\" class=\"brown_comment\">\n",
        "  <div class=\"xhr_comment_photo\">\n",
        "    \t<a href=\"/user/show/5856247-david-sarkies\" alt=\"David Sarkies\"><img alt=\"5856247\" src=\"https://d.gr-assets.com/users/1364954265p1/5856247.jpg\" /></a>\n",
        "  </div>\n",
        "  <div class=\"xhr_comment_body\">\n",
        "    <a href=\"/user/show/5856247-david-sarkies\" style=\"font-weight:bold\">David Sarkies</a>\n",
        "\n",
        "      \n",
        "<span id=\"freeTextContainer5196939752370991344\" class=\"elementOne\">I didn't realise that Clement's writings were controversial, at least not the ones that I have read. They all seem to be perfectly good books to me.</span>\n",
        "\n",
        "    <br/>\n",
        "\n",
        "    <span class=\"greyText\">\n",
        "      Jul 04, 2014 08:30PM\n",
        "    </span>\n",
        "\n",
        "  </div>\n",
        "  <div class=\"clear\"></div>\n",
        "</div>\n",
        "\n",
        "\n",
        "\n",
        "\n",
        "\n",
        "</div>\n",
        "\n",
        "  </td>\n",
        "</tr>\n",
        "\n",
        "      </div>\n",
        "\n",
        "  </div>\n",
        "\n",
        "  <div class=\"clear\"></div>\n",
        "</div>\n",
        "\n",
        "    </div>\n",
        "  </div>\n",
        "    <div class=\"elementListBrownSeparator\"></div>\n",
        "\n",
        "\n",
        "\n",
        "  <div class=\"friendReviews elementListBrown\">\n",
        "    <div class=\"section\">\n",
        "      \n",
        "\n",
        "<div id=\"review_171651595\" class=\"review\" itemprop=\"reviews\" itemscope itemtype=\"http://schema.org/Review\">\n",
        "  <link itemprop=\"url\" href=\"https://www.goodreads.com/review/show/171651595\" />\n",
        "  <a href=\"/user/show/858390-miaaa\" class=\"left imgcol\" title=\"miaaa\"><img alt=\"miaaa\" src=\"https://d.gr-assets.com/users/1271144604p2/858390.jpg\" /></a>\n",
        "\n",
        "  <div class=\"left bodycol\">\n",
        "    <div class=\"reviewHeader uitext stacked\">\n",
        "        <a href=\"/review/show/171651595?book_show_action=true\" class=\"reviewDate createdAt right\" itemprop=\"publishDate\">Jun 07, 2011</a>\n",
        "\n",
        "      <a href=\"/user/show/858390-miaaa\" class=\"user\" title=\"miaaa\">miaaa</a>\n",
        "\n",
        "        rated it\n",
        "        <a class=\" staticStars stars_3\" title=\"liked it\">3 of 5 stars</a>\n",
        "\n",
        "          <span class=\"greyText\">&nbsp;&middot;&nbsp;</span>\n",
        "          <a href=\"/book/show/9664660-petualangan-tom-sawyer\" class=\"lightGreyText\" title=\" 9794193399\">review of another edition</a>\n",
        "\n",
        "\n",
        "        \n",
        "\n",
        "          <div class=\"uitext greyText bookshelves\">\n",
        "            Shelves:\n",
        "                <a href=\"/review/list/858390-miaaa?shelf=ophelia-s-library\" class=\"actionLinkLite\">ophelia-s-library</a>, \n",
        "                <a href=\"/review/list/858390-miaaa?shelf=fictions-others\" class=\"actionLinkLite\">fictions-others</a>\n",
        "          </div>\n",
        "    </div>\n",
        "\n",
        "        <div class=\"reviewText stacked\">\n",
        "              <span id=\"reviewTextContainer171651595\" class=\"readable\" style=\"\">\n",
        "            \n",
        "<span id=\"freeTextContainer10862697366074015391\" class=\"elementOne\">Childhood is fun, best of the years, although you might not think about it like that during the years. It is only when you're an adult then you savour your childhood memories.<br><br><br>***<br><br>Pengakuan #1<br><br>Ternyata ingatan bisa menipu, seperti yang dikatakan Salman Rusdie di Midnight's Children: <em>\"Memory has its own special kind. It selects, eliminates, alters, exaggerates, minimizes, glorifies, and vilifies also; but in the end it creates its own reality, its heterogeneous but usually coherent version of events</em></span>\n",
        "  <span id=\"freeText10862697366074015391\" class=\"elementTwo\" style=\"display:none\">Childhood is fun, best of the years, although you might not think about it like that during the years. It is only when you're an adult then you savour your childhood memories.<br><br><br>***<br><br>Pengakuan #1<br><br>Ternyata ingatan bisa menipu, seperti yang dikatakan Salman Rusdie di Midnight's Children: <em>\"Memory has its own special kind. It selects, eliminates, alters, exaggerates, minimizes, glorifies, and vilifies also; but in the end it creates its own reality, its heterogeneous but usually coherent version of events; and no sane human being ever trusts someone else's version more than his own.\" </em><br><br>Di antara ingatan yang mengabur antara Tom Sawyer dan Huckleberry Finn, ternyata audio book yang aku pernah baca saat kecil dulu adalah petualangan Huck berarti aku salah saat bilang <em>rereading</em> Tom Sawyer karena ini pertama kalinya aku baca petualangan si nakal ini hehe<br><br>Pengakuan #2<br><br>Petualangan masa kecilku hanya terbatas pada melompati pagar rumah di Padang Sidempuan (Tapsel) untuk bermain di sawah. Mulai dari berburu jangkring buat makanan burung-burung peliharaan di rumah, mencoba menanam padi (yang tentunya gagal dengan gemilang), atau hanya melihat teman-temanku menangkap cacing.<br><br>Petualangan lain adalah tentunya melompati jendela sekolah di Pematang Siantar, kabur ke rumah teman sekelas yang merayakan Lebaran. Sampai sekarang kenangan hukuman dijemur di bawah matahari terik itu bagiku tetap menyenangkan. Sayang adik-adik kelasku kehilangan kesempatan untuk melompati jendela-jendela besar itu, karena setelah aku lulus semua jendela ditutup dengan teralis besi.<br><br>Tentunya petualangan paling berharga adalah mengunjungi ompung di kampung, menangkap ikan di kolam, menikmati tebu di ladang entah milik siapa, menaiki kerbau entah milik siapa, memanen kentang, atau sekedar mendengarkan kisah kenakalan bapak dan adik-adiknya saat kecil.<br><br>Dan aku tahu siapa dua murid pertama Yesus, pastinya bukan DAUD dan GOLIATH hahahaha</span>\n",
        "  <a data-text-id=\"10862697366074015391\" href=\"#\" onclick=\"swapContent($(this));; return false;\">...more</a>\n",
        "          </span>\n",
        "        </div>\n",
        "\n",
        "\n",
        "      <div class=\"reviewFooter uitext buttons\">\n",
        "        \n",
        "<tr class=\"no_border\" id=\"update_comment_stuff_Review171651595\">\n",
        "  <td colspan=\"2\">\n",
        "    <div class=\"updateActionLinks\">\n",
        "        <a href=\"/flagged/new?resource_id=171651595&amp;resource_type=Review&amp;return_url=%2Fbook%2Fshow%2F24583.The_Adventures_of_Tom_Sawyer\" class=\"right flag\" id=\"flag_link171651595\" rel=\"nofollow\" title=\"Flag this review as inappropriate.\">flag</a>\n",
        "      <span class='likeItContainer' id='like_container_review_171651595'><a href=\"/rating/voters/171651595?resource_type=Review\" id=\"like_count_review_171651595\" rel=\"nofollow\"><span class=\"likesCount\">4 likes</span></a>&nbsp;&middot;&nbsp;<a href=\"https://www.goodreads.com/user/new?remember=true&amp;return_url=%2Fbook%2Fshow%2F24583.The_Adventures_of_Tom_Sawyer\" rel=\"nofollow\">like</a></span>&nbsp;&middot;&nbsp;<a href=\"/review/show/171651595?book_show_action=true&amp;page=1\">see review</a>\n",
        "    </div>\n",
        "    <div id='comments_for_review_171651595' style='display: none;'>\n",
        "<div class='brown_comment'>\n",
        "<img alt=\"Chat_bubbles\" src=\"https://s.gr-assets.com/assets/chat_bubbles-ea628733152ae8319e85921ab3057b48.png\" />\n",
        "<span class=\"loadingLinkSpan\"><a href=\"/review/171651595/comments?reverse=true\" class=\"loadingLink\" data-remote=\"true\">view all 6 comments</a><span class=\"loadingAnimation\"></span><span class=\"loadingError\"></span></span>\n",
        "</div>\n",
        "\n",
        "<div id=\"comment_31707162\" class=\"brown_comment\">\n",
        "  <div class=\"xhr_comment_photo\">\n",
        "    \t<a href=\"/user/show/1591889-nanny-sa\" alt=\"Nanny SA\"><img alt=\"1591889\" src=\"https://d.gr-assets.com/users/1328965037p1/1591889.jpg\" /></a>\n",
        "  </div>\n",
        "  <div class=\"xhr_comment_body\">\n",
        "    <a href=\"/user/show/1591889-nanny-sa\" style=\"font-weight:bold\">Nanny SA</a>\n",
        "\n",
        "      \n",
        "<span id=\"freeTextContainer2515420730018954504\" class=\"elementOne\">ngebayangin Miaaa kecil yg nakal  :)</span>\n",
        "\n",
        "    <br/>\n",
        "\n",
        "    <span class=\"greyText\">\n",
        "      Jun 09, 2011 09:41PM\n",
        "    </span>\n",
        "\n",
        "  </div>\n",
        "  <div class=\"clear\"></div>\n",
        "</div>\n",
        "\n",
        "\n",
        "\n",
        "\n",
        "\n",
        "<div id=\"comment_31707249\" class=\"brown_comment\">\n",
        "  <div class=\"xhr_comment_photo\">\n",
        "    \t<a href=\"/user/show/858390-miaaa\" alt=\"miaaa\"><img alt=\"858390\" src=\"https://d.gr-assets.com/users/1271144604p1/858390.jpg\" /></a>\n",
        "  </div>\n",
        "  <div class=\"xhr_comment_body\">\n",
        "    <a href=\"/user/show/858390-miaaa\" style=\"font-weight:bold\">miaaa</a>\n",
        "\n",
        "      \n",
        "<span id=\"freeTextContainer9795207628025581370\" class=\"elementOne\">sampai smp doang teh, gitu masuk sma sekolahnya swasta dengan tembok tinggi bak penjara dan tiada hari tanpa pr dan ujian harian fiuuuuh <br><br>untung juga u</span>\n",
        "  <span id=\"freeText9795207628025581370\" class=\"elementTwo\" style=\"display:none\">sampai smp doang teh, gitu masuk sma sekolahnya swasta dengan tembok tinggi bak penjara dan tiada hari tanpa pr dan ujian harian fiuuuuh <br><br>untung juga udah dipuas-puasin pas sd-smp 'main'nya <br>*pasang tampang malaikat* :D</span>\n",
        "  <a data-text-id=\"9795207628025581370\" href=\"#\" onclick=\"swapContent($(this));; return false;\">...more</a>\n",
        "    <br/>\n",
        "\n",
        "    <span class=\"greyText\">\n",
        "      Jun 09, 2011 09:45PM\n",
        "    </span>\n",
        "\n",
        "  </div>\n",
        "  <div class=\"clear\"></div>\n",
        "</div>\n",
        "\n",
        "\n",
        "\n",
        "\n",
        "\n",
        "</div>\n",
        "\n",
        "  </td>\n",
        "</tr>\n",
        "\n",
        "      </div>\n",
        "\n",
        "  </div>\n",
        "\n",
        "  <div class=\"clear\"></div>\n",
        "</div>\n",
        "\n",
        "    </div>\n",
        "  </div>\n",
        "    <div class=\"elementListBrownSeparator\"></div>\n",
        "\n",
        "\n",
        "\n",
        "  <div class=\"friendReviews elementListBrown\">\n",
        "    <div class=\"section\">\n",
        "      \n",
        "\n",
        "<div id=\"review_10077260\" class=\"review\" itemprop=\"reviews\" itemscope itemtype=\"http://schema.org/Review\">\n",
        "  <link itemprop=\"url\" href=\"https://www.goodreads.com/review/show/10077260\" />\n",
        "  <a href=\"/user/show/265499-yena-lee\" class=\"left imgcol\" title=\"Yena Lee\"><img alt=\"Yena Lee\" src=\"https://s.gr-assets.com/assets/nophoto/user/f_50x66-9e23bac89f169d02e43709e42b361705.png\" /></a>\n",
        "\n",
        "  <div class=\"left bodycol\">\n",
        "    <div class=\"reviewHeader uitext stacked\">\n",
        "        <a href=\"/review/show/10077260?book_show_action=true\" class=\"reviewDate createdAt right\" itemprop=\"publishDate\">Dec 11, 2007</a>\n",
        "\n",
        "      <a href=\"/user/show/265499-yena-lee\" class=\"user\" title=\"Yena Lee\">Yena Lee</a>\n",
        "\n",
        "        rated it\n",
        "        <a class=\" staticStars stars_5\" title=\"it was amazing\">5 of 5 stars</a>\n",
        "\n",
        "\n",
        "          <div><span class=\"uitext greyText\">Recommends it for: </span>\n",
        "           <span class=\"uitext reviewText\">everyone</span></div>\n",
        "\n",
        "        \n",
        "\n",
        "    </div>\n",
        "\n",
        "        <div class=\"reviewText stacked\">\n",
        "              <span id=\"reviewTextContainer10077260\" class=\"readable\" style=\"\">\n",
        "            \n",
        "<span id=\"freeTextContainer18405675297544162610\" class=\"elementOne\">When I was young I had read this book once. I read this book again recently and thought differently from the last time. The cover of book was interesting which was showing Tom Sawyer\u2019s wit.(I couldn\u2019t find the book in Good Reads) He gave his work to friends by using the wit and instead, he ate friend\u2019s apple. As the title of the book says, \u2018The adventure of Tom Sawyer\u2019 is about the boy named Tom Sawyer\u2019s adventure. Not only had that Tom Sawyer practiced and dreamed his own dreams with his faithf</span>\n",
        "  <span id=\"freeText18405675297544162610\" class=\"elementTwo\" style=\"display:none\">When I was young I had read this book once. I read this book again recently and thought differently from the last time. The cover of book was interesting which was showing Tom Sawyer\u2019s wit.(I couldn\u2019t find the book in Good Reads) He gave his work to friends by using the wit and instead, he ate friend\u2019s apple. As the title of the book says, \u2018The adventure of Tom Sawyer\u2019 is about the boy named Tom Sawyer\u2019s adventure. Not only had that Tom Sawyer practiced and dreamed his own dreams with his faithful friends. He was always scolded by his aunt because he was too vivacious and brave to handle his situations cautiously. But he had such exciting events such as catching the killer and gaining the wealth. Though, it was not only a naughty boy\u2019s delinquency. In this book, there were justice, love, faithful friendship, courage and sincerity of him. While I was reading, I couldn\u2019t stop reading this exciting story which is opposite of my boring life. Mark Twain also wrote The Adventure of Huckleberry Finn which is written in the point of view of Tom\u2019s friend, Huckleberry. I want to try this book in some time.</span>\n",
        "  <a data-text-id=\"18405675297544162610\" href=\"#\" onclick=\"swapContent($(this));; return false;\">...more</a>\n",
        "          </span>\n",
        "        </div>\n",
        "\n",
        "\n",
        "      <div class=\"reviewFooter uitext buttons\">\n",
        "        \n",
        "<tr class=\"no_border\" id=\"update_comment_stuff_Review10077260\">\n",
        "  <td colspan=\"2\">\n",
        "    <div class=\"updateActionLinks\">\n",
        "        <a href=\"/flagged/new?resource_id=10077260&amp;resource_type=Review&amp;return_url=%2Fbook%2Fshow%2F24583.The_Adventures_of_Tom_Sawyer\" class=\"right flag\" id=\"flag_link10077260\" rel=\"nofollow\" title=\"Flag this review as inappropriate.\">flag</a>\n",
        "      <span class='likeItContainer' id='like_container_review_10077260'><a href=\"/rating/voters/10077260?resource_type=Review\" id=\"like_count_review_10077260\" rel=\"nofollow\"><span class=\"likesCount\">4 likes</span></a>&nbsp;&middot;&nbsp;<a href=\"https://www.goodreads.com/user/new?remember=true&amp;return_url=%2Fbook%2Fshow%2F24583.The_Adventures_of_Tom_Sawyer\" rel=\"nofollow\">like</a></span>&nbsp;&middot;&nbsp;<a href=\"/review/show/10077260?book_show_action=true&amp;page=1\">see review</a>\n",
        "    </div>\n",
        "    <div id='comments_for_review_10077260' style='display: none;'>\n",
        "</div>\n",
        "\n",
        "  </td>\n",
        "</tr>\n",
        "\n",
        "      </div>\n",
        "\n",
        "  </div>\n",
        "\n",
        "  <div class=\"clear\"></div>\n",
        "</div>\n",
        "\n",
        "    </div>\n",
        "  </div>\n",
        "    <div class=\"elementListBrownSeparator\"></div>\n",
        "\n",
        "\n",
        "\n",
        "  <div class=\"friendReviews elementListBrown\">\n",
        "    <div class=\"section\">\n",
        "      \n",
        "\n",
        "<div id=\"review_145711020\" class=\"review nosyndicate\" itemprop=\"reviews\" itemscope itemtype=\"http://schema.org/Review\">\n",
        "  <link itemprop=\"url\" href=\"https://www.goodreads.com/review/show/145711020\" />\n",
        "  <a href=\"/user/show/239890-dina\" class=\"left imgcol\" title=\"Dina\"><img alt=\"Dina\" src=\"https://d.gr-assets.com/users/1304394350p2/239890.jpg\" /></a>\n",
        "\n",
        "  <div class=\"left bodycol\">\n",
        "    <div class=\"reviewHeader uitext stacked\">\n",
        "        <a href=\"/review/show/145711020?book_show_action=true\" class=\"reviewDate createdAt right\" itemprop=\"publishDate\">Feb 03, 2011</a>\n",
        "\n",
        "      <a href=\"/user/show/239890-dina\" class=\"user\" title=\"Dina\">Dina</a>\n",
        "\n",
        "        rated it\n",
        "        <a class=\" staticStars stars_2\" title=\"it was ok\">2 of 5 stars</a>\n",
        "\n",
        "          <span class=\"greyText\">&nbsp;&middot;&nbsp;</span>\n",
        "          <a href=\"/book/show/666721.The_Adventures_of_Tom_Sawyer\" class=\"lightGreyText\" title=\"Paperback 9780812504200\">review of another edition</a>\n",
        "\n",
        "\n",
        "        \n",
        "\n",
        "    </div>\n",
        "\n",
        "        <div class=\"reviewText stacked\">\n",
        "              <span id=\"reviewTextContainer145711020\" class=\"readable\" style=\"\">\n",
        "            \n",
        "<span id=\"freeTextContainer16279063732732112089\" class=\"elementOne\">Hello, I'm the asshole giving Mark Twain's <em>The Adventures of Tom Sawyer</em> a two star rating - \"it was ok\" in Goodreads parlance.<br><br>I find it hard to separate myself from the idea that much of this book's \"classic\" status stems purely from nostalgia, be it for late 1800's or from the former boy critics and readers who find Tom's antics so relatable. The plot meanders along like the mighty Mississip St. Petersburg is situated on, trickling along several similar sub-plot estuaries before we wrap up this</span>\n",
        "  <span id=\"freeText16279063732732112089\" class=\"elementTwo\" style=\"display:none\">Hello, I'm the asshole giving Mark Twain's <em>The Adventures of Tom Sawyer</em> a two star rating - \"it was ok\" in Goodreads parlance.<br><br>I find it hard to separate myself from the idea that much of this book's \"classic\" status stems purely from nostalgia, be it for late 1800's or from the former boy critics and readers who find Tom's antics so relatable. The plot meanders along like the mighty Mississip St. Petersburg is situated on, trickling along several similar sub-plot estuaries before we wrap up this business with Injun Joe, who seems to spring into focus sporadically, only when Twain realizes it's time to move things forward. The boys' adventures begin to get tiresome as do their numerous superstitions and trinkets that pass for currency. Tom is our everyman, mischievous but never diabolically so and just humorous enough to endure him to all of our hearts. But his story is possibly no more interesting than a Hardy Boy's adventure and so I'm confused as to what makes this must-read classic, sometimes above <em>The Adventures of Huckleberry Finn</em>, which I haven't read as of yet, but understand tackles issues of more importance than boyish playfulness. Twain's smarmy commentary was just enough to keep this reader interested, but by no means created a page turner or something that I feel speaks to me in any deep way, as I feel a \"classic\" should. </span>\n",
        "  <a data-text-id=\"16279063732732112089\" href=\"#\" onclick=\"swapContent($(this));; return false;\">...more</a>\n",
        "          </span>\n",
        "        </div>\n",
        "\n",
        "\n",
        "      <div class=\"reviewFooter uitext buttons\">\n",
        "        \n",
        "<tr class=\"no_border\" id=\"update_comment_stuff_Review145711020\">\n",
        "  <td colspan=\"2\">\n",
        "    <div class=\"updateActionLinks\">\n",
        "        <a href=\"/flagged/new?resource_id=145711020&amp;resource_type=Review&amp;return_url=%2Fbook%2Fshow%2F24583.The_Adventures_of_Tom_Sawyer\" class=\"right flag\" id=\"flag_link145711020\" rel=\"nofollow\" title=\"Flag this review as inappropriate.\">flag</a>\n",
        "      <span class='likeItContainer' id='like_container_review_145711020'><a href=\"/rating/voters/145711020?resource_type=Review\" id=\"like_count_review_145711020\" rel=\"nofollow\"><span class=\"likesCount\">4 likes</span></a>&nbsp;&middot;&nbsp;<a href=\"https://www.goodreads.com/user/new?remember=true&amp;return_url=%2Fbook%2Fshow%2F24583.The_Adventures_of_Tom_Sawyer\" rel=\"nofollow\">like</a></span>&nbsp;&middot;&nbsp;<a href=\"/review/show/145711020?book_show_action=true&amp;page=1\">see review</a>\n",
        "    </div>\n",
        "    <div id='comments_for_review_145711020' style='display: none;'>\n",
        "<div class='brown_comment'>\n",
        "<img alt=\"Chat_bubbles\" src=\"https://s.gr-assets.com/assets/chat_bubbles-ea628733152ae8319e85921ab3057b48.png\" />\n",
        "<span class=\"loadingLinkSpan\"><a href=\"/review/145711020/comments?reverse=true\" class=\"loadingLink\" data-remote=\"true\">view 1 comment</a><span class=\"loadingAnimation\"></span><span class=\"loadingError\"></span></span>\n",
        "</div>\n",
        "\n",
        "</div>\n",
        "\n",
        "  </td>\n",
        "</tr>\n",
        "\n",
        "      </div>\n",
        "\n",
        "  </div>\n",
        "\n",
        "  <div class=\"clear\"></div>\n",
        "</div>\n",
        "\n",
        "    </div>\n",
        "  </div>\n",
        "    <div class=\"elementListBrownSeparator\"></div>\n",
        "\n",
        "\n",
        "\n",
        "  <div class=\"friendReviews elementListBrown\">\n",
        "    <div class=\"section\">\n",
        "      \n",
        "\n",
        "<div id=\"review_192683984\" class=\"review\" itemprop=\"reviews\" itemscope itemtype=\"http://schema.org/Review\">\n",
        "  <link itemprop=\"url\" href=\"https://www.goodreads.com/review/show/192683984\" />\n",
        "  <a href=\"/user/show/5928256-john-yelverton\" class=\"left imgcol\" title=\"John Yelverton\"><img alt=\"John Yelverton\" src=\"https://d.gr-assets.com/users/1313174491p2/5928256.jpg\" /></a>\n",
        "\n",
        "  <div class=\"left bodycol\">\n",
        "    <div class=\"reviewHeader uitext stacked\">\n",
        "        <a href=\"/review/show/192683984?book_show_action=true\" class=\"reviewDate createdAt right\" itemprop=\"publishDate\">Sep 16, 2011</a>\n",
        "\n",
        "      <a href=\"/user/show/5928256-john-yelverton\" class=\"user\" title=\"John Yelverton\">John Yelverton</a>\n",
        "\n",
        "        rated it\n",
        "        <a class=\" staticStars stars_4\" title=\"really liked it\">4 of 5 stars</a>\n",
        "\n",
        "\n",
        "\n",
        "        \n",
        "\n",
        "    </div>\n",
        "\n",
        "        <div class=\"reviewText stacked\">\n",
        "              <span id=\"reviewTextContainer192683984\" class=\"readable\" style=\"\">\n",
        "            \n",
        "<span id=\"freeTextContainer8952087755763591384\" class=\"elementOne\">A classic novel of Midwestern America.  Should be read by all, if solely for the historical value of it.</span>\n",
        "\n",
        "          </span>\n",
        "        </div>\n",
        "\n",
        "\n",
        "      <div class=\"reviewFooter uitext buttons\">\n",
        "        \n",
        "<tr class=\"no_border\" id=\"update_comment_stuff_Review192683984\">\n",
        "  <td colspan=\"2\">\n",
        "    <div class=\"updateActionLinks\">\n",
        "        <a href=\"/flagged/new?resource_id=192683984&amp;resource_type=Review&amp;return_url=%2Fbook%2Fshow%2F24583.The_Adventures_of_Tom_Sawyer\" class=\"right flag\" id=\"flag_link192683984\" rel=\"nofollow\" title=\"Flag this review as inappropriate.\">flag</a>\n",
        "      <span class='likeItContainer' id='like_container_review_192683984'><a href=\"/rating/voters/192683984?resource_type=Review\" id=\"like_count_review_192683984\" rel=\"nofollow\"><span class=\"likesCount\">4 likes</span></a>&nbsp;&middot;&nbsp;<a href=\"https://www.goodreads.com/user/new?remember=true&amp;return_url=%2Fbook%2Fshow%2F24583.The_Adventures_of_Tom_Sawyer\" rel=\"nofollow\">like</a></span>&nbsp;&middot;&nbsp;<a href=\"/review/show/192683984?book_show_action=true&amp;page=1\">see review</a>\n",
        "    </div>\n",
        "    <div id='comments_for_review_192683984' style='display: none;'>\n",
        "</div>\n",
        "\n",
        "  </td>\n",
        "</tr>\n",
        "\n",
        "      </div>\n",
        "\n",
        "  </div>\n",
        "\n",
        "  <div class=\"clear\"></div>\n",
        "</div>\n",
        "\n",
        "    </div>\n",
        "  </div>\n",
        "    <div class=\"elementListBrownSeparator\"></div>\n",
        "\n",
        "\n",
        "\n",
        "  <div class=\"friendReviews elementListBrown\">\n",
        "    <div class=\"section\">\n",
        "      \n",
        "\n",
        "<div id=\"review_20676501\" class=\"review nosyndicate\" itemprop=\"reviews\" itemscope itemtype=\"http://schema.org/Review\">\n",
        "  <link itemprop=\"url\" href=\"https://www.goodreads.com/review/show/20676501\" />\n",
        "  <a href=\"/user/show/927002-madi\" class=\"left imgcol\" title=\"Madi\"><img alt=\"Madi\" src=\"https://d.gr-assets.com/users/1231975345p2/927002.jpg\" /></a>\n",
        "\n",
        "  <div class=\"left bodycol\">\n",
        "    <div class=\"reviewHeader uitext stacked\">\n",
        "        <a href=\"/review/show/20676501?book_show_action=true\" class=\"reviewDate createdAt right\" itemprop=\"publishDate\">Jul 02, 2008</a>\n",
        "\n",
        "      <a href=\"/user/show/927002-madi\" class=\"user\" title=\"Madi\">Madi</a>\n",
        "\n",
        "        rated it\n",
        "        <a class=\" staticStars stars_5\" title=\"it was amazing\">5 of 5 stars</a>\n",
        "\n",
        "\n",
        "\n",
        "        \n",
        "\n",
        "    </div>\n",
        "\n",
        "        <div class=\"reviewText stacked\">\n",
        "              <span id=\"reviewTextContainer20676501\" class=\"readable\" style=\"\">\n",
        "            \n",
        "<span id=\"freeTextContainer12203321051109435678\" class=\"elementOne\">its good, but harder 2 read than i thought, am reading 4 school</span>\n",
        "\n",
        "          </span>\n",
        "        </div>\n",
        "\n",
        "\n",
        "      <div class=\"reviewFooter uitext buttons\">\n",
        "        \n",
        "<tr class=\"no_border\" id=\"update_comment_stuff_Review20676501\">\n",
        "  <td colspan=\"2\">\n",
        "    <div class=\"updateActionLinks\">\n",
        "        <a href=\"/flagged/new?resource_id=20676501&amp;resource_type=Review&amp;return_url=%2Fbook%2Fshow%2F24583.The_Adventures_of_Tom_Sawyer\" class=\"right flag\" id=\"flag_link20676501\" rel=\"nofollow\" title=\"Flag this review as inappropriate.\">flag</a>\n",
        "      <span class='likeItContainer' id='like_container_review_20676501'><a href=\"/rating/voters/20676501?resource_type=Review\" id=\"like_count_review_20676501\" rel=\"nofollow\"><span class=\"likesCount\">4 likes</span></a>&nbsp;&middot;&nbsp;<a href=\"https://www.goodreads.com/user/new?remember=true&amp;return_url=%2Fbook%2Fshow%2F24583.The_Adventures_of_Tom_Sawyer\" rel=\"nofollow\">like</a></span>&nbsp;&middot;&nbsp;<a href=\"/review/show/20676501?book_show_action=true&amp;page=1\">see review</a>\n",
        "    </div>\n",
        "    <div id='comments_for_review_20676501' style='display: none;'>\n",
        "\n",
        "<div id=\"comment_37073462\" class=\"brown_comment\">\n",
        "  <div class=\"xhr_comment_photo\">\n",
        "    \t<a href=\"/user/show/6036041-katniss\" alt=\"Katniss\"><img alt=\"F_25x33\" src=\"https://s.gr-assets.com/assets/nophoto/user/f_25x33-a11aa9d9c367909509bd5592099ffe53.png\" /></a>\n",
        "  </div>\n",
        "  <div class=\"xhr_comment_body\">\n",
        "    <a href=\"/user/show/6036041-katniss\" style=\"font-weight:bold\">Katniss</a>\n",
        "\n",
        "      \n",
        "<span id=\"freeTextContainer10337676903812058599\" class=\"elementOne\">im reading it 4 school 2! lol...... its okay so far</span>\n",
        "\n",
        "    <br/>\n",
        "\n",
        "    <span class=\"greyText\">\n",
        "      Sep 18, 2011 01:32PM\n",
        "    </span>\n",
        "\n",
        "  </div>\n",
        "  <div class=\"clear\"></div>\n",
        "</div>\n",
        "\n",
        "\n",
        "\n",
        "\n",
        "\n",
        "</div>\n",
        "\n",
        "  </td>\n",
        "</tr>\n",
        "\n",
        "      </div>\n",
        "\n",
        "  </div>\n",
        "\n",
        "  <div class=\"clear\"></div>\n",
        "</div>\n",
        "\n",
        "    </div>\n",
        "  </div>\n",
        "    <div class=\"elementListBrownSeparator\"></div>\n",
        "\n",
        "\n",
        "\n",
        "  <div class=\"friendReviews elementListBrown\">\n",
        "    <div class=\"section\">\n",
        "      \n",
        "\n",
        "<div id=\"review_447054959\" class=\"review\" itemprop=\"reviews\" itemscope itemtype=\"http://schema.org/Review\">\n",
        "  <link itemprop=\"url\" href=\"https://www.goodreads.com/review/show/447054959\" />\n",
        "  <a href=\"/user/show/8627403-lina-al-ojaili\" class=\"left imgcol\" title=\"Lina AL Ojaili\"><img alt=\"Lina AL Ojaili\" src=\"https://d.gr-assets.com/users/1348249482p2/8627403.jpg\" /></a>\n",
        "\n",
        "  <div class=\"left bodycol\">\n",
        "    <div class=\"reviewHeader uitext stacked\">\n",
        "        <a href=\"/review/show/447054959?book_show_action=true\" class=\"reviewDate createdAt right\" itemprop=\"publishDate\">Jul 07, 2013</a>\n",
        "\n",
        "      <a href=\"/user/show/8627403-lina-al-ojaili\" class=\"user\" title=\"Lina AL Ojaili\">Lina AL Ojaili</a>\n",
        "\n",
        "        rated it\n",
        "        <a class=\" staticStars stars_1\" title=\"did not like it\">1 of 5 stars</a>\n",
        "\n",
        "\n",
        "\n",
        "        \n",
        "\n",
        "          <div class=\"uitext greyText bookshelves\">\n",
        "            Shelves:\n",
        "                <a href=\"/review/list/8627403-lina-al-ojaili?shelf=%D9%83%D8%AA%D8%A8-%D9%85%D9%86%D9%88%D8%B9%D8%A9\" class=\"actionLinkLite\">\u0643\u062a\u0628-\u0645\u0646\u0648\u0639\u0629</a>\n",
        "          </div>\n",
        "    </div>\n",
        "\n",
        "        <div class=\"reviewText stacked\">\n",
        "              <span id=\"reviewTextContainer447054959\" class=\"readable\" style=\"\">\n",
        "            \n",
        "<span id=\"freeTextContainer593493216215900278\" class=\"elementOne\">\u064a\u0646\u0641\u0639 \u0623\u0641\u0644\u0627\u0645 \u0643\u0631\u062a\u0648\u0646 \u0641\u0642\u0637 \u0631\u0648\u0627\u064a\u0629 \u062a\u0627\u0641\u0647\u0629 \u062c\u062f\u0627</span>\n",
        "\n",
        "          </span>\n",
        "        </div>\n",
        "\n",
        "\n",
        "      <div class=\"reviewFooter uitext buttons\">\n",
        "        \n",
        "<tr class=\"no_border\" id=\"update_comment_stuff_Review447054959\">\n",
        "  <td colspan=\"2\">\n",
        "    <div class=\"updateActionLinks\">\n",
        "        <a href=\"/flagged/new?resource_id=447054959&amp;resource_type=Review&amp;return_url=%2Fbook%2Fshow%2F24583.The_Adventures_of_Tom_Sawyer\" class=\"right flag\" id=\"flag_link447054959\" rel=\"nofollow\" title=\"Flag this review as inappropriate.\">flag</a>\n",
        "      <span class='likeItContainer' id='like_container_review_447054959'><a href=\"/rating/voters/447054959?resource_type=Review\" id=\"like_count_review_447054959\" rel=\"nofollow\"><span class=\"likesCount\">4 likes</span></a>&nbsp;&middot;&nbsp;<a href=\"https://www.goodreads.com/user/new?remember=true&amp;return_url=%2Fbook%2Fshow%2F24583.The_Adventures_of_Tom_Sawyer\" rel=\"nofollow\">like</a></span>&nbsp;&middot;&nbsp;<a href=\"/review/show/447054959?book_show_action=true&amp;page=1\">see review</a>\n",
        "    </div>\n",
        "    <div id='comments_for_review_447054959' style='display: none;'>\n",
        "\n",
        "<div id=\"comment_102349506\" class=\"brown_comment\">\n",
        "  <div class=\"xhr_comment_photo\">\n",
        "    \t<a href=\"/user/show/33109856-khaled-aysh\" alt=\"Khaled Aysh\"><img alt=\"33109856\" src=\"https://d.gr-assets.com/users/1406961876p1/33109856.jpg\" /></a>\n",
        "  </div>\n",
        "  <div class=\"xhr_comment_body\">\n",
        "    <a href=\"/user/show/33109856-khaled-aysh\" style=\"font-weight:bold\">Khaled Aysh</a>\n",
        "\n",
        "      \n",
        "<span id=\"freeTextContainer7505028304204692278\" class=\"elementOne\">\u064a\u0646\u0641\u0639 \u0642\u0628\u0644 \u0627\u0644\u0646\u0648\u0645 \u0644\u0644\u0627\u0648\u0644\u0627\u062f ^__^</span>\n",
        "\n",
        "    <br/>\n",
        "\n",
        "    <span class=\"greyText\">\n",
        "      Jul 16, 2014 09:19AM\n",
        "    </span>\n",
        "\n",
        "  </div>\n",
        "  <div class=\"clear\"></div>\n",
        "</div>\n",
        "\n",
        "\n",
        "\n",
        "\n",
        "\n",
        "</div>\n",
        "\n",
        "  </td>\n",
        "</tr>\n",
        "\n",
        "      </div>\n",
        "\n",
        "  </div>\n",
        "\n",
        "  <div class=\"clear\"></div>\n",
        "</div>\n",
        "\n",
        "    </div>\n",
        "  </div>\n",
        "    <div class=\"elementListBrownSeparator\"></div>\n",
        "\n",
        "</div>\n",
        "\n",
        "<div class=\"uitext\" style=\"float: right; margin-top: 10px\">\n",
        "  <div><span class=\"previous_page disabled\">\u00ab previous</span> <em class=\"current\">1</em> <a href=\"#\" onclick=\"new Ajax.Request('/book/reviews/24583.The_Adventures_of_Tom_Sawyer?page=2', {asynchronous:true, evalScripts:true, method:'get', parameters:'authenticity_token=' + encodeURIComponent('yFLEIjMeTx3nXghP4is7nn8dYOTQ9U5DG5NxlAo4x/0MvEqioVTDAeQt7IX/KR18NyCyUBFV+697ds983ubknw==')}); return false;\" rel=\"next\">2</a> <a href=\"#\" onclick=\"new Ajax.Request('/book/reviews/24583.The_Adventures_of_Tom_Sawyer?page=3', {asynchronous:true, evalScripts:true, method:'get', parameters:'authenticity_token=' + encodeURIComponent('z4esZsCLNWLU8AWeWv++qeUIFCeve1jENA2OzWjw1G0LaSLmUsG5fteD4VRH/ZhLrTXGk27b7ShU6DAlvC73Dw==')}); return false;\">3</a> <a href=\"#\" onclick=\"new Ajax.Request('/book/reviews/24583.The_Adventures_of_Tom_Sawyer?page=4', {asynchronous:true, evalScripts:true, method:'get', parameters:'authenticity_token=' + encodeURIComponent('KS/LsCvRmVYEBbdNApd2CTeWs6CQGjHu2QXlQmaV6NbtwUUwuZsVSgd2U4cflVDrf6thFFG6hAK54FuqskvLtA==')}); return false;\">4</a> <a href=\"#\" onclick=\"new Ajax.Request('/book/reviews/24583.The_Adventures_of_Tom_Sawyer?page=5', {asynchronous:true, evalScripts:true, method:'get', parameters:'authenticity_token=' + encodeURIComponent('qoS5/xbta6o+e+A3k7808D7Fs4v7evh0EIWHUnqrYzhuajd/hKfntj0IBP2OvRISdvhhPzraTZhwYDm6rnVAWg==')}); return false;\">5</a> <a href=\"#\" onclick=\"new Ajax.Request('/book/reviews/24583.The_Adventures_of_Tom_Sawyer?page=6', {asynchronous:true, evalScripts:true, method:'get', parameters:'authenticity_token=' + encodeURIComponent('UQBc8YehO4OtCia8ugIly2ihbyIhhf+siNsC9x25RNCV7tJxFeu3n655wnanAAMpIJy9luAlSkDoPrwfyWdnsg==')}); return false;\">6</a> <a href=\"#\" onclick=\"new Ajax.Request('/book/reviews/24583.The_Adventures_of_Tom_Sawyer?page=7', {asynchronous:true, evalScripts:true, method:'get', parameters:'authenticity_token=' + encodeURIComponent('QWf8iAWxNgQYsTAITgSa/FXdK2WkDFeGnRjWUbtelWiFiXIIl/u6GBvC1MJTBrweHeD50WWs4mr9/Wi5b4C2Cg==')}); return false;\">7</a> <a href=\"#\" onclick=\"new Ajax.Request('/book/reviews/24583.The_Adventures_of_Tom_Sawyer?page=8', {asynchronous:true, evalScripts:true, method:'get', parameters:'authenticity_token=' + encodeURIComponent('JWi9d1PcmCHzcSqA57rMR7zmrw9elouO3uPJ787WbsThhjP3wZYUPfACzkr6uOql9Nt9u582PmK+BncHGghNpg==')}); return false;\">8</a> <a href=\"#\" onclick=\"new Ajax.Request('/book/reviews/24583.The_Adventures_of_Tom_Sawyer?page=9', {asynchronous:true, evalScripts:true, method:'get', parameters:'authenticity_token=' + encodeURIComponent('93O5hh/gwaDrwcHhz1AXsqeeZyEpp4h4WfNcBmXGvD8znTcGjapNvOiyJSvSUjFQ76O1legHPZQ5FuLusRifXQ==')}); return false;\">9</a> <span class=\"gap\">&hellip;</span> <a href=\"#\" onclick=\"new Ajax.Request('/book/reviews/24583.The_Adventures_of_Tom_Sawyer?page=99', {asynchronous:true, evalScripts:true, method:'get', parameters:'authenticity_token=' + encodeURIComponent('Rq1oH2Pcn1Dd+TCxBvkH6fldUPZJ4rfvZlFl2dyHbRCCQ+af8ZYTTN6K1Hsb+yELsWCCQohCAgMGtNsxCFlOcg==')}); return false;\">99</a> <a href=\"#\" onclick=\"new Ajax.Request('/book/reviews/24583.The_Adventures_of_Tom_Sawyer?page=100', {asynchronous:true, evalScripts:true, method:'get', parameters:'authenticity_token=' + encodeURIComponent('0qRB+QNI8E+RH3Zte1hlwPtfNRW5XmMlahqJTxHmxX0WSs95kQJ8U5JskqdmWkMis2LnoXj+1skK/zenxTjmHw==')}); return false;\">100</a> <a class=\"next_page\" href=\"#\" onclick=\"new Ajax.Request('/book/reviews/24583.The_Adventures_of_Tom_Sawyer?page=2', {asynchronous:true, evalScripts:true, method:'get', parameters:'authenticity_token=' + encodeURIComponent('rgPYWvsLFwZRnzaEDhVP/jciJQBckcZAWetkAzHATwRq7VbaaUGbGlLs0k4TF2kcfx/3tJ0xc6w5Dtrr5R5sZg==')}); return false;\">next \u00bb</a></div>\n",
        "\n",
        "</div>\n",
        "\n",
        "</div>\n",
        "<div class=\"clear\"></div></div></div><div class=\"bigBoxBottom\"></div></div><div class=\" clearFloats bigBox\"><div class=\"h2Container gradientHeaderContainer\"><h2 class=\"brownBackground\"><div class=\"extraHeader\"><a href=\"/topic/new?context_id=24583&amp;context_type=Book\" class=\"actionLinkLite\" rel=\"nofollow\">new topic</a></div><a href=\"/topic/list_book/24583.The_Adventures_of_Tom_Sawyer\">Discuss This Book</a></h2></div><div class=\"bigBoxBody\"><div class=\"bigBoxContent containerWithHeaderContent\"><table cellspacing='0' class='tableList uitext bookDiscussions' width='100%'>\n",
        "<tr>\n",
        "<th>topics&nbsp;</th>\n",
        "<th>posts&nbsp;</th>\n",
        "<th>views&nbsp;</th>\n",
        "<th class='nobreak'>last activity&nbsp;</th>\n",
        "<th>&nbsp;</th>\n",
        "</tr>\n",
        "\n",
        "\t<tr>\n",
        "\t\t<td>\n",
        "\t\t    <strong><a href=\"https://www.goodreads.com/topic/show/1994687-book-shelved-and-rated-but-doesn-t-show-up\" class=\"actionLink\" title=\"Goodreads Feedback\">Goodreads Feedback:</a></strong>\n",
        "      \n",
        "\t\t\t<a href=\"/topic/show/1994687-book-shelved-and-rated-but-doesn-t-show-up\" class=\"actionLink\">Book shelved and rated but doesn't show up</a>\n",
        "\t\t</td>\n",
        "\t\t<td class=\"nobreak\">\n",
        "\t\t  13\n",
        "\t\t  \n",
        "\t\t</td>\n",
        "\t\t<td>88</td>\n",
        "\t\t<td>Oct 27, 2014 04:11PM</td>\n",
        "\t\t<td>\n",
        "\t\t\t\t&nbsp;\n",
        "\t\t</td>\n",
        "\t</tr>\n",
        "\t<tr>\n",
        "\t\t<td>\n",
        "\t\t    <strong><a href=\"https://www.goodreads.com/topic/show/2054161-bug-with-tom-sawyer\" class=\"actionLink\" title=\"Goodreads Librarians Group\">Goodreads Librari...:</a></strong>\n",
        "      \n",
        "\t\t\t<a href=\"/topic/show/2054161-bug-with-tom-sawyer\" class=\"actionLink\">Bug with Tom Sawyer</a>\n",
        "\t\t</td>\n",
        "\t\t<td class=\"nobreak\">\n",
        "\t\t  4\n",
        "\t\t  \n",
        "\t\t</td>\n",
        "\t\t<td>22</td>\n",
        "\t\t<td>Oct 25, 2014 02:43AM</td>\n",
        "\t\t<td>\n",
        "\t\t\t\t&nbsp;\n",
        "\t\t</td>\n",
        "\t</tr>\n",
        "\t<tr>\n",
        "\t\t<td>\n",
        "\t\t    <strong><a href=\"https://www.goodreads.com/topic/show/1850983-tom-sawyer-discussion-spoilers\" class=\"actionLink\" title=\"Catching up on Classics (and lots more!)\">Catching up on Cl...:</a></strong>\n",
        "      \n",
        "\t\t\t<a href=\"/topic/show/1850983-tom-sawyer-discussion-spoilers\" class=\"actionLink\">Tom Sawyer Discussion SPOILERS</a>\n",
        "\t\t</td>\n",
        "\t\t<td class=\"nobreak\">\n",
        "\t\t  2\n",
        "\t\t  \n",
        "\t\t</td>\n",
        "\t\t<td>9</td>\n",
        "\t\t<td>Jun 04, 2014 01:28PM</td>\n",
        "\t\t<td>\n",
        "\t\t\t\t&nbsp;\n",
        "\t\t</td>\n",
        "\t</tr>\n",
        "\t<tr>\n",
        "\t\t<td>\n",
        "\t\t    <strong><a href=\"https://www.goodreads.com/topic/show/1826837-tom-sawyer\" class=\"actionLink\" title=\"BYU-Adolescent Literature 420\">BYU-Adolescent Li...:</a></strong>\n",
        "      \n",
        "\t\t\t<a href=\"/topic/show/1826837-tom-sawyer\" class=\"actionLink\">Tom Sawyer</a>\n",
        "\t\t</td>\n",
        "\t\t<td class=\"nobreak\">\n",
        "\t\t  2\n",
        "\t\t  \n",
        "\t\t</td>\n",
        "\t\t<td>8</td>\n",
        "\t\t<td>Jun 03, 2014 08:40PM</td>\n",
        "\t\t<td>\n",
        "\t\t\t\t&nbsp;\n",
        "\t\t</td>\n",
        "\t</tr>\n",
        "\n",
        "</table>\n",
        "<div class='moreLinks right'>\n",
        "<a href=\"/topic/list_book/24583\" class=\"actionLink\">More topics...</a>\n",
        "</div>\n",
        "<div class=\"clear\"></div></div></div><div class=\"bigBoxBottom\"></div></div>\n",
        "</div>\n",
        "\n",
        "</div>\n",
        "\n",
        "<div class=\"rightContainer\">\n",
        "\n",
        "<div class=\"textRight stacked actionLinkLite\">\n",
        "      <a href=\"/book/recommend/24583.The_Adventures_of_Tom_Sawyer\" rel=\"nofollow\">Recommend it</a>\n",
        "  <span class=\"greyText\">&nbsp;|&nbsp;</span>\n",
        "    <a href=\"/book/stats/24583.The_Adventures_of_Tom_Sawyer\" rel=\"nofollow\">Stats</a>\n",
        "    <span class=\"greyText\">&nbsp;|&nbsp;</span>\n",
        "  <a href=\"/user_status/book/24583.The_Adventures_of_Tom_Sawyer\" rel=\"nofollow\">Recent status updates</a>\n",
        "</div>\n",
        "\n",
        "\n",
        "\n",
        "\n",
        "    <div id='relatedWorks-41326609'>\n",
        "<div class=\" clearFloats bigBox\"><div class=\"h2Container gradientHeaderContainer\"><h2 class=\"brownBackground\"><a href=\"https://www.goodreads.com/book/similar/41326609-the-adventures-of-tom-sawyer\" title=\"Similar books to The Adventures of Tom Sawyer\">Readers Also Enjoyed</a></h2></div><div class=\"bigBoxBody\"><div class=\"bigBoxContent containerWithHeaderContent\"><div class='bookCarousel'>\n",
        "<div class='carouselRow' style='width: 3600px'>\n",
        "<ul>\n",
        "<li class='cover' id='bookCover_42318'>\n",
        "<a href=\"https://www.goodreads.com/book/show/42318.Karlson_on_the_Roof\"><img alt=\"Karlson on the Roof\" src=\"https://d.gr-assets.com/books/1207091552m/42318.jpg\" />\n",
        "</a>\n",
        "\n",
        "  \n",
        "<script type=\"text/javascript\" charset=\"utf-8\">\n",
        "  document.onclick = checkOpenSelects;\n",
        "\n",
        "  function submitShelfLink(unique_id, book_id, shelf_id, shelf_name, submit_form, exclusive) {\n",
        "    var checkbox_id = 'shelf_name_' + unique_id + '_' + shelf_id;\n",
        "    var element = document.getElementById(checkbox_id)\n",
        "\n",
        "    var checked = element.checked\n",
        "    if (checked && exclusive) {\n",
        "      // can't uncheck a radio by clicking it!\n",
        "      return\n",
        "    }\n",
        "    if(document.getElementById(\"savingMessage\")){\n",
        "      Element.show('savingMessage')\n",
        "    }\n",
        "    var element_id = 'shelfInDropdownName_' + unique_id + '_' + shelf_id;\n",
        "    Element.update(element_id, \"saving...\");\n",
        "    if (submit_form) {\n",
        "      Element.hide('shelfDropdown_' + unique_id)\n",
        "      var form = document.getElementById('addBookForm' + book_id)\n",
        "      if (form) {\n",
        "        form.shelf.value = shelf_name\n",
        "        form.onsubmit()\n",
        "      }\n",
        "    }\n",
        "    else {\n",
        "      var action = checked ? 'remove' : ''\n",
        "      element.checked = !element.checked\n",
        "      new Ajax.Request('/shelf/add_to_shelf', {asynchronous:true, evalScripts:true, onSuccess:function(request){shelfSubmitted(request, book_id, checkbox_id, element_id, unique_id, shelf_name)}, parameters:'book_id=' + book_id + '&name=' + shelf_name + '&a=' + action + '&authenticity_token=' + encodeURIComponent('kfZR9cFDvCV2WuUDaaYgUqkf3x7YSMfZrTr1dAgY80lVGN91UwkwOXUpAcl0pAaw4SINqhnocjXN30uc3MbQKw==')})\n",
        "    }\n",
        "  }\n",
        "\n",
        "  function shelfSubmitted(request, book_id, checkbox_id, element_id, unique_id, shelf_name) {\n",
        "    Element.update('shelfListfalse_' + book_id, request.responseText)\n",
        "    afterShelfSave(checkbox_id, element_id, unique_id, shelf_name.escapeHTML())\n",
        "  }\n",
        "\n",
        "  function refreshGroupBox(group_id, book_id) {\n",
        "    new Ajax.Updater('addGroupBooks' + book_id + '', '/group/add_book_box', {asynchronous:true, evalScripts:true, onSuccess:function(request){refreshGroupBoxComplete(request, book_id);}, parameters:'id=' + group_id + '&book_id=' + book_id + '&refresh=true' + '&authenticity_token=' + encodeURIComponent('PDO9jQUQV4hhbC3MZsKUFFNAmps8VhE+80cCAtjEHZb43TMNl1rblGIfyQZ7wLL2G31IL/32pNKTorzqDBo+9A==')})\n",
        "  }\n",
        "</script>\n",
        "\n",
        "\n",
        "<script type=\"text/javascript\">\n",
        "//<![CDATA[\n",
        "      var newTip = new Tip($('bookCover_42318'), \"\\n\\n  <h2><a href=\\\"https://www.goodreads.com/book/show/42318.Karlson_on_the_Roof?from_choice=false&amp;from_home_module=false\\\" class=\\\"readable\\\">Karlson on the Roof<\\/a><\\/h2>\\n\\n  <div>\\n    by <a href=\\\"/author/show/410653.Astrid_Lindgren?a=7&amp;origin=related_works\\\" class=\\\"authorName\\\">Astrid Lindgren<\\/a>\\n  <\\/div>\\n  <div class=\\\"smallText uitext darkGreyText\\\">\\n    <span class=\\\"minirating\\\"><span class=\\\"stars staticStars\\\"><a class=\\\"staticStar p10\\\" size=\\\"12x12\\\" title=\\\"4.03 of 5 stars\\\">4.03 of 5 stars<\\/a><a class=\\\"staticStar p10\\\" size=\\\"12x12\\\" title=\\\"4.03 of 5 stars\\\"><\\/a><a class=\\\"staticStar p10\\\" size=\\\"12x12\\\" title=\\\"4.03 of 5 stars\\\"><\\/a><a class=\\\"staticStar p10\\\" size=\\\"12x12\\\" title=\\\"4.03 of 5 stars\\\"><\\/a><a class=\\\"staticStar p3\\\" size=\\\"12x12\\\" title=\\\"4.03 of 5 stars\\\"><\\/a><\\/span> 4.03 avg rating &mdash; 6,882 ratings<\\/span>\\n    &mdash; published 1955\\n  <\\/div>\\n\\n    <div class=\\\"addBookTipDescription\\\">\\n      \\n<span id=\\\"freeTextContainer16597079180237882502\\\" class=\\\"elementOne\\\">Imagine Smidge\\'s delight when, one day, a little man with a propeller on his back appears hovering at the window! It\\'s Karlson and he lives in a house on the roof. Soon Smidge and Karlson are sharing all sorts of adventures, from tackling thieves and<\\/span>\\n  <span id=\\\"freeText16597079180237882502\\\" class=\\\"elementTwo\\\" style=\\\"display:none\\\">Imagine Smidge\\'s delight when, one day, a little man with a propeller on his back appears hovering at the window! It\\'s Karlson and he lives in a house on the roof. Soon Smidge and Karlson are sharing all sorts of adventures, from tackling thieves and playing tricks to looping the loop and running across the rooftops. Fun and chaos burst from these charming, classic stories.<\\/span>\\n  <a data-text-id=\\\"16597079180237882502\\\" href=\\\"#\\\" onclick=\\\"swapContent($(this));; return false;\\\">...more<\\/a>\\n    <\\/div>\\n\\n    <div class=\\'wtrButtonContainer wtrSignedOut\\' id=\\'8_book_42318\\'>\\n<div class=\\'wtrUp wtrLeft\\'>\\n<form accept-charset=\\\"UTF-8\\\" action=\\\"/shelf/add_to_shelf\\\" method=\\\"post\\\"><div style=\\\"margin:0;padding:0;display:inline\\\"><input name=\\\"utf8\\\" type=\\\"hidden\\\" value=\\\"&#x2713;\\\" /><input name=\\\"authenticity_token\\\" type=\\\"hidden\\\" value=\\\"97kaWWytbxkT/wuDNA85Qejml6PtVAciG5xTh3ZtyN8zV5TZ/ufjBRCM70kpDR+joNtFFyz0ss57ee1vorPrvQ==\\\" /><\\/div>\\n<input id=\\\"book_id\\\" name=\\\"book_id\\\" type=\\\"hidden\\\" value=\\\"42318\\\" />\\n<input id=\\\"name\\\" name=\\\"name\\\" type=\\\"hidden\\\" value=\\\"to-read\\\" />\\n<input id=\\\"unique_id\\\" name=\\\"unique_id\\\" type=\\\"hidden\\\" value=\\\"8_book_42318\\\" />\\n<input id=\\\"wtr_new\\\" name=\\\"wtr_new\\\" type=\\\"hidden\\\" value=\\\"true\\\" />\\n<input id=\\\"from_choice\\\" name=\\\"from_choice\\\" type=\\\"hidden\\\" value=\\\"false\\\" />\\n<input id=\\\"from_search\\\" name=\\\"from_search\\\" type=\\\"hidden\\\" value=\\\"false\\\" />\\n<input id=\\\"from_home_module\\\" name=\\\"from_home_module\\\" type=\\\"hidden\\\" value=\\\"false\\\" />\\n<input class=\\\"wtrLeftUpRef\\\" id=\\\"ref\\\" name=\\\"ref\\\" type=\\\"hidden\\\" value=\\\"\\\" />\\n<input class=\\\"wtrExisting\\\" id=\\\"existing_review\\\" name=\\\"existing_review\\\" type=\\\"hidden\\\" value=\\\"false\\\" />\\n<input id=\\\"book_origin\\\" name=\\\"book_origin\\\" type=\\\"hidden\\\" value=\\\"related_works\\\" />\\n<input id=\\\"page_referrer\\\" name=\\\"page_referrer\\\" type=\\\"hidden\\\" value=\\\"https://www.goodreads.com/shelf/show/classics\\\" />\\n<input id=\\\"page_url\\\" name=\\\"page_url\\\" type=\\\"hidden\\\" value=\\\"/book/show/24583.The_Adventures_of_Tom_Sawyer\\\" />\\n<button class=\\'wtrToRead\\' type=\\'submit\\'>\\n<span class=\\'progressTrigger\\'>Want to Read<\\/span>\\n<span class=\\'progressIndicator\\'>saving\u2026<\\/span>\\n<\\/button>\\n<\\/form>\\n\\n<\\/div>\\n\\n<div class=\\'wtrRight wtrUp\\'>\\n<form accept-charset=\\\"UTF-8\\\" action=\\\"/shelf/add_to_shelf\\\" class=\\\"hiddenShelfForm\\\" method=\\\"post\\\"><div style=\\\"margin:0;padding:0;display:inline\\\"><input name=\\\"utf8\\\" type=\\\"hidden\\\" value=\\\"&#x2713;\\\" /><input name=\\\"authenticity_token\\\" type=\\\"hidden\\\" value=\\\"z0Y3N0QYq42A5M/nHr5QVdnd63s2l7RklhYnuUWi2EcLqLm31lInkYOXKy0DvHa3keA5z/c3AYj285lRkXz7JQ==\\\" /><\\/div>\\n<input id=\\\"unique_id\\\" name=\\\"unique_id\\\" type=\\\"hidden\\\" value=\\\"8_book_42318\\\" />\\n<input id=\\\"book_id\\\" name=\\\"book_id\\\" type=\\\"hidden\\\" value=\\\"42318\\\" />\\n<input id=\\\"a\\\" name=\\\"a\\\" type=\\\"hidden\\\" />\\n<input id=\\\"name\\\" name=\\\"name\\\" type=\\\"hidden\\\" />\\n<input id=\\\"from_choice\\\" name=\\\"from_choice\\\" type=\\\"hidden\\\" value=\\\"false\\\" />\\n<input id=\\\"from_home_module\\\" name=\\\"from_home_module\\\" type=\\\"hidden\\\" value=\\\"false\\\" />\\n<input id=\\\"book_origin\\\" name=\\\"book_origin\\\" type=\\\"hidden\\\" value=\\\"related_works\\\" />\\n<input id=\\\"page_referrer\\\" name=\\\"page_referrer\\\" type=\\\"hidden\\\" value=\\\"https://www.goodreads.com/shelf/show/classics\\\" />\\n<input id=\\\"page_url\\\" name=\\\"page_url\\\" type=\\\"hidden\\\" value=\\\"/book/show/24583.The_Adventures_of_Tom_Sawyer\\\" />\\n<\\/form>\\n\\n<button class=\\'wtrShelfButton\\'><\\/button>\\n<\\/div>\\n\\n<div class=\\'ratingStars wtrRating\\'>\\n<div class=\\'starsErrorTooltip hidden\\'>\\nError rating book. Refresh and try again.\\n<\\/div>\\n<div class=\\'myRating uitext greyText\\'>Rate this book<\\/div>\\n<div class=\\'clearRating uitext\\'>Clear rating<\\/div>\\n<div class=\\\"stars\\\" data-rating=\\\"0\\\" data-resource-id=\\\"42318\\\" data-submit-url=\\\"/review/rate/42318?book_origin=related_works&page_referrer=https%3A%2F%2Fwww.goodreads.com%2Fshelf%2Fshow%2Fclassics&page_url=%2Fbook%2Fshow%2F24583.The_Adventures_of_Tom_Sawyer&rate_books_page=false&stars_click=false&wtr_button_id=8_book_42318\\\" data-user-id=\\\"0\\\"><a class=\\\"star off\\\" href=\\\"#\\\" ref=\\\"\\\" title=\\\"did not like it\\\">1 of 5 stars<\\/a><a class=\\\"star off\\\" href=\\\"#\\\" ref=\\\"\\\" title=\\\"it was ok\\\">2 of 5 stars<\\/a><a class=\\\"star off\\\" href=\\\"#\\\" ref=\\\"\\\" title=\\\"liked it\\\">3 of 5 stars<\\/a><a class=\\\"star off\\\" href=\\\"#\\\" ref=\\\"\\\" title=\\\"really liked it\\\">4 of 5 stars<\\/a><a class=\\\"star off\\\" href=\\\"#\\\" ref=\\\"\\\" title=\\\"it was amazing\\\">5 of 5 stars<\\/a><\\/div>\\n<\\/div>\\n\\n<\\/div>\\n\\n\\n\\n\", { style: 'addbook', stem: 'topRight', hook: { tip: 'topRight', target: 'bottomMiddle' }, hideOn: false, width: 400, hideAfter: 0.05, delay: 0.35 });\n",
        "      $('bookCover_42318').observe('prototip:shown', function() {\n",
        "        if (this.up('#box')) {\n",
        "          $$('div.prototip')[0].setStyle({zIndex: $('box').getStyle('z-index')});\n",
        "        } else {\n",
        "          $$('div.prototip')[0].setStyle({zIndex: 6000});\n",
        "        }\n",
        "      });\n",
        "\n",
        "      newTip['wrapper'].addClassName('prototipAllowOverflow');\n",
        "\n",
        "        $('bookCover_42318').observe('prototip:shown', function () {\n",
        "          $$('div.prototip').each(function (e) {\n",
        "            if ($('bookCover_42318').hasClassName('ignored')) {\n",
        "              e.setStyle({'display': 'none'});\n",
        "              return;\n",
        "            }\n",
        "            e.setStyle({'overflow': 'visible'});\n",
        "          });\n",
        "        });\n",
        "      $('bookCover_42318').observe('prototip:hidden', function () {\n",
        "        $$('span.elementTwo').each(function (e) {\n",
        "          if (e.getStyle('display') !== 'none') {\n",
        "            var lessLink = e.next();\n",
        "            swapContent(lessLink);\n",
        "          }\n",
        "        });\n",
        "      });\n",
        "\n",
        "//]]>\n",
        "</script>\n",
        "</li>\n",
        "<li class='cover' id='bookCover_21348'>\n",
        "<a href=\"https://www.goodreads.com/book/show/21348.Aesop_s_Fables\"><img alt=\"Aesop's Fables\" src=\"https://d.gr-assets.com/books/1389064715m/21348.jpg\" />\n",
        "</a>\n",
        "\n",
        "\n",
        "<script type=\"text/javascript\">\n",
        "//<![CDATA[\n",
        "      var newTip = new Tip($('bookCover_21348'), \"\\n\\n  <h2><a href=\\\"https://www.goodreads.com/book/show/21348.Aesop_s_Fables?from_choice=false&amp;from_home_module=false\\\" class=\\\"readable\\\">Aesop\\'s Fables<\\/a><\\/h2>\\n\\n  <div>\\n    by <a href=\\\"/author/show/12452.Aesop?a=7&amp;origin=related_works\\\" class=\\\"authorName\\\">Aesop<\\/a>\\n  <\\/div>\\n  <div class=\\\"smallText uitext darkGreyText\\\">\\n    <span class=\\\"minirating\\\"><span class=\\\"stars staticStars\\\"><a class=\\\"staticStar p10\\\" size=\\\"12x12\\\" title=\\\"4.03 of 5 stars\\\">4.03 of 5 stars<\\/a><a class=\\\"staticStar p10\\\" size=\\\"12x12\\\" title=\\\"4.03 of 5 stars\\\"><\\/a><a class=\\\"staticStar p10\\\" size=\\\"12x12\\\" title=\\\"4.03 of 5 stars\\\"><\\/a><a class=\\\"staticStar p10\\\" size=\\\"12x12\\\" title=\\\"4.03 of 5 stars\\\"><\\/a><a class=\\\"staticStar p3\\\" size=\\\"12x12\\\" title=\\\"4.03 of 5 stars\\\"><\\/a><\\/span> 4.03 avg rating &mdash; 72,113 ratings<\\/span>\\n    &mdash; published -560\\n  <\\/div>\\n\\n    <div class=\\\"addBookTipDescription\\\">\\n      \\n<span id=\\\"freeTextContainer12682625344750759046\\\" class=\\\"elementOne\\\">The fables of Aesop have become one of the most enduring traditions of European culture, ever since they were first written down nearly two millennia ago. Aesop was reputedly a tongue-tied slave who miraculously received the power of speech; from his<\\/span>\\n  <span id=\\\"freeText12682625344750759046\\\" class=\\\"elementTwo\\\" style=\\\"display:none\\\">The fables of Aesop have become one of the most enduring traditions of European culture, ever since they were first written down nearly two millennia ago. Aesop was reputedly a tongue-tied slave who miraculously received the power of speech; from his legendary storytelling came the collections of prose and verse fables scattered throughout Greek and Roman literature. First published in English by Caxton in 1484, the fables and their morals continue to charm modern readers: who does not know the story of the tortoise and the hare, or the boy who cried wolf?  This new translation is the first to represent all the main fable collections in ancient Latin and Greek, arranged according to the fables\\' contents and themes. It includes 600 fables, many of which come from sources never before translated into English.<\\/span>\\n  <a data-text-id=\\\"12682625344750759046\\\" href=\\\"#\\\" onclick=\\\"swapContent($(this));; return false;\\\">...more<\\/a>\\n    <\\/div>\\n\\n    <div class=\\'wtrButtonContainer wtrSignedOut\\' id=\\'9_book_21348\\'>\\n<div class=\\'wtrUp wtrLeft\\'>\\n<form accept-charset=\\\"UTF-8\\\" action=\\\"/shelf/add_to_shelf\\\" method=\\\"post\\\"><div style=\\\"margin:0;padding:0;display:inline\\\"><input name=\\\"utf8\\\" type=\\\"hidden\\\" value=\\\"&#x2713;\\\" /><input name=\\\"authenticity_token\\\" type=\\\"hidden\\\" value=\\\"hTgTATIOZ+bPuqCJ8c/eu1cpe+6R6cjeRNX+4VhWMJRB1p2BoETr+szJREPszfhZHxSpWlBJfTIkMEAJjIgT9g==\\\" /><\\/div>\\n<input id=\\\"book_id\\\" name=\\\"book_id\\\" type=\\\"hidden\\\" value=\\\"21348\\\" />\\n<input id=\\\"name\\\" name=\\\"name\\\" type=\\\"hidden\\\" value=\\\"to-read\\\" />\\n<input id=\\\"unique_id\\\" name=\\\"unique_id\\\" type=\\\"hidden\\\" value=\\\"9_book_21348\\\" />\\n<input id=\\\"wtr_new\\\" name=\\\"wtr_new\\\" type=\\\"hidden\\\" value=\\\"true\\\" />\\n<input id=\\\"from_choice\\\" name=\\\"from_choice\\\" type=\\\"hidden\\\" value=\\\"false\\\" />\\n<input id=\\\"from_search\\\" name=\\\"from_search\\\" type=\\\"hidden\\\" value=\\\"false\\\" />\\n<input id=\\\"from_home_module\\\" name=\\\"from_home_module\\\" type=\\\"hidden\\\" value=\\\"false\\\" />\\n<input class=\\\"wtrLeftUpRef\\\" id=\\\"ref\\\" name=\\\"ref\\\" type=\\\"hidden\\\" value=\\\"\\\" />\\n<input class=\\\"wtrExisting\\\" id=\\\"existing_review\\\" name=\\\"existing_review\\\" type=\\\"hidden\\\" value=\\\"false\\\" />\\n<input id=\\\"book_origin\\\" name=\\\"book_origin\\\" type=\\\"hidden\\\" value=\\\"related_works\\\" />\\n<input id=\\\"page_referrer\\\" name=\\\"page_referrer\\\" type=\\\"hidden\\\" value=\\\"https://www.goodreads.com/shelf/show/classics\\\" />\\n<input id=\\\"page_url\\\" name=\\\"page_url\\\" type=\\\"hidden\\\" value=\\\"/book/show/24583.The_Adventures_of_Tom_Sawyer\\\" />\\n<button class=\\'wtrToRead\\' type=\\'submit\\'>\\n<span class=\\'progressTrigger\\'>Want to Read<\\/span>\\n<span class=\\'progressIndicator\\'>saving\u2026<\\/span>\\n<\\/button>\\n<\\/form>\\n\\n<\\/div>\\n\\n<div class=\\'wtrRight wtrUp\\'>\\n<form accept-charset=\\\"UTF-8\\\" action=\\\"/shelf/add_to_shelf\\\" class=\\\"hiddenShelfForm\\\" method=\\\"post\\\"><div style=\\\"margin:0;padding:0;display:inline\\\"><input name=\\\"utf8\\\" type=\\\"hidden\\\" value=\\\"&#x2713;\\\" /><input name=\\\"authenticity_token\\\" type=\\\"hidden\\\" value=\\\"27YZZKoJZvg85BuLDQP9E7xc7ACFJYANHkgYLTuCW6UfWJfkOEPq5D+X/0EQAdvx9GE+tESFNeF+rabF71x4xw==\\\" /><\\/div>\\n<input id=\\\"unique_id\\\" name=\\\"unique_id\\\" type=\\\"hidden\\\" value=\\\"9_book_21348\\\" />\\n<input id=\\\"book_id\\\" name=\\\"book_id\\\" type=\\\"hidden\\\" value=\\\"21348\\\" />\\n<input id=\\\"a\\\" name=\\\"a\\\" type=\\\"hidden\\\" />\\n<input id=\\\"name\\\" name=\\\"name\\\" type=\\\"hidden\\\" />\\n<input id=\\\"from_choice\\\" name=\\\"from_choice\\\" type=\\\"hidden\\\" value=\\\"false\\\" />\\n<input id=\\\"from_home_module\\\" name=\\\"from_home_module\\\" type=\\\"hidden\\\" value=\\\"false\\\" />\\n<input id=\\\"book_origin\\\" name=\\\"book_origin\\\" type=\\\"hidden\\\" value=\\\"related_works\\\" />\\n<input id=\\\"page_referrer\\\" name=\\\"page_referrer\\\" type=\\\"hidden\\\" value=\\\"https://www.goodreads.com/shelf/show/classics\\\" />\\n<input id=\\\"page_url\\\" name=\\\"page_url\\\" type=\\\"hidden\\\" value=\\\"/book/show/24583.The_Adventures_of_Tom_Sawyer\\\" />\\n<\\/form>\\n\\n<button class=\\'wtrShelfButton\\'><\\/button>\\n<\\/div>\\n\\n<div class=\\'ratingStars wtrRating\\'>\\n<div class=\\'starsErrorTooltip hidden\\'>\\nError rating book. Refresh and try again.\\n<\\/div>\\n<div class=\\'myRating uitext greyText\\'>Rate this book<\\/div>\\n<div class=\\'clearRating uitext\\'>Clear rating<\\/div>\\n<div class=\\\"stars\\\" data-rating=\\\"0\\\" data-resource-id=\\\"21348\\\" data-submit-url=\\\"/review/rate/21348?book_origin=related_works&page_referrer=https%3A%2F%2Fwww.goodreads.com%2Fshelf%2Fshow%2Fclassics&page_url=%2Fbook%2Fshow%2F24583.The_Adventures_of_Tom_Sawyer&rate_books_page=false&stars_click=false&wtr_button_id=9_book_21348\\\" data-user-id=\\\"0\\\"><a class=\\\"star off\\\" href=\\\"#\\\" ref=\\\"\\\" title=\\\"did not like it\\\">1 of 5 stars<\\/a><a class=\\\"star off\\\" href=\\\"#\\\" ref=\\\"\\\" title=\\\"it was ok\\\">2 of 5 stars<\\/a><a class=\\\"star off\\\" href=\\\"#\\\" ref=\\\"\\\" title=\\\"liked it\\\">3 of 5 stars<\\/a><a class=\\\"star off\\\" href=\\\"#\\\" ref=\\\"\\\" title=\\\"really liked it\\\">4 of 5 stars<\\/a><a class=\\\"star off\\\" href=\\\"#\\\" ref=\\\"\\\" title=\\\"it was amazing\\\">5 of 5 stars<\\/a><\\/div>\\n<\\/div>\\n\\n<\\/div>\\n\\n\\n\\n\", { style: 'addbook', stem: 'topRight', hook: { tip: 'topRight', target: 'bottomMiddle' }, hideOn: false, width: 400, hideAfter: 0.05, delay: 0.35 });\n",
        "      $('bookCover_21348').observe('prototip:shown', function() {\n",
        "        if (this.up('#box')) {\n",
        "          $$('div.prototip')[0].setStyle({zIndex: $('box').getStyle('z-index')});\n",
        "        } else {\n",
        "          $$('div.prototip')[0].setStyle({zIndex: 6000});\n",
        "        }\n",
        "      });\n",
        "\n",
        "      newTip['wrapper'].addClassName('prototipAllowOverflow');\n",
        "\n",
        "        $('bookCover_21348').observe('prototip:shown', function () {\n",
        "          $$('div.prototip').each(function (e) {\n",
        "            if ($('bookCover_21348').hasClassName('ignored')) {\n",
        "              e.setStyle({'display': 'none'});\n",
        "              return;\n",
        "            }\n",
        "            e.setStyle({'overflow': 'visible'});\n",
        "          });\n",
        "        });\n",
        "      $('bookCover_21348').observe('prototip:hidden', function () {\n",
        "        $$('span.elementTwo').each(function (e) {\n",
        "          if (e.getStyle('display') !== 'none') {\n",
        "            var lessLink = e.next();\n",
        "            swapContent(lessLink);\n",
        "          }\n",
        "        });\n",
        "      });\n",
        "\n",
        "//]]>\n",
        "</script>\n",
        "</li>\n",
        "<li class='cover' id='bookCover_62111'>\n",
        "<a href=\"https://www.goodreads.com/book/show/62111.The_Swiss_Family_Robinson\"><img alt=\"The Swiss Family Robinson  \" src=\"https://d.gr-assets.com/books/1385171459m/62111.jpg\" />\n",
        "</a>\n",
        "\n",
        "\n",
        "<script type=\"text/javascript\">\n",
        "//<![CDATA[\n",
        "      var newTip = new Tip($('bookCover_62111'), \"\\n\\n  <h2><a href=\\\"https://www.goodreads.com/book/show/62111.The_Swiss_Family_Robinson?from_choice=false&amp;from_home_module=false\\\" class=\\\"readable\\\">The Swiss Family Robinson<\\/a><\\/h2>\\n\\n  <div>\\n    by <a href=\\\"/author/show/2897630.Johann_David_Wyss?a=7&amp;origin=related_works\\\" class=\\\"authorName\\\">Johann David Wyss<\\/a>\\n  <\\/div>\\n  <div class=\\\"smallText uitext darkGreyText\\\">\\n    <span class=\\\"minirating\\\"><span class=\\\"stars staticStars\\\"><a class=\\\"staticStar p10\\\" size=\\\"12x12\\\" title=\\\"3.91 of 5 stars\\\">3.91 of 5 stars<\\/a><a class=\\\"staticStar p10\\\" size=\\\"12x12\\\" title=\\\"3.91 of 5 stars\\\"><\\/a><a class=\\\"staticStar p10\\\" size=\\\"12x12\\\" title=\\\"3.91 of 5 stars\\\"><\\/a><a class=\\\"staticStar p6\\\" size=\\\"12x12\\\" title=\\\"3.91 of 5 stars\\\"><\\/a><a class=\\\"staticStar p0\\\" size=\\\"12x12\\\" title=\\\"3.91 of 5 stars\\\"><\\/a><\\/span> 3.91 avg rating &mdash; 62,171 ratings<\\/span>\\n    &mdash; published 1812\\n  <\\/div>\\n\\n    <div class=\\\"addBookTipDescription\\\">\\n      \\n<span id=\\\"freeTextContainer3208541308613914663\\\" class=\\\"elementOne\\\">Shipwrecked passengers on a deserted island: how will they survive? After their ship founders at sea, the Robinsons\u2014father, mother, and four sons\u2014find themselves stranded in an uninhabited, idyllic land. Young readers will enjoy watching them handle<\\/span>\\n  <span id=\\\"freeText3208541308613914663\\\" class=\\\"elementTwo\\\" style=\\\"display:none\\\">Shipwrecked passengers on a deserted island: how will they survive? After their ship founders at sea, the Robinsons\u2014father, mother, and four sons\u2014find themselves stranded in an uninhabited, idyllic land. Young readers will enjoy watching them handle every crisis with cleverness and skill.<\\/span>\\n  <a data-text-id=\\\"3208541308613914663\\\" href=\\\"#\\\" onclick=\\\"swapContent($(this));; return false;\\\">...more<\\/a>\\n    <\\/div>\\n\\n    <div class=\\'wtrButtonContainer wtrSignedOut\\' id=\\'10_book_62111\\'>\\n<div class=\\'wtrUp wtrLeft\\'>\\n<form accept-charset=\\\"UTF-8\\\" action=\\\"/shelf/add_to_shelf\\\" method=\\\"post\\\"><div style=\\\"margin:0;padding:0;display:inline\\\"><input name=\\\"utf8\\\" type=\\\"hidden\\\" value=\\\"&#x2713;\\\" /><input name=\\\"authenticity_token\\\" type=\\\"hidden\\\" value=\\\"Fd20pqzYHP/vyLWYQ9L/DPmNQAnuDqd2ZB54dJtDN8jRMzomPpKQ4+y7UVJe0NnusbCSvS+uEpoE+8acT50Uqg==\\\" /><\\/div>\\n<input id=\\\"book_id\\\" name=\\\"book_id\\\" type=\\\"hidden\\\" value=\\\"62111\\\" />\\n<input id=\\\"name\\\" name=\\\"name\\\" type=\\\"hidden\\\" value=\\\"to-read\\\" />\\n<input id=\\\"unique_id\\\" name=\\\"unique_id\\\" type=\\\"hidden\\\" value=\\\"10_book_62111\\\" />\\n<input id=\\\"wtr_new\\\" name=\\\"wtr_new\\\" type=\\\"hidden\\\" value=\\\"true\\\" />\\n<input id=\\\"from_choice\\\" name=\\\"from_choice\\\" type=\\\"hidden\\\" value=\\\"false\\\" />\\n<input id=\\\"from_search\\\" name=\\\"from_search\\\" type=\\\"hidden\\\" value=\\\"false\\\" />\\n<input id=\\\"from_home_module\\\" name=\\\"from_home_module\\\" type=\\\"hidden\\\" value=\\\"false\\\" />\\n<input class=\\\"wtrLeftUpRef\\\" id=\\\"ref\\\" name=\\\"ref\\\" type=\\\"hidden\\\" value=\\\"\\\" />\\n<input class=\\\"wtrExisting\\\" id=\\\"existing_review\\\" name=\\\"existing_review\\\" type=\\\"hidden\\\" value=\\\"false\\\" />\\n<input id=\\\"book_origin\\\" name=\\\"book_origin\\\" type=\\\"hidden\\\" value=\\\"related_works\\\" />\\n<input id=\\\"page_referrer\\\" name=\\\"page_referrer\\\" type=\\\"hidden\\\" value=\\\"https://www.goodreads.com/shelf/show/classics\\\" />\\n<input id=\\\"page_url\\\" name=\\\"page_url\\\" type=\\\"hidden\\\" value=\\\"/book/show/24583.The_Adventures_of_Tom_Sawyer\\\" />\\n<button class=\\'wtrToRead\\' type=\\'submit\\'>\\n<span class=\\'progressTrigger\\'>Want to Read<\\/span>\\n<span class=\\'progressIndicator\\'>saving\u2026<\\/span>\\n<\\/button>\\n<\\/form>\\n\\n<\\/div>\\n\\n<div class=\\'wtrRight wtrUp\\'>\\n<form accept-charset=\\\"UTF-8\\\" action=\\\"/shelf/add_to_shelf\\\" class=\\\"hiddenShelfForm\\\" method=\\\"post\\\"><div style=\\\"margin:0;padding:0;display:inline\\\"><input name=\\\"utf8\\\" type=\\\"hidden\\\" value=\\\"&#x2713;\\\" /><input name=\\\"authenticity_token\\\" type=\\\"hidden\\\" value=\\\"x3NPi98DZEyhCsx8qBSKbIDcB0kLtgFKq2HDlQXVlvQDncELTUnoUKJ5KLa1FqyOyOHV/coWtKbLhH190Qu1lg==\\\" /><\\/div>\\n<input id=\\\"unique_id\\\" name=\\\"unique_id\\\" type=\\\"hidden\\\" value=\\\"10_book_62111\\\" />\\n<input id=\\\"book_id\\\" name=\\\"book_id\\\" type=\\\"hidden\\\" value=\\\"62111\\\" />\\n<input id=\\\"a\\\" name=\\\"a\\\" type=\\\"hidden\\\" />\\n<input id=\\\"name\\\" name=\\\"name\\\" type=\\\"hidden\\\" />\\n<input id=\\\"from_choice\\\" name=\\\"from_choice\\\" type=\\\"hidden\\\" value=\\\"false\\\" />\\n<input id=\\\"from_home_module\\\" name=\\\"from_home_module\\\" type=\\\"hidden\\\" value=\\\"false\\\" />\\n<input id=\\\"book_origin\\\" name=\\\"book_origin\\\" type=\\\"hidden\\\" value=\\\"related_works\\\" />\\n<input id=\\\"page_referrer\\\" name=\\\"page_referrer\\\" type=\\\"hidden\\\" value=\\\"https://www.goodreads.com/shelf/show/classics\\\" />\\n<input id=\\\"page_url\\\" name=\\\"page_url\\\" type=\\\"hidden\\\" value=\\\"/book/show/24583.The_Adventures_of_Tom_Sawyer\\\" />\\n<\\/form>\\n\\n<button class=\\'wtrShelfButton\\'><\\/button>\\n<\\/div>\\n\\n<div class=\\'ratingStars wtrRating\\'>\\n<div class=\\'starsErrorTooltip hidden\\'>\\nError rating book. Refresh and try again.\\n<\\/div>\\n<div class=\\'myRating uitext greyText\\'>Rate this book<\\/div>\\n<div class=\\'clearRating uitext\\'>Clear rating<\\/div>\\n<div class=\\\"stars\\\" data-rating=\\\"0\\\" data-resource-id=\\\"62111\\\" data-submit-url=\\\"/review/rate/62111?book_origin=related_works&page_referrer=https%3A%2F%2Fwww.goodreads.com%2Fshelf%2Fshow%2Fclassics&page_url=%2Fbook%2Fshow%2F24583.The_Adventures_of_Tom_Sawyer&rate_books_page=false&stars_click=false&wtr_button_id=10_book_62111\\\" data-user-id=\\\"0\\\"><a class=\\\"star off\\\" href=\\\"#\\\" ref=\\\"\\\" title=\\\"did not like it\\\">1 of 5 stars<\\/a><a class=\\\"star off\\\" href=\\\"#\\\" ref=\\\"\\\" title=\\\"it was ok\\\">2 of 5 stars<\\/a><a class=\\\"star off\\\" href=\\\"#\\\" ref=\\\"\\\" title=\\\"liked it\\\">3 of 5 stars<\\/a><a class=\\\"star off\\\" href=\\\"#\\\" ref=\\\"\\\" title=\\\"really liked it\\\">4 of 5 stars<\\/a><a class=\\\"star off\\\" href=\\\"#\\\" ref=\\\"\\\" title=\\\"it was amazing\\\">5 of 5 stars<\\/a><\\/div>\\n<\\/div>\\n\\n<\\/div>\\n\\n\\n\\n\", { style: 'addbook', stem: 'topRight', hook: { tip: 'topRight', target: 'bottomMiddle' }, hideOn: false, width: 400, hideAfter: 0.05, delay: 0.35 });\n",
        "      $('bookCover_62111').observe('prototip:shown', function() {\n",
        "        if (this.up('#box')) {\n",
        "          $$('div.prototip')[0].setStyle({zIndex: $('box').getStyle('z-index')});\n",
        "        } else {\n",
        "          $$('div.prototip')[0].setStyle({zIndex: 6000});\n",
        "        }\n",
        "      });\n",
        "\n",
        "      newTip['wrapper'].addClassName('prototipAllowOverflow');\n",
        "\n",
        "        $('bookCover_62111').observe('prototip:shown', function () {\n",
        "          $$('div.prototip').each(function (e) {\n",
        "            if ($('bookCover_62111').hasClassName('ignored')) {\n",
        "              e.setStyle({'display': 'none'});\n",
        "              return;\n",
        "            }\n",
        "            e.setStyle({'overflow': 'visible'});\n",
        "          });\n",
        "        });\n",
        "      $('bookCover_62111').observe('prototip:hidden', function () {\n",
        "        $$('span.elementTwo').each(function (e) {\n",
        "          if (e.getStyle('display') !== 'none') {\n",
        "            var lessLink = e.next();\n",
        "            swapContent(lessLink);\n",
        "          }\n",
        "        });\n",
        "      });\n",
        "\n",
        "//]]>\n",
        "</script>\n",
        "</li>\n",
        "<li class='cover' id='bookCover_42036'>\n",
        "<a href=\"https://www.goodreads.com/book/show/42036.Tales_from_Shakespeare\"><img alt=\"Tales from Shakespeare\" src=\"https://d.gr-assets.com/books/1330667046m/42036.jpg\" />\n",
        "</a>\n",
        "\n",
        "\n",
        "<script type=\"text/javascript\">\n",
        "//<![CDATA[\n",
        "      var newTip = new Tip($('bookCover_42036'), \"\\n\\n  <h2><a href=\\\"https://www.goodreads.com/book/show/42036.Tales_from_Shakespeare?from_choice=false&amp;from_home_module=false\\\" class=\\\"readable\\\">Tales from Shakespeare<\\/a><\\/h2>\\n\\n  <div>\\n    by <a href=\\\"/author/show/6237.Charles_Lamb?a=7&amp;origin=related_works\\\" class=\\\"authorName\\\">Charles Lamb<\\/a>\\n  <\\/div>\\n  <div class=\\\"smallText uitext darkGreyText\\\">\\n    <span class=\\\"minirating\\\"><span class=\\\"stars staticStars\\\"><a class=\\\"staticStar p10\\\" size=\\\"12x12\\\" title=\\\"3.95 of 5 stars\\\">3.95 of 5 stars<\\/a><a class=\\\"staticStar p10\\\" size=\\\"12x12\\\" title=\\\"3.95 of 5 stars\\\"><\\/a><a class=\\\"staticStar p10\\\" size=\\\"12x12\\\" title=\\\"3.95 of 5 stars\\\"><\\/a><a class=\\\"staticStar p6\\\" size=\\\"12x12\\\" title=\\\"3.95 of 5 stars\\\"><\\/a><a class=\\\"staticStar p0\\\" size=\\\"12x12\\\" title=\\\"3.95 of 5 stars\\\"><\\/a><\\/span> 3.95 avg rating &mdash; 2,492 ratings<\\/span>\\n    &mdash; published 1807\\n  <\\/div>\\n\\n    <div class=\\\"addBookTipDescription\\\">\\n      \\n<span id=\\\"freeTextContainer10946655642332751540\\\" class=\\\"elementOne\\\">Presents an introduction to Shakespeare\\'s greatest plays including Hamlet Othello, As You Like It, The Taming of the Shrew, The Tempest and Pericles.<\\/span>\\n\\n    <\\/div>\\n\\n    <div class=\\'wtrButtonContainer wtrSignedOut\\' id=\\'11_book_42036\\'>\\n<div class=\\'wtrUp wtrLeft\\'>\\n<form accept-charset=\\\"UTF-8\\\" action=\\\"/shelf/add_to_shelf\\\" method=\\\"post\\\"><div style=\\\"margin:0;padding:0;display:inline\\\"><input name=\\\"utf8\\\" type=\\\"hidden\\\" value=\\\"&#x2713;\\\" /><input name=\\\"authenticity_token\\\" type=\\\"hidden\\\" value=\\\"xN29a6iRXDt9QYxlWmOTgCU5871cUB75enKc596GqzIAMzPrOtvQJ34yaK9HYbVibQQhCZ3wqxUalyIPCliIUA==\\\" /><\\/div>\\n<input id=\\\"book_id\\\" name=\\\"book_id\\\" type=\\\"hidden\\\" value=\\\"42036\\\" />\\n<input id=\\\"name\\\" name=\\\"name\\\" type=\\\"hidden\\\" value=\\\"to-read\\\" />\\n<input id=\\\"unique_id\\\" name=\\\"unique_id\\\" type=\\\"hidden\\\" value=\\\"11_book_42036\\\" />\\n<input id=\\\"wtr_new\\\" name=\\\"wtr_new\\\" type=\\\"hidden\\\" value=\\\"true\\\" />\\n<input id=\\\"from_choice\\\" name=\\\"from_choice\\\" type=\\\"hidden\\\" value=\\\"false\\\" />\\n<input id=\\\"from_search\\\" name=\\\"from_search\\\" type=\\\"hidden\\\" value=\\\"false\\\" />\\n<input id=\\\"from_home_module\\\" name=\\\"from_home_module\\\" type=\\\"hidden\\\" value=\\\"false\\\" />\\n<input class=\\\"wtrLeftUpRef\\\" id=\\\"ref\\\" name=\\\"ref\\\" type=\\\"hidden\\\" value=\\\"\\\" />\\n<input class=\\\"wtrExisting\\\" id=\\\"existing_review\\\" name=\\\"existing_review\\\" type=\\\"hidden\\\" value=\\\"false\\\" />\\n<input id=\\\"book_origin\\\" name=\\\"book_origin\\\" type=\\\"hidden\\\" value=\\\"related_works\\\" />\\n<input id=\\\"page_referrer\\\" name=\\\"page_referrer\\\" type=\\\"hidden\\\" value=\\\"https://www.goodreads.com/shelf/show/classics\\\" />\\n<input id=\\\"page_url\\\" name=\\\"page_url\\\" type=\\\"hidden\\\" value=\\\"/book/show/24583.The_Adventures_of_Tom_Sawyer\\\" />\\n<button class=\\'wtrToRead\\' type=\\'submit\\'>\\n<span class=\\'progressTrigger\\'>Want to Read<\\/span>\\n<span class=\\'progressIndicator\\'>saving\u2026<\\/span>\\n<\\/button>\\n<\\/form>\\n\\n<\\/div>\\n\\n<div class=\\'wtrRight wtrUp\\'>\\n<form accept-charset=\\\"UTF-8\\\" action=\\\"/shelf/add_to_shelf\\\" class=\\\"hiddenShelfForm\\\" method=\\\"post\\\"><div style=\\\"margin:0;padding:0;display:inline\\\"><input name=\\\"utf8\\\" type=\\\"hidden\\\" value=\\\"&#x2713;\\\" /><input name=\\\"authenticity_token\\\" type=\\\"hidden\\\" value=\\\"KO7Ub0SbA9SOiFAC1m+VSETp/xNR1JNjPPFHhbO1IIbsAFrv1tGPyI37tMjLbbOqDNQtp5B0Jo9cFPltZ2sD5A==\\\" /><\\/div>\\n<input id=\\\"unique_id\\\" name=\\\"unique_id\\\" type=\\\"hidden\\\" value=\\\"11_book_42036\\\" />\\n<input id=\\\"book_id\\\" name=\\\"book_id\\\" type=\\\"hidden\\\" value=\\\"42036\\\" />\\n<input id=\\\"a\\\" name=\\\"a\\\" type=\\\"hidden\\\" />\\n<input id=\\\"name\\\" name=\\\"name\\\" type=\\\"hidden\\\" />\\n<input id=\\\"from_choice\\\" name=\\\"from_choice\\\" type=\\\"hidden\\\" value=\\\"false\\\" />\\n<input id=\\\"from_home_module\\\" name=\\\"from_home_module\\\" type=\\\"hidden\\\" value=\\\"false\\\" />\\n<input id=\\\"book_origin\\\" name=\\\"book_origin\\\" type=\\\"hidden\\\" value=\\\"related_works\\\" />\\n<input id=\\\"page_referrer\\\" name=\\\"page_referrer\\\" type=\\\"hidden\\\" value=\\\"https://www.goodreads.com/shelf/show/classics\\\" />\\n<input id=\\\"page_url\\\" name=\\\"page_url\\\" type=\\\"hidden\\\" value=\\\"/book/show/24583.The_Adventures_of_Tom_Sawyer\\\" />\\n<\\/form>\\n\\n<button class=\\'wtrShelfButton\\'><\\/button>\\n<\\/div>\\n\\n<div class=\\'ratingStars wtrRating\\'>\\n<div class=\\'starsErrorTooltip hidden\\'>\\nError rating book. Refresh and try again.\\n<\\/div>\\n<div class=\\'myRating uitext greyText\\'>Rate this book<\\/div>\\n<div class=\\'clearRating uitext\\'>Clear rating<\\/div>\\n<div class=\\\"stars\\\" data-rating=\\\"0\\\" data-resource-id=\\\"42036\\\" data-submit-url=\\\"/review/rate/42036?book_origin=related_works&page_referrer=https%3A%2F%2Fwww.goodreads.com%2Fshelf%2Fshow%2Fclassics&page_url=%2Fbook%2Fshow%2F24583.The_Adventures_of_Tom_Sawyer&rate_books_page=false&stars_click=false&wtr_button_id=11_book_42036\\\" data-user-id=\\\"0\\\"><a class=\\\"star off\\\" href=\\\"#\\\" ref=\\\"\\\" title=\\\"did not like it\\\">1 of 5 stars<\\/a><a class=\\\"star off\\\" href=\\\"#\\\" ref=\\\"\\\" title=\\\"it was ok\\\">2 of 5 stars<\\/a><a class=\\\"star off\\\" href=\\\"#\\\" ref=\\\"\\\" title=\\\"liked it\\\">3 of 5 stars<\\/a><a class=\\\"star off\\\" href=\\\"#\\\" ref=\\\"\\\" title=\\\"really liked it\\\">4 of 5 stars<\\/a><a class=\\\"star off\\\" href=\\\"#\\\" ref=\\\"\\\" title=\\\"it was amazing\\\">5 of 5 stars<\\/a><\\/div>\\n<\\/div>\\n\\n<\\/div>\\n\\n\\n\\n\", { style: 'addbook', stem: 'topRight', hook: { tip: 'topRight', target: 'bottomMiddle' }, hideOn: false, width: 400, hideAfter: 0.05, delay: 0.35 });\n",
        "      $('bookCover_42036').observe('prototip:shown', function() {\n",
        "        if (this.up('#box')) {\n",
        "          $$('div.prototip')[0].setStyle({zIndex: $('box').getStyle('z-index')});\n",
        "        } else {\n",
        "          $$('div.prototip')[0].setStyle({zIndex: 6000});\n",
        "        }\n",
        "      });\n",
        "\n",
        "      newTip['wrapper'].addClassName('prototipAllowOverflow');\n",
        "\n",
        "        $('bookCover_42036').observe('prototip:shown', function () {\n",
        "          $$('div.prototip').each(function (e) {\n",
        "            if ($('bookCover_42036').hasClassName('ignored')) {\n",
        "              e.setStyle({'display': 'none'});\n",
        "              return;\n",
        "            }\n",
        "            e.setStyle({'overflow': 'visible'});\n",
        "          });\n",
        "        });\n",
        "      $('bookCover_42036').observe('prototip:hidden', function () {\n",
        "        $$('span.elementTwo').each(function (e) {\n",
        "          if (e.getStyle('display') !== 'none') {\n",
        "            var lessLink = e.next();\n",
        "            swapContent(lessLink);\n",
        "          }\n",
        "        });\n",
        "      });\n",
        "\n",
        "//]]>\n",
        "</script>\n",
        "</li>\n",
        "<li class='cover' id='bookCover_6440'>\n",
        "<a href=\"https://www.goodreads.com/book/show/6440.Ivanhoe\"><img alt=\"Ivanhoe\" src=\"https://d.gr-assets.com/books/1405336818m/6440.jpg\" />\n",
        "</a>\n",
        "\n",
        "\n",
        "<script type=\"text/javascript\">\n",
        "//<![CDATA[\n",
        "      var newTip = new Tip($('bookCover_6440'), \"\\n\\n  <h2><a href=\\\"https://www.goodreads.com/book/show/6440.Ivanhoe?from_choice=false&amp;from_home_module=false\\\" class=\\\"readable\\\">Ivanhoe<\\/a><\\/h2>\\n\\n  <div>\\n    by <a href=\\\"/author/show/4345.Walter_Scott?a=7&amp;origin=related_works\\\" class=\\\"authorName\\\">Walter Scott<\\/a>\\n  <\\/div>\\n  <div class=\\\"smallText uitext darkGreyText\\\">\\n    <span class=\\\"minirating\\\"><span class=\\\"stars staticStars\\\"><a class=\\\"staticStar p10\\\" size=\\\"12x12\\\" title=\\\"3.71 of 5 stars\\\">3.71 of 5 stars<\\/a><a class=\\\"staticStar p10\\\" size=\\\"12x12\\\" title=\\\"3.71 of 5 stars\\\"><\\/a><a class=\\\"staticStar p10\\\" size=\\\"12x12\\\" title=\\\"3.71 of 5 stars\\\"><\\/a><a class=\\\"staticStar p6\\\" size=\\\"12x12\\\" title=\\\"3.71 of 5 stars\\\"><\\/a><a class=\\\"staticStar p0\\\" size=\\\"12x12\\\" title=\\\"3.71 of 5 stars\\\"><\\/a><\\/span> 3.71 avg rating &mdash; 52,818 ratings<\\/span>\\n    &mdash; published 1819\\n  <\\/div>\\n\\n    <div class=\\\"addBookTipDescription\\\">\\n      \\n<span id=\\\"freeTextContainer3504085128251403159\\\" class=\\\"elementOne\\\">Set at the time of the Norman Conquest, this novel discusses Ivanhoe\\'s return from the Crusades to claim his inheritance and the love of Rowena and his involvement in the struggle between Richard Coeur de Lion and his Norman brother John. It is struc<\\/span>\\n  <span id=\\\"freeText3504085128251403159\\\" class=\\\"elementTwo\\\" style=\\\"display:none\\\">Set at the time of the Norman Conquest, this novel discusses Ivanhoe\\'s return from the Crusades to claim his inheritance and the love of Rowena and his involvement in the struggle between Richard Coeur de Lion and his Norman brother John. It is structured by a series of conflicts: Saxon versus Norman, Christian versus Jew, and men versus women.<\\/span>\\n  <a data-text-id=\\\"3504085128251403159\\\" href=\\\"#\\\" onclick=\\\"swapContent($(this));; return false;\\\">...more<\\/a>\\n    <\\/div>\\n\\n    <div class=\\'wtrButtonContainer wtrSignedOut\\' id=\\'12_book_6440\\'>\\n<div class=\\'wtrUp wtrLeft\\'>\\n<form accept-charset=\\\"UTF-8\\\" action=\\\"/shelf/add_to_shelf\\\" method=\\\"post\\\"><div style=\\\"margin:0;padding:0;display:inline\\\"><input name=\\\"utf8\\\" type=\\\"hidden\\\" value=\\\"&#x2713;\\\" /><input name=\\\"authenticity_token\\\" type=\\\"hidden\\\" value=\\\"bZDVWEG+Xcgb8SkjY6ijtytG/32dH0rZPGZECWXGdkqpflvY0/TR1BiCzel+qoVVY3styVy//zVcg/rhsRhVKA==\\\" /><\\/div>\\n<input id=\\\"book_id\\\" name=\\\"book_id\\\" type=\\\"hidden\\\" value=\\\"6440\\\" />\\n<input id=\\\"name\\\" name=\\\"name\\\" type=\\\"hidden\\\" value=\\\"to-read\\\" />\\n<input id=\\\"unique_id\\\" name=\\\"unique_id\\\" type=\\\"hidden\\\" value=\\\"12_book_6440\\\" />\\n<input id=\\\"wtr_new\\\" name=\\\"wtr_new\\\" type=\\\"hidden\\\" value=\\\"true\\\" />\\n<input id=\\\"from_choice\\\" name=\\\"from_choice\\\" type=\\\"hidden\\\" value=\\\"false\\\" />\\n<input id=\\\"from_search\\\" name=\\\"from_search\\\" type=\\\"hidden\\\" value=\\\"false\\\" />\\n<input id=\\\"from_home_module\\\" name=\\\"from_home_module\\\" type=\\\"hidden\\\" value=\\\"false\\\" />\\n<input class=\\\"wtrLeftUpRef\\\" id=\\\"ref\\\" name=\\\"ref\\\" type=\\\"hidden\\\" value=\\\"\\\" />\\n<input class=\\\"wtrExisting\\\" id=\\\"existing_review\\\" name=\\\"existing_review\\\" type=\\\"hidden\\\" value=\\\"false\\\" />\\n<input id=\\\"book_origin\\\" name=\\\"book_origin\\\" type=\\\"hidden\\\" value=\\\"related_works\\\" />\\n<input id=\\\"page_referrer\\\" name=\\\"page_referrer\\\" type=\\\"hidden\\\" value=\\\"https://www.goodreads.com/shelf/show/classics\\\" />\\n<input id=\\\"page_url\\\" name=\\\"page_url\\\" type=\\\"hidden\\\" value=\\\"/book/show/24583.The_Adventures_of_Tom_Sawyer\\\" />\\n<button class=\\'wtrToRead\\' type=\\'submit\\'>\\n<span class=\\'progressTrigger\\'>Want to Read<\\/span>\\n<span class=\\'progressIndicator\\'>saving\u2026<\\/span>\\n<\\/button>\\n<\\/form>\\n\\n<\\/div>\\n\\n<div class=\\'wtrRight wtrUp\\'>\\n<form accept-charset=\\\"UTF-8\\\" action=\\\"/shelf/add_to_shelf\\\" class=\\\"hiddenShelfForm\\\" method=\\\"post\\\"><div style=\\\"margin:0;padding:0;display:inline\\\"><input name=\\\"utf8\\\" type=\\\"hidden\\\" value=\\\"&#x2713;\\\" /><input name=\\\"authenticity_token\\\" type=\\\"hidden\\\" value=\\\"SiTlSgnr1KVrT2gYYB0dxSw4T9CZuAeKa5bnDqNpS/aOymvKm6FYuWg8jNJ9HzsnZAWdZFgYsmYLc1nmd7dolA==\\\" /><\\/div>\\n<input id=\\\"unique_id\\\" name=\\\"unique_id\\\" type=\\\"hidden\\\" value=\\\"12_book_6440\\\" />\\n<input id=\\\"book_id\\\" name=\\\"book_id\\\" type=\\\"hidden\\\" value=\\\"6440\\\" />\\n<input id=\\\"a\\\" name=\\\"a\\\" type=\\\"hidden\\\" />\\n<input id=\\\"name\\\" name=\\\"name\\\" type=\\\"hidden\\\" />\\n<input id=\\\"from_choice\\\" name=\\\"from_choice\\\" type=\\\"hidden\\\" value=\\\"false\\\" />\\n<input id=\\\"from_home_module\\\" name=\\\"from_home_module\\\" type=\\\"hidden\\\" value=\\\"false\\\" />\\n<input id=\\\"book_origin\\\" name=\\\"book_origin\\\" type=\\\"hidden\\\" value=\\\"related_works\\\" />\\n<input id=\\\"page_referrer\\\" name=\\\"page_referrer\\\" type=\\\"hidden\\\" value=\\\"https://www.goodreads.com/shelf/show/classics\\\" />\\n<input id=\\\"page_url\\\" name=\\\"page_url\\\" type=\\\"hidden\\\" value=\\\"/book/show/24583.The_Adventures_of_Tom_Sawyer\\\" />\\n<\\/form>\\n\\n<button class=\\'wtrShelfButton\\'><\\/button>\\n<\\/div>\\n\\n<div class=\\'ratingStars wtrRating\\'>\\n<div class=\\'starsErrorTooltip hidden\\'>\\nError rating book. Refresh and try again.\\n<\\/div>\\n<div class=\\'myRating uitext greyText\\'>Rate this book<\\/div>\\n<div class=\\'clearRating uitext\\'>Clear rating<\\/div>\\n<div class=\\\"stars\\\" data-rating=\\\"0\\\" data-resource-id=\\\"6440\\\" data-submit-url=\\\"/review/rate/6440?book_origin=related_works&page_referrer=https%3A%2F%2Fwww.goodreads.com%2Fshelf%2Fshow%2Fclassics&page_url=%2Fbook%2Fshow%2F24583.The_Adventures_of_Tom_Sawyer&rate_books_page=false&stars_click=false&wtr_button_id=12_book_6440\\\" data-user-id=\\\"0\\\"><a class=\\\"star off\\\" href=\\\"#\\\" ref=\\\"\\\" title=\\\"did not like it\\\">1 of 5 stars<\\/a><a class=\\\"star off\\\" href=\\\"#\\\" ref=\\\"\\\" title=\\\"it was ok\\\">2 of 5 stars<\\/a><a class=\\\"star off\\\" href=\\\"#\\\" ref=\\\"\\\" title=\\\"liked it\\\">3 of 5 stars<\\/a><a class=\\\"star off\\\" href=\\\"#\\\" ref=\\\"\\\" title=\\\"really liked it\\\">4 of 5 stars<\\/a><a class=\\\"star off\\\" href=\\\"#\\\" ref=\\\"\\\" title=\\\"it was amazing\\\">5 of 5 stars<\\/a><\\/div>\\n<\\/div>\\n\\n<\\/div>\\n\\n\\n\\n\", { style: 'addbook', stem: 'topRight', hook: { tip: 'topRight', target: 'bottomMiddle' }, hideOn: false, width: 400, hideAfter: 0.05, delay: 0.35 });\n",
        "      $('bookCover_6440').observe('prototip:shown', function() {\n",
        "        if (this.up('#box')) {\n",
        "          $$('div.prototip')[0].setStyle({zIndex: $('box').getStyle('z-index')});\n",
        "        } else {\n",
        "          $$('div.prototip')[0].setStyle({zIndex: 6000});\n",
        "        }\n",
        "      });\n",
        "\n",
        "      newTip['wrapper'].addClassName('prototipAllowOverflow');\n",
        "\n",
        "        $('bookCover_6440').observe('prototip:shown', function () {\n",
        "          $$('div.prototip').each(function (e) {\n",
        "            if ($('bookCover_6440').hasClassName('ignored')) {\n",
        "              e.setStyle({'display': 'none'});\n",
        "              return;\n",
        "            }\n",
        "            e.setStyle({'overflow': 'visible'});\n",
        "          });\n",
        "        });\n",
        "      $('bookCover_6440').observe('prototip:hidden', function () {\n",
        "        $$('span.elementTwo').each(function (e) {\n",
        "          if (e.getStyle('display') !== 'none') {\n",
        "            var lessLink = e.next();\n",
        "            swapContent(lessLink);\n",
        "          }\n",
        "        });\n",
        "      });\n",
        "\n",
        "//]]>\n",
        "</script>\n",
        "</li>\n",
        "<li class='cover' id='bookCover_70791'>\n",
        "<a href=\"https://www.goodreads.com/book/show/70791.To_Build_a_Fire_and_Other_Stories\"><img alt=\"To Build a Fire and Other Stories\" src=\"https://d.gr-assets.com/books/1312041227m/70791.jpg\" />\n",
        "</a>\n",
        "\n",
        "\n",
        "<script type=\"text/javascript\">\n",
        "//<![CDATA[\n",
        "      var newTip = new Tip($('bookCover_70791'), \"\\n\\n  <h2><a href=\\\"https://www.goodreads.com/book/show/70791.To_Build_a_Fire_and_Other_Stories?from_choice=false&amp;from_home_module=false\\\" class=\\\"readable\\\">To Build a Fire and Other Stories<\\/a><\\/h2>\\n\\n  <div>\\n    by <a href=\\\"/author/show/1240.Jack_London?a=7&amp;origin=related_works\\\" class=\\\"authorName\\\">Jack London<\\/a>\\n  <\\/div>\\n  <div class=\\\"smallText uitext darkGreyText\\\">\\n    <span class=\\\"minirating\\\"><span class=\\\"stars staticStars\\\"><a class=\\\"staticStar p10\\\" size=\\\"12x12\\\" title=\\\"4.04 of 5 stars\\\">4.04 of 5 stars<\\/a><a class=\\\"staticStar p10\\\" size=\\\"12x12\\\" title=\\\"4.04 of 5 stars\\\"><\\/a><a class=\\\"staticStar p10\\\" size=\\\"12x12\\\" title=\\\"4.04 of 5 stars\\\"><\\/a><a class=\\\"staticStar p10\\\" size=\\\"12x12\\\" title=\\\"4.04 of 5 stars\\\"><\\/a><a class=\\\"staticStar p3\\\" size=\\\"12x12\\\" title=\\\"4.04 of 5 stars\\\"><\\/a><\\/span> 4.04 avg rating &mdash; 2,420 ratings<\\/span>\\n    &mdash; published 1986\\n  <\\/div>\\n\\n    <div class=\\\"addBookTipDescription\\\">\\n      \\n<span id=\\\"freeTextContainer3568568343155263767\\\" class=\\\"elementOne\\\">This edition of To Build a Fire and Other Stories includes an Introduction, Biographical Note, and Afterword by David Lubar. In these collected stories of man against the wilderness, London lays claim to the title of greatest outdoor adventure writer<\\/span>\\n  <span id=\\\"freeText3568568343155263767\\\" class=\\\"elementTwo\\\" style=\\\"display:none\\\">This edition of To Build a Fire and Other Stories includes an Introduction, Biographical Note, and Afterword by David Lubar. In these collected stories of man against the wilderness, London lays claim to the title of greatest outdoor adventure writer of all time.\\n\\nContents:\\n\\n- To build a fire\\n- Love of life\\n- Chinago\\n- Told in the drooling ward\\n- The Mexican\\n- War\\n- South of the slot\\n- Water baby\\n- All Gold Canyon\\n- Koolau the leper\\n- Apostate\\n- Mauki\\n- An Odyssey of the north\\n- A piece of steak\\n- Strength of the strong\\n- Red one\\n- Wit or Porportuk\\n- God of his fathers\\n- In a far country\\n- To the man on trail\\n- White silence\\n- League of the old men\\n- Wisdom of the trail\\n- Batard<\\/span>\\n  <a data-text-id=\\\"3568568343155263767\\\" href=\\\"#\\\" onclick=\\\"swapContent($(this));; return false;\\\">...more<\\/a>\\n    <\\/div>\\n\\n    <div class=\\'wtrButtonContainer wtrSignedOut\\' id=\\'13_book_70791\\'>\\n<div class=\\'wtrUp wtrLeft\\'>\\n<form accept-charset=\\\"UTF-8\\\" action=\\\"/shelf/add_to_shelf\\\" method=\\\"post\\\"><div style=\\\"margin:0;padding:0;display:inline\\\"><input name=\\\"utf8\\\" type=\\\"hidden\\\" value=\\\"&#x2713;\\\" /><input name=\\\"authenticity_token\\\" type=\\\"hidden\\\" value=\\\"KuGh+GfbS5Mm9hJZkRSqOxfsbPogRcDxVjYhkciaO9/uDy949ZHHjyWF9pOMFozZX9G+TuHldR020595HEQYvQ==\\\" /><\\/div>\\n<input id=\\\"book_id\\\" name=\\\"book_id\\\" type=\\\"hidden\\\" value=\\\"70791\\\" />\\n<input id=\\\"name\\\" name=\\\"name\\\" type=\\\"hidden\\\" value=\\\"to-read\\\" />\\n<input id=\\\"unique_id\\\" name=\\\"unique_id\\\" type=\\\"hidden\\\" value=\\\"13_book_70791\\\" />\\n<input id=\\\"wtr_new\\\" name=\\\"wtr_new\\\" type=\\\"hidden\\\" value=\\\"true\\\" />\\n<input id=\\\"from_choice\\\" name=\\\"from_choice\\\" type=\\\"hidden\\\" value=\\\"false\\\" />\\n<input id=\\\"from_search\\\" name=\\\"from_search\\\" type=\\\"hidden\\\" value=\\\"false\\\" />\\n<input id=\\\"from_home_module\\\" name=\\\"from_home_module\\\" type=\\\"hidden\\\" value=\\\"false\\\" />\\n<input class=\\\"wtrLeftUpRef\\\" id=\\\"ref\\\" name=\\\"ref\\\" type=\\\"hidden\\\" value=\\\"\\\" />\\n<input class=\\\"wtrExisting\\\" id=\\\"existing_review\\\" name=\\\"existing_review\\\" type=\\\"hidden\\\" value=\\\"false\\\" />\\n<input id=\\\"book_origin\\\" name=\\\"book_origin\\\" type=\\\"hidden\\\" value=\\\"related_works\\\" />\\n<input id=\\\"page_referrer\\\" name=\\\"page_referrer\\\" type=\\\"hidden\\\" value=\\\"https://www.goodreads.com/shelf/show/classics\\\" />\\n<input id=\\\"page_url\\\" name=\\\"page_url\\\" type=\\\"hidden\\\" value=\\\"/book/show/24583.The_Adventures_of_Tom_Sawyer\\\" />\\n<button class=\\'wtrToRead\\' type=\\'submit\\'>\\n<span class=\\'progressTrigger\\'>Want to Read<\\/span>\\n<span class=\\'progressIndicator\\'>saving\u2026<\\/span>\\n<\\/button>\\n<\\/form>\\n\\n<\\/div>\\n\\n<div class=\\'wtrRight wtrUp\\'>\\n<form accept-charset=\\\"UTF-8\\\" action=\\\"/shelf/add_to_shelf\\\" class=\\\"hiddenShelfForm\\\" method=\\\"post\\\"><div style=\\\"margin:0;padding:0;display:inline\\\"><input name=\\\"utf8\\\" type=\\\"hidden\\\" value=\\\"&#x2713;\\\" /><input name=\\\"authenticity_token\\\" type=\\\"hidden\\\" value=\\\"PT+11e9jeBN5zoe3Iw0EvQaDrpkBXvbKSPhxhPV6pKb50TtVfSn0D3q9Y30+DyJfTr58LcD+QyYoHc9sIaSHxA==\\\" /><\\/div>\\n<input id=\\\"unique_id\\\" name=\\\"unique_id\\\" type=\\\"hidden\\\" value=\\\"13_book_70791\\\" />\\n<input id=\\\"book_id\\\" name=\\\"book_id\\\" type=\\\"hidden\\\" value=\\\"70791\\\" />\\n<input id=\\\"a\\\" name=\\\"a\\\" type=\\\"hidden\\\" />\\n<input id=\\\"name\\\" name=\\\"name\\\" type=\\\"hidden\\\" />\\n<input id=\\\"from_choice\\\" name=\\\"from_choice\\\" type=\\\"hidden\\\" value=\\\"false\\\" />\\n<input id=\\\"from_home_module\\\" name=\\\"from_home_module\\\" type=\\\"hidden\\\" value=\\\"false\\\" />\\n<input id=\\\"book_origin\\\" name=\\\"book_origin\\\" type=\\\"hidden\\\" value=\\\"related_works\\\" />\\n<input id=\\\"page_referrer\\\" name=\\\"page_referrer\\\" type=\\\"hidden\\\" value=\\\"https://www.goodreads.com/shelf/show/classics\\\" />\\n<input id=\\\"page_url\\\" name=\\\"page_url\\\" type=\\\"hidden\\\" value=\\\"/book/show/24583.The_Adventures_of_Tom_Sawyer\\\" />\\n<\\/form>\\n\\n<button class=\\'wtrShelfButton\\'><\\/button>\\n<\\/div>\\n\\n<div class=\\'ratingStars wtrRating\\'>\\n<div class=\\'starsErrorTooltip hidden\\'>\\nError rating book. Refresh and try again.\\n<\\/div>\\n<div class=\\'myRating uitext greyText\\'>Rate this book<\\/div>\\n<div class=\\'clearRating uitext\\'>Clear rating<\\/div>\\n<div class=\\\"stars\\\" data-rating=\\\"0\\\" data-resource-id=\\\"70791\\\" data-submit-url=\\\"/review/rate/70791?book_origin=related_works&page_referrer=https%3A%2F%2Fwww.goodreads.com%2Fshelf%2Fshow%2Fclassics&page_url=%2Fbook%2Fshow%2F24583.The_Adventures_of_Tom_Sawyer&rate_books_page=false&stars_click=false&wtr_button_id=13_book_70791\\\" data-user-id=\\\"0\\\"><a class=\\\"star off\\\" href=\\\"#\\\" ref=\\\"\\\" title=\\\"did not like it\\\">1 of 5 stars<\\/a><a class=\\\"star off\\\" href=\\\"#\\\" ref=\\\"\\\" title=\\\"it was ok\\\">2 of 5 stars<\\/a><a class=\\\"star off\\\" href=\\\"#\\\" ref=\\\"\\\" title=\\\"liked it\\\">3 of 5 stars<\\/a><a class=\\\"star off\\\" href=\\\"#\\\" ref=\\\"\\\" title=\\\"really liked it\\\">4 of 5 stars<\\/a><a class=\\\"star off\\\" href=\\\"#\\\" ref=\\\"\\\" title=\\\"it was amazing\\\">5 of 5 stars<\\/a><\\/div>\\n<\\/div>\\n\\n<\\/div>\\n\\n\\n\\n\", { style: 'addbook', stem: 'topRight', hook: { tip: 'topRight', target: 'bottomMiddle' }, hideOn: false, width: 400, hideAfter: 0.05, delay: 0.35 });\n",
        "      $('bookCover_70791').observe('prototip:shown', function() {\n",
        "        if (this.up('#box')) {\n",
        "          $$('div.prototip')[0].setStyle({zIndex: $('box').getStyle('z-index')});\n",
        "        } else {\n",
        "          $$('div.prototip')[0].setStyle({zIndex: 6000});\n",
        "        }\n",
        "      });\n",
        "\n",
        "      newTip['wrapper'].addClassName('prototipAllowOverflow');\n",
        "\n",
        "        $('bookCover_70791').observe('prototip:shown', function () {\n",
        "          $$('div.prototip').each(function (e) {\n",
        "            if ($('bookCover_70791').hasClassName('ignored')) {\n",
        "              e.setStyle({'display': 'none'});\n",
        "              return;\n",
        "            }\n",
        "            e.setStyle({'overflow': 'visible'});\n",
        "          });\n",
        "        });\n",
        "      $('bookCover_70791').observe('prototip:hidden', function () {\n",
        "        $$('span.elementTwo').each(function (e) {\n",
        "          if (e.getStyle('display') !== 'none') {\n",
        "            var lessLink = e.next();\n",
        "            swapContent(lessLink);\n",
        "          }\n",
        "        });\n",
        "      });\n",
        "\n",
        "//]]>\n",
        "</script>\n",
        "</li>\n",
        "<li class='cover' id='bookCover_229432'>\n",
        "<a href=\"https://www.goodreads.com/book/show/229432.The_Pickwick_Papers\"><img alt=\"The Pickwick Papers\" src=\"https://d.gr-assets.com/books/1360795072m/229432.jpg\" />\n",
        "</a>\n",
        "\n",
        "\n",
        "<script type=\"text/javascript\">\n",
        "//<![CDATA[\n",
        "      var newTip = new Tip($('bookCover_229432'), \"\\n\\n  <h2><a href=\\\"https://www.goodreads.com/book/show/229432.The_Pickwick_Papers?from_choice=false&amp;from_home_module=false\\\" class=\\\"readable\\\">The Pickwick Papers<\\/a><\\/h2>\\n\\n  <div>\\n    by <a href=\\\"/author/show/239579.Charles_Dickens?a=7&amp;origin=related_works\\\" class=\\\"authorName\\\">Charles Dickens<\\/a>\\n  <\\/div>\\n  <div class=\\\"smallText uitext darkGreyText\\\">\\n    <span class=\\\"minirating\\\"><span class=\\\"stars staticStars\\\"><a class=\\\"staticStar p10\\\" size=\\\"12x12\\\" title=\\\"3.79 of 5 stars\\\">3.79 of 5 stars<\\/a><a class=\\\"staticStar p10\\\" size=\\\"12x12\\\" title=\\\"3.79 of 5 stars\\\"><\\/a><a class=\\\"staticStar p10\\\" size=\\\"12x12\\\" title=\\\"3.79 of 5 stars\\\"><\\/a><a class=\\\"staticStar p6\\\" size=\\\"12x12\\\" title=\\\"3.79 of 5 stars\\\"><\\/a><a class=\\\"staticStar p0\\\" size=\\\"12x12\\\" title=\\\"3.79 of 5 stars\\\"><\\/a><\\/span> 3.79 avg rating &mdash; 12,755 ratings<\\/span>\\n    &mdash; published 1837\\n  <\\/div>\\n\\n    <div class=\\\"addBookTipDescription\\\">\\n      \\n<span id=\\\"freeTextContainer4023891157857741884\\\" class=\\\"elementOne\\\">\u2018Rising rage & extreme bewilderment had swelled the noble breast of Mr Pickwick, almost to the bursting of his waistcoat\u2019\\n Few first novels have created as much popular excitement as The Pickwick Papers\u2013-a comic masterpiece that catapulted its 24-year<\\/span>\\n  <span id=\\\"freeText4023891157857741884\\\" class=\\\"elementTwo\\\" style=\\\"display:none\\\">\u2018Rising rage &amp; extreme bewilderment had swelled the noble breast of Mr Pickwick, almost to the bursting of his waistcoat\u2019\\n Few first novels have created as much popular excitement as The Pickwick Papers\u2013-a comic masterpiece that catapulted its 24-year-old author to immediate fame. Readers were captivated by the adventures of the poet Snodgrass, the lover Tupman, the sportsman Winkle &amp;, above all, by that quintessentially English Quixote, Mr Pickwick, &amp; his cockney Sancho Panza, Sam Weller. From the hallowed turf of Dingley Dell Cricket Club to the unholy fracas of the Eatanswill election, via the Fleet debtor\u2019s prison, characters &amp; incidents sprang to life from Dickens\u2019s pen, to form an enduringly popular work of ebullient humour &amp; literary invention.<\\/span>\\n  <a data-text-id=\\\"4023891157857741884\\\" href=\\\"#\\\" onclick=\\\"swapContent($(this));; return false;\\\">...more<\\/a>\\n    <\\/div>\\n\\n    <div class=\\'wtrButtonContainer wtrSignedOut\\' id=\\'14_book_229432\\'>\\n<div class=\\'wtrUp wtrLeft\\'>\\n<form accept-charset=\\\"UTF-8\\\" action=\\\"/shelf/add_to_shelf\\\" method=\\\"post\\\"><div style=\\\"margin:0;padding:0;display:inline\\\"><input name=\\\"utf8\\\" type=\\\"hidden\\\" value=\\\"&#x2713;\\\" /><input name=\\\"authenticity_token\\\" type=\\\"hidden\\\" value=\\\"Zd2BmFSo0KrYHo2Rg7jIYaVwQqtgNib2qOTY6Y/Bp32hMw8YxuJcttttaVueuu6D7U2QH6GWkxrIAWYBWx+EHw==\\\" /><\\/div>\\n<input id=\\\"book_id\\\" name=\\\"book_id\\\" type=\\\"hidden\\\" value=\\\"229432\\\" />\\n<input id=\\\"name\\\" name=\\\"name\\\" type=\\\"hidden\\\" value=\\\"to-read\\\" />\\n<input id=\\\"unique_id\\\" name=\\\"unique_id\\\" type=\\\"hidden\\\" value=\\\"14_book_229432\\\" />\\n<input id=\\\"wtr_new\\\" name=\\\"wtr_new\\\" type=\\\"hidden\\\" value=\\\"true\\\" />\\n<input id=\\\"from_choice\\\" name=\\\"from_choice\\\" type=\\\"hidden\\\" value=\\\"false\\\" />\\n<input id=\\\"from_search\\\" name=\\\"from_search\\\" type=\\\"hidden\\\" value=\\\"false\\\" />\\n<input id=\\\"from_home_module\\\" name=\\\"from_home_module\\\" type=\\\"hidden\\\" value=\\\"false\\\" />\\n<input class=\\\"wtrLeftUpRef\\\" id=\\\"ref\\\" name=\\\"ref\\\" type=\\\"hidden\\\" value=\\\"\\\" />\\n<input class=\\\"wtrExisting\\\" id=\\\"existing_review\\\" name=\\\"existing_review\\\" type=\\\"hidden\\\" value=\\\"false\\\" />\\n<input id=\\\"book_origin\\\" name=\\\"book_origin\\\" type=\\\"hidden\\\" value=\\\"related_works\\\" />\\n<input id=\\\"page_referrer\\\" name=\\\"page_referrer\\\" type=\\\"hidden\\\" value=\\\"https://www.goodreads.com/shelf/show/classics\\\" />\\n<input id=\\\"page_url\\\" name=\\\"page_url\\\" type=\\\"hidden\\\" value=\\\"/book/show/24583.The_Adventures_of_Tom_Sawyer\\\" />\\n<button class=\\'wtrToRead\\' type=\\'submit\\'>\\n<span class=\\'progressTrigger\\'>Want to Read<\\/span>\\n<span class=\\'progressIndicator\\'>saving\u2026<\\/span>\\n<\\/button>\\n<\\/form>\\n\\n<\\/div>\\n\\n<div class=\\'wtrRight wtrUp\\'>\\n<form accept-charset=\\\"UTF-8\\\" action=\\\"/shelf/add_to_shelf\\\" class=\\\"hiddenShelfForm\\\" method=\\\"post\\\"><div style=\\\"margin:0;padding:0;display:inline\\\"><input name=\\\"utf8\\\" type=\\\"hidden\\\" value=\\\"&#x2713;\\\" /><input name=\\\"authenticity_token\\\" type=\\\"hidden\\\" value=\\\"oPS5zXFycLntujQRNRQRUsis5wEfvz4FkWVsSQ0ZVohkGjdN4zj8pe7J0NsoFjewgJE1td4fi+nxgNKh2cd16g==\\\" /><\\/div>\\n<input id=\\\"unique_id\\\" name=\\\"unique_id\\\" type=\\\"hidden\\\" value=\\\"14_book_229432\\\" />\\n<input id=\\\"book_id\\\" name=\\\"book_id\\\" type=\\\"hidden\\\" value=\\\"229432\\\" />\\n<input id=\\\"a\\\" name=\\\"a\\\" type=\\\"hidden\\\" />\\n<input id=\\\"name\\\" name=\\\"name\\\" type=\\\"hidden\\\" />\\n<input id=\\\"from_choice\\\" name=\\\"from_choice\\\" type=\\\"hidden\\\" value=\\\"false\\\" />\\n<input id=\\\"from_home_module\\\" name=\\\"from_home_module\\\" type=\\\"hidden\\\" value=\\\"false\\\" />\\n<input id=\\\"book_origin\\\" name=\\\"book_origin\\\" type=\\\"hidden\\\" value=\\\"related_works\\\" />\\n<input id=\\\"page_referrer\\\" name=\\\"page_referrer\\\" type=\\\"hidden\\\" value=\\\"https://www.goodreads.com/shelf/show/classics\\\" />\\n<input id=\\\"page_url\\\" name=\\\"page_url\\\" type=\\\"hidden\\\" value=\\\"/book/show/24583.The_Adventures_of_Tom_Sawyer\\\" />\\n<\\/form>\\n\\n<button class=\\'wtrShelfButton\\'><\\/button>\\n<\\/div>\\n\\n<div class=\\'ratingStars wtrRating\\'>\\n<div class=\\'starsErrorTooltip hidden\\'>\\nError rating book. Refresh and try again.\\n<\\/div>\\n<div class=\\'myRating uitext greyText\\'>Rate this book<\\/div>\\n<div class=\\'clearRating uitext\\'>Clear rating<\\/div>\\n<div class=\\\"stars\\\" data-rating=\\\"0\\\" data-resource-id=\\\"229432\\\" data-submit-url=\\\"/review/rate/229432?book_origin=related_works&page_referrer=https%3A%2F%2Fwww.goodreads.com%2Fshelf%2Fshow%2Fclassics&page_url=%2Fbook%2Fshow%2F24583.The_Adventures_of_Tom_Sawyer&rate_books_page=false&stars_click=false&wtr_button_id=14_book_229432\\\" data-user-id=\\\"0\\\"><a class=\\\"star off\\\" href=\\\"#\\\" ref=\\\"\\\" title=\\\"did not like it\\\">1 of 5 stars<\\/a><a class=\\\"star off\\\" href=\\\"#\\\" ref=\\\"\\\" title=\\\"it was ok\\\">2 of 5 stars<\\/a><a class=\\\"star off\\\" href=\\\"#\\\" ref=\\\"\\\" title=\\\"liked it\\\">3 of 5 stars<\\/a><a class=\\\"star off\\\" href=\\\"#\\\" ref=\\\"\\\" title=\\\"really liked it\\\">4 of 5 stars<\\/a><a class=\\\"star off\\\" href=\\\"#\\\" ref=\\\"\\\" title=\\\"it was amazing\\\">5 of 5 stars<\\/a><\\/div>\\n<\\/div>\\n\\n<\\/div>\\n\\n\\n\\n\", { style: 'addbook', stem: 'topRight', hook: { tip: 'topRight', target: 'bottomMiddle' }, hideOn: false, width: 400, hideAfter: 0.05, delay: 0.35 });\n",
        "      $('bookCover_229432').observe('prototip:shown', function() {\n",
        "        if (this.up('#box')) {\n",
        "          $$('div.prototip')[0].setStyle({zIndex: $('box').getStyle('z-index')});\n",
        "        } else {\n",
        "          $$('div.prototip')[0].setStyle({zIndex: 6000});\n",
        "        }\n",
        "      });\n",
        "\n",
        "      newTip['wrapper'].addClassName('prototipAllowOverflow');\n",
        "\n",
        "        $('bookCover_229432').observe('prototip:shown', function () {\n",
        "          $$('div.prototip').each(function (e) {\n",
        "            if ($('bookCover_229432').hasClassName('ignored')) {\n",
        "              e.setStyle({'display': 'none'});\n",
        "              return;\n",
        "            }\n",
        "            e.setStyle({'overflow': 'visible'});\n",
        "          });\n",
        "        });\n",
        "      $('bookCover_229432').observe('prototip:hidden', function () {\n",
        "        $$('span.elementTwo').each(function (e) {\n",
        "          if (e.getStyle('display') !== 'none') {\n",
        "            var lessLink = e.next();\n",
        "            swapContent(lessLink);\n",
        "          }\n",
        "        });\n",
        "      });\n",
        "\n",
        "//]]>\n",
        "</script>\n",
        "</li>\n",
        "<li class='cover' id='bookCover_2932'>\n",
        "<a href=\"https://www.goodreads.com/book/show/2932.Robinson_Crusoe\"><img alt=\"Robinson Crusoe\" src=\"https://d.gr-assets.com/books/1403180114m/2932.jpg\" />\n",
        "</a>\n",
        "\n",
        "\n",
        "<script type=\"text/javascript\">\n",
        "//<![CDATA[\n",
        "      var newTip = new Tip($('bookCover_2932'), \"\\n\\n  <h2><a href=\\\"https://www.goodreads.com/book/show/2932.Robinson_Crusoe?from_choice=false&amp;from_home_module=false\\\" class=\\\"readable\\\">Robinson Crusoe<\\/a><\\/h2>\\n\\n  <div>\\n    by <a href=\\\"/author/show/2007.Daniel_Defoe?a=7&amp;origin=related_works\\\" class=\\\"authorName\\\">Daniel Defoe<\\/a>\\n  <\\/div>\\n  <div class=\\\"smallText uitext darkGreyText\\\">\\n    <span class=\\\"minirating\\\"><span class=\\\"stars staticStars\\\"><a class=\\\"staticStar p10\\\" size=\\\"12x12\\\" title=\\\"3.63 of 5 stars\\\">3.63 of 5 stars<\\/a><a class=\\\"staticStar p10\\\" size=\\\"12x12\\\" title=\\\"3.63 of 5 stars\\\"><\\/a><a class=\\\"staticStar p10\\\" size=\\\"12x12\\\" title=\\\"3.63 of 5 stars\\\"><\\/a><a class=\\\"staticStar p6\\\" size=\\\"12x12\\\" title=\\\"3.63 of 5 stars\\\"><\\/a><a class=\\\"staticStar p0\\\" size=\\\"12x12\\\" title=\\\"3.63 of 5 stars\\\"><\\/a><\\/span> 3.63 avg rating &mdash; 134,454 ratings<\\/span>\\n    &mdash; published 1719\\n  <\\/div>\\n\\n    <div class=\\\"addBookTipDescription\\\">\\n      \\n<span id=\\\"freeTextContainer493349659754781742\\\" class=\\\"elementOne\\\">Who has not dreamed of life on an exotic isle, far away from civilization?  Here is the novel which has inspired countless imitations by lesser writers, none of which equal the power and originality of Defoe\\'s famous book. Robinson Crusoe, set ashore<\\/span>\\n  <span id=\\\"freeText493349659754781742\\\" class=\\\"elementTwo\\\" style=\\\"display:none\\\">Who has not dreamed of life on an exotic isle, far away from civilization?  Here is the novel which has inspired countless imitations by lesser writers, none of which equal the power and originality of Defoe\\'s famous book. Robinson Crusoe, set ashore on an island after a terrible storm at sea, is forced to make do with only a knife, some tobacco, and a pipe. He learns how to build a canoe, make bread, and endure endless solitude.  That is, until, twenty-four years later, when he confronts another human being. First published in 1719, Robinson Crusoe has been praised by such writers as James Joyce, Virginia Woolf, and Samuel Johnson as one of the greatest novels in the English language. \\n\\nDaniel Defoe (1660-1731) trained for the ministry, became a political journalist, and finally, to many, became &quot;the father of the English novel.&quot; He is also the author of \\'Moll Flanders\\'.<\\/span>\\n  <a data-text-id=\\\"493349659754781742\\\" href=\\\"#\\\" onclick=\\\"swapContent($(this));; return false;\\\">...more<\\/a>\\n    <\\/div>\\n\\n    <div class=\\'wtrButtonContainer wtrSignedOut\\' id=\\'15_book_2932\\'>\\n<div class=\\'wtrUp wtrLeft\\'>\\n<form accept-charset=\\\"UTF-8\\\" action=\\\"/shelf/add_to_shelf\\\" method=\\\"post\\\"><div style=\\\"margin:0;padding:0;display:inline\\\"><input name=\\\"utf8\\\" type=\\\"hidden\\\" value=\\\"&#x2713;\\\" /><input name=\\\"authenticity_token\\\" type=\\\"hidden\\\" value=\\\"+BipTIf8esTI7TnUpk8EaKQfX+uxuXhI3y1ycdDFJoE89ifMFbb22Mue3R67TSKK7CKNX3AZzaS/yMyZBBsF4w==\\\" /><\\/div>\\n<input id=\\\"book_id\\\" name=\\\"book_id\\\" type=\\\"hidden\\\" value=\\\"2932\\\" />\\n<input id=\\\"name\\\" name=\\\"name\\\" type=\\\"hidden\\\" value=\\\"to-read\\\" />\\n<input id=\\\"unique_id\\\" name=\\\"unique_id\\\" type=\\\"hidden\\\" value=\\\"15_book_2932\\\" />\\n<input id=\\\"wtr_new\\\" name=\\\"wtr_new\\\" type=\\\"hidden\\\" value=\\\"true\\\" />\\n<input id=\\\"from_choice\\\" name=\\\"from_choice\\\" type=\\\"hidden\\\" value=\\\"false\\\" />\\n<input id=\\\"from_search\\\" name=\\\"from_search\\\" type=\\\"hidden\\\" value=\\\"false\\\" />\\n<input id=\\\"from_home_module\\\" name=\\\"from_home_module\\\" type=\\\"hidden\\\" value=\\\"false\\\" />\\n<input class=\\\"wtrLeftUpRef\\\" id=\\\"ref\\\" name=\\\"ref\\\" type=\\\"hidden\\\" value=\\\"\\\" />\\n<input class=\\\"wtrExisting\\\" id=\\\"existing_review\\\" name=\\\"existing_review\\\" type=\\\"hidden\\\" value=\\\"false\\\" />\\n<input id=\\\"book_origin\\\" name=\\\"book_origin\\\" type=\\\"hidden\\\" value=\\\"related_works\\\" />\\n<input id=\\\"page_referrer\\\" name=\\\"page_referrer\\\" type=\\\"hidden\\\" value=\\\"https://www.goodreads.com/shelf/show/classics\\\" />\\n<input id=\\\"page_url\\\" name=\\\"page_url\\\" type=\\\"hidden\\\" value=\\\"/book/show/24583.The_Adventures_of_Tom_Sawyer\\\" />\\n<button class=\\'wtrToRead\\' type=\\'submit\\'>\\n<span class=\\'progressTrigger\\'>Want to Read<\\/span>\\n<span class=\\'progressIndicator\\'>saving\u2026<\\/span>\\n<\\/button>\\n<\\/form>\\n\\n<\\/div>\\n\\n<div class=\\'wtrRight wtrUp\\'>\\n<form accept-charset=\\\"UTF-8\\\" action=\\\"/shelf/add_to_shelf\\\" class=\\\"hiddenShelfForm\\\" method=\\\"post\\\"><div style=\\\"margin:0;padding:0;display:inline\\\"><input name=\\\"utf8\\\" type=\\\"hidden\\\" value=\\\"&#x2713;\\\" /><input name=\\\"authenticity_token\\\" type=\\\"hidden\\\" value=\\\"XvGYXICxPTTFRcWddRve6aiVSXC4Zfc+bJikbvL9rx2aHxbcEvuxKMY2IVdoGfgL4KibxHnFQtIMfRqGJiOMfw==\\\" /><\\/div>\\n<input id=\\\"unique_id\\\" name=\\\"unique_id\\\" type=\\\"hidden\\\" value=\\\"15_book_2932\\\" />\\n<input id=\\\"book_id\\\" name=\\\"book_id\\\" type=\\\"hidden\\\" value=\\\"2932\\\" />\\n<input id=\\\"a\\\" name=\\\"a\\\" type=\\\"hidden\\\" />\\n<input id=\\\"name\\\" name=\\\"name\\\" type=\\\"hidden\\\" />\\n<input id=\\\"from_choice\\\" name=\\\"from_choice\\\" type=\\\"hidden\\\" value=\\\"false\\\" />\\n<input id=\\\"from_home_module\\\" name=\\\"from_home_module\\\" type=\\\"hidden\\\" value=\\\"false\\\" />\\n<input id=\\\"book_origin\\\" name=\\\"book_origin\\\" type=\\\"hidden\\\" value=\\\"related_works\\\" />\\n<input id=\\\"page_referrer\\\" name=\\\"page_referrer\\\" type=\\\"hidden\\\" value=\\\"https://www.goodreads.com/shelf/show/classics\\\" />\\n<input id=\\\"page_url\\\" name=\\\"page_url\\\" type=\\\"hidden\\\" value=\\\"/book/show/24583.The_Adventures_of_Tom_Sawyer\\\" />\\n<\\/form>\\n\\n<button class=\\'wtrShelfButton\\'><\\/button>\\n<\\/div>\\n\\n<div class=\\'ratingStars wtrRating\\'>\\n<div class=\\'starsErrorTooltip hidden\\'>\\nError rating book. Refresh and try again.\\n<\\/div>\\n<div class=\\'myRating uitext greyText\\'>Rate this book<\\/div>\\n<div class=\\'clearRating uitext\\'>Clear rating<\\/div>\\n<div class=\\\"stars\\\" data-rating=\\\"0\\\" data-resource-id=\\\"2932\\\" data-submit-url=\\\"/review/rate/2932?book_origin=related_works&page_referrer=https%3A%2F%2Fwww.goodreads.com%2Fshelf%2Fshow%2Fclassics&page_url=%2Fbook%2Fshow%2F24583.The_Adventures_of_Tom_Sawyer&rate_books_page=false&stars_click=false&wtr_button_id=15_book_2932\\\" data-user-id=\\\"0\\\"><a class=\\\"star off\\\" href=\\\"#\\\" ref=\\\"\\\" title=\\\"did not like it\\\">1 of 5 stars<\\/a><a class=\\\"star off\\\" href=\\\"#\\\" ref=\\\"\\\" title=\\\"it was ok\\\">2 of 5 stars<\\/a><a class=\\\"star off\\\" href=\\\"#\\\" ref=\\\"\\\" title=\\\"liked it\\\">3 of 5 stars<\\/a><a class=\\\"star off\\\" href=\\\"#\\\" ref=\\\"\\\" title=\\\"really liked it\\\">4 of 5 stars<\\/a><a class=\\\"star off\\\" href=\\\"#\\\" ref=\\\"\\\" title=\\\"it was amazing\\\">5 of 5 stars<\\/a><\\/div>\\n<\\/div>\\n\\n<\\/div>\\n\\n\\n\\n\", { style: 'addbook', stem: 'topRight', hook: { tip: 'topRight', target: 'bottomMiddle' }, hideOn: false, width: 400, hideAfter: 0.05, delay: 0.35 });\n",
        "      $('bookCover_2932').observe('prototip:shown', function() {\n",
        "        if (this.up('#box')) {\n",
        "          $$('div.prototip')[0].setStyle({zIndex: $('box').getStyle('z-index')});\n",
        "        } else {\n",
        "          $$('div.prototip')[0].setStyle({zIndex: 6000});\n",
        "        }\n",
        "      });\n",
        "\n",
        "      newTip['wrapper'].addClassName('prototipAllowOverflow');\n",
        "\n",
        "        $('bookCover_2932').observe('prototip:shown', function () {\n",
        "          $$('div.prototip').each(function (e) {\n",
        "            if ($('bookCover_2932').hasClassName('ignored')) {\n",
        "              e.setStyle({'display': 'none'});\n",
        "              return;\n",
        "            }\n",
        "            e.setStyle({'overflow': 'visible'});\n",
        "          });\n",
        "        });\n",
        "      $('bookCover_2932').observe('prototip:hidden', function () {\n",
        "        $$('span.elementTwo').each(function (e) {\n",
        "          if (e.getStyle('display') !== 'none') {\n",
        "            var lessLink = e.next();\n",
        "            swapContent(lessLink);\n",
        "          }\n",
        "        });\n",
        "      });\n",
        "\n",
        "//]]>\n",
        "</script>\n",
        "</li>\n",
        "<li class='cover' id='bookCover_78842'>\n",
        "<a href=\"https://www.goodreads.com/book/show/78842.Il_corsaro_nero\"><img alt=\"Il corsaro nero\" src=\"https://d.gr-assets.com/books/1315788575m/78842.jpg\" />\n",
        "</a>\n",
        "\n",
        "\n",
        "<script type=\"text/javascript\">\n",
        "//<![CDATA[\n",
        "      var newTip = new Tip($('bookCover_78842'), \"\\n\\n  <h2><a href=\\\"https://www.goodreads.com/book/show/78842.Il_corsaro_nero?from_choice=false&amp;from_home_module=false\\\" class=\\\"readable\\\">Il corsaro nero<\\/a><\\/h2>\\n\\n  <div>\\n    by <a href=\\\"/author/show/44810.Emilio_Salgari?a=7&amp;origin=related_works\\\" class=\\\"authorName\\\">Emilio Salgari<\\/a>\\n  <\\/div>\\n  <div class=\\\"smallText uitext darkGreyText\\\">\\n    <span class=\\\"minirating\\\"><span class=\\\"stars staticStars\\\"><a class=\\\"staticStar p10\\\" size=\\\"12x12\\\" title=\\\"3.89 of 5 stars\\\">3.89 of 5 stars<\\/a><a class=\\\"staticStar p10\\\" size=\\\"12x12\\\" title=\\\"3.89 of 5 stars\\\"><\\/a><a class=\\\"staticStar p10\\\" size=\\\"12x12\\\" title=\\\"3.89 of 5 stars\\\"><\\/a><a class=\\\"staticStar p6\\\" size=\\\"12x12\\\" title=\\\"3.89 of 5 stars\\\"><\\/a><a class=\\\"staticStar p0\\\" size=\\\"12x12\\\" title=\\\"3.89 of 5 stars\\\"><\\/a><\\/span> 3.89 avg rating &mdash; 1,074 ratings<\\/span>\\n    &mdash; published 1898\\n  <\\/div>\\n\\n    <div class=\\\"addBookTipDescription\\\">\\n      \\n<span id=\\\"freeTextContainer10050330857957890031\\\" class=\\\"elementOne\\\">Il Cavaliere di Roccabruna, Signore di Ventimiglia, diventa corsaro a causa dell\u2019impiccagione dei suoi due fratelli, il Corsaro Rosso e il Corsaro Verde, da parte del governatore di Maracaibo, Wan Guld . Nasce cos\u00ec il Corsaro Nero che, con l\u2019aiuto di<\\/span>\\n  <span id=\\\"freeText10050330857957890031\\\" class=\\\"elementTwo\\\" style=\\\"display:none\\\">Il Cavaliere di Roccabruna, Signore di Ventimiglia, diventa corsaro a causa dell\u2019impiccagione dei suoi due fratelli, il Corsaro Rosso e il Corsaro Verde, da parte del governatore di Maracaibo, Wan Guld . Nasce cos\u00ec il Corsaro Nero che, con l\u2019aiuto di altri personaggi, cerca di vendicare l\\'assassinio dei suoi fratelli.<\\/span>\\n  <a data-text-id=\\\"10050330857957890031\\\" href=\\\"#\\\" onclick=\\\"swapContent($(this));; return false;\\\">...more<\\/a>\\n    <\\/div>\\n\\n    <div class=\\'wtrButtonContainer wtrSignedOut\\' id=\\'16_book_78842\\'>\\n<div class=\\'wtrUp wtrLeft\\'>\\n<form accept-charset=\\\"UTF-8\\\" action=\\\"/shelf/add_to_shelf\\\" method=\\\"post\\\"><div style=\\\"margin:0;padding:0;display:inline\\\"><input name=\\\"utf8\\\" type=\\\"hidden\\\" value=\\\"&#x2713;\\\" /><input name=\\\"authenticity_token\\\" type=\\\"hidden\\\" value=\\\"9gQsa1f38G0gHHWnJTJvo65Bl1IwGF4pqVu4WSW4JBwy6qLrxb18cSNvkW04MElB5nxF5vG468XJvgax8WYHfg==\\\" /><\\/div>\\n<input id=\\\"book_id\\\" name=\\\"book_id\\\" type=\\\"hidden\\\" value=\\\"78842\\\" />\\n<input id=\\\"name\\\" name=\\\"name\\\" type=\\\"hidden\\\" value=\\\"to-read\\\" />\\n<input id=\\\"unique_id\\\" name=\\\"unique_id\\\" type=\\\"hidden\\\" value=\\\"16_book_78842\\\" />\\n<input id=\\\"wtr_new\\\" name=\\\"wtr_new\\\" type=\\\"hidden\\\" value=\\\"true\\\" />\\n<input id=\\\"from_choice\\\" name=\\\"from_choice\\\" type=\\\"hidden\\\" value=\\\"false\\\" />\\n<input id=\\\"from_search\\\" name=\\\"from_search\\\" type=\\\"hidden\\\" value=\\\"false\\\" />\\n<input id=\\\"from_home_module\\\" name=\\\"from_home_module\\\" type=\\\"hidden\\\" value=\\\"false\\\" />\\n<input class=\\\"wtrLeftUpRef\\\" id=\\\"ref\\\" name=\\\"ref\\\" type=\\\"hidden\\\" value=\\\"\\\" />\\n<input class=\\\"wtrExisting\\\" id=\\\"existing_review\\\" name=\\\"existing_review\\\" type=\\\"hidden\\\" value=\\\"false\\\" />\\n<input id=\\\"book_origin\\\" name=\\\"book_origin\\\" type=\\\"hidden\\\" value=\\\"related_works\\\" />\\n<input id=\\\"page_referrer\\\" name=\\\"page_referrer\\\" type=\\\"hidden\\\" value=\\\"https://www.goodreads.com/shelf/show/classics\\\" />\\n<input id=\\\"page_url\\\" name=\\\"page_url\\\" type=\\\"hidden\\\" value=\\\"/book/show/24583.The_Adventures_of_Tom_Sawyer\\\" />\\n<button class=\\'wtrToRead\\' type=\\'submit\\'>\\n<span class=\\'progressTrigger\\'>Want to Read<\\/span>\\n<span class=\\'progressIndicator\\'>saving\u2026<\\/span>\\n<\\/button>\\n<\\/form>\\n\\n<\\/div>\\n\\n<div class=\\'wtrRight wtrUp\\'>\\n<form accept-charset=\\\"UTF-8\\\" action=\\\"/shelf/add_to_shelf\\\" class=\\\"hiddenShelfForm\\\" method=\\\"post\\\"><div style=\\\"margin:0;padding:0;display:inline\\\"><input name=\\\"utf8\\\" type=\\\"hidden\\\" value=\\\"&#x2713;\\\" /><input name=\\\"authenticity_token\\\" type=\\\"hidden\\\" value=\\\"uzvCfPLmwx/AHN12TJ9T08GrtnouDr2YRDe9qliyuLl/1Uz8YKxPA8NvObxRnXUxiZZkzu+uCHQk0gNCjGyb2w==\\\" /><\\/div>\\n<input id=\\\"unique_id\\\" name=\\\"unique_id\\\" type=\\\"hidden\\\" value=\\\"16_book_78842\\\" />\\n<input id=\\\"book_id\\\" name=\\\"book_id\\\" type=\\\"hidden\\\" value=\\\"78842\\\" />\\n<input id=\\\"a\\\" name=\\\"a\\\" type=\\\"hidden\\\" />\\n<input id=\\\"name\\\" name=\\\"name\\\" type=\\\"hidden\\\" />\\n<input id=\\\"from_choice\\\" name=\\\"from_choice\\\" type=\\\"hidden\\\" value=\\\"false\\\" />\\n<input id=\\\"from_home_module\\\" name=\\\"from_home_module\\\" type=\\\"hidden\\\" value=\\\"false\\\" />\\n<input id=\\\"book_origin\\\" name=\\\"book_origin\\\" type=\\\"hidden\\\" value=\\\"related_works\\\" />\\n<input id=\\\"page_referrer\\\" name=\\\"page_referrer\\\" type=\\\"hidden\\\" value=\\\"https://www.goodreads.com/shelf/show/classics\\\" />\\n<input id=\\\"page_url\\\" name=\\\"page_url\\\" type=\\\"hidden\\\" value=\\\"/book/show/24583.The_Adventures_of_Tom_Sawyer\\\" />\\n<\\/form>\\n\\n<button class=\\'wtrShelfButton\\'><\\/button>\\n<\\/div>\\n\\n<div class=\\'ratingStars wtrRating\\'>\\n<div class=\\'starsErrorTooltip hidden\\'>\\nError rating book. Refresh and try again.\\n<\\/div>\\n<div class=\\'myRating uitext greyText\\'>Rate this book<\\/div>\\n<div class=\\'clearRating uitext\\'>Clear rating<\\/div>\\n<div class=\\\"stars\\\" data-rating=\\\"0\\\" data-resource-id=\\\"78842\\\" data-submit-url=\\\"/review/rate/78842?book_origin=related_works&page_referrer=https%3A%2F%2Fwww.goodreads.com%2Fshelf%2Fshow%2Fclassics&page_url=%2Fbook%2Fshow%2F24583.The_Adventures_of_Tom_Sawyer&rate_books_page=false&stars_click=false&wtr_button_id=16_book_78842\\\" data-user-id=\\\"0\\\"><a class=\\\"star off\\\" href=\\\"#\\\" ref=\\\"\\\" title=\\\"did not like it\\\">1 of 5 stars<\\/a><a class=\\\"star off\\\" href=\\\"#\\\" ref=\\\"\\\" title=\\\"it was ok\\\">2 of 5 stars<\\/a><a class=\\\"star off\\\" href=\\\"#\\\" ref=\\\"\\\" title=\\\"liked it\\\">3 of 5 stars<\\/a><a class=\\\"star off\\\" href=\\\"#\\\" ref=\\\"\\\" title=\\\"really liked it\\\">4 of 5 stars<\\/a><a class=\\\"star off\\\" href=\\\"#\\\" ref=\\\"\\\" title=\\\"it was amazing\\\">5 of 5 stars<\\/a><\\/div>\\n<\\/div>\\n\\n<\\/div>\\n\\n\\n\\n\", { style: 'addbook', stem: 'topRight', hook: { tip: 'topRight', target: 'bottomMiddle' }, hideOn: false, width: 400, hideAfter: 0.05, delay: 0.35 });\n",
        "      $('bookCover_78842').observe('prototip:shown', function() {\n",
        "        if (this.up('#box')) {\n",
        "          $$('div.prototip')[0].setStyle({zIndex: $('box').getStyle('z-index')});\n",
        "        } else {\n",
        "          $$('div.prototip')[0].setStyle({zIndex: 6000});\n",
        "        }\n",
        "      });\n",
        "\n",
        "      newTip['wrapper'].addClassName('prototipAllowOverflow');\n",
        "\n",
        "        $('bookCover_78842').observe('prototip:shown', function () {\n",
        "          $$('div.prototip').each(function (e) {\n",
        "            if ($('bookCover_78842').hasClassName('ignored')) {\n",
        "              e.setStyle({'display': 'none'});\n",
        "              return;\n",
        "            }\n",
        "            e.setStyle({'overflow': 'visible'});\n",
        "          });\n",
        "        });\n",
        "      $('bookCover_78842').observe('prototip:hidden', function () {\n",
        "        $$('span.elementTwo').each(function (e) {\n",
        "          if (e.getStyle('display') !== 'none') {\n",
        "            var lessLink = e.next();\n",
        "            swapContent(lessLink);\n",
        "          }\n",
        "        });\n",
        "      });\n",
        "\n",
        "//]]>\n",
        "</script>\n",
        "</li>\n",
        "<li class='cover' id='bookCover_1243909'>\n",
        "<a href=\"https://www.goodreads.com/book/show/1243909._\"><img alt=\"\u041f\u0440\u0438\u043a\u043b\u044e\u0447\u0435\u043d\u0438\u044f \u0427\u0438\u043f\u043e\u043b\u043b\u0438\u043d\u043e\" src=\"https://d.gr-assets.com/books/1182206424m/1243909.jpg\" />\n",
        "</a>\n",
        "\n",
        "\n",
        "<script type=\"text/javascript\">\n",
        "//<![CDATA[\n",
        "      var newTip = new Tip($('bookCover_1243909'), \"\\n\\n  <h2><a href=\\\"https://www.goodreads.com/book/show/1243909._?from_choice=false&amp;from_home_module=false\\\" class=\\\"readable\\\">\u041f\u0440\u0438\u043a\u043b\u044e\u0447\u0435\u043d\u0438\u044f \u0427\u0438\u043f\u043e\u043b\u043b\u0438\u043d\u043e<\\/a><\\/h2>\\n\\n  <div>\\n    by <a href=\\\"/author/show/114467.Gianni_Rodari?a=7&amp;origin=related_works\\\" class=\\\"authorName\\\">Gianni Rodari<\\/a>\\n  <\\/div>\\n  <div class=\\\"smallText uitext darkGreyText\\\">\\n    <span class=\\\"minirating\\\"><span class=\\\"stars staticStars\\\"><a class=\\\"staticStar p10\\\" size=\\\"12x12\\\" title=\\\"4.05 of 5 stars\\\">4.05 of 5 stars<\\/a><a class=\\\"staticStar p10\\\" size=\\\"12x12\\\" title=\\\"4.05 of 5 stars\\\"><\\/a><a class=\\\"staticStar p10\\\" size=\\\"12x12\\\" title=\\\"4.05 of 5 stars\\\"><\\/a><a class=\\\"staticStar p10\\\" size=\\\"12x12\\\" title=\\\"4.05 of 5 stars\\\"><\\/a><a class=\\\"staticStar p3\\\" size=\\\"12x12\\\" title=\\\"4.05 of 5 stars\\\"><\\/a><\\/span> 4.05 avg rating &mdash; 2,930 ratings<\\/span>\\n    &mdash; published 1951\\n  <\\/div>\\n\\n    <div class=\\\"addBookTipDescription\\\">\\n      \\n<span id=\\\"freeTextContainer11038440944201631030\\\" class=\\\"elementOne\\\">\u041f\u043e\u0432\u0435\u0441\u0442\u044c-\u0441\u043a\u0430\u0437\u043a\u0430 \u0438\u0437\u0432\u0435\u0441\u0442\u043d\u043e\u0433\u043e \u0441\u043e\u0432\u0440\u0435\u043c\u0435\u043d\u043d\u043e\u0433\u043e \u0438\u0442\u0430\u043b\u044c\u044f\u043d\u0441\u043a\u043e\u0433\u043e \u043f\u0438\u0441\u0430\u0442\u0435\u043b\u044f \u0414\u0436\u0430\u043d\u043d\u0438 \u0420\u043e\u0434\u0430\u0440\u0438. \u0413\u0435\u0440\u043e\u0439 \u043f\u043e\u0432\u0435\u0441\u0442\u0438 \u0427\u0438\u043f\u043e\u043b\u043b\u0438\u043d\u043e - \u043c\u0430\u043b\u044c\u0447\u0438\u043a-\u043b\u0443\u043a\u043e\u0432\u043a\u0430 - \u0441\u0442\u0440\u0430\u043d\u0441\u0442\u0432\u0443\u0435\u0442 \u043f\u043e \u0441\u043a\u0430\u0437\u043e\u0447\u043d\u043e\u0439 \u0441\u0442\u0440\u0430\u043d\u0435, \u0437\u0430\u0449\u0438\u0449\u0430\u044f \u0431\u0435\u0434\u043d\u044f\u043a\u043e\u0432, \u0431\u043e\u0440\u044f\u0441\u044c \u0441 \u0443\u0433\u043d\u0435\u0442\u0430\u0442\u0435\u043b\u044f\u043c\u0438. \u041a\u043d\u0438\u0433\u0430 \u043f\u0440\u0435\u043a\u0440\u0430\u0441\u043d\u043e \u0438\u043b\u043b\u044e\u0441\u0442\u0440\u0438\u0440\u043e\u0432\u0430\u043d\u0430. \u0425\u0443\u0434\u043e\u0436\u043d\u0438\u043a-\u0438\u043b\u043b\u044e\u0441\u0442\u0440\u0430\u0442\u043e\u0440: \u0410\u043b<\\/span>\\n  <span id=\\\"freeText11038440944201631030\\\" class=\\\"elementTwo\\\" style=\\\"display:none\\\">\u041f\u043e\u0432\u0435\u0441\u0442\u044c-\u0441\u043a\u0430\u0437\u043a\u0430 \u0438\u0437\u0432\u0435\u0441\u0442\u043d\u043e\u0433\u043e \u0441\u043e\u0432\u0440\u0435\u043c\u0435\u043d\u043d\u043e\u0433\u043e \u0438\u0442\u0430\u043b\u044c\u044f\u043d\u0441\u043a\u043e\u0433\u043e \u043f\u0438\u0441\u0430\u0442\u0435\u043b\u044f \u0414\u0436\u0430\u043d\u043d\u0438 \u0420\u043e\u0434\u0430\u0440\u0438. \u0413\u0435\u0440\u043e\u0439 \u043f\u043e\u0432\u0435\u0441\u0442\u0438 \u0427\u0438\u043f\u043e\u043b\u043b\u0438\u043d\u043e - \u043c\u0430\u043b\u044c\u0447\u0438\u043a-\u043b\u0443\u043a\u043e\u0432\u043a\u0430 - \u0441\u0442\u0440\u0430\u043d\u0441\u0442\u0432\u0443\u0435\u0442 \u043f\u043e \u0441\u043a\u0430\u0437\u043e\u0447\u043d\u043e\u0439 \u0441\u0442\u0440\u0430\u043d\u0435, \u0437\u0430\u0449\u0438\u0449\u0430\u044f \u0431\u0435\u0434\u043d\u044f\u043a\u043e\u0432, \u0431\u043e\u0440\u044f\u0441\u044c \u0441 \u0443\u0433\u043d\u0435\u0442\u0430\u0442\u0435\u043b\u044f\u043c\u0438. \u041a\u043d\u0438\u0433\u0430 \u043f\u0440\u0435\u043a\u0440\u0430\u0441\u043d\u043e \u0438\u043b\u043b\u044e\u0441\u0442\u0440\u0438\u0440\u043e\u0432\u0430\u043d\u0430. \u0425\u0443\u0434\u043e\u0436\u043d\u0438\u043a-\u0438\u043b\u043b\u044e\u0441\u0442\u0440\u0430\u0442\u043e\u0440: \u0410\u043b\u0435\u043a\u0441\u0430\u043d\u0434\u0440 \u0410\u043b\u0438\u0440.\u0414\u043b\u044f \u043c\u043b\u0430\u0434\u0448\u0435\u0433\u043e \u0448\u043a\u043e\u043b\u044c\u043d\u043e\u0433\u043e \u0432\u043e\u0437\u0440\u0430\u0441\u0442\u0430<\\/span>\\n  <a data-text-id=\\\"11038440944201631030\\\" href=\\\"#\\\" onclick=\\\"swapContent($(this));; return false;\\\">...more<\\/a>\\n    <\\/div>\\n\\n    <div class=\\'wtrButtonContainer wtrSignedOut\\' id=\\'17_book_1243909\\'>\\n<div class=\\'wtrUp wtrLeft\\'>\\n<form accept-charset=\\\"UTF-8\\\" action=\\\"/shelf/add_to_shelf\\\" method=\\\"post\\\"><div style=\\\"margin:0;padding:0;display:inline\\\"><input name=\\\"utf8\\\" type=\\\"hidden\\\" value=\\\"&#x2713;\\\" /><input name=\\\"authenticity_token\\\" type=\\\"hidden\\\" value=\\\"0zJAm87wIlvLo5QwcZPx+xzzo08w+qs1JJeUY1Cxd7kX3M4bXLquR8jQcPpskdcZVM5x+/FaHtlEciqLhG9U2w==\\\" /><\\/div>\\n<input id=\\\"book_id\\\" name=\\\"book_id\\\" type=\\\"hidden\\\" value=\\\"1243909\\\" />\\n<input id=\\\"name\\\" name=\\\"name\\\" type=\\\"hidden\\\" value=\\\"to-read\\\" />\\n<input id=\\\"unique_id\\\" name=\\\"unique_id\\\" type=\\\"hidden\\\" value=\\\"17_book_1243909\\\" />\\n<input id=\\\"wtr_new\\\" name=\\\"wtr_new\\\" type=\\\"hidden\\\" value=\\\"true\\\" />\\n<input id=\\\"from_choice\\\" name=\\\"from_choice\\\" type=\\\"hidden\\\" value=\\\"false\\\" />\\n<input id=\\\"from_search\\\" name=\\\"from_search\\\" type=\\\"hidden\\\" value=\\\"false\\\" />\\n<input id=\\\"from_home_module\\\" name=\\\"from_home_module\\\" type=\\\"hidden\\\" value=\\\"false\\\" />\\n<input class=\\\"wtrLeftUpRef\\\" id=\\\"ref\\\" name=\\\"ref\\\" type=\\\"hidden\\\" value=\\\"\\\" />\\n<input class=\\\"wtrExisting\\\" id=\\\"existing_review\\\" name=\\\"existing_review\\\" type=\\\"hidden\\\" value=\\\"false\\\" />\\n<input id=\\\"book_origin\\\" name=\\\"book_origin\\\" type=\\\"hidden\\\" value=\\\"related_works\\\" />\\n<input id=\\\"page_referrer\\\" name=\\\"page_referrer\\\" type=\\\"hidden\\\" value=\\\"https://www.goodreads.com/shelf/show/classics\\\" />\\n<input id=\\\"page_url\\\" name=\\\"page_url\\\" type=\\\"hidden\\\" value=\\\"/book/show/24583.The_Adventures_of_Tom_Sawyer\\\" />\\n<button class=\\'wtrToRead\\' type=\\'submit\\'>\\n<span class=\\'progressTrigger\\'>Want to Read<\\/span>\\n<span class=\\'progressIndicator\\'>saving\u2026<\\/span>\\n<\\/button>\\n<\\/form>\\n\\n<\\/div>\\n\\n<div class=\\'wtrRight wtrUp\\'>\\n<form accept-charset=\\\"UTF-8\\\" action=\\\"/shelf/add_to_shelf\\\" class=\\\"hiddenShelfForm\\\" method=\\\"post\\\"><div style=\\\"margin:0;padding:0;display:inline\\\"><input name=\\\"utf8\\\" type=\\\"hidden\\\" value=\\\"&#x2713;\\\" /><input name=\\\"authenticity_token\\\" type=\\\"hidden\\\" value=\\\"UZPsIOjW3+4V8iHTtTIolU4pWTLtrIkO/YtLgxVRBpaVfWKgepxT8haBxRmoMA53BhSLhiwMPOKdbvVrwY8l9A==\\\" /><\\/div>\\n<input id=\\\"unique_id\\\" name=\\\"unique_id\\\" type=\\\"hidden\\\" value=\\\"17_book_1243909\\\" />\\n<input id=\\\"book_id\\\" name=\\\"book_id\\\" type=\\\"hidden\\\" value=\\\"1243909\\\" />\\n<input id=\\\"a\\\" name=\\\"a\\\" type=\\\"hidden\\\" />\\n<input id=\\\"name\\\" name=\\\"name\\\" type=\\\"hidden\\\" />\\n<input id=\\\"from_choice\\\" name=\\\"from_choice\\\" type=\\\"hidden\\\" value=\\\"false\\\" />\\n<input id=\\\"from_home_module\\\" name=\\\"from_home_module\\\" type=\\\"hidden\\\" value=\\\"false\\\" />\\n<input id=\\\"book_origin\\\" name=\\\"book_origin\\\" type=\\\"hidden\\\" value=\\\"related_works\\\" />\\n<input id=\\\"page_referrer\\\" name=\\\"page_referrer\\\" type=\\\"hidden\\\" value=\\\"https://www.goodreads.com/shelf/show/classics\\\" />\\n<input id=\\\"page_url\\\" name=\\\"page_url\\\" type=\\\"hidden\\\" value=\\\"/book/show/24583.The_Adventures_of_Tom_Sawyer\\\" />\\n<\\/form>\\n\\n<button class=\\'wtrShelfButton\\'><\\/button>\\n<\\/div>\\n\\n<div class=\\'ratingStars wtrRating\\'>\\n<div class=\\'starsErrorTooltip hidden\\'>\\nError rating book. Refresh and try again.\\n<\\/div>\\n<div class=\\'myRating uitext greyText\\'>Rate this book<\\/div>\\n<div class=\\'clearRating uitext\\'>Clear rating<\\/div>\\n<div class=\\\"stars\\\" data-rating=\\\"0\\\" data-resource-id=\\\"1243909\\\" data-submit-url=\\\"/review/rate/1243909?book_origin=related_works&page_referrer=https%3A%2F%2Fwww.goodreads.com%2Fshelf%2Fshow%2Fclassics&page_url=%2Fbook%2Fshow%2F24583.The_Adventures_of_Tom_Sawyer&rate_books_page=false&stars_click=false&wtr_button_id=17_book_1243909\\\" data-user-id=\\\"0\\\"><a class=\\\"star off\\\" href=\\\"#\\\" ref=\\\"\\\" title=\\\"did not like it\\\">1 of 5 stars<\\/a><a class=\\\"star off\\\" href=\\\"#\\\" ref=\\\"\\\" title=\\\"it was ok\\\">2 of 5 stars<\\/a><a class=\\\"star off\\\" href=\\\"#\\\" ref=\\\"\\\" title=\\\"liked it\\\">3 of 5 stars<\\/a><a class=\\\"star off\\\" href=\\\"#\\\" ref=\\\"\\\" title=\\\"really liked it\\\">4 of 5 stars<\\/a><a class=\\\"star off\\\" href=\\\"#\\\" ref=\\\"\\\" title=\\\"it was amazing\\\">5 of 5 stars<\\/a><\\/div>\\n<\\/div>\\n\\n<\\/div>\\n\\n\\n\\n\", { style: 'addbook', stem: 'topRight', hook: { tip: 'topRight', target: 'bottomMiddle' }, hideOn: false, width: 400, hideAfter: 0.05, delay: 0.35 });\n",
        "      $('bookCover_1243909').observe('prototip:shown', function() {\n",
        "        if (this.up('#box')) {\n",
        "          $$('div.prototip')[0].setStyle({zIndex: $('box').getStyle('z-index')});\n",
        "        } else {\n",
        "          $$('div.prototip')[0].setStyle({zIndex: 6000});\n",
        "        }\n",
        "      });\n",
        "\n",
        "      newTip['wrapper'].addClassName('prototipAllowOverflow');\n",
        "\n",
        "        $('bookCover_1243909').observe('prototip:shown', function () {\n",
        "          $$('div.prototip').each(function (e) {\n",
        "            if ($('bookCover_1243909').hasClassName('ignored')) {\n",
        "              e.setStyle({'display': 'none'});\n",
        "              return;\n",
        "            }\n",
        "            e.setStyle({'overflow': 'visible'});\n",
        "          });\n",
        "        });\n",
        "      $('bookCover_1243909').observe('prototip:hidden', function () {\n",
        "        $$('span.elementTwo').each(function (e) {\n",
        "          if (e.getStyle('display') !== 'none') {\n",
        "            var lessLink = e.next();\n",
        "            swapContent(lessLink);\n",
        "          }\n",
        "        });\n",
        "      });\n",
        "\n",
        "//]]>\n",
        "</script>\n",
        "</li>\n",
        "<li class='cover' id='bookCover_1080158'>\n",
        "<a href=\"https://www.goodreads.com/book/show/1080158.Leaves_of_Grass\"><img alt=\"Leaves of Grass: First and &quot;Death-Bed&quot; Editions (Barnes &amp; Noble Classics)\" src=\"https://d.gr-assets.com/books/1328753085m/1080158.jpg\" />\n",
        "</a>\n",
        "\n",
        "\n",
        "<script type=\"text/javascript\">\n",
        "//<![CDATA[\n",
        "      var newTip = new Tip($('bookCover_1080158'), \"\\n\\n  <h2><a href=\\\"https://www.goodreads.com/book/show/1080158.Leaves_of_Grass?from_choice=false&amp;from_home_module=false\\\" class=\\\"readable\\\">Leaves of Grass: First and &quot;Death-Bed&quot; Editions (Barnes &amp; Noble Classics)<\\/a><\\/h2>\\n\\n  <div>\\n    by <a href=\\\"/author/show/1438.Walt_Whitman?a=7&amp;origin=related_works\\\" class=\\\"authorName\\\">Walt Whitman<\\/a>\\n  <\\/div>\\n  <div class=\\\"smallText uitext darkGreyText\\\">\\n    <span class=\\\"minirating\\\"><span class=\\\"stars staticStars\\\"><a class=\\\"staticStar p10\\\" size=\\\"12x12\\\" title=\\\"4.08 of 5 stars\\\">4.08 of 5 stars<\\/a><a class=\\\"staticStar p10\\\" size=\\\"12x12\\\" title=\\\"4.08 of 5 stars\\\"><\\/a><a class=\\\"staticStar p10\\\" size=\\\"12x12\\\" title=\\\"4.08 of 5 stars\\\"><\\/a><a class=\\\"staticStar p10\\\" size=\\\"12x12\\\" title=\\\"4.08 of 5 stars\\\"><\\/a><a class=\\\"staticStar p3\\\" size=\\\"12x12\\\" title=\\\"4.08 of 5 stars\\\"><\\/a><\\/span> 4.08 avg rating &mdash; 968 ratings<\\/span>\\n    &mdash; published 2004\\n  <\\/div>\\n\\n    <div class=\\\"addBookTipDescription\\\">\\n      \\n<span id=\\\"freeTextContainer8704761197670588968\\\" class=\\\"elementOne\\\">When Leaves of Grass was first published in 1855 as a slim tract of twelve untitled poems, Walt Whitman was still an unknown. But his self-published volume soon became a landmark of poetry, introducing the world to a new and uniquely American form. T<\\/span>\\n  <span id=\\\"freeText8704761197670588968\\\" class=\\\"elementTwo\\\" style=\\\"display:none\\\">When Leaves of Grass was first published in 1855 as a slim tract of twelve untitled poems, Walt Whitman was still an unknown. But his self-published volume soon became a landmark of poetry, introducing the world to a new and uniquely American form. The &quot;father of free verse,&quot; Whitman drew upon the cadence of simple, even idiomatic speech to &quot;sing&quot; such themes as democracy, sexuality, and frank autobiography.Throughout his prolific writing career, Whitman continually revised his work and expanded Leaves of Grass, which went through nine, substantively different editions, culminating in the final, authoritative &quot;Death-bed Edition.&quot; Now the original 1855 version and the &quot;Death-bed Edition&quot; of 1892 have been brought together in a single volume, allowing the reader to experience the total scope of Whitman?s genius, which produced love lyrics, visionary musings, glimpses of nightmare and ecstasy, celebrations of the human body and spirit, and poems of loneliness, loss, and mourning. Alive with the mythical strength and vitality that epitomized the American experience in the nineteenth century, Leaves of Grass continues to inspire, uplift, and unite those who read it.<\\/span>\\n  <a data-text-id=\\\"8704761197670588968\\\" href=\\\"#\\\" onclick=\\\"swapContent($(this));; return false;\\\">...more<\\/a>\\n    <\\/div>\\n\\n    <div class=\\'wtrButtonContainer wtrSignedOut\\' id=\\'18_book_1080158\\'>\\n<div class=\\'wtrUp wtrLeft\\'>\\n<form accept-charset=\\\"UTF-8\\\" action=\\\"/shelf/add_to_shelf\\\" method=\\\"post\\\"><div style=\\\"margin:0;padding:0;display:inline\\\"><input name=\\\"utf8\\\" type=\\\"hidden\\\" value=\\\"&#x2713;\\\" /><input name=\\\"authenticity_token\\\" type=\\\"hidden\\\" value=\\\"cCiGUZGJZyFxN9B8OA5ZTZR9Er8lST3Nac0DqDWixcq0xgjRA8PrPXJENLYlDH+v3EDAC+TpiCEJKL1A4XzmqA==\\\" /><\\/div>\\n<input id=\\\"book_id\\\" name=\\\"book_id\\\" type=\\\"hidden\\\" value=\\\"1080158\\\" />\\n<input id=\\\"name\\\" name=\\\"name\\\" type=\\\"hidden\\\" value=\\\"to-read\\\" />\\n<input id=\\\"unique_id\\\" name=\\\"unique_id\\\" type=\\\"hidden\\\" value=\\\"18_book_1080158\\\" />\\n<input id=\\\"wtr_new\\\" name=\\\"wtr_new\\\" type=\\\"hidden\\\" value=\\\"true\\\" />\\n<input id=\\\"from_choice\\\" name=\\\"from_choice\\\" type=\\\"hidden\\\" value=\\\"false\\\" />\\n<input id=\\\"from_search\\\" name=\\\"from_search\\\" type=\\\"hidden\\\" value=\\\"false\\\" />\\n<input id=\\\"from_home_module\\\" name=\\\"from_home_module\\\" type=\\\"hidden\\\" value=\\\"false\\\" />\\n<input class=\\\"wtrLeftUpRef\\\" id=\\\"ref\\\" name=\\\"ref\\\" type=\\\"hidden\\\" value=\\\"\\\" />\\n<input class=\\\"wtrExisting\\\" id=\\\"existing_review\\\" name=\\\"existing_review\\\" type=\\\"hidden\\\" value=\\\"false\\\" />\\n<input id=\\\"book_origin\\\" name=\\\"book_origin\\\" type=\\\"hidden\\\" value=\\\"related_works\\\" />\\n<input id=\\\"page_referrer\\\" name=\\\"page_referrer\\\" type=\\\"hidden\\\" value=\\\"https://www.goodreads.com/shelf/show/classics\\\" />\\n<input id=\\\"page_url\\\" name=\\\"page_url\\\" type=\\\"hidden\\\" value=\\\"/book/show/24583.The_Adventures_of_Tom_Sawyer\\\" />\\n<button class=\\'wtrToRead\\' type=\\'submit\\'>\\n<span class=\\'progressTrigger\\'>Want to Read<\\/span>\\n<span class=\\'progressIndicator\\'>saving\u2026<\\/span>\\n<\\/button>\\n<\\/form>\\n\\n<\\/div>\\n\\n<div class=\\'wtrRight wtrUp\\'>\\n<form accept-charset=\\\"UTF-8\\\" action=\\\"/shelf/add_to_shelf\\\" class=\\\"hiddenShelfForm\\\" method=\\\"post\\\"><div style=\\\"margin:0;padding:0;display:inline\\\"><input name=\\\"utf8\\\" type=\\\"hidden\\\" value=\\\"&#x2713;\\\" /><input name=\\\"authenticity_token\\\" type=\\\"hidden\\\" value=\\\"QRjW9J9D2znBQALhSHI0WfZldEWPt8NqpBGPvMIsNsGF9lh0DQlXJcIz5itVcBK7vlim8U4XdobE9DFUFvIVow==\\\" /><\\/div>\\n<input id=\\\"unique_id\\\" name=\\\"unique_id\\\" type=\\\"hidden\\\" value=\\\"18_book_1080158\\\" />\\n<input id=\\\"book_id\\\" name=\\\"book_id\\\" type=\\\"hidden\\\" value=\\\"1080158\\\" />\\n<input id=\\\"a\\\" name=\\\"a\\\" type=\\\"hidden\\\" />\\n<input id=\\\"name\\\" name=\\\"name\\\" type=\\\"hidden\\\" />\\n<input id=\\\"from_choice\\\" name=\\\"from_choice\\\" type=\\\"hidden\\\" value=\\\"false\\\" />\\n<input id=\\\"from_home_module\\\" name=\\\"from_home_module\\\" type=\\\"hidden\\\" value=\\\"false\\\" />\\n<input id=\\\"book_origin\\\" name=\\\"book_origin\\\" type=\\\"hidden\\\" value=\\\"related_works\\\" />\\n<input id=\\\"page_referrer\\\" name=\\\"page_referrer\\\" type=\\\"hidden\\\" value=\\\"https://www.goodreads.com/shelf/show/classics\\\" />\\n<input id=\\\"page_url\\\" name=\\\"page_url\\\" type=\\\"hidden\\\" value=\\\"/book/show/24583.The_Adventures_of_Tom_Sawyer\\\" />\\n<\\/form>\\n\\n<button class=\\'wtrShelfButton\\'><\\/button>\\n<\\/div>\\n\\n<div class=\\'ratingStars wtrRating\\'>\\n<div class=\\'starsErrorTooltip hidden\\'>\\nError rating book. Refresh and try again.\\n<\\/div>\\n<div class=\\'myRating uitext greyText\\'>Rate this book<\\/div>\\n<div class=\\'clearRating uitext\\'>Clear rating<\\/div>\\n<div class=\\\"stars\\\" data-rating=\\\"0\\\" data-resource-id=\\\"1080158\\\" data-submit-url=\\\"/review/rate/1080158?book_origin=related_works&page_referrer=https%3A%2F%2Fwww.goodreads.com%2Fshelf%2Fshow%2Fclassics&page_url=%2Fbook%2Fshow%2F24583.The_Adventures_of_Tom_Sawyer&rate_books_page=false&stars_click=false&wtr_button_id=18_book_1080158\\\" data-user-id=\\\"0\\\"><a class=\\\"star off\\\" href=\\\"#\\\" ref=\\\"\\\" title=\\\"did not like it\\\">1 of 5 stars<\\/a><a class=\\\"star off\\\" href=\\\"#\\\" ref=\\\"\\\" title=\\\"it was ok\\\">2 of 5 stars<\\/a><a class=\\\"star off\\\" href=\\\"#\\\" ref=\\\"\\\" title=\\\"liked it\\\">3 of 5 stars<\\/a><a class=\\\"star off\\\" href=\\\"#\\\" ref=\\\"\\\" title=\\\"really liked it\\\">4 of 5 stars<\\/a><a class=\\\"star off\\\" href=\\\"#\\\" ref=\\\"\\\" title=\\\"it was amazing\\\">5 of 5 stars<\\/a><\\/div>\\n<\\/div>\\n\\n<\\/div>\\n\\n\\n\\n\", { style: 'addbook', stem: 'topRight', hook: { tip: 'topRight', target: 'bottomMiddle' }, hideOn: false, width: 400, hideAfter: 0.05, delay: 0.35 });\n",
        "      $('bookCover_1080158').observe('prototip:shown', function() {\n",
        "        if (this.up('#box')) {\n",
        "          $$('div.prototip')[0].setStyle({zIndex: $('box').getStyle('z-index')});\n",
        "        } else {\n",
        "          $$('div.prototip')[0].setStyle({zIndex: 6000});\n",
        "        }\n",
        "      });\n",
        "\n",
        "      newTip['wrapper'].addClassName('prototipAllowOverflow');\n",
        "\n",
        "        $('bookCover_1080158').observe('prototip:shown', function () {\n",
        "          $$('div.prototip').each(function (e) {\n",
        "            if ($('bookCover_1080158').hasClassName('ignored')) {\n",
        "              e.setStyle({'display': 'none'});\n",
        "              return;\n",
        "            }\n",
        "            e.setStyle({'overflow': 'visible'});\n",
        "          });\n",
        "        });\n",
        "      $('bookCover_1080158').observe('prototip:hidden', function () {\n",
        "        $$('span.elementTwo').each(function (e) {\n",
        "          if (e.getStyle('display') !== 'none') {\n",
        "            var lessLink = e.next();\n",
        "            swapContent(lessLink);\n",
        "          }\n",
        "        });\n",
        "      });\n",
        "\n",
        "//]]>\n",
        "</script>\n",
        "</li>\n",
        "<li class='cover' id='bookCover_651799'>\n",
        "<a href=\"https://www.goodreads.com/book/show/651799.Moby_Dick\"><img alt=\"Moby Dick\" src=\"https://d.gr-assets.com/books/1348391407m/651799.jpg\" />\n",
        "</a>\n",
        "\n",
        "\n",
        "<script type=\"text/javascript\">\n",
        "//<![CDATA[\n",
        "      var newTip = new Tip($('bookCover_651799'), \"\\n\\n  <h2><a href=\\\"https://www.goodreads.com/book/show/651799.Moby_Dick?from_choice=false&amp;from_home_module=false\\\" class=\\\"readable\\\">Moby Dick<\\/a><\\/h2>\\n\\n  <div>\\n    by <a href=\\\"/author/show/81222.Lew_Sayre_Schwartz?a=7&amp;origin=related_works\\\" class=\\\"authorName\\\">Lew Sayre Schwartz<\\/a>\\n  <\\/div>\\n  <div class=\\\"smallText uitext darkGreyText\\\">\\n    <span class=\\\"minirating\\\"><span class=\\\"stars staticStars\\\"><a class=\\\"staticStar p10\\\" size=\\\"12x12\\\" title=\\\"3.74 of 5 stars\\\">3.74 of 5 stars<\\/a><a class=\\\"staticStar p10\\\" size=\\\"12x12\\\" title=\\\"3.74 of 5 stars\\\"><\\/a><a class=\\\"staticStar p10\\\" size=\\\"12x12\\\" title=\\\"3.74 of 5 stars\\\"><\\/a><a class=\\\"staticStar p6\\\" size=\\\"12x12\\\" title=\\\"3.74 of 5 stars\\\"><\\/a><a class=\\\"staticStar p0\\\" size=\\\"12x12\\\" title=\\\"3.74 of 5 stars\\\"><\\/a><\\/span> 3.74 avg rating &mdash; 859 ratings<\\/span>\\n    &mdash; published \\n  <\\/div>\\n\\n    <div class=\\\"addBookTipDescription\\\">\\n      \\n<span id=\\\"freeTextContainer5013716521650579091\\\" class=\\\"elementOne\\\">Killing a sixty-ton sperm whale that could destroy a boat with a flick of its massive tail was no easy task. Whalemen of the early nineteenth century were not just hunters, they were also explorers\u2014sailing on the uncharted sea in search of some of th<\\/span>\\n  <span id=\\\"freeText5013716521650579091\\\" class=\\\"elementTwo\\\" style=\\\"display:none\\\">Killing a sixty-ton sperm whale that could destroy a boat with a flick of its massive tail was no easy task. Whalemen of the early nineteenth century were not just hunters, they were also explorers\u2014sailing on the uncharted sea in search of some of the largest creatures on earth. The most famous whale of all? Moby Dick. Here are Ishmael, Queequeq, Ahab, and of course, Moby Dick, rendered anew in a dynamic comic book adaptation of one of the greatest American novels ever written. The book also includes information about Herman Melville, facts about whales, and the history of the whaling industry. With all the flare and blaze of Melville\u2019s original story, Moby Dick is sure to intrigue a new generation of readers with this fast-paced and electric portrayal of the famous battle between man and beast.<\\/span>\\n  <a data-text-id=\\\"5013716521650579091\\\" href=\\\"#\\\" onclick=\\\"swapContent($(this));; return false;\\\">...more<\\/a>\\n    <\\/div>\\n\\n    <div class=\\'wtrButtonContainer wtrSignedOut\\' id=\\'19_book_651799\\'>\\n<div class=\\'wtrUp wtrLeft\\'>\\n<form accept-charset=\\\"UTF-8\\\" action=\\\"/shelf/add_to_shelf\\\" method=\\\"post\\\"><div style=\\\"margin:0;padding:0;display:inline\\\"><input name=\\\"utf8\\\" type=\\\"hidden\\\" value=\\\"&#x2713;\\\" /><input name=\\\"authenticity_token\\\" type=\\\"hidden\\\" value=\\\"LLmaPiOzEUYfFTC6GbWRwmyPvrudmczKgPqmNrunF0PoVxS+sfmdWhxm1HAEt7cgJLJsD1w5eSbgHxjeb3k0IQ==\\\" /><\\/div>\\n<input id=\\\"book_id\\\" name=\\\"book_id\\\" type=\\\"hidden\\\" value=\\\"651799\\\" />\\n<input id=\\\"name\\\" name=\\\"name\\\" type=\\\"hidden\\\" value=\\\"to-read\\\" />\\n<input id=\\\"unique_id\\\" name=\\\"unique_id\\\" type=\\\"hidden\\\" value=\\\"19_book_651799\\\" />\\n<input id=\\\"wtr_new\\\" name=\\\"wtr_new\\\" type=\\\"hidden\\\" value=\\\"true\\\" />\\n<input id=\\\"from_choice\\\" name=\\\"from_choice\\\" type=\\\"hidden\\\" value=\\\"false\\\" />\\n<input id=\\\"from_search\\\" name=\\\"from_search\\\" type=\\\"hidden\\\" value=\\\"false\\\" />\\n<input id=\\\"from_home_module\\\" name=\\\"from_home_module\\\" type=\\\"hidden\\\" value=\\\"false\\\" />\\n<input class=\\\"wtrLeftUpRef\\\" id=\\\"ref\\\" name=\\\"ref\\\" type=\\\"hidden\\\" value=\\\"\\\" />\\n<input class=\\\"wtrExisting\\\" id=\\\"existing_review\\\" name=\\\"existing_review\\\" type=\\\"hidden\\\" value=\\\"false\\\" />\\n<input id=\\\"book_origin\\\" name=\\\"book_origin\\\" type=\\\"hidden\\\" value=\\\"related_works\\\" />\\n<input id=\\\"page_referrer\\\" name=\\\"page_referrer\\\" type=\\\"hidden\\\" value=\\\"https://www.goodreads.com/shelf/show/classics\\\" />\\n<input id=\\\"page_url\\\" name=\\\"page_url\\\" type=\\\"hidden\\\" value=\\\"/book/show/24583.The_Adventures_of_Tom_Sawyer\\\" />\\n<button class=\\'wtrToRead\\' type=\\'submit\\'>\\n<span class=\\'progressTrigger\\'>Want to Read<\\/span>\\n<span class=\\'progressIndicator\\'>saving\u2026<\\/span>\\n<\\/button>\\n<\\/form>\\n\\n<\\/div>\\n\\n<div class=\\'wtrRight wtrUp\\'>\\n<form accept-charset=\\\"UTF-8\\\" action=\\\"/shelf/add_to_shelf\\\" class=\\\"hiddenShelfForm\\\" method=\\\"post\\\"><div style=\\\"margin:0;padding:0;display:inline\\\"><input name=\\\"utf8\\\" type=\\\"hidden\\\" value=\\\"&#x2713;\\\" /><input name=\\\"authenticity_token\\\" type=\\\"hidden\\\" value=\\\"QYGfMz70ASRvhJu4ZKWfe5+BYHwiyyKpJdFoKMlpWJmFbxGzrL6NOGz3f3J5p7mZ17yyyONrl0VFNNbAHbd7+w==\\\" /><\\/div>\\n<input id=\\\"unique_id\\\" name=\\\"unique_id\\\" type=\\\"hidden\\\" value=\\\"19_book_651799\\\" />\\n<input id=\\\"book_id\\\" name=\\\"book_id\\\" type=\\\"hidden\\\" value=\\\"651799\\\" />\\n<input id=\\\"a\\\" name=\\\"a\\\" type=\\\"hidden\\\" />\\n<input id=\\\"name\\\" name=\\\"name\\\" type=\\\"hidden\\\" />\\n<input id=\\\"from_choice\\\" name=\\\"from_choice\\\" type=\\\"hidden\\\" value=\\\"false\\\" />\\n<input id=\\\"from_home_module\\\" name=\\\"from_home_module\\\" type=\\\"hidden\\\" value=\\\"false\\\" />\\n<input id=\\\"book_origin\\\" name=\\\"book_origin\\\" type=\\\"hidden\\\" value=\\\"related_works\\\" />\\n<input id=\\\"page_referrer\\\" name=\\\"page_referrer\\\" type=\\\"hidden\\\" value=\\\"https://www.goodreads.com/shelf/show/classics\\\" />\\n<input id=\\\"page_url\\\" name=\\\"page_url\\\" type=\\\"hidden\\\" value=\\\"/book/show/24583.The_Adventures_of_Tom_Sawyer\\\" />\\n<\\/form>\\n\\n<button class=\\'wtrShelfButton\\'><\\/button>\\n<\\/div>\\n\\n<div class=\\'ratingStars wtrRating\\'>\\n<div class=\\'starsErrorTooltip hidden\\'>\\nError rating book. Refresh and try again.\\n<\\/div>\\n<div class=\\'myRating uitext greyText\\'>Rate this book<\\/div>\\n<div class=\\'clearRating uitext\\'>Clear rating<\\/div>\\n<div class=\\\"stars\\\" data-rating=\\\"0\\\" data-resource-id=\\\"651799\\\" data-submit-url=\\\"/review/rate/651799?book_origin=related_works&page_referrer=https%3A%2F%2Fwww.goodreads.com%2Fshelf%2Fshow%2Fclassics&page_url=%2Fbook%2Fshow%2F24583.The_Adventures_of_Tom_Sawyer&rate_books_page=false&stars_click=false&wtr_button_id=19_book_651799\\\" data-user-id=\\\"0\\\"><a class=\\\"star off\\\" href=\\\"#\\\" ref=\\\"\\\" title=\\\"did not like it\\\">1 of 5 stars<\\/a><a class=\\\"star off\\\" href=\\\"#\\\" ref=\\\"\\\" title=\\\"it was ok\\\">2 of 5 stars<\\/a><a class=\\\"star off\\\" href=\\\"#\\\" ref=\\\"\\\" title=\\\"liked it\\\">3 of 5 stars<\\/a><a class=\\\"star off\\\" href=\\\"#\\\" ref=\\\"\\\" title=\\\"really liked it\\\">4 of 5 stars<\\/a><a class=\\\"star off\\\" href=\\\"#\\\" ref=\\\"\\\" title=\\\"it was amazing\\\">5 of 5 stars<\\/a><\\/div>\\n<\\/div>\\n\\n<\\/div>\\n\\n\\n\\n\", { style: 'addbook', stem: 'topRight', hook: { tip: 'topRight', target: 'bottomMiddle' }, hideOn: false, width: 400, hideAfter: 0.05, delay: 0.35 });\n",
        "      $('bookCover_651799').observe('prototip:shown', function() {\n",
        "        if (this.up('#box')) {\n",
        "          $$('div.prototip')[0].setStyle({zIndex: $('box').getStyle('z-index')});\n",
        "        } else {\n",
        "          $$('div.prototip')[0].setStyle({zIndex: 6000});\n",
        "        }\n",
        "      });\n",
        "\n",
        "      newTip['wrapper'].addClassName('prototipAllowOverflow');\n",
        "\n",
        "        $('bookCover_651799').observe('prototip:shown', function () {\n",
        "          $$('div.prototip').each(function (e) {\n",
        "            if ($('bookCover_651799').hasClassName('ignored')) {\n",
        "              e.setStyle({'display': 'none'});\n",
        "              return;\n",
        "            }\n",
        "            e.setStyle({'overflow': 'visible'});\n",
        "          });\n",
        "        });\n",
        "      $('bookCover_651799').observe('prototip:hidden', function () {\n",
        "        $$('span.elementTwo').each(function (e) {\n",
        "          if (e.getStyle('display') !== 'none') {\n",
        "            var lessLink = e.next();\n",
        "            swapContent(lessLink);\n",
        "          }\n",
        "        });\n",
        "      });\n",
        "\n",
        "//]]>\n",
        "</script>\n",
        "</li>\n",
        "<li class='cover' id='bookCover_462182'>\n",
        "<a href=\"https://www.goodreads.com/book/show/462182.Rip_Van_Winkle\"><img alt=\"Rip Van Winkle\" src=\"https://d.gr-assets.com/books/1298547507m/462182.jpg\" />\n",
        "</a>\n",
        "\n",
        "\n",
        "<script type=\"text/javascript\">\n",
        "//<![CDATA[\n",
        "      var newTip = new Tip($('bookCover_462182'), \"\\n\\n  <h2><a href=\\\"https://www.goodreads.com/book/show/462182.Rip_Van_Winkle?from_choice=false&amp;from_home_module=false\\\" class=\\\"readable\\\">Rip Van Winkle<\\/a><\\/h2>\\n\\n  <div>\\n    by <a href=\\\"/author/show/28525.Washington_Irving?a=7&amp;origin=related_works\\\" class=\\\"authorName\\\">Washington Irving<\\/a>\\n  <\\/div>\\n  <div class=\\\"smallText uitext darkGreyText\\\">\\n    <span class=\\\"minirating\\\"><span class=\\\"stars staticStars\\\"><a class=\\\"staticStar p10\\\" size=\\\"12x12\\\" title=\\\"3.58 of 5 stars\\\">3.58 of 5 stars<\\/a><a class=\\\"staticStar p10\\\" size=\\\"12x12\\\" title=\\\"3.58 of 5 stars\\\"><\\/a><a class=\\\"staticStar p10\\\" size=\\\"12x12\\\" title=\\\"3.58 of 5 stars\\\"><\\/a><a class=\\\"staticStar p6\\\" size=\\\"12x12\\\" title=\\\"3.58 of 5 stars\\\"><\\/a><a class=\\\"staticStar p0\\\" size=\\\"12x12\\\" title=\\\"3.58 of 5 stars\\\"><\\/a><\\/span> 3.58 avg rating &mdash; 5,458 ratings<\\/span>\\n    &mdash; published 1819\\n  <\\/div>\\n\\n    <div class=\\\"addBookTipDescription\\\">\\n      \\n<span id=\\\"freeTextContainer7965241207532396614\\\" class=\\\"elementOne\\\">Rip Van Winkle travels into the Catskill Mountains to spend the day, but somehow falls asleep and wakes up to a changed world. He had slept for 20 years! Where is his family? Find out what happened to Rip Van Winkle in this cautionary tale! Beautiful<\\/span>\\n  <span id=\\\"freeText7965241207532396614\\\" class=\\\"elementTwo\\\" style=\\\"display:none\\\">Rip Van Winkle travels into the Catskill Mountains to spend the day, but somehow falls asleep and wakes up to a changed world. He had slept for 20 years! Where is his family? Find out what happened to Rip Van Winkle in this cautionary tale! Beautifully illustrated, this classic tale will capture children\\'s interest and spark their imagination page after page, encouraging a love of reading that is vital to success in school and life! Children will find hours of entertainment in the pages of these timeless tales! Our Brighter Child\u00ae Keepsake Stories are delightfully illustrated classic stories of magic, imagination, and inspiration that will delight children again and again! Collect all of the titles in this wonderful series today! Select titles available in an English/Spanish bilingual version<\\/span>\\n  <a data-text-id=\\\"7965241207532396614\\\" href=\\\"#\\\" onclick=\\\"swapContent($(this));; return false;\\\">...more<\\/a>\\n    <\\/div>\\n\\n    <div class=\\'wtrButtonContainer wtrSignedOut\\' id=\\'20_book_462182\\'>\\n<div class=\\'wtrUp wtrLeft\\'>\\n<form accept-charset=\\\"UTF-8\\\" action=\\\"/shelf/add_to_shelf\\\" method=\\\"post\\\"><div style=\\\"margin:0;padding:0;display:inline\\\"><input name=\\\"utf8\\\" type=\\\"hidden\\\" value=\\\"&#x2713;\\\" /><input name=\\\"authenticity_token\\\" type=\\\"hidden\\\" value=\\\"RSZ6JqjbRgLijV25Q8AsyZh3tY4Vw7b3gWxBuIWzTIiByPSmOpHKHuH+uXNewgor0EpnOtRjAxvhif9QUW1v6g==\\\" /><\\/div>\\n<input id=\\\"book_id\\\" name=\\\"book_id\\\" type=\\\"hidden\\\" value=\\\"462182\\\" />\\n<input id=\\\"name\\\" name=\\\"name\\\" type=\\\"hidden\\\" value=\\\"to-read\\\" />\\n<input id=\\\"unique_id\\\" name=\\\"unique_id\\\" type=\\\"hidden\\\" value=\\\"20_book_462182\\\" />\\n<input id=\\\"wtr_new\\\" name=\\\"wtr_new\\\" type=\\\"hidden\\\" value=\\\"true\\\" />\\n<input id=\\\"from_choice\\\" name=\\\"from_choice\\\" type=\\\"hidden\\\" value=\\\"false\\\" />\\n<input id=\\\"from_search\\\" name=\\\"from_search\\\" type=\\\"hidden\\\" value=\\\"false\\\" />\\n<input id=\\\"from_home_module\\\" name=\\\"from_home_module\\\" type=\\\"hidden\\\" value=\\\"false\\\" />\\n<input class=\\\"wtrLeftUpRef\\\" id=\\\"ref\\\" name=\\\"ref\\\" type=\\\"hidden\\\" value=\\\"\\\" />\\n<input class=\\\"wtrExisting\\\" id=\\\"existing_review\\\" name=\\\"existing_review\\\" type=\\\"hidden\\\" value=\\\"false\\\" />\\n<input id=\\\"book_origin\\\" name=\\\"book_origin\\\" type=\\\"hidden\\\" value=\\\"related_works\\\" />\\n<input id=\\\"page_referrer\\\" name=\\\"page_referrer\\\" type=\\\"hidden\\\" value=\\\"https://www.goodreads.com/shelf/show/classics\\\" />\\n<input id=\\\"page_url\\\" name=\\\"page_url\\\" type=\\\"hidden\\\" value=\\\"/book/show/24583.The_Adventures_of_Tom_Sawyer\\\" />\\n<button class=\\'wtrToRead\\' type=\\'submit\\'>\\n<span class=\\'progressTrigger\\'>Want to Read<\\/span>\\n<span class=\\'progressIndicator\\'>saving\u2026<\\/span>\\n<\\/button>\\n<\\/form>\\n\\n<\\/div>\\n\\n<div class=\\'wtrRight wtrUp\\'>\\n<form accept-charset=\\\"UTF-8\\\" action=\\\"/shelf/add_to_shelf\\\" class=\\\"hiddenShelfForm\\\" method=\\\"post\\\"><div style=\\\"margin:0;padding:0;display:inline\\\"><input name=\\\"utf8\\\" type=\\\"hidden\\\" value=\\\"&#x2713;\\\" /><input name=\\\"authenticity_token\\\" type=\\\"hidden\\\" value=\\\"tgGEcvwXTM0jN75ES0onnpO9WPIJVhs3ZVJqQqXvRypy7wrybl3A0SBEWo5WSAF824CKRsj2rtsFt9SqcTFkSA==\\\" /><\\/div>\\n<input id=\\\"unique_id\\\" name=\\\"unique_id\\\" type=\\\"hidden\\\" value=\\\"20_book_462182\\\" />\\n<input id=\\\"book_id\\\" name=\\\"book_id\\\" type=\\\"hidden\\\" value=\\\"462182\\\" />\\n<input id=\\\"a\\\" name=\\\"a\\\" type=\\\"hidden\\\" />\\n<input id=\\\"name\\\" name=\\\"name\\\" type=\\\"hidden\\\" />\\n<input id=\\\"from_choice\\\" name=\\\"from_choice\\\" type=\\\"hidden\\\" value=\\\"false\\\" />\\n<input id=\\\"from_home_module\\\" name=\\\"from_home_module\\\" type=\\\"hidden\\\" value=\\\"false\\\" />\\n<input id=\\\"book_origin\\\" name=\\\"book_origin\\\" type=\\\"hidden\\\" value=\\\"related_works\\\" />\\n<input id=\\\"page_referrer\\\" name=\\\"page_referrer\\\" type=\\\"hidden\\\" value=\\\"https://www.goodreads.com/shelf/show/classics\\\" />\\n<input id=\\\"page_url\\\" name=\\\"page_url\\\" type=\\\"hidden\\\" value=\\\"/book/show/24583.The_Adventures_of_Tom_Sawyer\\\" />\\n<\\/form>\\n\\n<button class=\\'wtrShelfButton\\'><\\/button>\\n<\\/div>\\n\\n<div class=\\'ratingStars wtrRating\\'>\\n<div class=\\'starsErrorTooltip hidden\\'>\\nError rating book. Refresh and try again.\\n<\\/div>\\n<div class=\\'myRating uitext greyText\\'>Rate this book<\\/div>\\n<div class=\\'clearRating uitext\\'>Clear rating<\\/div>\\n<div class=\\\"stars\\\" data-rating=\\\"0\\\" data-resource-id=\\\"462182\\\" data-submit-url=\\\"/review/rate/462182?book_origin=related_works&page_referrer=https%3A%2F%2Fwww.goodreads.com%2Fshelf%2Fshow%2Fclassics&page_url=%2Fbook%2Fshow%2F24583.The_Adventures_of_Tom_Sawyer&rate_books_page=false&stars_click=false&wtr_button_id=20_book_462182\\\" data-user-id=\\\"0\\\"><a class=\\\"star off\\\" href=\\\"#\\\" ref=\\\"\\\" title=\\\"did not like it\\\">1 of 5 stars<\\/a><a class=\\\"star off\\\" href=\\\"#\\\" ref=\\\"\\\" title=\\\"it was ok\\\">2 of 5 stars<\\/a><a class=\\\"star off\\\" href=\\\"#\\\" ref=\\\"\\\" title=\\\"liked it\\\">3 of 5 stars<\\/a><a class=\\\"star off\\\" href=\\\"#\\\" ref=\\\"\\\" title=\\\"really liked it\\\">4 of 5 stars<\\/a><a class=\\\"star off\\\" href=\\\"#\\\" ref=\\\"\\\" title=\\\"it was amazing\\\">5 of 5 stars<\\/a><\\/div>\\n<\\/div>\\n\\n<\\/div>\\n\\n\\n\\n\", { style: 'addbook', stem: 'topRight', hook: { tip: 'topRight', target: 'bottomMiddle' }, hideOn: false, width: 400, hideAfter: 0.05, delay: 0.35 });\n",
        "      $('bookCover_462182').observe('prototip:shown', function() {\n",
        "        if (this.up('#box')) {\n",
        "          $$('div.prototip')[0].setStyle({zIndex: $('box').getStyle('z-index')});\n",
        "        } else {\n",
        "          $$('div.prototip')[0].setStyle({zIndex: 6000});\n",
        "        }\n",
        "      });\n",
        "\n",
        "      newTip['wrapper'].addClassName('prototipAllowOverflow');\n",
        "\n",
        "        $('bookCover_462182').observe('prototip:shown', function () {\n",
        "          $$('div.prototip').each(function (e) {\n",
        "            if ($('bookCover_462182').hasClassName('ignored')) {\n",
        "              e.setStyle({'display': 'none'});\n",
        "              return;\n",
        "            }\n",
        "            e.setStyle({'overflow': 'visible'});\n",
        "          });\n",
        "        });\n",
        "      $('bookCover_462182').observe('prototip:hidden', function () {\n",
        "        $$('span.elementTwo').each(function (e) {\n",
        "          if (e.getStyle('display') !== 'none') {\n",
        "            var lessLink = e.next();\n",
        "            swapContent(lessLink);\n",
        "          }\n",
        "        });\n",
        "      });\n",
        "\n",
        "//]]>\n",
        "</script>\n",
        "</li>\n",
        "<li class='cover' id='bookCover_226800'>\n",
        "<a href=\"https://www.goodreads.com/book/show/226800.The_Coral_Island\"><img alt=\"The Coral Island\" src=\"https://d.gr-assets.com/books/1343840889m/226800.jpg\" />\n",
        "</a>\n",
        "\n",
        "\n",
        "<script type=\"text/javascript\">\n",
        "//<![CDATA[\n",
        "      var newTip = new Tip($('bookCover_226800'), \"\\n\\n  <h2><a href=\\\"https://www.goodreads.com/book/show/226800.The_Coral_Island?from_choice=false&amp;from_home_module=false\\\" class=\\\"readable\\\">The Coral Island<\\/a><\\/h2>\\n\\n  <div>\\n    by <a href=\\\"/author/show/4927444.R_M_Ballantyne?a=7&amp;origin=related_works\\\" class=\\\"authorName\\\">R.M. Ballantyne<\\/a>\\n  <\\/div>\\n  <div class=\\\"smallText uitext darkGreyText\\\">\\n    <span class=\\\"minirating\\\"><span class=\\\"stars staticStars\\\"><a class=\\\"staticStar p10\\\" size=\\\"12x12\\\" title=\\\"3.69 of 5 stars\\\">3.69 of 5 stars<\\/a><a class=\\\"staticStar p10\\\" size=\\\"12x12\\\" title=\\\"3.69 of 5 stars\\\"><\\/a><a class=\\\"staticStar p10\\\" size=\\\"12x12\\\" title=\\\"3.69 of 5 stars\\\"><\\/a><a class=\\\"staticStar p6\\\" size=\\\"12x12\\\" title=\\\"3.69 of 5 stars\\\"><\\/a><a class=\\\"staticStar p0\\\" size=\\\"12x12\\\" title=\\\"3.69 of 5 stars\\\"><\\/a><\\/span> 3.69 avg rating &mdash; 1,546 ratings<\\/span>\\n    &mdash; published 1857\\n  <\\/div>\\n\\n    <div class=\\\"addBookTipDescription\\\">\\n      \\n<span id=\\\"freeTextContainer12907719388749686492\\\" class=\\\"elementOne\\\">Fifteen-year-old Ralph, mischievous young Peterkin and clever, brave Jack are shipwrecked on a coral reef with only a telescope and a broken pocketknife between them. At first the island seems a paradise, with its plentiful foods and wealth of natura<\\/span>\\n  <span id=\\\"freeText12907719388749686492\\\" class=\\\"elementTwo\\\" style=\\\"display:none\\\">Fifteen-year-old Ralph, mischievous young Peterkin and clever, brave Jack are shipwrecked on a coral reef with only a telescope and a broken pocketknife between them. At first the island seems a paradise, with its plentiful foods and wealth of natural wonders. But then a party of cannibals arrives, and after that a pirate ship...what is to become of them?\\n\\nThis edition has been specially abridged for Puffin Classics.<\\/span>\\n  <a data-text-id=\\\"12907719388749686492\\\" href=\\\"#\\\" onclick=\\\"swapContent($(this));; return false;\\\">...more<\\/a>\\n    <\\/div>\\n\\n    <div class=\\'wtrButtonContainer wtrSignedOut\\' id=\\'21_book_226800\\'>\\n<div class=\\'wtrUp wtrLeft\\'>\\n<form accept-charset=\\\"UTF-8\\\" action=\\\"/shelf/add_to_shelf\\\" method=\\\"post\\\"><div style=\\\"margin:0;padding:0;display:inline\\\"><input name=\\\"utf8\\\" type=\\\"hidden\\\" value=\\\"&#x2713;\\\" /><input name=\\\"authenticity_token\\\" type=\\\"hidden\\\" value=\\\"zrwSFhZLxjkL3Pc3WpcdTTC/ozZ5UpuxiXmW3GjG8GMKUpyWhAFKJQivE/1HlTuveIJxgrjyLl3pnCg0vBjTAQ==\\\" /><\\/div>\\n<input id=\\\"book_id\\\" name=\\\"book_id\\\" type=\\\"hidden\\\" value=\\\"226800\\\" />\\n<input id=\\\"name\\\" name=\\\"name\\\" type=\\\"hidden\\\" value=\\\"to-read\\\" />\\n<input id=\\\"unique_id\\\" name=\\\"unique_id\\\" type=\\\"hidden\\\" value=\\\"21_book_226800\\\" />\\n<input id=\\\"wtr_new\\\" name=\\\"wtr_new\\\" type=\\\"hidden\\\" value=\\\"true\\\" />\\n<input id=\\\"from_choice\\\" name=\\\"from_choice\\\" type=\\\"hidden\\\" value=\\\"false\\\" />\\n<input id=\\\"from_search\\\" name=\\\"from_search\\\" type=\\\"hidden\\\" value=\\\"false\\\" />\\n<input id=\\\"from_home_module\\\" name=\\\"from_home_module\\\" type=\\\"hidden\\\" value=\\\"false\\\" />\\n<input class=\\\"wtrLeftUpRef\\\" id=\\\"ref\\\" name=\\\"ref\\\" type=\\\"hidden\\\" value=\\\"\\\" />\\n<input class=\\\"wtrExisting\\\" id=\\\"existing_review\\\" name=\\\"existing_review\\\" type=\\\"hidden\\\" value=\\\"false\\\" />\\n<input id=\\\"book_origin\\\" name=\\\"book_origin\\\" type=\\\"hidden\\\" value=\\\"related_works\\\" />\\n<input id=\\\"page_referrer\\\" name=\\\"page_referrer\\\" type=\\\"hidden\\\" value=\\\"https://www.goodreads.com/shelf/show/classics\\\" />\\n<input id=\\\"page_url\\\" name=\\\"page_url\\\" type=\\\"hidden\\\" value=\\\"/book/show/24583.The_Adventures_of_Tom_Sawyer\\\" />\\n<button class=\\'wtrToRead\\' type=\\'submit\\'>\\n<span class=\\'progressTrigger\\'>Want to Read<\\/span>\\n<span class=\\'progressIndicator\\'>saving\u2026<\\/span>\\n<\\/button>\\n<\\/form>\\n\\n<\\/div>\\n\\n<div class=\\'wtrRight wtrUp\\'>\\n<form accept-charset=\\\"UTF-8\\\" action=\\\"/shelf/add_to_shelf\\\" class=\\\"hiddenShelfForm\\\" method=\\\"post\\\"><div style=\\\"margin:0;padding:0;display:inline\\\"><input name=\\\"utf8\\\" type=\\\"hidden\\\" value=\\\"&#x2713;\\\" /><input name=\\\"authenticity_token\\\" type=\\\"hidden\\\" value=\\\"HtRbkTMJdlT8dQReb5SbyHzbWZiXyfwDgWf46O2nPZ/aOtURoUP6SP8G4JRylr0qNOaLLFZpSe/hgkYAOXke/Q==\\\" /><\\/div>\\n<input id=\\\"unique_id\\\" name=\\\"unique_id\\\" type=\\\"hidden\\\" value=\\\"21_book_226800\\\" />\\n<input id=\\\"book_id\\\" name=\\\"book_id\\\" type=\\\"hidden\\\" value=\\\"226800\\\" />\\n<input id=\\\"a\\\" name=\\\"a\\\" type=\\\"hidden\\\" />\\n<input id=\\\"name\\\" name=\\\"name\\\" type=\\\"hidden\\\" />\\n<input id=\\\"from_choice\\\" name=\\\"from_choice\\\" type=\\\"hidden\\\" value=\\\"false\\\" />\\n<input id=\\\"from_home_module\\\" name=\\\"from_home_module\\\" type=\\\"hidden\\\" value=\\\"false\\\" />\\n<input id=\\\"book_origin\\\" name=\\\"book_origin\\\" type=\\\"hidden\\\" value=\\\"related_works\\\" />\\n<input id=\\\"page_referrer\\\" name=\\\"page_referrer\\\" type=\\\"hidden\\\" value=\\\"https://www.goodreads.com/shelf/show/classics\\\" />\\n<input id=\\\"page_url\\\" name=\\\"page_url\\\" type=\\\"hidden\\\" value=\\\"/book/show/24583.The_Adventures_of_Tom_Sawyer\\\" />\\n<\\/form>\\n\\n<button class=\\'wtrShelfButton\\'><\\/button>\\n<\\/div>\\n\\n<div class=\\'ratingStars wtrRating\\'>\\n<div class=\\'starsErrorTooltip hidden\\'>\\nError rating book. Refresh and try again.\\n<\\/div>\\n<div class=\\'myRating uitext greyText\\'>Rate this book<\\/div>\\n<div class=\\'clearRating uitext\\'>Clear rating<\\/div>\\n<div class=\\\"stars\\\" data-rating=\\\"0\\\" data-resource-id=\\\"226800\\\" data-submit-url=\\\"/review/rate/226800?book_origin=related_works&page_referrer=https%3A%2F%2Fwww.goodreads.com%2Fshelf%2Fshow%2Fclassics&page_url=%2Fbook%2Fshow%2F24583.The_Adventures_of_Tom_Sawyer&rate_books_page=false&stars_click=false&wtr_button_id=21_book_226800\\\" data-user-id=\\\"0\\\"><a class=\\\"star off\\\" href=\\\"#\\\" ref=\\\"\\\" title=\\\"did not like it\\\">1 of 5 stars<\\/a><a class=\\\"star off\\\" href=\\\"#\\\" ref=\\\"\\\" title=\\\"it was ok\\\">2 of 5 stars<\\/a><a class=\\\"star off\\\" href=\\\"#\\\" ref=\\\"\\\" title=\\\"liked it\\\">3 of 5 stars<\\/a><a class=\\\"star off\\\" href=\\\"#\\\" ref=\\\"\\\" title=\\\"really liked it\\\">4 of 5 stars<\\/a><a class=\\\"star off\\\" href=\\\"#\\\" ref=\\\"\\\" title=\\\"it was amazing\\\">5 of 5 stars<\\/a><\\/div>\\n<\\/div>\\n\\n<\\/div>\\n\\n\\n\\n\", { style: 'addbook', stem: 'topRight', hook: { tip: 'topRight', target: 'bottomMiddle' }, hideOn: false, width: 400, hideAfter: 0.05, delay: 0.35 });\n",
        "      $('bookCover_226800').observe('prototip:shown', function() {\n",
        "        if (this.up('#box')) {\n",
        "          $$('div.prototip')[0].setStyle({zIndex: $('box').getStyle('z-index')});\n",
        "        } else {\n",
        "          $$('div.prototip')[0].setStyle({zIndex: 6000});\n",
        "        }\n",
        "      });\n",
        "\n",
        "      newTip['wrapper'].addClassName('prototipAllowOverflow');\n",
        "\n",
        "        $('bookCover_226800').observe('prototip:shown', function () {\n",
        "          $$('div.prototip').each(function (e) {\n",
        "            if ($('bookCover_226800').hasClassName('ignored')) {\n",
        "              e.setStyle({'display': 'none'});\n",
        "              return;\n",
        "            }\n",
        "            e.setStyle({'overflow': 'visible'});\n",
        "          });\n",
        "        });\n",
        "      $('bookCover_226800').observe('prototip:hidden', function () {\n",
        "        $$('span.elementTwo').each(function (e) {\n",
        "          if (e.getStyle('display') !== 'none') {\n",
        "            var lessLink = e.next();\n",
        "            swapContent(lessLink);\n",
        "          }\n",
        "        });\n",
        "      });\n",
        "\n",
        "//]]>\n",
        "</script>\n",
        "</li>\n",
        "<li class='cover' id='bookCover_237699'>\n",
        "<a href=\"https://www.goodreads.com/book/show/237699.Dick_Sands_the_Boy_Captain\"><img alt=\"Dick Sands the Boy Captain (The Extraordinary Voyages #17)\" src=\"https://d.gr-assets.com/books/1298481301m/237699.jpg\" />\n",
        "</a>\n",
        "\n",
        "\n",
        "<script type=\"text/javascript\">\n",
        "//<![CDATA[\n",
        "      var newTip = new Tip($('bookCover_237699'), \"\\n\\n  <h2><a href=\\\"https://www.goodreads.com/book/show/237699.Dick_Sands_the_Boy_Captain?from_choice=false&amp;from_home_module=false\\\" class=\\\"readable\\\">Dick Sands the Boy Captain (The Extraordinary Voyages #17)<\\/a><\\/h2>\\n\\n  <div>\\n    by <a href=\\\"/author/show/696805.Jules_Verne?a=7&amp;origin=related_works\\\" class=\\\"authorName\\\">Jules Verne<\\/a>\\n  <\\/div>\\n  <div class=\\\"smallText uitext darkGreyText\\\">\\n    <span class=\\\"minirating\\\"><span class=\\\"stars staticStars\\\"><a class=\\\"staticStar p10\\\" size=\\\"12x12\\\" title=\\\"3.84 of 5 stars\\\">3.84 of 5 stars<\\/a><a class=\\\"staticStar p10\\\" size=\\\"12x12\\\" title=\\\"3.84 of 5 stars\\\"><\\/a><a class=\\\"staticStar p10\\\" size=\\\"12x12\\\" title=\\\"3.84 of 5 stars\\\"><\\/a><a class=\\\"staticStar p6\\\" size=\\\"12x12\\\" title=\\\"3.84 of 5 stars\\\"><\\/a><a class=\\\"staticStar p0\\\" size=\\\"12x12\\\" title=\\\"3.84 of 5 stars\\\"><\\/a><\\/span> 3.84 avg rating &mdash; 2,296 ratings<\\/span>\\n    &mdash; published 1878\\n  <\\/div>\\n\\n    <div class=\\\"addBookTipDescription\\\">\\n      \\n<span id=\\\"freeTextContainer3043595256235741106\\\" class=\\\"elementOne\\\">In 1878 appeared Dick Sands, the epic of the slave trade.  This picture of the wilds of Africa, its adventures and its dangers, the savage hunting both of beasts and men, has always been a favorite among Verne\\'s readers.\\n\tIt contains no marvels, no inv<\\/span>\\n  <span id=\\\"freeText3043595256235741106\\\" class=\\\"elementTwo\\\" style=\\\"display:none\\\">In 1878 appeared Dick Sands, the epic of the slave trade.  This picture of the wilds of Africa, its adventures and its dangers, the savage hunting both of beasts and men, has always been a favorite among Verne\\'s readers.\\n\tIt contains no marvels, no inventions, but merely, amid stirring scenes and actions seeks to convey two truthful impressions.  One is the traveler\\'s teaching the geographical information, the picture of Africa as explorers, botanists, and zoologists have found it.  The other is the moral lesson of the awful curse of slavery, its brutalizing, horrible influence upon all who come in touch with it, and the absolutely devastating effect it has had upon Africa itself.<\\/span>\\n  <a data-text-id=\\\"3043595256235741106\\\" href=\\\"#\\\" onclick=\\\"swapContent($(this));; return false;\\\">...more<\\/a>\\n    <\\/div>\\n\\n    <div class=\\'wtrButtonContainer wtrSignedOut\\' id=\\'22_book_237699\\'>\\n<div class=\\'wtrUp wtrLeft\\'>\\n<form accept-charset=\\\"UTF-8\\\" action=\\\"/shelf/add_to_shelf\\\" method=\\\"post\\\"><div style=\\\"margin:0;padding:0;display:inline\\\"><input name=\\\"utf8\\\" type=\\\"hidden\\\" value=\\\"&#x2713;\\\" /><input name=\\\"authenticity_token\\\" type=\\\"hidden\\\" value=\\\"tUbJSVYK+6xeudYJBnupTZPFikRXoZ9vBmGlVoYE5UxxqEfJxEB3sF3KMsMbeY+v2/hY8JYBKoNmhBu+UtrGLg==\\\" /><\\/div>\\n<input id=\\\"book_id\\\" name=\\\"book_id\\\" type=\\\"hidden\\\" value=\\\"237699\\\" />\\n<input id=\\\"name\\\" name=\\\"name\\\" type=\\\"hidden\\\" value=\\\"to-read\\\" />\\n<input id=\\\"unique_id\\\" name=\\\"unique_id\\\" type=\\\"hidden\\\" value=\\\"22_book_237699\\\" />\\n<input id=\\\"wtr_new\\\" name=\\\"wtr_new\\\" type=\\\"hidden\\\" value=\\\"true\\\" />\\n<input id=\\\"from_choice\\\" name=\\\"from_choice\\\" type=\\\"hidden\\\" value=\\\"false\\\" />\\n<input id=\\\"from_search\\\" name=\\\"from_search\\\" type=\\\"hidden\\\" value=\\\"false\\\" />\\n<input id=\\\"from_home_module\\\" name=\\\"from_home_module\\\" type=\\\"hidden\\\" value=\\\"false\\\" />\\n<input class=\\\"wtrLeftUpRef\\\" id=\\\"ref\\\" name=\\\"ref\\\" type=\\\"hidden\\\" value=\\\"\\\" />\\n<input class=\\\"wtrExisting\\\" id=\\\"existing_review\\\" name=\\\"existing_review\\\" type=\\\"hidden\\\" value=\\\"false\\\" />\\n<input id=\\\"book_origin\\\" name=\\\"book_origin\\\" type=\\\"hidden\\\" value=\\\"related_works\\\" />\\n<input id=\\\"page_referrer\\\" name=\\\"page_referrer\\\" type=\\\"hidden\\\" value=\\\"https://www.goodreads.com/shelf/show/classics\\\" />\\n<input id=\\\"page_url\\\" name=\\\"page_url\\\" type=\\\"hidden\\\" value=\\\"/book/show/24583.The_Adventures_of_Tom_Sawyer\\\" />\\n<button class=\\'wtrToRead\\' type=\\'submit\\'>\\n<span class=\\'progressTrigger\\'>Want to Read<\\/span>\\n<span class=\\'progressIndicator\\'>saving\u2026<\\/span>\\n<\\/button>\\n<\\/form>\\n\\n<\\/div>\\n\\n<div class=\\'wtrRight wtrUp\\'>\\n<form accept-charset=\\\"UTF-8\\\" action=\\\"/shelf/add_to_shelf\\\" class=\\\"hiddenShelfForm\\\" method=\\\"post\\\"><div style=\\\"margin:0;padding:0;display:inline\\\"><input name=\\\"utf8\\\" type=\\\"hidden\\\" value=\\\"&#x2713;\\\" /><input name=\\\"authenticity_token\\\" type=\\\"hidden\\\" value=\\\"2NP8iNtY2Xk14GLUCGZcA3+/U1Q7Dm/pQ60Br2/ozUscPXIISRJVZTaThh4VZHrhN4KB4Pqu2gUjSL9HuzbuKQ==\\\" /><\\/div>\\n<input id=\\\"unique_id\\\" name=\\\"unique_id\\\" type=\\\"hidden\\\" value=\\\"22_book_237699\\\" />\\n<input id=\\\"book_id\\\" name=\\\"book_id\\\" type=\\\"hidden\\\" value=\\\"237699\\\" />\\n<input id=\\\"a\\\" name=\\\"a\\\" type=\\\"hidden\\\" />\\n<input id=\\\"name\\\" name=\\\"name\\\" type=\\\"hidden\\\" />\\n<input id=\\\"from_choice\\\" name=\\\"from_choice\\\" type=\\\"hidden\\\" value=\\\"false\\\" />\\n<input id=\\\"from_home_module\\\" name=\\\"from_home_module\\\" type=\\\"hidden\\\" value=\\\"false\\\" />\\n<input id=\\\"book_origin\\\" name=\\\"book_origin\\\" type=\\\"hidden\\\" value=\\\"related_works\\\" />\\n<input id=\\\"page_referrer\\\" name=\\\"page_referrer\\\" type=\\\"hidden\\\" value=\\\"https://www.goodreads.com/shelf/show/classics\\\" />\\n<input id=\\\"page_url\\\" name=\\\"page_url\\\" type=\\\"hidden\\\" value=\\\"/book/show/24583.The_Adventures_of_Tom_Sawyer\\\" />\\n<\\/form>\\n\\n<button class=\\'wtrShelfButton\\'><\\/button>\\n<\\/div>\\n\\n<div class=\\'ratingStars wtrRating\\'>\\n<div class=\\'starsErrorTooltip hidden\\'>\\nError rating book. Refresh and try again.\\n<\\/div>\\n<div class=\\'myRating uitext greyText\\'>Rate this book<\\/div>\\n<div class=\\'clearRating uitext\\'>Clear rating<\\/div>\\n<div class=\\\"stars\\\" data-rating=\\\"0\\\" data-resource-id=\\\"237699\\\" data-submit-url=\\\"/review/rate/237699?book_origin=related_works&page_referrer=https%3A%2F%2Fwww.goodreads.com%2Fshelf%2Fshow%2Fclassics&page_url=%2Fbook%2Fshow%2F24583.The_Adventures_of_Tom_Sawyer&rate_books_page=false&stars_click=false&wtr_button_id=22_book_237699\\\" data-user-id=\\\"0\\\"><a class=\\\"star off\\\" href=\\\"#\\\" ref=\\\"\\\" title=\\\"did not like it\\\">1 of 5 stars<\\/a><a class=\\\"star off\\\" href=\\\"#\\\" ref=\\\"\\\" title=\\\"it was ok\\\">2 of 5 stars<\\/a><a class=\\\"star off\\\" href=\\\"#\\\" ref=\\\"\\\" title=\\\"liked it\\\">3 of 5 stars<\\/a><a class=\\\"star off\\\" href=\\\"#\\\" ref=\\\"\\\" title=\\\"really liked it\\\">4 of 5 stars<\\/a><a class=\\\"star off\\\" href=\\\"#\\\" ref=\\\"\\\" title=\\\"it was amazing\\\">5 of 5 stars<\\/a><\\/div>\\n<\\/div>\\n\\n<\\/div>\\n\\n\\n\\n\", { style: 'addbook', stem: 'topRight', hook: { tip: 'topRight', target: 'bottomMiddle' }, hideOn: false, width: 400, hideAfter: 0.05, delay: 0.35 });\n",
        "      $('bookCover_237699').observe('prototip:shown', function() {\n",
        "        if (this.up('#box')) {\n",
        "          $$('div.prototip')[0].setStyle({zIndex: $('box').getStyle('z-index')});\n",
        "        } else {\n",
        "          $$('div.prototip')[0].setStyle({zIndex: 6000});\n",
        "        }\n",
        "      });\n",
        "\n",
        "      newTip['wrapper'].addClassName('prototipAllowOverflow');\n",
        "\n",
        "        $('bookCover_237699').observe('prototip:shown', function () {\n",
        "          $$('div.prototip').each(function (e) {\n",
        "            if ($('bookCover_237699').hasClassName('ignored')) {\n",
        "              e.setStyle({'display': 'none'});\n",
        "              return;\n",
        "            }\n",
        "            e.setStyle({'overflow': 'visible'});\n",
        "          });\n",
        "        });\n",
        "      $('bookCover_237699').observe('prototip:hidden', function () {\n",
        "        $$('span.elementTwo').each(function (e) {\n",
        "          if (e.getStyle('display') !== 'none') {\n",
        "            var lessLink = e.next();\n",
        "            swapContent(lessLink);\n",
        "          }\n",
        "        });\n",
        "      });\n",
        "\n",
        "//]]>\n",
        "</script>\n",
        "</li>\n",
        "<li class='cover' id='bookCover_576335'>\n",
        "<a href=\"https://www.goodreads.com/book/show/576335.Chitty_Chitty_Bang_Bang\"><img alt=\"Chitty Chitty Bang Bang\" src=\"https://d.gr-assets.com/books/1175950916m/576335.jpg\" />\n",
        "</a>\n",
        "\n",
        "\n",
        "<script type=\"text/javascript\">\n",
        "//<![CDATA[\n",
        "      var newTip = new Tip($('bookCover_576335'), \"\\n\\n  <h2><a href=\\\"https://www.goodreads.com/book/show/576335.Chitty_Chitty_Bang_Bang?from_choice=false&amp;from_home_module=false\\\" class=\\\"readable\\\">Chitty Chitty Bang Bang<\\/a><\\/h2>\\n\\n  <div>\\n    by <a href=\\\"/author/show/2565.Ian_Fleming?a=7&amp;origin=related_works\\\" class=\\\"authorName\\\">Ian Fleming<\\/a>\\n  <\\/div>\\n  <div class=\\\"smallText uitext darkGreyText\\\">\\n    <span class=\\\"minirating\\\"><span class=\\\"stars staticStars\\\"><a class=\\\"staticStar p10\\\" size=\\\"12x12\\\" title=\\\"3.95 of 5 stars\\\">3.95 of 5 stars<\\/a><a class=\\\"staticStar p10\\\" size=\\\"12x12\\\" title=\\\"3.95 of 5 stars\\\"><\\/a><a class=\\\"staticStar p10\\\" size=\\\"12x12\\\" title=\\\"3.95 of 5 stars\\\"><\\/a><a class=\\\"staticStar p6\\\" size=\\\"12x12\\\" title=\\\"3.95 of 5 stars\\\"><\\/a><a class=\\\"staticStar p0\\\" size=\\\"12x12\\\" title=\\\"3.95 of 5 stars\\\"><\\/a><\\/span> 3.95 avg rating &mdash; 6,484 ratings<\\/span>\\n    &mdash; published 1964\\n  <\\/div>\\n\\n    <div class=\\\"addBookTipDescription\\\">\\n      \\n<span id=\\\"freeTextContainer4984809763770663525\\\" class=\\\"elementOne\\\">Ian Fleming, best known for his James Bond novels, wrote only one children\u2019s book\u2014and it is a classic! Chitty Chitty Bang Bang is the name of the flying, floating, driving-by-itself automobile that takes the Pott family on a riotous series of adventu<\\/span>\\n  <span id=\\\"freeText4984809763770663525\\\" class=\\\"elementTwo\\\" style=\\\"display:none\\\">Ian Fleming, best known for his James Bond novels, wrote only one children\u2019s book\u2014and it is a classic! Chitty Chitty Bang Bang is the name of the flying, floating, driving-by-itself automobile that takes the Pott family on a riotous series of adventures as they try to capture a notorious gang of robbers. This is a story filled with humor, adventure, and gadgetry that only a genius like Fleming could create.From the Hardcover edition.<\\/span>\\n  <a data-text-id=\\\"4984809763770663525\\\" href=\\\"#\\\" onclick=\\\"swapContent($(this));; return false;\\\">...more<\\/a>\\n    <\\/div>\\n\\n    <div class=\\'wtrButtonContainer wtrSignedOut\\' id=\\'23_book_576335\\'>\\n<div class=\\'wtrUp wtrLeft\\'>\\n<form accept-charset=\\\"UTF-8\\\" action=\\\"/shelf/add_to_shelf\\\" method=\\\"post\\\"><div style=\\\"margin:0;padding:0;display:inline\\\"><input name=\\\"utf8\\\" type=\\\"hidden\\\" value=\\\"&#x2713;\\\" /><input name=\\\"authenticity_token\\\" type=\\\"hidden\\\" value=\\\"kSFuPkJK5HtYoPT8zrZPDork4KLnbFZv+C0KYGFCcBtVz+C+0ABoZ1vTEDbTtGnswtkyFibM44OYyLSItZxTeQ==\\\" /><\\/div>\\n<input id=\\\"book_id\\\" name=\\\"book_id\\\" type=\\\"hidden\\\" value=\\\"576335\\\" />\\n<input id=\\\"name\\\" name=\\\"name\\\" type=\\\"hidden\\\" value=\\\"to-read\\\" />\\n<input id=\\\"unique_id\\\" name=\\\"unique_id\\\" type=\\\"hidden\\\" value=\\\"23_book_576335\\\" />\\n<input id=\\\"wtr_new\\\" name=\\\"wtr_new\\\" type=\\\"hidden\\\" value=\\\"true\\\" />\\n<input id=\\\"from_choice\\\" name=\\\"from_choice\\\" type=\\\"hidden\\\" value=\\\"false\\\" />\\n<input id=\\\"from_search\\\" name=\\\"from_search\\\" type=\\\"hidden\\\" value=\\\"false\\\" />\\n<input id=\\\"from_home_module\\\" name=\\\"from_home_module\\\" type=\\\"hidden\\\" value=\\\"false\\\" />\\n<input class=\\\"wtrLeftUpRef\\\" id=\\\"ref\\\" name=\\\"ref\\\" type=\\\"hidden\\\" value=\\\"\\\" />\\n<input class=\\\"wtrExisting\\\" id=\\\"existing_review\\\" name=\\\"existing_review\\\" type=\\\"hidden\\\" value=\\\"false\\\" />\\n<input id=\\\"book_origin\\\" name=\\\"book_origin\\\" type=\\\"hidden\\\" value=\\\"related_works\\\" />\\n<input id=\\\"page_referrer\\\" name=\\\"page_referrer\\\" type=\\\"hidden\\\" value=\\\"https://www.goodreads.com/shelf/show/classics\\\" />\\n<input id=\\\"page_url\\\" name=\\\"page_url\\\" type=\\\"hidden\\\" value=\\\"/book/show/24583.The_Adventures_of_Tom_Sawyer\\\" />\\n<button class=\\'wtrToRead\\' type=\\'submit\\'>\\n<span class=\\'progressTrigger\\'>Want to Read<\\/span>\\n<span class=\\'progressIndicator\\'>saving\u2026<\\/span>\\n<\\/button>\\n<\\/form>\\n\\n<\\/div>\\n\\n<div class=\\'wtrRight wtrUp\\'>\\n<form accept-charset=\\\"UTF-8\\\" action=\\\"/shelf/add_to_shelf\\\" class=\\\"hiddenShelfForm\\\" method=\\\"post\\\"><div style=\\\"margin:0;padding:0;display:inline\\\"><input name=\\\"utf8\\\" type=\\\"hidden\\\" value=\\\"&#x2713;\\\" /><input name=\\\"authenticity_token\\\" type=\\\"hidden\\\" value=\\\"7fYLw3p1r78PRKD7HQa+jTcdmThQrQ6dG7W/yamGELApGIVD6D8joww3RDEABJhvfyBLjJENu3F7UAEhfVgz0g==\\\" /><\\/div>\\n<input id=\\\"unique_id\\\" name=\\\"unique_id\\\" type=\\\"hidden\\\" value=\\\"23_book_576335\\\" />\\n<input id=\\\"book_id\\\" name=\\\"book_id\\\" type=\\\"hidden\\\" value=\\\"576335\\\" />\\n<input id=\\\"a\\\" name=\\\"a\\\" type=\\\"hidden\\\" />\\n<input id=\\\"name\\\" name=\\\"name\\\" type=\\\"hidden\\\" />\\n<input id=\\\"from_choice\\\" name=\\\"from_choice\\\" type=\\\"hidden\\\" value=\\\"false\\\" />\\n<input id=\\\"from_home_module\\\" name=\\\"from_home_module\\\" type=\\\"hidden\\\" value=\\\"false\\\" />\\n<input id=\\\"book_origin\\\" name=\\\"book_origin\\\" type=\\\"hidden\\\" value=\\\"related_works\\\" />\\n<input id=\\\"page_referrer\\\" name=\\\"page_referrer\\\" type=\\\"hidden\\\" value=\\\"https://www.goodreads.com/shelf/show/classics\\\" />\\n<input id=\\\"page_url\\\" name=\\\"page_url\\\" type=\\\"hidden\\\" value=\\\"/book/show/24583.The_Adventures_of_Tom_Sawyer\\\" />\\n<\\/form>\\n\\n<button class=\\'wtrShelfButton\\'><\\/button>\\n<\\/div>\\n\\n<div class=\\'ratingStars wtrRating\\'>\\n<div class=\\'starsErrorTooltip hidden\\'>\\nError rating book. Refresh and try again.\\n<\\/div>\\n<div class=\\'myRating uitext greyText\\'>Rate this book<\\/div>\\n<div class=\\'clearRating uitext\\'>Clear rating<\\/div>\\n<div class=\\\"stars\\\" data-rating=\\\"0\\\" data-resource-id=\\\"576335\\\" data-submit-url=\\\"/review/rate/576335?book_origin=related_works&page_referrer=https%3A%2F%2Fwww.goodreads.com%2Fshelf%2Fshow%2Fclassics&page_url=%2Fbook%2Fshow%2F24583.The_Adventures_of_Tom_Sawyer&rate_books_page=false&stars_click=false&wtr_button_id=23_book_576335\\\" data-user-id=\\\"0\\\"><a class=\\\"star off\\\" href=\\\"#\\\" ref=\\\"\\\" title=\\\"did not like it\\\">1 of 5 stars<\\/a><a class=\\\"star off\\\" href=\\\"#\\\" ref=\\\"\\\" title=\\\"it was ok\\\">2 of 5 stars<\\/a><a class=\\\"star off\\\" href=\\\"#\\\" ref=\\\"\\\" title=\\\"liked it\\\">3 of 5 stars<\\/a><a class=\\\"star off\\\" href=\\\"#\\\" ref=\\\"\\\" title=\\\"really liked it\\\">4 of 5 stars<\\/a><a class=\\\"star off\\\" href=\\\"#\\\" ref=\\\"\\\" title=\\\"it was amazing\\\">5 of 5 stars<\\/a><\\/div>\\n<\\/div>\\n\\n<\\/div>\\n\\n\\n\\n\", { style: 'addbook', stem: 'topRight', hook: { tip: 'topRight', target: 'bottomMiddle' }, hideOn: false, width: 400, hideAfter: 0.05, delay: 0.35 });\n",
        "      $('bookCover_576335').observe('prototip:shown', function() {\n",
        "        if (this.up('#box')) {\n",
        "          $$('div.prototip')[0].setStyle({zIndex: $('box').getStyle('z-index')});\n",
        "        } else {\n",
        "          $$('div.prototip')[0].setStyle({zIndex: 6000});\n",
        "        }\n",
        "      });\n",
        "\n",
        "      newTip['wrapper'].addClassName('prototipAllowOverflow');\n",
        "\n",
        "        $('bookCover_576335').observe('prototip:shown', function () {\n",
        "          $$('div.prototip').each(function (e) {\n",
        "            if ($('bookCover_576335').hasClassName('ignored')) {\n",
        "              e.setStyle({'display': 'none'});\n",
        "              return;\n",
        "            }\n",
        "            e.setStyle({'overflow': 'visible'});\n",
        "          });\n",
        "        });\n",
        "      $('bookCover_576335').observe('prototip:hidden', function () {\n",
        "        $$('span.elementTwo').each(function (e) {\n",
        "          if (e.getStyle('display') !== 'none') {\n",
        "            var lessLink = e.next();\n",
        "            swapContent(lessLink);\n",
        "          }\n",
        "        });\n",
        "      });\n",
        "\n",
        "//]]>\n",
        "</script>\n",
        "</li>\n",
        "<li class='cover' id='bookCover_93008'>\n",
        "<a href=\"https://www.goodreads.com/book/show/93008.The_Adventures_of_Robin_Hood\"><img alt=\"The Adventures of Robin Hood\" src=\"https://d.gr-assets.com/books/1309207327m/93008.jpg\" />\n",
        "</a>\n",
        "\n",
        "\n",
        "<script type=\"text/javascript\">\n",
        "//<![CDATA[\n",
        "      var newTip = new Tip($('bookCover_93008'), \"\\n\\n  <h2><a href=\\\"https://www.goodreads.com/book/show/93008.The_Adventures_of_Robin_Hood?from_choice=false&amp;from_home_module=false\\\" class=\\\"readable\\\">The Adventures of Robin Hood<\\/a><\\/h2>\\n\\n  <div>\\n    by <a href=\\\"/author/show/13867.Roger_Lancelyn_Green?a=7&amp;origin=related_works\\\" class=\\\"authorName\\\">Roger Lancelyn Green<\\/a>\\n  <\\/div>\\n  <div class=\\\"smallText uitext darkGreyText\\\">\\n    <span class=\\\"minirating\\\"><span class=\\\"stars staticStars\\\"><a class=\\\"staticStar p10\\\" size=\\\"12x12\\\" title=\\\"4.06 of 5 stars\\\">4.06 of 5 stars<\\/a><a class=\\\"staticStar p10\\\" size=\\\"12x12\\\" title=\\\"4.06 of 5 stars\\\"><\\/a><a class=\\\"staticStar p10\\\" size=\\\"12x12\\\" title=\\\"4.06 of 5 stars\\\"><\\/a><a class=\\\"staticStar p10\\\" size=\\\"12x12\\\" title=\\\"4.06 of 5 stars\\\"><\\/a><a class=\\\"staticStar p3\\\" size=\\\"12x12\\\" title=\\\"4.06 of 5 stars\\\"><\\/a><\\/span> 4.06 avg rating &mdash; 6,760 ratings<\\/span>\\n    &mdash; published 1956\\n  <\\/div>\\n\\n    <div class=\\\"addBookTipDescription\\\">\\n      \\n<span id=\\\"freeTextContainer9492182108652030969\\\" class=\\\"elementOne\\\">Robin Hood is champion of the poor and oppressed against the cruel power of Prince John and the brutal Sheriff of Nottingham. He takes refuge with his Merrie Men in the vast Sherwood Forest, emerging time and again to outwit his enemies with daring a<\\/span>\\n  <span id=\\\"freeText9492182108652030969\\\" class=\\\"elementTwo\\\" style=\\\"display:none\\\">Robin Hood is champion of the poor and oppressed against the cruel power of Prince John and the brutal Sheriff of Nottingham. He takes refuge with his Merrie Men in the vast Sherwood Forest, emerging time and again to outwit his enemies with daring and panache. This classic version brings sense and clarity as well as excitement to the varied myths, ballads and legends about Robin\\'s adventures.<\\/span>\\n  <a data-text-id=\\\"9492182108652030969\\\" href=\\\"#\\\" onclick=\\\"swapContent($(this));; return false;\\\">...more<\\/a>\\n    <\\/div>\\n\\n    <div class=\\'wtrButtonContainer wtrSignedOut\\' id=\\'24_book_93008\\'>\\n<div class=\\'wtrUp wtrLeft\\'>\\n<form accept-charset=\\\"UTF-8\\\" action=\\\"/shelf/add_to_shelf\\\" method=\\\"post\\\"><div style=\\\"margin:0;padding:0;display:inline\\\"><input name=\\\"utf8\\\" type=\\\"hidden\\\" value=\\\"&#x2713;\\\" /><input name=\\\"authenticity_token\\\" type=\\\"hidden\\\" value=\\\"D/PwUFqPZprQmgUDcgvniW2yPcR8sbNqVNR5KvrjQO/LHX7QyMXqhtPp4clvCcFrJY/vcL0RBoY0McfCLj1jjQ==\\\" /><\\/div>\\n<input id=\\\"book_id\\\" name=\\\"book_id\\\" type=\\\"hidden\\\" value=\\\"93008\\\" />\\n<input id=\\\"name\\\" name=\\\"name\\\" type=\\\"hidden\\\" value=\\\"to-read\\\" />\\n<input id=\\\"unique_id\\\" name=\\\"unique_id\\\" type=\\\"hidden\\\" value=\\\"24_book_93008\\\" />\\n<input id=\\\"wtr_new\\\" name=\\\"wtr_new\\\" type=\\\"hidden\\\" value=\\\"true\\\" />\\n<input id=\\\"from_choice\\\" name=\\\"from_choice\\\" type=\\\"hidden\\\" value=\\\"false\\\" />\\n<input id=\\\"from_search\\\" name=\\\"from_search\\\" type=\\\"hidden\\\" value=\\\"false\\\" />\\n<input id=\\\"from_home_module\\\" name=\\\"from_home_module\\\" type=\\\"hidden\\\" value=\\\"false\\\" />\\n<input class=\\\"wtrLeftUpRef\\\" id=\\\"ref\\\" name=\\\"ref\\\" type=\\\"hidden\\\" value=\\\"\\\" />\\n<input class=\\\"wtrExisting\\\" id=\\\"existing_review\\\" name=\\\"existing_review\\\" type=\\\"hidden\\\" value=\\\"false\\\" />\\n<input id=\\\"book_origin\\\" name=\\\"book_origin\\\" type=\\\"hidden\\\" value=\\\"related_works\\\" />\\n<input id=\\\"page_referrer\\\" name=\\\"page_referrer\\\" type=\\\"hidden\\\" value=\\\"https://www.goodreads.com/shelf/show/classics\\\" />\\n<input id=\\\"page_url\\\" name=\\\"page_url\\\" type=\\\"hidden\\\" value=\\\"/book/show/24583.The_Adventures_of_Tom_Sawyer\\\" />\\n<button class=\\'wtrToRead\\' type=\\'submit\\'>\\n<span class=\\'progressTrigger\\'>Want to Read<\\/span>\\n<span class=\\'progressIndicator\\'>saving\u2026<\\/span>\\n<\\/button>\\n<\\/form>\\n\\n<\\/div>\\n\\n<div class=\\'wtrRight wtrUp\\'>\\n<form accept-charset=\\\"UTF-8\\\" action=\\\"/shelf/add_to_shelf\\\" class=\\\"hiddenShelfForm\\\" method=\\\"post\\\"><div style=\\\"margin:0;padding:0;display:inline\\\"><input name=\\\"utf8\\\" type=\\\"hidden\\\" value=\\\"&#x2713;\\\" /><input name=\\\"authenticity_token\\\" type=\\\"hidden\\\" value=\\\"CpmvbgBYhAcHTMwmDZaYheByenuX7S0BLvAqUsWDkA3OdyHukhIIGwQ/KOwQlL5nqE+oz1ZNmO1OFZS6EV2zbw==\\\" /><\\/div>\\n<input id=\\\"unique_id\\\" name=\\\"unique_id\\\" type=\\\"hidden\\\" value=\\\"24_book_93008\\\" />\\n<input id=\\\"book_id\\\" name=\\\"book_id\\\" type=\\\"hidden\\\" value=\\\"93008\\\" />\\n<input id=\\\"a\\\" name=\\\"a\\\" type=\\\"hidden\\\" />\\n<input id=\\\"name\\\" name=\\\"name\\\" type=\\\"hidden\\\" />\\n<input id=\\\"from_choice\\\" name=\\\"from_choice\\\" type=\\\"hidden\\\" value=\\\"false\\\" />\\n<input id=\\\"from_home_module\\\" name=\\\"from_home_module\\\" type=\\\"hidden\\\" value=\\\"false\\\" />\\n<input id=\\\"book_origin\\\" name=\\\"book_origin\\\" type=\\\"hidden\\\" value=\\\"related_works\\\" />\\n<input id=\\\"page_referrer\\\" name=\\\"page_referrer\\\" type=\\\"hidden\\\" value=\\\"https://www.goodreads.com/shelf/show/classics\\\" />\\n<input id=\\\"page_url\\\" name=\\\"page_url\\\" type=\\\"hidden\\\" value=\\\"/book/show/24583.The_Adventures_of_Tom_Sawyer\\\" />\\n<\\/form>\\n\\n<button class=\\'wtrShelfButton\\'><\\/button>\\n<\\/div>\\n\\n<div class=\\'ratingStars wtrRating\\'>\\n<div class=\\'starsErrorTooltip hidden\\'>\\nError rating book. Refresh and try again.\\n<\\/div>\\n<div class=\\'myRating uitext greyText\\'>Rate this book<\\/div>\\n<div class=\\'clearRating uitext\\'>Clear rating<\\/div>\\n<div class=\\\"stars\\\" data-rating=\\\"0\\\" data-resource-id=\\\"93008\\\" data-submit-url=\\\"/review/rate/93008?book_origin=related_works&page_referrer=https%3A%2F%2Fwww.goodreads.com%2Fshelf%2Fshow%2Fclassics&page_url=%2Fbook%2Fshow%2F24583.The_Adventures_of_Tom_Sawyer&rate_books_page=false&stars_click=false&wtr_button_id=24_book_93008\\\" data-user-id=\\\"0\\\"><a class=\\\"star off\\\" href=\\\"#\\\" ref=\\\"\\\" title=\\\"did not like it\\\">1 of 5 stars<\\/a><a class=\\\"star off\\\" href=\\\"#\\\" ref=\\\"\\\" title=\\\"it was ok\\\">2 of 5 stars<\\/a><a class=\\\"star off\\\" href=\\\"#\\\" ref=\\\"\\\" title=\\\"liked it\\\">3 of 5 stars<\\/a><a class=\\\"star off\\\" href=\\\"#\\\" ref=\\\"\\\" title=\\\"really liked it\\\">4 of 5 stars<\\/a><a class=\\\"star off\\\" href=\\\"#\\\" ref=\\\"\\\" title=\\\"it was amazing\\\">5 of 5 stars<\\/a><\\/div>\\n<\\/div>\\n\\n<\\/div>\\n\\n\\n\\n\", { style: 'addbook', stem: 'topRight', hook: { tip: 'topRight', target: 'bottomMiddle' }, hideOn: false, width: 400, hideAfter: 0.05, delay: 0.35 });\n",
        "      $('bookCover_93008').observe('prototip:shown', function() {\n",
        "        if (this.up('#box')) {\n",
        "          $$('div.prototip')[0].setStyle({zIndex: $('box').getStyle('z-index')});\n",
        "        } else {\n",
        "          $$('div.prototip')[0].setStyle({zIndex: 6000});\n",
        "        }\n",
        "      });\n",
        "\n",
        "      newTip['wrapper'].addClassName('prototipAllowOverflow');\n",
        "\n",
        "        $('bookCover_93008').observe('prototip:shown', function () {\n",
        "          $$('div.prototip').each(function (e) {\n",
        "            if ($('bookCover_93008').hasClassName('ignored')) {\n",
        "              e.setStyle({'display': 'none'});\n",
        "              return;\n",
        "            }\n",
        "            e.setStyle({'overflow': 'visible'});\n",
        "          });\n",
        "        });\n",
        "      $('bookCover_93008').observe('prototip:hidden', function () {\n",
        "        $$('span.elementTwo').each(function (e) {\n",
        "          if (e.getStyle('display') !== 'none') {\n",
        "            var lessLink = e.next();\n",
        "            swapContent(lessLink);\n",
        "          }\n",
        "        });\n",
        "      });\n",
        "\n",
        "//]]>\n",
        "</script>\n",
        "</li>\n",
        "<li class='cover' id='bookCover_67270'>\n",
        "<a href=\"https://www.goodreads.com/book/show/67270.Emil_and_the_Detectives\"><img alt=\"Emil and the Detectives\" src=\"https://d.gr-assets.com/books/1347878822m/67270.jpg\" />\n",
        "</a>\n",
        "\n",
        "\n",
        "<script type=\"text/javascript\">\n",
        "//<![CDATA[\n",
        "      var newTip = new Tip($('bookCover_67270'), \"\\n\\n  <h2><a href=\\\"https://www.goodreads.com/book/show/67270.Emil_and_the_Detectives?from_choice=false&amp;from_home_module=false\\\" class=\\\"readable\\\">Emil and the Detectives<\\/a><\\/h2>\\n\\n  <div>\\n    by <a href=\\\"/author/show/6519.Erich_K_stner?a=7&amp;origin=related_works\\\" class=\\\"authorName\\\">Erich K\u00e4stner<\\/a>\\n  <\\/div>\\n  <div class=\\\"smallText uitext darkGreyText\\\">\\n    <span class=\\\"minirating\\\"><span class=\\\"stars staticStars\\\"><a class=\\\"staticStar p10\\\" size=\\\"12x12\\\" title=\\\"3.9 of 5 stars\\\">3.9 of 5 stars<\\/a><a class=\\\"staticStar p10\\\" size=\\\"12x12\\\" title=\\\"3.9 of 5 stars\\\"><\\/a><a class=\\\"staticStar p10\\\" size=\\\"12x12\\\" title=\\\"3.9 of 5 stars\\\"><\\/a><a class=\\\"staticStar p6\\\" size=\\\"12x12\\\" title=\\\"3.9 of 5 stars\\\"><\\/a><a class=\\\"staticStar p0\\\" size=\\\"12x12\\\" title=\\\"3.9 of 5 stars\\\"><\\/a><\\/span> 3.90 avg rating &mdash; 3,669 ratings<\\/span>\\n    &mdash; published 1929\\n  <\\/div>\\n\\n    <div class=\\\"addBookTipDescription\\\">\\n      \\n<span id=\\\"freeTextContainer7340114648648421880\\\" class=\\\"elementOne\\\">If Mrs Tischbein had known the amazing adventures her son Emil would have in Berlin, she\\'d never have let him go.\\n\\n\\n\\n\\n\\nUnfortunately, when his seven pounds goes missing on the train, Emil is determined to get it back - and when he teams up with the detecti<\\/span>\\n  <span id=\\\"freeText7340114648648421880\\\" class=\\\"elementTwo\\\" style=\\\"display:none\\\">If Mrs Tischbein had known the amazing adventures her son Emil would have in Berlin, she\\'d never have let him go.\\n\\n\\n\\n\\n\\nUnfortunately, when his seven pounds goes missing on the train, Emil is determined to get it back - and when he teams up with the detectives he meets in Berlin, it\\'s just the start of a marvellous money-retrieving adventure . . .\\n\\n\\n\\n\\n\\nA classic and influential story, Emil and the Detectives remains an enthralling read.\\n\\n\\n\\n\\n\\nFrom November 16th 2013, an exciting new adaptation of Emil and the Detectives will be playing at the National Theatre in London. <\\/span>\\n  <a data-text-id=\\\"7340114648648421880\\\" href=\\\"#\\\" onclick=\\\"swapContent($(this));; return false;\\\">...more<\\/a>\\n    <\\/div>\\n\\n    <div class=\\'wtrButtonContainer wtrSignedOut\\' id=\\'25_book_67270\\'>\\n<div class=\\'wtrUp wtrLeft\\'>\\n<form accept-charset=\\\"UTF-8\\\" action=\\\"/shelf/add_to_shelf\\\" method=\\\"post\\\"><div style=\\\"margin:0;padding:0;display:inline\\\"><input name=\\\"utf8\\\" type=\\\"hidden\\\" value=\\\"&#x2713;\\\" /><input name=\\\"authenticity_token\\\" type=\\\"hidden\\\" value=\\\"WtC+6PbgJHWHCHsmqShywM9zFOmdaKZvwuEAXWnuy+yePjBoZKqoaYR7n+y0KlQih07GXVzIE4OiBL61vTDojg==\\\" /><\\/div>\\n<input id=\\\"book_id\\\" name=\\\"book_id\\\" type=\\\"hidden\\\" value=\\\"67270\\\" />\\n<input id=\\\"name\\\" name=\\\"name\\\" type=\\\"hidden\\\" value=\\\"to-read\\\" />\\n<input id=\\\"unique_id\\\" name=\\\"unique_id\\\" type=\\\"hidden\\\" value=\\\"25_book_67270\\\" />\\n<input id=\\\"wtr_new\\\" name=\\\"wtr_new\\\" type=\\\"hidden\\\" value=\\\"true\\\" />\\n<input id=\\\"from_choice\\\" name=\\\"from_choice\\\" type=\\\"hidden\\\" value=\\\"false\\\" />\\n<input id=\\\"from_search\\\" name=\\\"from_search\\\" type=\\\"hidden\\\" value=\\\"false\\\" />\\n<input id=\\\"from_home_module\\\" name=\\\"from_home_module\\\" type=\\\"hidden\\\" value=\\\"false\\\" />\\n<input class=\\\"wtrLeftUpRef\\\" id=\\\"ref\\\" name=\\\"ref\\\" type=\\\"hidden\\\" value=\\\"\\\" />\\n<input class=\\\"wtrExisting\\\" id=\\\"existing_review\\\" name=\\\"existing_review\\\" type=\\\"hidden\\\" value=\\\"false\\\" />\\n<input id=\\\"book_origin\\\" name=\\\"book_origin\\\" type=\\\"hidden\\\" value=\\\"related_works\\\" />\\n<input id=\\\"page_referrer\\\" name=\\\"page_referrer\\\" type=\\\"hidden\\\" value=\\\"https://www.goodreads.com/shelf/show/classics\\\" />\\n<input id=\\\"page_url\\\" name=\\\"page_url\\\" type=\\\"hidden\\\" value=\\\"/book/show/24583.The_Adventures_of_Tom_Sawyer\\\" />\\n<button class=\\'wtrToRead\\' type=\\'submit\\'>\\n<span class=\\'progressTrigger\\'>Want to Read<\\/span>\\n<span class=\\'progressIndicator\\'>saving\u2026<\\/span>\\n<\\/button>\\n<\\/form>\\n\\n<\\/div>\\n\\n<div class=\\'wtrRight wtrUp\\'>\\n<form accept-charset=\\\"UTF-8\\\" action=\\\"/shelf/add_to_shelf\\\" class=\\\"hiddenShelfForm\\\" method=\\\"post\\\"><div style=\\\"margin:0;padding:0;display:inline\\\"><input name=\\\"utf8\\\" type=\\\"hidden\\\" value=\\\"&#x2713;\\\" /><input name=\\\"authenticity_token\\\" type=\\\"hidden\\\" value=\\\"NSSRp/ihOeQKb/CmlZFtiCQAR3M8ntTLCTm41VS5HMzxyh8nauu1+AkcFGyIk0tqbD2Vx/0+YSdp3AY9gGc/rg==\\\" /><\\/div>\\n<input id=\\\"unique_id\\\" name=\\\"unique_id\\\" type=\\\"hidden\\\" value=\\\"25_book_67270\\\" />\\n<input id=\\\"book_id\\\" name=\\\"book_id\\\" type=\\\"hidden\\\" value=\\\"67270\\\" />\\n<input id=\\\"a\\\" name=\\\"a\\\" type=\\\"hidden\\\" />\\n<input id=\\\"name\\\" name=\\\"name\\\" type=\\\"hidden\\\" />\\n<input id=\\\"from_choice\\\" name=\\\"from_choice\\\" type=\\\"hidden\\\" value=\\\"false\\\" />\\n<input id=\\\"from_home_module\\\" name=\\\"from_home_module\\\" type=\\\"hidden\\\" value=\\\"false\\\" />\\n<input id=\\\"book_origin\\\" name=\\\"book_origin\\\" type=\\\"hidden\\\" value=\\\"related_works\\\" />\\n<input id=\\\"page_referrer\\\" name=\\\"page_referrer\\\" type=\\\"hidden\\\" value=\\\"https://www.goodreads.com/shelf/show/classics\\\" />\\n<input id=\\\"page_url\\\" name=\\\"page_url\\\" type=\\\"hidden\\\" value=\\\"/book/show/24583.The_Adventures_of_Tom_Sawyer\\\" />\\n<\\/form>\\n\\n<button class=\\'wtrShelfButton\\'><\\/button>\\n<\\/div>\\n\\n<div class=\\'ratingStars wtrRating\\'>\\n<div class=\\'starsErrorTooltip hidden\\'>\\nError rating book. Refresh and try again.\\n<\\/div>\\n<div class=\\'myRating uitext greyText\\'>Rate this book<\\/div>\\n<div class=\\'clearRating uitext\\'>Clear rating<\\/div>\\n<div class=\\\"stars\\\" data-rating=\\\"0\\\" data-resource-id=\\\"67270\\\" data-submit-url=\\\"/review/rate/67270?book_origin=related_works&page_referrer=https%3A%2F%2Fwww.goodreads.com%2Fshelf%2Fshow%2Fclassics&page_url=%2Fbook%2Fshow%2F24583.The_Adventures_of_Tom_Sawyer&rate_books_page=false&stars_click=false&wtr_button_id=25_book_67270\\\" data-user-id=\\\"0\\\"><a class=\\\"star off\\\" href=\\\"#\\\" ref=\\\"\\\" title=\\\"did not like it\\\">1 of 5 stars<\\/a><a class=\\\"star off\\\" href=\\\"#\\\" ref=\\\"\\\" title=\\\"it was ok\\\">2 of 5 stars<\\/a><a class=\\\"star off\\\" href=\\\"#\\\" ref=\\\"\\\" title=\\\"liked it\\\">3 of 5 stars<\\/a><a class=\\\"star off\\\" href=\\\"#\\\" ref=\\\"\\\" title=\\\"really liked it\\\">4 of 5 stars<\\/a><a class=\\\"star off\\\" href=\\\"#\\\" ref=\\\"\\\" title=\\\"it was amazing\\\">5 of 5 stars<\\/a><\\/div>\\n<\\/div>\\n\\n<\\/div>\\n\\n\\n\\n\", { style: 'addbook', stem: 'topRight', hook: { tip: 'topRight', target: 'bottomMiddle' }, hideOn: false, width: 400, hideAfter: 0.05, delay: 0.35 });\n",
        "      $('bookCover_67270').observe('prototip:shown', function() {\n",
        "        if (this.up('#box')) {\n",
        "          $$('div.prototip')[0].setStyle({zIndex: $('box').getStyle('z-index')});\n",
        "        } else {\n",
        "          $$('div.prototip')[0].setStyle({zIndex: 6000});\n",
        "        }\n",
        "      });\n",
        "\n",
        "      newTip['wrapper'].addClassName('prototipAllowOverflow');\n",
        "\n",
        "        $('bookCover_67270').observe('prototip:shown', function () {\n",
        "          $$('div.prototip').each(function (e) {\n",
        "            if ($('bookCover_67270').hasClassName('ignored')) {\n",
        "              e.setStyle({'display': 'none'});\n",
        "              return;\n",
        "            }\n",
        "            e.setStyle({'overflow': 'visible'});\n",
        "          });\n",
        "        });\n",
        "      $('bookCover_67270').observe('prototip:hidden', function () {\n",
        "        $$('span.elementTwo').each(function (e) {\n",
        "          if (e.getStyle('display') !== 'none') {\n",
        "            var lessLink = e.next();\n",
        "            swapContent(lessLink);\n",
        "          }\n",
        "        });\n",
        "      });\n",
        "\n",
        "//]]>\n",
        "</script>\n",
        "</li>\n",
        "</ul>\n",
        "</div>\n",
        "<div class='navButton navButtonPrev initiallyHidden'>\n",
        "<div class='navButtonArrow sliderArrowPrev'></div>\n",
        "</div>\n",
        "<div class='navButton navButtonNext'>\n",
        "<div class='navButtonArrow sliderArrowNext'></div>\n",
        "</div>\n",
        "</div>\n",
        "<div class=\"clear\"></div></div></div><div class=\"bigBoxBottom\"></div></div></div>\n",
        "\n",
        "\n",
        "    \n",
        "\n",
        "  <div class=\"stacked\">\n",
        "    <div id='div-gpt-ad-84a737f0a5' style='width: 300px; height: 250px'>\n",
        "<script>\n",
        "  //<![CDATA[\n",
        "    googletag.cmd.push(function() {\n",
        "      googletag.display(\"div-gpt-ad-84a737f0a5\");\n",
        "    });\n",
        "  //]]>\n",
        "</script>\n",
        "\n",
        "</div>\n",
        "\n",
        "  </div>\n",
        "\n",
        "      \n",
        "\n",
        "      <div class=\"stacked\">\n",
        "        <div class=\" clearFloats bigBox\"><div class=\"h2Container gradientHeaderContainer\"><h2 class=\"brownBackground\"><a href=\"/work/shelves/41326609\">Genres</a></h2></div><div class=\"bigBoxBody\"><div class=\"bigBoxContent containerWithHeaderContent\">\n",
        "    <div class=\"elementList \">\n",
        "      <div class=\"left\">\n",
        "        <a href=\"/genres/classics\" class=\"actionLinkLite\">Classics</a>\n",
        "      </div>\n",
        "        <div class=\"right\">\n",
        "          <a href=\"/shelf/users/24583.The_Adventures_of_Tom_Sawyer?shelf=classics\" class=\"actionLinkLite greyText\" rel=\"nofollow\" title=\"7543 people shelved this book as 'classics'\">7,543 users</a>\n",
        "        </div>\n",
        "      <div class=\"clear\"></div>\n",
        "    </div>\n",
        "    <div class=\"elementList \">\n",
        "      <div class=\"left\">\n",
        "        <a href=\"/genres/fiction\" class=\"actionLinkLite\">Fiction</a>\n",
        "      </div>\n",
        "        <div class=\"right\">\n",
        "          <a href=\"/shelf/users/24583.The_Adventures_of_Tom_Sawyer?shelf=fiction\" class=\"actionLinkLite greyText\" rel=\"nofollow\" title=\"2935 people shelved this book as 'fiction'\">2,935 users</a>\n",
        "        </div>\n",
        "      <div class=\"clear\"></div>\n",
        "    </div>\n",
        "    <div class=\"elementList \">\n",
        "      <div class=\"left\">\n",
        "        <a href=\"/genres/young-adult\" class=\"actionLinkLite\">Young Adult</a>\n",
        "      </div>\n",
        "        <div class=\"right\">\n",
        "          <a href=\"/shelf/users/24583.The_Adventures_of_Tom_Sawyer?shelf=young-adult\" class=\"actionLinkLite greyText\" rel=\"nofollow\" title=\"675 people shelved this book as 'young-adult'\">675 users</a>\n",
        "        </div>\n",
        "      <div class=\"clear\"></div>\n",
        "    </div>\n",
        "    <div class=\"elementList \">\n",
        "      <div class=\"left\">\n",
        "        <a href=\"/genres/adventure\" class=\"actionLinkLite\">Adventure</a>\n",
        "      </div>\n",
        "        <div class=\"right\">\n",
        "          <a href=\"/shelf/users/24583.The_Adventures_of_Tom_Sawyer?shelf=adventure\" class=\"actionLinkLite greyText\" rel=\"nofollow\" title=\"636 people shelved this book as 'adventure'\">636 users</a>\n",
        "        </div>\n",
        "      <div class=\"clear\"></div>\n",
        "    </div>\n",
        "    <div class=\"elementList \">\n",
        "      <div class=\"left\">\n",
        "        <a href=\"/genres/literature\" class=\"actionLinkLite\">Literature</a>\n",
        "      </div>\n",
        "        <div class=\"right\">\n",
        "          <a href=\"/shelf/users/24583.The_Adventures_of_Tom_Sawyer?shelf=literature\" class=\"actionLinkLite greyText\" rel=\"nofollow\" title=\"566 people shelved this book as 'literature'\">566 users</a>\n",
        "        </div>\n",
        "      <div class=\"clear\"></div>\n",
        "    </div>\n",
        "    <div class=\"elementList \">\n",
        "      <div class=\"left\">\n",
        "        <a href=\"/genres/historical-fiction\" class=\"actionLinkLite\">Historical Fiction</a>\n",
        "      </div>\n",
        "        <div class=\"right\">\n",
        "          <a href=\"/shelf/users/24583.The_Adventures_of_Tom_Sawyer?shelf=historical-fiction\" class=\"actionLinkLite greyText\" rel=\"nofollow\" title=\"537 people shelved this book as 'historical-fiction'\">537 users</a>\n",
        "        </div>\n",
        "      <div class=\"clear\"></div>\n",
        "    </div>\n",
        "    <div class=\"elementList \">\n",
        "      <div class=\"left\">\n",
        "        <a href=\"/genres/childrens\" class=\"actionLinkLite\">Childrens</a>\n",
        "      </div>\n",
        "        <div class=\"right\">\n",
        "          <a href=\"/shelf/users/24583.The_Adventures_of_Tom_Sawyer?shelf=childrens\" class=\"actionLinkLite greyText\" rel=\"nofollow\" title=\"464 people shelved this book as 'childrens'\">464 users</a>\n",
        "        </div>\n",
        "      <div class=\"clear\"></div>\n",
        "    </div>\n",
        "    <div class=\"elementList \">\n",
        "      <div class=\"left\">\n",
        "          <a href=\"/genres/academic\" class=\"actionLinkLite\">Academic</a> &gt;\n",
        "        <a href=\"/genres/school\" class=\"actionLinkLite\">School</a>\n",
        "      </div>\n",
        "        <div class=\"right\">\n",
        "          <a href=\"/shelf/users/24583.The_Adventures_of_Tom_Sawyer?shelf=school\" class=\"actionLinkLite greyText\" rel=\"nofollow\" title=\"293 people shelved this book as 'school'\">293 users</a>\n",
        "        </div>\n",
        "      <div class=\"clear\"></div>\n",
        "    </div>\n",
        "    <div class=\"elementList \">\n",
        "      <div class=\"left\">\n",
        "          <a href=\"/genres/literature\" class=\"actionLinkLite\">Literature</a> &gt;\n",
        "        <a href=\"/genres/american\" class=\"actionLinkLite\">American</a>\n",
        "      </div>\n",
        "        <div class=\"right\">\n",
        "          <a href=\"/shelf/users/24583.The_Adventures_of_Tom_Sawyer?shelf=american\" class=\"actionLinkLite greyText\" rel=\"nofollow\" title=\"264 people shelved this book as 'american'\">264 users</a>\n",
        "        </div>\n",
        "      <div class=\"clear\"></div>\n",
        "    </div>\n",
        "    <div class=\"elementList elementListLast\">\n",
        "      <div class=\"left\">\n",
        "        <a href=\"/genres/novels\" class=\"actionLinkLite\">Novels</a>\n",
        "      </div>\n",
        "        <div class=\"right\">\n",
        "          <a href=\"/shelf/users/24583.The_Adventures_of_Tom_Sawyer?shelf=novels\" class=\"actionLinkLite greyText\" rel=\"nofollow\" title=\"248 people shelved this book as 'novels'\">248 users</a>\n",
        "        </div>\n",
        "      <div class=\"clear\"></div>\n",
        "    </div>\n",
        "  <a href=\"/book/shelves/24583.The_Adventures_of_Tom_Sawyer\" class=\"actionLink right\">See top shelves...</a>\n",
        "<div class=\"clear\"></div></div></div><div class=\"bigBoxBottom\"></div></div>\n",
        "      </div>\n",
        "\n",
        "    <div class=\" clearFloats bigBox\" id=\"aboutAuthor\"><div class=\"h2Container gradientHeaderContainer\"><h2 class=\"brownBackground\"><a href=\"/author/show/1244.Mark_Twain\">About Mark Twain</a></h2></div><div class=\"bigBoxBody\"><div class=\"bigBoxContent containerWithHeaderContent\">\n",
        "      <a href=\"/author/show/1244.Mark_Twain\"><img alt=\"1244\" class=\"right\" src=\"https://d.gr-assets.com/authors/1322103868p2/1244.jpg\" /></a>\n",
        "    <div class=\"readable\">\n",
        "      \n",
        "<span id=\"freeTextContainer6802372869027667624\" class=\"elementOne\"><strong>Samuel Langhorne Clemens</strong>, better known by his pen name <strong>Mark Twain</strong>, was an American author and humorist. He is noted for his novels <em>Adventures of Huckleberry Finn</em> (1885), called \"the Great American Novel\", and <em>The Adventures of Tom Sawyer</em> (1876).<br><br>Twain grew up in Hannibal, Missouri, which would later provide the setting for <em>Huckleberry Finn</em> and <em>Tom Sawyer</em>. He apprenticed with a printer. He also work</span>\n",
        "  <span id=\"freeText6802372869027667624\" class=\"elementTwo\" style=\"display:none\"><strong>Samuel Langhorne Clemens</strong>, better known by his pen name <strong>Mark Twain</strong>, was an American author and humorist. He is noted for his novels <em>Adventures of Huckleberry Finn</em> (1885), called \"the Great American Novel\", and <em>The Adventures of Tom Sawyer</em> (1876).<br><br>Twain grew up in Hannibal, Missouri, which would later provide the setting for <em>Huckleberry Finn</em> and <em>Tom Sawyer</em>. He apprenticed with a printer. He also worked as a typesetter and contributed articles to his older brother Orion's newspaper. After toiling as a printer in various cities, he became a master riverboat pilot on the Mississippi River, before heading west to join Orion. He was a failure at gold mining, so he next turned to journalism. While a reporter, he wrote a humorous story, \"The Celebrated Jumping Frog of Calaveras County,\" which proved to be very popular and brought him nationwide attention. His travelogues were also well-received. Twain had found his calling.<br><br>He achieved great success as a writer and public speaker. His wit and satire earned praise from critics and peers, and he was a friend to presidents, artists, industrialists, and European royalty.<br><br>However, he lacked financial acumen. Though he made a great deal of money from his writings and lectures, he squandered it on various ventures, in particular the Paige Compositor, and was forced to declare bankruptcy. With the help of Henry Huttleston Rogers, however, he eventually overcame his financial troubles. Twain worked hard to ensure that all of his creditors were paid in full, even though his bankruptcy had relieved him of the legal responsibility.<br><br>Born during a visit by Halley's Comet, he died on its return. He was lauded as the \"greatest American humorist of his age\", and <a href=\"http://www.goodreads.com/author/show/3535.William_Faulkner\" title=\"William Faulkner\">William Faulkner</a> called Twain \"the father of American literature\".<br><br><em>Excerpted from <a href=\"http://en.wikipedia.org/wiki/Mark_Twain\" rel=\"nofollow\">Wikipedia</a>.</em></span>\n",
        "  <a data-text-id=\"6802372869027667624\" href=\"#\" onclick=\"swapContent($(this));; return false;\">...more</a>\n",
        "    </div>\n",
        "    <a href=\"/author/show/1244.Mark_Twain\" class=\"actionLink moreLink\">More about Mark Twain...</a>\n",
        "<div class=\"clear\"></div></div></div><div class=\"bigBoxBottom\"></div></div>\n",
        "\n",
        "    <div class=\" clearFloats bigBox\"><div class=\"h2Container gradientHeaderContainer\"><h2 class=\"brownBackground\"><a href=\"/author/list/1244.Mark_Twain\">Books by Mark Twain</a></h2></div><div class=\"bigBoxBody\"><div class=\"bigBoxContent containerWithHeaderContent\">\n",
        "      <a href=\"/book/show/2956.The_Adventures_of_Huckleberry_Finn\"><img alt=\"The Adventures of Huckleberry Finn\" id=\"more_book_2956\" src=\"https://d.gr-assets.com/books/1405973850m/2956.jpg\" title=\"The Adventures of Huckleberry Finn\" width=\"50\" /></a>\n",
        "      <script type=\"text/javascript\">\n",
        "//<![CDATA[\n",
        "      var newTip = new Tip($('more_book_2956'), \"\\n        <a href=\\\"/book/show/2956.The_Adventures_of_Huckleberry_Finn\\\" class=\\\"bookTitle\\\">The Adventures of Huckleberry Finn (Paperback)<\\/a><br/>\\n          Of all the contenders for the title of The Great American Novel, none has a better claim than The...\\n\", { style: 'goodreads', stem: 'topRight', hook: { tip: 'topRight', target: 'bottomMiddle' }, offset: { x: 5, y: 5 }, hideOn: 'mouseout', width: 200 });\n",
        "      $('more_book_2956').observe('prototip:shown', function() {\n",
        "        if (this.up('#box')) {\n",
        "          $$('div.prototip')[0].setStyle({zIndex: $('box').getStyle('z-index')});\n",
        "        } else {\n",
        "          $$('div.prototip')[0].setStyle({zIndex: 6000});\n",
        "        }\n",
        "      });\n",
        "      $('more_book_2956').observe('prototip:hidden', function () {\n",
        "        $$('span.elementTwo').each(function (e) {\n",
        "          if (e.getStyle('display') !== 'none') {\n",
        "            var lessLink = e.next();\n",
        "            swapContent(lessLink);\n",
        "          }\n",
        "        });\n",
        "      });\n",
        "\n",
        "//]]>\n",
        "</script>      <a href=\"/book/show/62446.The_Prince_and_the_Pauper\"><img alt=\"The Prince and the Pauper\" id=\"more_book_62446\" src=\"https://d.gr-assets.com/books/1376406798m/62446.jpg\" title=\"The Prince and the Pauper\" width=\"50\" /></a>\n",
        "      <script type=\"text/javascript\">\n",
        "//<![CDATA[\n",
        "      var newTip = new Tip($('more_book_62446'), \"\\n        <a href=\\\"/book/show/62446.The_Prince_and_the_Pauper\\\" class=\\\"bookTitle\\\">The Prince and the Pauper (Paperback)<\\/a><br/>\\n          Two boys: the same age, almost the same face. The one difference: Tom Canty is a child of the Lon...\\n\", { style: 'goodreads', stem: 'topRight', hook: { tip: 'topRight', target: 'bottomMiddle' }, offset: { x: 5, y: 5 }, hideOn: 'mouseout', width: 200 });\n",
        "      $('more_book_62446').observe('prototip:shown', function() {\n",
        "        if (this.up('#box')) {\n",
        "          $$('div.prototip')[0].setStyle({zIndex: $('box').getStyle('z-index')});\n",
        "        } else {\n",
        "          $$('div.prototip')[0].setStyle({zIndex: 6000});\n",
        "        }\n",
        "      });\n",
        "      $('more_book_62446').observe('prototip:hidden', function () {\n",
        "        $$('span.elementTwo').each(function (e) {\n",
        "          if (e.getStyle('display') !== 'none') {\n",
        "            var lessLink = e.next();\n",
        "            swapContent(lessLink);\n",
        "          }\n",
        "        });\n",
        "      });\n",
        "\n",
        "//]]>\n",
        "</script>      <a href=\"/book/show/162898.A_Connecticut_Yankee_in_King_Arthur_s_Court\"><img alt=\"A Connecticut Yankee in King Arthur's Court\" id=\"more_book_162898\" src=\"https://d.gr-assets.com/books/1348239402m/162898.jpg\" title=\"A Connecticut Yankee in King Arthur's Court\" width=\"50\" /></a>\n",
        "      <script type=\"text/javascript\">\n",
        "//<![CDATA[\n",
        "      var newTip = new Tip($('more_book_162898'), \"\\n        <a href=\\\"/book/show/162898.A_Connecticut_Yankee_in_King_Arthur_s_Court\\\" class=\\\"bookTitle\\\">A Connecticut Yankee in King Arthur\\'s Court (Paperback)<\\/a><br/>\\n          ENDURING LITERATURE ILLUMINATED BY PRACTICAL SCHOLARSHIP  A nineteenth-century American travels b...\\n\", { style: 'goodreads', stem: 'topRight', hook: { tip: 'topRight', target: 'bottomMiddle' }, offset: { x: 5, y: 5 }, hideOn: 'mouseout', width: 200 });\n",
        "      $('more_book_162898').observe('prototip:shown', function() {\n",
        "        if (this.up('#box')) {\n",
        "          $$('div.prototip')[0].setStyle({zIndex: $('box').getStyle('z-index')});\n",
        "        } else {\n",
        "          $$('div.prototip')[0].setStyle({zIndex: 6000});\n",
        "        }\n",
        "      });\n",
        "      $('more_book_162898').observe('prototip:hidden', function () {\n",
        "        $$('span.elementTwo').each(function (e) {\n",
        "          if (e.getStyle('display') !== 'none') {\n",
        "            var lessLink = e.next();\n",
        "            swapContent(lessLink);\n",
        "          }\n",
        "        });\n",
        "      });\n",
        "\n",
        "//]]>\n",
        "</script>      <a href=\"/book/show/24580.The_Adventures_of_Tom_Sawyer_Adventures_of_Huckleberry_Finn\"><img alt=\"The Adventures of Tom Sawyer &amp; Adventures of Huckleberry Finn\" id=\"more_book_24580\" src=\"https://d.gr-assets.com/books/1410016681m/24580.jpg\" title=\"The Adventures of Tom Sawyer &amp; Adventures of Huckleberry Finn\" width=\"50\" /></a>\n",
        "      <script type=\"text/javascript\">\n",
        "//<![CDATA[\n",
        "      var newTip = new Tip($('more_book_24580'), \"\\n        <a href=\\\"/book/show/24580.The_Adventures_of_Tom_Sawyer_Adventures_of_Huckleberry_Finn\\\" class=\\\"bookTitle\\\">The Adventures of Tom Sawyer &amp; Adventures of Huckleberry Finn (Paperback)<\\/a><br/>\\n          The Adventures of Tom Sawyer \u00a0\\n\\nTake a lighthearted, nostalgic trip to a simpler time, seen throu...\\n\", { style: 'goodreads', stem: 'topRight', hook: { tip: 'topRight', target: 'bottomMiddle' }, offset: { x: 5, y: 5 }, hideOn: 'mouseout', width: 200 });\n",
        "      $('more_book_24580').observe('prototip:shown', function() {\n",
        "        if (this.up('#box')) {\n",
        "          $$('div.prototip')[0].setStyle({zIndex: $('box').getStyle('z-index')});\n",
        "        } else {\n",
        "          $$('div.prototip')[0].setStyle({zIndex: 6000});\n",
        "        }\n",
        "      });\n",
        "      $('more_book_24580').observe('prototip:hidden', function () {\n",
        "        $$('span.elementTwo').each(function (e) {\n",
        "          if (e.getStyle('display') !== 'none') {\n",
        "            var lessLink = e.next();\n",
        "            swapContent(lessLink);\n",
        "          }\n",
        "        });\n",
        "      });\n",
        "\n",
        "//]]>\n",
        "</script>      <a href=\"/book/show/682793.Pudd_nhead_Wilson\"><img alt=\"Pudd'nhead Wilson\" id=\"more_book_682793\" src=\"https://d.gr-assets.com/books/1320461272m/682793.jpg\" title=\"Pudd'nhead Wilson\" width=\"50\" /></a>\n",
        "      <script type=\"text/javascript\">\n",
        "//<![CDATA[\n",
        "      var newTip = new Tip($('more_book_682793'), \"\\n        <a href=\\\"/book/show/682793.Pudd_nhead_Wilson\\\" class=\\\"bookTitle\\\">Pudd\\'nhead Wilson (Paperback)<\\/a><br/>\\n          At the beginning of Pudd\\'nhead Wilson a young slave woman, fearing for her infant\\'s son\\'s life, e...\\n\", { style: 'goodreads', stem: 'topRight', hook: { tip: 'topRight', target: 'bottomMiddle' }, offset: { x: 5, y: 5 }, hideOn: 'mouseout', width: 200 });\n",
        "      $('more_book_682793').observe('prototip:shown', function() {\n",
        "        if (this.up('#box')) {\n",
        "          $$('div.prototip')[0].setStyle({zIndex: $('box').getStyle('z-index')});\n",
        "        } else {\n",
        "          $$('div.prototip')[0].setStyle({zIndex: 6000});\n",
        "        }\n",
        "      });\n",
        "      $('more_book_682793').observe('prototip:hidden', function () {\n",
        "        $$('span.elementTwo').each(function (e) {\n",
        "          if (e.getStyle('display') !== 'none') {\n",
        "            var lessLink = e.next();\n",
        "            swapContent(lessLink);\n",
        "          }\n",
        "        });\n",
        "      });\n",
        "\n",
        "//]]>\n",
        "</script>    <div class=\"moreLink\">\n",
        "      <a href=\"/author/list/1244.Mark_Twain\" class=\"actionLink\">More&hellip;</a>\n",
        "    </div>\n",
        "<div class=\"clear\"></div></div></div><div class=\"bigBoxBottom\"></div></div>\n",
        "\n",
        "  <div id='cobrandSlot'>\n",
        "<div id='div-gpt-ad-f27c21dbec' style='width: 300px; height: 140px'>\n",
        "<script>\n",
        "  //<![CDATA[\n",
        "    googletag.cmd.push(function() {\n",
        "      googletag.display(\"div-gpt-ad-f27c21dbec\");\n",
        "    });\n",
        "  //]]>\n",
        "</script>\n",
        "\n",
        "</div>\n",
        "\n",
        "</div>\n",
        "\n",
        "\n",
        "\n",
        "\n",
        "\n",
        "<div class=\" clearFloats bigBox\"><div class=\"h2Container gradientHeaderContainer\"><h2 class=\"brownBackground\">Share This Book</h2></div><div class=\"bigBoxBody\"><div class=\"bigBoxContent containerWithHeaderContent\">\n",
        "  <div class='socialMedia'>\n",
        "    <div class='shareButton'>\n",
        "      \n",
        "<div class=\"fb-like\"\n",
        "     data-href=\"http://www.goodreads.com/book/show/24583.The_Adventures_of_Tom_Sawyer\"\n",
        "     data-send=\"false\"\n",
        "     data-layout=\"button_count\"\n",
        "     data-width=\"90\"\n",
        "     data-show-faces=\"false\">\n",
        "</div>\n",
        "\n",
        "    </div>\n",
        "\n",
        "    <div id='twitter' class='shareButton'>\n",
        "      <a href='https://twitter.com/share'\n",
        "      class='twitter-share-button' data-lang='en'>\n",
        "        Tweet\n",
        "      </a>\n",
        "    </div>\n",
        "\n",
        "    <div class='shareButton'>\n",
        "      <div class='g-plusone shareButton' data-size='medium'></div>\n",
        "    </div>\n",
        "\n",
        "    <div id='pinterest' class='shareButton'>\n",
        "      <a data-pin-config='beside'\n",
        "      href=\"//pinterest.com/pin/create/button/?url=https%3A%2F%2Fwww.goodreads.com%2Fbook%2Fshow%2F24583.The_Adventures_of_Tom_Sawyer&amp;media=https%3A%2F%2Fd.gr-assets.com%2Fbooks%2F1404811979l%2F24583.jpg&amp;description=The+Adventures+of+Tom+Sawyer\"\n",
        "      data-pin-do='buttonPin'>\n",
        "      <img src='//assets.pinterest.com/images/pidgets/pin_it_button.png'\n",
        "      alt='pin it button' />\n",
        "      </a>\n",
        "    </div>\n",
        "\n",
        "    <div id='personalSite' class='shareButton'>\n",
        "      <div id=\"blogBook24583\" style='display:none;'>\n",
        "        <h2>Share on your website</h2>\n",
        "        <br/>\n",
        "        <table border=\"0\">\n",
        "  <tr>\n",
        "    <td valign=\"top\" class=\"nobreak\">title link</td>\n",
        "    <td style=\"padding: 0 0 20px 10px\">\n",
        "      <input type=\"text\" class=\"smallText\" id=\"titleLink24583\" onclick=\"this.select();\" size=\"25\" value=\"&lt;a href=&quot;https://www.goodreads.com/book/show/24583.The_Adventures_of_Tom_Sawyer?utm_medium=api&amp;amp;utm_source=blog_book&quot;&gt;The Adventures of Tom Sawyer&lt;/a&gt;\"/>\n",
        "      <br /><br /><span class=\"greyText\">preview:</span><br />\n",
        "      <a href=\"https://www.goodreads.com/book/show/24583.The_Adventures_of_Tom_Sawyer?utm_medium=api&amp;utm_source=blog_book\">The Adventures of Tom Sawyer</a>\n",
        "    </td>\n",
        "  </tr>\n",
        "  <tr>\n",
        "    <td valign=\"top\" class=\"nobreak\">avg rating</td>\n",
        "    <td style=\"padding: 0 0 20px 10px\">\n",
        "      <input type=\"text\" class=\"smallText\" onclick=\"this.select();\" size=\"25\" value=\"&lt;script src=&quot;https://www.goodreads.com/book/avg_rating_widget/24583&quot; type=&quot;text/javascript&quot;&gt;&lt;/script&gt;\"/>\n",
        "      <br /><br /><span class=\"greyText\">preview:</span><br />\n",
        "      <a href=\"https://www.goodreads.com/book/show/24583?utm_medium=api&amp;utm_source=book_widget\" style=\"float: left; padding-right: 10px\" title=\"The Adventures of Tom Sawyer\"><img alt=\"The Adventures of Tom Sawyer\" border=\"0\" src=\"https://d.gr-assets.com/books/1404811979s/24583.jpg\" /></a><div><a href=\"https://www.goodreads.com/book/show/24583.The_Adventures_of_Tom_Sawyer?utm_medium=api&amp;utm_source=book_widget\">The Adventures of Tom Sawyer</a><br/>Goodreads rating: 3.86 (391333 ratings)</div>\n",
        "\n",
        "    </td>\n",
        "  </tr>\n",
        "  <tr>\n",
        "    <td valign=\"top\" class=\"nobreak\">small image</td>\n",
        "    <td style=\"padding: 0 0 20px 10px\">\n",
        "      <input type=\"text\" class=\"smallText\" onclick=\"this.select();\"  size=\"25\" value=\"&lt;a href=&quot;https://www.goodreads.com/book/show/24583.The_Adventures_of_Tom_Sawyer?utm_medium=api&amp;amp;utm_source=blog_book&quot;&gt;&lt;img alt=&quot;The Adventures of Tom Sawyer&quot; src=&quot;https://d.gr-assets.com/books/1404811979s/24583.jpg&quot; /&gt;&lt;/a&gt;\"/>\n",
        "      <br /><br /><span class=\"greyText\">preview:</span>\n",
        "      <a href=\"#\" onclick=\"$('smallImagePreview').toggle(); return false;\">click here</a>\n",
        "      <div id=\"smallImagePreview\" class=\"floatingBox\" style=\"display: none; width: auto;\">\n",
        "  \t\t\t<a class=\"closeLink\" href=\"#\" onclick=\"$('smallImagePreview').hide(); return false;; return false;\">[close]</a>\n",
        "        <a href=\"https://www.goodreads.com/book/show/24583.The_Adventures_of_Tom_Sawyer?utm_medium=api&amp;utm_source=blog_book\"><img alt=\"The Adventures of Tom Sawyer\" src=\"https://d.gr-assets.com/books/1404811979s/24583.jpg\" /></a>\n",
        "  \t\t</div>\n",
        "    </td>\n",
        "  </tr>\n",
        "  <tr>\n",
        "    <td valign=\"top\" class=\"nobreak\">med image</td>\n",
        "    <td style=\"padding: 0 0 20px 10px\">\n",
        "      <input type=\"text\" class=\"smallText\" onclick=\"this.select();\"  size=\"25\" value=\"&lt;a href=&quot;https://www.goodreads.com/book/show/24583.The_Adventures_of_Tom_Sawyer?utm_medium=api&amp;amp;utm_source=blog_book&quot;&gt;&lt;img alt=&quot;The Adventures of Tom Sawyer&quot; src=&quot;https://d.gr-assets.com/books/1404811979m/24583.jpg&quot; /&gt;&lt;/a&gt;\"/>\n",
        "      <br /><br /><span class=\"greyText\">preview:</span>\n",
        "      <a href=\"#\" onclick=\"$('mediumImagePreview').toggle(); return false;\">click here</a>\n",
        "      <div id=\"mediumImagePreview\" class=\"floatingBox\" style=\"display: none; width: auto;\">\n",
        "  \t\t\t<a class=\"closeLink\" href=\"#\" onclick=\"$('mediumImagePreview').hide(); return false;; return false;\">[close]</a>\n",
        "        <a href=\"https://www.goodreads.com/book/show/24583.The_Adventures_of_Tom_Sawyer?utm_medium=api&amp;utm_source=blog_book\"><img alt=\"The Adventures of Tom Sawyer\" src=\"https://d.gr-assets.com/books/1404811979m/24583.jpg\" /></a>\n",
        "  \t\t</div>\n",
        "    </td>\n",
        "  </tr>\n",
        "  <tr>\n",
        "    <td valign=\"top\" class=\"nobreak\">BBCode</td>\n",
        "    <td style=\"padding: 0 0 20px 10px\">\n",
        "      <textarea rows=\"2\" columns=\"25\" onclick=\"this.select()\">[url=https://www.goodreads.com/book/show/24583.The_Adventures_of_Tom_Sawyer?utm_medium=api&amp;utm_source=blog_book][img]https://d.gr-assets.com/books/1404811979l/24583.jpg[/img][/url]\n",
        "      [url=https://www.goodreads.com/book/show/24583.The_Adventures_of_Tom_Sawyer?utm_medium=api&amp;utm_source=blog_book]The Adventures of Tom Sawyer by Mark Twain[/url]</textarea>\n",
        "    </td>\n",
        "  </tr>\n",
        "</table>\n",
        "      </div>\n",
        "      +\n",
        "      <a class=\"mediumText\" href=\"#\" id=\"personalSite\" onclick=\"Lightbox.showBoxByID('blogBook24583');; return false;\" rel=\"nofollow\">Share on your website</a>\n",
        "    </div>\n",
        "  </div>\n",
        "<div class=\"clear\"></div></div></div><div class=\"bigBoxBottom\"></div></div>\n",
        "      <div class=\" clearFloats bigBox\"><div class=\"h2Container gradientHeaderContainer\"><h2 class=\"brownBackground\"><a href=\"/trivia/work/41326609-the-adventures-of-tom-sawyer\">Trivia About The Adventures of...</a></h2></div><div class=\"bigBoxBody\"><div class=\"bigBoxContent containerWithHeaderContent\">\n",
        "        <div class=\"mediumText\">\n",
        "          72 trivia questions \n",
        "          <br />\n",
        "          5 quizzes \n",
        "        </div>\n",
        "        <a href=\"/trivia/work/41326609-the-adventures-of-tom-sawyer\" class=\"actionLink\" style=\"float: right;\">More quizzes &amp; trivia...</a>\n",
        "<div class=\"clear\"></div></div></div><div class=\"bigBoxBottom\"></div></div>\n",
        "\n",
        "    <div class=\" clearFloats bigBox\"><div class=\"h2Container gradientHeaderContainer\"><h2 class=\"brownBackground\"><a href=\"/work/quotes/41326609-the-adventures-of-tom-sawyer\">Quotes from The Adventures of Tom ...</a></h2></div><div class=\"bigBoxBody\"><div class=\"bigBoxContent containerWithHeaderContent\">\n",
        "        <div class=\"stacked\" tyle=\"padding-bottom:15px\">\n",
        "          <span class=\"readable\">&ldquo;The less there is to justify a traditional custom, the harder it is to get rid of it&rdquo;</span>\n",
        "          <nobr>\n",
        "            &mdash;\n",
        "            <a href=\"/quotes/234445-the-less-there-is-to-justify-a-traditional-custom-the\" class=\"actionLinkLite\">70 likes</a>\n",
        "          </nobr>\n",
        "          <div class=\"clear\"></div>\n",
        "        </div>\n",
        "        <div class=\"stacked\" tyle=\"padding-bottom:15px\">\n",
        "          <span class=\"readable\">&ldquo;Ah, if he could only die temporarily!&rdquo;</span>\n",
        "          <nobr>\n",
        "            &mdash;\n",
        "            <a href=\"/quotes/351447-ah-if-he-could-only-die-temporarily\" class=\"actionLinkLite\">47 likes</a>\n",
        "          </nobr>\n",
        "          <div class=\"clear\"></div>\n",
        "        </div>\n",
        "      <a href=\"/work/quotes/41326609-the-adventures-of-tom-sawyer\" class=\"actionLink\" style=\"float: right\">More quotes&hellip;</a>\n",
        "<div class=\"clear\"></div></div></div><div class=\"bigBoxBottom\"></div></div>\n",
        "\n",
        "  <div id='div-gpt-ad-9f790f8a3c' style='width: 300px; height: 250px'>\n",
        "<script>\n",
        "  //<![CDATA[\n",
        "    googletag.cmd.push(function() {\n",
        "      googletag.display(\"div-gpt-ad-9f790f8a3c\");\n",
        "    });\n",
        "  //]]>\n",
        "</script>\n",
        "\n",
        "</div>\n",
        "\n",
        "\n",
        "</div>\n",
        "\n",
        "  <span id=\"rating_graph\" class=\"rating_graph\">\n",
        "    <script type=\"text/javascript+protovis\">\n",
        "      renderRatingGraph([115782, 144929, 99791, 23382]);\n",
        "      if ($('rating_details')) {\n",
        "        $('rating_details').insert({top: $('rating_graph')})\n",
        "      }\n",
        "    </script>\n",
        "  </span>\n",
        "\n",
        "\n",
        "<img alt=\"\"\n",
        "     role=\"presentation\"\n",
        "     style=\"position: absolute; left: -9999em; height: 0px; width: 0px;\"\n",
        "     src=\"/home/jstest_base\">\n",
        "<div id=\"jstest\"></div>\n",
        "<script type=\"text/javascript\">\n",
        "//<![CDATA[\n",
        "\n",
        "  (function(){var a=document.createElement(\"img\");a.src=\"/home/jstest_script\";a.alt=\"\";a.role=\"presentation\";a.style.position=\"absolute\";a.style.left=\"-9999em\";a.style.height=\"0px\";a.style.width=\"0px\";document.getElementById(\"jstest\").appendChild(a)})();\n",
        "\n",
        "//]]>\n",
        "</script><noscript>\n",
        "  <img alt=\"\"\n",
        "       role=\"presentation\"\n",
        "       style=\"position: absolute; left: -9999em; height: 0px; width: 0px;\"\n",
        "       src=\"/home/jstest_noscript\">\n",
        "</noscript>\n",
        "\n",
        "\n",
        "<script type=\"text/javascript\">\n",
        "//<![CDATA[\n",
        "(function (w, d, load) {\n",
        "  var script,\n",
        "    first = d.getElementsByTagName('SCRIPT')[0],\n",
        "    n = load.length,\n",
        "    i = 0,\n",
        "    go = function () {\n",
        "      for (i = 0; i < n; i += 1) {\n",
        "        script = d.createElement('SCRIPT');\n",
        "        script.type = 'text/javascript';\n",
        "        script.async = true;\n",
        "        script.src = load[i];\n",
        "        first.parentNode.insertBefore(script, first);\n",
        "      }\n",
        "    }\n",
        "  if (w.attachEvent) {\n",
        "    w.attachEvent('onload', go);\n",
        "  } else {\n",
        "    w.addEventListener('load', go, false);\n",
        "  }\n",
        "}(window, document,\n",
        "    ['//assets.pinterest.com/js/pinit.js',\n",
        "     '//apis.google.com/js/plusone.js'\n",
        "    ]\n",
        "  ));\n",
        "\n",
        "//]]>\n",
        "</script>\n",
        "\n",
        "      </div>\n",
        "      <div class=\"clear\"></div>\n",
        "    </div>\n",
        "    <div class=\"clear\"></div>\n",
        "  </div>\n",
        "\n",
        "  <div class=\"clear\"></div>\n",
        "  <div class=\"footerContainer\">\n",
        "      <div class=\"footer\">\n",
        "        <div class=\"copyright\">\n",
        "          &copy; 2014 Goodreads Inc\n",
        "        </div>\n",
        "        <div class=\"adminLinksContainer\">\n",
        "          <ul class=\"adminLinks\">\n",
        "            <li>\n",
        "              <a href=\"/about/us\" class=\"first\" rel=\"nofollow\">about us</a>\n",
        "            </li>\n",
        "            <li>\n",
        "              <a href=\"/advertisers\" rel=\"nofollow\">advertise</a>\n",
        "            </li>\n",
        "            <li>\n",
        "              <a href=\"/author/program\" rel=\"nofollow\">author program</a>\n",
        "            </li>\n",
        "            <li>\n",
        "              <a href=\"/jobs\" rel=\"nofollow\">jobs</a>\n",
        "            </li>\n",
        "            <li>\n",
        "              <a href=\"/api\" rel=\"nofollow\">api</a>\n",
        "            </li>\n",
        "            <li>\n",
        "              <a href=\"/blog/index\">our blog</a>\n",
        "            </li>\n",
        "            <li>\n",
        "              <a href=\"/about/terms\" rel=\"nofollow\">terms</a>\n",
        "            </li>\n",
        "            <li>\n",
        "              <a href=\"/about/privacy\" rel=\"nofollow\">privacy</a>\n",
        "            </li>\n",
        "            <li>\n",
        "              <a href=\"/help\" class=\"last\" rel=\"nofollow\">help</a>\n",
        "            </li>\n",
        "            <li class=\"mobileToggleLink\">\n",
        "              <span class=\"label\">switch to:</span>\n",
        "              <a href=\"/toggle_mobile?switch_to=mobile\" rel=\"nofollow\">mobile version</a>\n",
        "            </li>\n",
        "          </ul>\n",
        "        </div>\n",
        "      </div>\n",
        "  </div>\n",
        "</div>\n",
        "\n",
        "<div id=\"overlay\" style=\"display:none\" onclick=\"Lightbox.hideBox('dropout')\"></div>\n",
        "<div id=\"box\" style=\"display:none\">\n",
        "\t<div id=\"close\" class=\"xBackground js-closeModalIcon\" onclick=\"Lightbox.hideBox('dropout')\" title=\"Close this window\"></div>\n",
        "\t<div id=\"boxContents\"></div>\n",
        "\t<div id=\"boxContentsLeftovers\" style=\"display:none\"></div>\n",
        "\t<div class=\"clear\"></div>\n",
        "</div>\n",
        "\n",
        "<div id=\"fbSigninNotification\" style=\"display:none;\">\n",
        "  <p>Welcome back. Just a moment while we sign you in to your Goodreads account.</p>\n",
        "  <img alt=\"Login_animation\" src=\"https://s.gr-assets.com/assets/facebook/login_animation-287c7d7806f6313b93de3b4d7ef6fed3.gif\" />\n",
        "</div>\n",
        "\n",
        "  <script type=\"text/javascript\" src=\"https://ads.goodreads.com/ad?gtargeting=s4balngp&amp;p=book_page_signed_out&amp;s=600x150&amp;sid=d4e36a6549a731be4a95e4819dd02513&amp;uid=false\">\n",
        "  </script>\n",
        "\n",
        "<div id=\"fb-root\"></div>\n",
        "<script type=\"text/javascript\">\n",
        "  $grfb.initialize({\n",
        "    appId: \"2415071772\",\n",
        "    grSession: false,\n",
        "    serverFBUser: null,\n",
        "    serverPublishEnabled: null,\n",
        "    suppressAutoLogin: false,\n",
        "    brokenFbConnectionTracked: false,\n",
        "    publishPermissionVerified: false\n",
        "  });\n",
        "</script>\n",
        "\n",
        "<script type=\"text/javascript\">\n",
        "  var _kiq = _kiq || [];\n",
        "  (function(){\n",
        "    setTimeout(function(){\n",
        "    var d = document, f = d.getElementsByTagName('script')[0], s = d.createElement('script'); s.type = 'text/javascript';\n",
        "    s.async = true; s.src = '//s3.amazonaws.com/ki.js/52346/bde.js'; f.parentNode.insertBefore(s, f);\n",
        "    }, 1);\n",
        "  })();\n",
        "</script>\n",
        "\n",
        "\n",
        "<script>\n",
        "  //<![CDATA[\n",
        "    _qevents.push( { qacct:\"p-0dUe_kJAjvkoY\"} );\n",
        "    \n",
        "    var _comscore = _comscore || [];\n",
        "    _comscore.push({ c1: \"2\", c2: \"6035830\", c3: \"\", c4: \"\", c5: \"\", c6: \"\", c15: \"\"});\n",
        "    (function() {\n",
        "    var s = document.createElement(\"script\"), el = document.getElementsByTagName(\"script\")[0]; s.async = true;\n",
        "    s.src = (document.location.protocol == \"https:\" ? \"https://sb\" : \"http://b\") + \".scorecardresearch.com/beacon.js\";\n",
        "    el.parentNode.insertBefore(s, el);\n",
        "    })();\n",
        "  //]]>\n",
        "</script>\n",
        "<noscript>\n",
        "<div style='display: none'>\n",
        "<img alt=\"\" border=\"0\" height=\"1\" src=\"https://pixel.quantserve.com/pixel/p-0dUe_kJAjvkoY.gif\" style=\"display: none;\" width=\"1\" />\n",
        "</div>\n",
        "<img alt=\"\" height=\"0\" src=\"https://sb.scorecardresearch.com/p?c1=2&amp;amp;c2=6035830&amp;amp;c3=&amp;amp;c4=&amp;amp;c5=&amp;amp;c6=&amp;amp;c15=&amp;amp;cv=2.0&amp;amp;cj=1\" style=\"display: none\" width=\"0\" />\n",
        "</noscript>\n",
        "\n",
        "\n",
        "</body>\n",
        "</html>\n",
        "\n",
        "<!-- zdowrsepbodnjhajynnpupmsrjircxugmyjczdvafwlegnqsajjxtp --></iframe>"
       ],
       "metadata": {},
       "output_type": "pyout",
       "prompt_number": 24,
       "text": [
        "<IPython.core.display.HTML at 0xe83cb00>"
       ]
      }
     ],
     "prompt_number": 24
    },
    {
     "cell_type": "code",
     "collapsed": false,
     "input": [
      "d=pq(tomstuff.text)\n",
      "print d(\"meta[property='og:title']\").attr('content')\n",
      "print d(\"meta[property='good_reads:isbn']\").attr('content')\n",
      "print d(\"meta[property='og:type']\").attr('content')\n",
      "print d(\"meta[property='good_reads:author']\").attr('content')\n",
      "print d(\"span.average\").text()\n",
      "print d(\"span.value-title[itemprop='ratingCount']\").attr(\"title\")\n",
      "print d(\"span.value-title[itemprop!='ratingCount']\").attr(\"title\")"
     ],
     "language": "python",
     "metadata": {},
     "outputs": [
      {
       "output_type": "stream",
       "stream": "stdout",
       "text": [
        "The Adventures of Tom Sawyer\n",
        "0143039563\n",
        "good_reads:book\n",
        "https://www.goodreads.com/author/show/1244.Mark_Twain\n",
        "3.86\n",
        "391333\n",
        "4497\n"
       ]
      }
     ],
     "prompt_number": 25
    },
    {
     "cell_type": "markdown",
     "metadata": {},
     "source": [
      "## Circling back to APIs\n",
      "\n",
      "See https://developer.github.com/guides/getting-started/"
     ]
    },
    {
     "cell_type": "code",
     "collapsed": false,
     "input": [
      "APISTART=\"https://api.github.com/\"\n",
      "requests.get(APISTART+\"users/rahuldave\").json()"
     ],
     "language": "python",
     "metadata": {},
     "outputs": [
      {
       "metadata": {},
       "output_type": "pyout",
       "prompt_number": 22,
       "text": [
        "{u'avatar_url': u'https://avatars.githubusercontent.com/u/43227?v=2',\n",
        " u'bio': None,\n",
        " u'blog': u'http://tig.nareau.net/blog/',\n",
        " u'company': u'Harvard University',\n",
        " u'created_at': u'2008-12-29T23:34:27Z',\n",
        " u'email': u'rahuldave on the gmail',\n",
        " u'events_url': u'https://api.github.com/users/rahuldave/events{/privacy}',\n",
        " u'followers': 13,\n",
        " u'followers_url': u'https://api.github.com/users/rahuldave/followers',\n",
        " u'following': 0,\n",
        " u'following_url': u'https://api.github.com/users/rahuldave/following{/other_user}',\n",
        " u'gists_url': u'https://api.github.com/users/rahuldave/gists{/gist_id}',\n",
        " u'gravatar_id': u'',\n",
        " u'hireable': False,\n",
        " u'html_url': u'https://github.com/rahuldave',\n",
        " u'id': 43227,\n",
        " u'location': u'Somerville, MA',\n",
        " u'login': u'rahuldave',\n",
        " u'name': u'Rahul Dave',\n",
        " u'organizations_url': u'https://api.github.com/users/rahuldave/orgs',\n",
        " u'public_gists': 9,\n",
        " u'public_repos': 38,\n",
        " u'received_events_url': u'https://api.github.com/users/rahuldave/received_events',\n",
        " u'repos_url': u'https://api.github.com/users/rahuldave/repos',\n",
        " u'site_admin': False,\n",
        " u'starred_url': u'https://api.github.com/users/rahuldave/starred{/owner}{/repo}',\n",
        " u'subscriptions_url': u'https://api.github.com/users/rahuldave/subscriptions',\n",
        " u'type': u'User',\n",
        " u'updated_at': u'2014-10-16T17:10:23Z',\n",
        " u'url': u'https://api.github.com/users/rahuldave'}"
       ]
      }
     ],
     "prompt_number": 22
    },
    {
     "cell_type": "code",
     "collapsed": false,
     "input": [
      "access_token=\"96a1491b679246f87819cdcc8e504768df162bdf\"\n",
      "headers = {'Authorization': ' token '+access_token}\n",
      "requests.get(APISTART+\"user\", headers=headers).json()"
     ],
     "language": "python",
     "metadata": {},
     "outputs": [
      {
       "metadata": {},
       "output_type": "pyout",
       "prompt_number": 26,
       "text": [
        "{u'avatar_url': u'https://avatars.githubusercontent.com/u/43227?v=2',\n",
        " u'bio': None,\n",
        " u'blog': u'http://tig.nareau.net/blog/',\n",
        " u'collaborators': 0,\n",
        " u'company': u'Harvard University',\n",
        " u'created_at': u'2008-12-29T23:34:27Z',\n",
        " u'disk_usage': 43530,\n",
        " u'email': u'rahuldave on the gmail',\n",
        " u'events_url': u'https://api.github.com/users/rahuldave/events{/privacy}',\n",
        " u'followers': 13,\n",
        " u'followers_url': u'https://api.github.com/users/rahuldave/followers',\n",
        " u'following': 0,\n",
        " u'following_url': u'https://api.github.com/users/rahuldave/following{/other_user}',\n",
        " u'gists_url': u'https://api.github.com/users/rahuldave/gists{/gist_id}',\n",
        " u'gravatar_id': u'',\n",
        " u'hireable': False,\n",
        " u'html_url': u'https://github.com/rahuldave',\n",
        " u'id': 43227,\n",
        " u'location': u'Somerville, MA',\n",
        " u'login': u'rahuldave',\n",
        " u'name': u'Rahul Dave',\n",
        " u'organizations_url': u'https://api.github.com/users/rahuldave/orgs',\n",
        " u'owned_private_repos': 1,\n",
        " u'plan': {u'collaborators': 0,\n",
        "  u'name': u'micro',\n",
        "  u'private_repos': 5,\n",
        "  u'space': 614400},\n",
        " u'private_gists': 3,\n",
        " u'public_gists': 9,\n",
        " u'public_repos': 38,\n",
        " u'received_events_url': u'https://api.github.com/users/rahuldave/received_events',\n",
        " u'repos_url': u'https://api.github.com/users/rahuldave/repos',\n",
        " u'site_admin': False,\n",
        " u'starred_url': u'https://api.github.com/users/rahuldave/starred{/owner}{/repo}',\n",
        " u'subscriptions_url': u'https://api.github.com/users/rahuldave/subscriptions',\n",
        " u'total_private_repos': 1,\n",
        " u'type': u'User',\n",
        " u'updated_at': u'2014-10-16T17:10:23Z',\n",
        " u'url': u'https://api.github.com/users/rahuldave'}"
       ]
      }
     ],
     "prompt_number": 26
    },
    {
     "cell_type": "code",
     "collapsed": false,
     "input": [
      "import json\n",
      "j=requests.get(APISTART+\"user\", headers=headers).json()\n",
      "js=json.dumps(j)\n",
      "js"
     ],
     "language": "python",
     "metadata": {},
     "outputs": [
      {
       "metadata": {},
       "output_type": "pyout",
       "prompt_number": 29,
       "text": [
        "'{\"disk_usage\": 43530, \"private_gists\": 3, \"public_repos\": 38, \"site_admin\": false, \"subscriptions_url\": \"https://api.github.com/users/rahuldave/subscriptions\", \"gravatar_id\": \"\", \"hireable\": false, \"id\": 43227, \"followers_url\": \"https://api.github.com/users/rahuldave/followers\", \"following_url\": \"https://api.github.com/users/rahuldave/following{/other_user}\", \"collaborators\": 0, \"total_private_repos\": 1, \"blog\": \"http://tig.nareau.net/blog/\", \"followers\": 13, \"location\": \"Somerville, MA\", \"type\": \"User\", \"email\": \"rahuldave on the gmail\", \"bio\": null, \"gists_url\": \"https://api.github.com/users/rahuldave/gists{/gist_id}\", \"owned_private_repos\": 1, \"company\": \"Harvard University\", \"events_url\": \"https://api.github.com/users/rahuldave/events{/privacy}\", \"html_url\": \"https://github.com/rahuldave\", \"updated_at\": \"2014-10-16T17:10:23Z\", \"plan\": {\"collaborators\": 0, \"name\": \"micro\", \"private_repos\": 5, \"space\": 614400}, \"received_events_url\": \"https://api.github.com/users/rahuldave/received_events\", \"starred_url\": \"https://api.github.com/users/rahuldave/starred{/owner}{/repo}\", \"public_gists\": 9, \"name\": \"Rahul Dave\", \"organizations_url\": \"https://api.github.com/users/rahuldave/orgs\", \"url\": \"https://api.github.com/users/rahuldave\", \"created_at\": \"2008-12-29T23:34:27Z\", \"avatar_url\": \"https://avatars.githubusercontent.com/u/43227?v=2\", \"repos_url\": \"https://api.github.com/users/rahuldave/repos\", \"following\": 0, \"login\": \"rahuldave\"}'"
       ]
      }
     ],
     "prompt_number": 29
    },
    {
     "cell_type": "code",
     "collapsed": false,
     "input": [],
     "language": "python",
     "metadata": {},
     "outputs": []
    }
   ],
   "metadata": {}
  }
 ]
}