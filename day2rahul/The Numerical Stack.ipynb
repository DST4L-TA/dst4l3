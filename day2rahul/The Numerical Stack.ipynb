{
 "metadata": {
  "name": "",
  "signature": "sha256:45777fa9f5234f33b18e49cb6466a598315e4b946900a0ad2e2bf03ea47f696c"
 },
 "nbformat": 3,
 "nbformat_minor": 0,
 "worksheets": [
  {
   "cells": [
    {
     "cell_type": "code",
     "collapsed": false,
     "input": [
      "%matplotlib inline\n",
      "import numpy as np\n",
      "import matplotlib.pyplot as plt\n",
      "import pandas as pd\n",
      "import seaborn as sns\n",
      "pd.set_option('display.width', 500)\n",
      "pd.set_option('display.max_columns', 100)"
     ],
     "language": "python",
     "metadata": {},
     "outputs": [],
     "prompt_number": 1
    },
    {
     "cell_type": "markdown",
     "metadata": {},
     "source": [
      "##Vectorization\n",
      "\n",
      "The python numerical stack is based on a concept called vectorization.\n",
      "\n",
      "Whats the idea? It is that cpu's have some ability to carry out multiple things at one time, and we should use it to increase speed. But its also something else: there is a simplicity of notation. For example, see the following"
     ]
    },
    {
     "cell_type": "code",
     "collapsed": false,
     "input": [
      "a=[1,2,3,4,5]\n",
      "b=[1,2,3,4,5]\n",
      "for ele in a:\n",
      "    print(ele*ele)\n",
      "for j in range(len(a)):\n",
      "    print a[j]*b[j]"
     ],
     "language": "python",
     "metadata": {},
     "outputs": [
      {
       "output_type": "stream",
       "stream": "stdout",
       "text": [
        "1\n",
        "4\n",
        "9\n",
        "16\n",
        "25\n",
        "1\n",
        "4\n",
        "9\n",
        "16\n",
        "25\n"
       ]
      }
     ],
     "prompt_number": 2
    },
    {
     "cell_type": "markdown",
     "metadata": {},
     "source": [
      "instead we can write"
     ]
    },
    {
     "cell_type": "code",
     "collapsed": false,
     "input": [
      "a=np.array(a)\n",
      "b=np.array(b)\n",
      "print a*b"
     ],
     "language": "python",
     "metadata": {},
     "outputs": [
      {
       "output_type": "stream",
       "stream": "stdout",
       "text": [
        "[ 1  4  9 16 25]\n"
       ]
      }
     ],
     "prompt_number": 3
    },
    {
     "cell_type": "markdown",
     "metadata": {},
     "source": [
      "Much Simpler, no?\n",
      "\n",
      "##Numpy and Matplotlib\n",
      "\n",
      "This is just a quick and dirty intro. Please read the excellent tutorials <a href=\"http://nbviewer.ipython.org/urls/raw.github.com/jrjohansson/scientific-python-lectures/master/Lecture-2-Numpy.ipynb\">here</a> and <a href=\"http://nbviewer.ipython.org/urls/raw.github.com/jrjohansson/scientific-python-lectures/master/Lecture-4-Matplotlib.ipynb\">here</a>."
     ]
    },
    {
     "cell_type": "markdown",
     "metadata": {},
     "source": [
      "Create a vector"
     ]
    },
    {
     "cell_type": "code",
     "collapsed": false,
     "input": [
      "v = np.array([1,2,3,4])\n",
      "v.shape, type(v)"
     ],
     "language": "python",
     "metadata": {},
     "outputs": [
      {
       "metadata": {},
       "output_type": "pyout",
       "prompt_number": 4,
       "text": [
        "((4,), numpy.ndarray)"
       ]
      }
     ],
     "prompt_number": 4
    },
    {
     "cell_type": "markdown",
     "metadata": {},
     "source": [
      "Create a multidimensional array"
     ]
    },
    {
     "cell_type": "code",
     "collapsed": false,
     "input": [
      "M = np.array([[1, 2], [3, 4]])\n",
      "M"
     ],
     "language": "python",
     "metadata": {},
     "outputs": [
      {
       "metadata": {},
       "output_type": "pyout",
       "prompt_number": 6,
       "text": [
        "array([[1, 2],\n",
        "       [3, 4]])"
       ]
      }
     ],
     "prompt_number": 6
    },
    {
     "cell_type": "markdown",
     "metadata": {},
     "source": [
      "These do not need to be symmetric"
     ]
    },
    {
     "cell_type": "code",
     "collapsed": false,
     "input": [
      "M32=np.array([[1,2],[3,4],[5,6]])\n",
      "print M32\n",
      "M32.shape"
     ],
     "language": "python",
     "metadata": {},
     "outputs": [
      {
       "output_type": "stream",
       "stream": "stdout",
       "text": [
        "[[1 2]\n",
        " [3 4]\n",
        " [5 6]]\n"
       ]
      },
      {
       "metadata": {},
       "output_type": "pyout",
       "prompt_number": 8,
       "text": [
        "(3, 2)"
       ]
      }
     ],
     "prompt_number": 8
    },
    {
     "cell_type": "markdown",
     "metadata": {},
     "source": [
      "Zeros and Ones"
     ]
    },
    {
     "cell_type": "code",
     "collapsed": false,
     "input": [
      "np.zeros(10)"
     ],
     "language": "python",
     "metadata": {},
     "outputs": [
      {
       "metadata": {},
       "output_type": "pyout",
       "prompt_number": 9,
       "text": [
        "array([ 0.,  0.,  0.,  0.,  0.,  0.,  0.,  0.,  0.,  0.])"
       ]
      }
     ],
     "prompt_number": 9
    },
    {
     "cell_type": "code",
     "collapsed": false,
     "input": [
      "np.zeros(10, dtype=int)"
     ],
     "language": "python",
     "metadata": {},
     "outputs": [
      {
       "metadata": {},
       "output_type": "pyout",
       "prompt_number": 10,
       "text": [
        "array([0, 0, 0, 0, 0, 0, 0, 0, 0, 0])"
       ]
      }
     ],
     "prompt_number": 10
    },
    {
     "cell_type": "code",
     "collapsed": false,
     "input": [
      "np.ones(10).reshape(5,2)"
     ],
     "language": "python",
     "metadata": {},
     "outputs": [
      {
       "metadata": {},
       "output_type": "pyout",
       "prompt_number": 11,
       "text": [
        "array([[ 1.,  1.],\n",
        "       [ 1.,  1.],\n",
        "       [ 1.,  1.],\n",
        "       [ 1.,  1.],\n",
        "       [ 1.,  1.]])"
       ]
      }
     ],
     "prompt_number": 11
    },
    {
     "cell_type": "markdown",
     "metadata": {},
     "source": [
      "Random elements. Note that using `rand` gives u random numbers uniformly between 0 and 1"
     ]
    },
    {
     "cell_type": "code",
     "collapsed": false,
     "input": [
      "myrandom=np.random.rand(5,3)\n",
      "print myrandom"
     ],
     "language": "python",
     "metadata": {},
     "outputs": [
      {
       "output_type": "stream",
       "stream": "stdout",
       "text": [
        "[[ 0.9694478   0.44168796  0.20785778]\n",
        " [ 0.71537298  0.49129075  0.52780439]\n",
        " [ 0.21378621  0.85925788  0.95972807]\n",
        " [ 0.93887157  0.11918659  0.17113086]\n",
        " [ 0.79280612  0.04743635  0.44399301]]\n"
       ]
      }
     ],
     "prompt_number": 12
    },
    {
     "cell_type": "markdown",
     "metadata": {},
     "source": [
      "Lets see how indexing works in multidimensional numpy arrays."
     ]
    },
    {
     "cell_type": "code",
     "collapsed": false,
     "input": [
      "print myrandom[0]\n",
      "print myrandom[-1]\n",
      "myrandom[0][0]"
     ],
     "language": "python",
     "metadata": {},
     "outputs": [
      {
       "output_type": "stream",
       "stream": "stdout",
       "text": [
        "[ 0.9694478   0.44168796  0.20785778]\n",
        "[ 0.79280612  0.04743635  0.44399301]\n"
       ]
      },
      {
       "metadata": {},
       "output_type": "pyout",
       "prompt_number": 13,
       "text": [
        "0.96944779631504363"
       ]
      }
     ],
     "prompt_number": 13
    },
    {
     "cell_type": "code",
     "collapsed": false,
     "input": [
      "myrandom[:,0]"
     ],
     "language": "python",
     "metadata": {},
     "outputs": [
      {
       "metadata": {},
       "output_type": "pyout",
       "prompt_number": 14,
       "text": [
        "array([ 0.9694478 ,  0.71537298,  0.21378621,  0.93887157,  0.79280612])"
       ]
      }
     ],
     "prompt_number": 14
    },
    {
     "cell_type": "code",
     "collapsed": false,
     "input": [
      "myrandom[0,:]"
     ],
     "language": "python",
     "metadata": {},
     "outputs": [
      {
       "metadata": {},
       "output_type": "pyout",
       "prompt_number": 15,
       "text": [
        "array([ 0.9694478 ,  0.44168796,  0.20785778])"
       ]
      }
     ],
     "prompt_number": 15
    },
    {
     "cell_type": "markdown",
     "metadata": {},
     "source": [
      ">**YOUR TURN NOW**: Reshape myrandom into 15 rows of 1 column"
     ]
    },
    {
     "cell_type": "markdown",
     "metadata": {},
     "source": [
      "A very short introduction on how to plot"
     ]
    },
    {
     "cell_type": "code",
     "collapsed": false,
     "input": [
      "fig=plt.figure()\n",
      "plt.scatter(xrange(10), np.random.rand(10), alpha=0.5)\n",
      "plt.plot(xrange(10), np.random.rand(10),'s', alpha=0.8)\n",
      "plt.plot(xrange(10), np.random.rand(10),'o', alpha=0.3)\n",
      "axis = fig.gca() #get current axis\n",
      "axis.set_title('a not so useful plot')\n",
      "axis.set_xlabel('ints')\n",
      "axis.set_ylabel('rands')"
     ],
     "language": "python",
     "metadata": {},
     "outputs": [
      {
       "metadata": {},
       "output_type": "pyout",
       "prompt_number": 18,
       "text": [
        "<matplotlib.text.Text at 0x1098d3450>"
       ]
      },
      {
       "metadata": {},
       "output_type": "display_data",
       "png": "[encoded data removed]",
       "text": [
        "<matplotlib.figure.Figure at 0x1098aa710>"
       ]
      }
     ],
     "prompt_number": 18
    },
    {
     "cell_type": "code",
     "collapsed": false,
     "input": [
      "plt.hist(np.random.randn(1000), bins=30, label=\"$N(0,1)$\")\n",
      "plt.xlim([-5,5])\n",
      "plt.xlabel(\"Hello\")\n",
      "plt.ylabel(\"World\")\n",
      "plt.legend();"
     ],
     "language": "python",
     "metadata": {},
     "outputs": [
      {
       "metadata": {},
       "output_type": "display_data",
       "png": "[encoded data removed]",
       "text": [
        "<matplotlib.figure.Figure at 0x109fca590>"
       ]
      }
     ],
     "prompt_number": 22
    },
    {
     "cell_type": "code",
     "collapsed": false,
     "input": [
      "#There are five preset seaborn themes: darkgrid, whitegrid, dark, white, and ticks. \n",
      "with sns.axes_style(\"whitegrid\"):\n",
      "    plt.hist(np.random.randn(1000), bins=30, label=\"$N(0,1)$\")\n",
      "    plt.xlim([-5,5])\n",
      "    plt.xlabel(\"Hello\")\n",
      "    plt.ylabel(\"World\")\n",
      "    plt.legend();"
     ],
     "language": "python",
     "metadata": {},
     "outputs": [
      {
       "metadata": {},
       "output_type": "display_data",
       "png": "[encoded data removed]",
       "text": [
        "<matplotlib.figure.Figure at 0x10b265d10>"
       ]
      }
     ],
     "prompt_number": 27
    },
    {
     "cell_type": "code",
     "collapsed": false,
     "input": [
      "with sns.axes_style(\"ticks\"):\n",
      "    plt.hist(np.random.randn(1000), bins=30, label=\"$N(0,1)$\")\n",
      "    plt.xlim([-5,5])\n",
      "    plt.xlabel(\"Hello\")\n",
      "    plt.ylabel(\"World\")\n",
      "    plt.legend()\n",
      "    sns.despine()"
     ],
     "language": "python",
     "metadata": {},
     "outputs": [
      {
       "metadata": {},
       "output_type": "display_data",
       "png": "[encoded data removed]",
       "text": [
        "<matplotlib.figure.Figure at 0x10aa9a090>"
       ]
      }
     ],
     "prompt_number": 35
    },
    {
     "cell_type": "markdown",
     "metadata": {},
     "source": [
      "Exercise: plot the histograms of words and bigrams in Genesis."
     ]
    }
   ],
   "metadata": {}
  }
 ]
}